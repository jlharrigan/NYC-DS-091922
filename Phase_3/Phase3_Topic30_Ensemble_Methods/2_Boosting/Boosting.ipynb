{
 "cells": [
  {
   "cell_type": "markdown",
   "metadata": {
    "slideshow": {
     "slide_type": "slide"
    }
   },
   "source": [
    "<div style=\"color:white;\n",
    "           display:fill;\n",
    "           border-radius:5px;\n",
    "           background-color:#5642C5;\n",
    "           font-size:200%;\n",
    "           font-family:Arial;letter-spacing:0.5px\">\n",
    "\n",
    "<p width = 20%, style=\"padding: 10px;\n",
    "              color:white;\">\n",
    "Ensemble Learning: Gradient Boosting\n",
    "              \n",
    "</p>\n",
    "</div>\n",
    "\n",
    "Data Science Cohort Live NYC Nov 2022\n",
    "<p>Phase 3: Topic 30</p>\n",
    "<br>\n",
    "<br>\n",
    "\n",
    "<div align = \"right\">\n",
    "<img src=\"Images/flatiron-school-logo.png\" align = \"right\" width=\"200\"/>\n",
    "</div>\n",
    "    \n",
    "    "
   ]
  },
  {
   "cell_type": "code",
   "execution_count": 63,
   "metadata": {
    "slideshow": {
     "slide_type": "skip"
    }
   },
   "outputs": [],
   "source": [
    "import sympy"
   ]
  },
  {
   "cell_type": "markdown",
   "metadata": {
    "slideshow": {
     "slide_type": "slide"
    }
   },
   "source": [
    "#### Boosting\n",
    "- Besides bagging: other major framework for ensemble tree learning\n",
    "- Different philosophies of learning."
   ]
  },
  {
   "cell_type": "markdown",
   "metadata": {
    "slideshow": {
     "slide_type": "slide"
    }
   },
   "source": [
    "The Ralph Nader philosophy of learning:"
   ]
  },
  {
   "cell_type": "markdown",
   "metadata": {
    "cell_style": "split",
    "slideshow": {
     "slide_type": "fragment"
    }
   },
   "source": [
    "<img src = \"Images\\mistake_nader.jpg\" />"
   ]
  },
  {
   "cell_type": "markdown",
   "metadata": {
    "cell_style": "split",
    "slideshow": {
     "slide_type": "fragment"
    }
   },
   "source": [
    "<img src = \"Images\\nader.jpeg\" />\n",
    "<center> Nader giving you life lessons about learning theory AND the true source of income inequality in this country. </center>"
   ]
  },
  {
   "cell_type": "markdown",
   "metadata": {
    "slideshow": {
     "slide_type": "slide"
    }
   },
   "source": [
    "Boosting is essentially this:\n",
    "- at each step learner trains on mistakes of previous step.\n",
    "- uses knowledge of mistakes to correct predictions in next step."
   ]
  },
  {
   "cell_type": "markdown",
   "metadata": {
    "slideshow": {
     "slide_type": "slide"
    }
   },
   "source": [
    "**More technically**\n",
    "- Trying to approximate collection of targets $\\{y_i\\}$ with a function $F(x_i)$.\n",
    "\n",
    "Boosting: sequentially update F via step-by-step learning from errors."
   ]
  },
  {
   "cell_type": "markdown",
   "metadata": {
    "slideshow": {
     "slide_type": "fragment"
    }
   },
   "source": [
    "<img src = \"Images/boosting_update.png\" width = 500 />"
   ]
  },
  {
   "cell_type": "markdown",
   "metadata": {
    "cell_style": "split",
    "slideshow": {
     "slide_type": "slide"
    }
   },
   "source": [
    "But there's a general problem with this:\n",
    "- what if what we learn from last mistake is gleaned from a set of situations that are too specific?"
   ]
  },
  {
   "cell_type": "markdown",
   "metadata": {
    "cell_style": "split",
    "slideshow": {
     "slide_type": "fragment"
    }
   },
   "source": [
    "**More technically**\n",
    "\n",
    "Weighting last mistake with respect to the specific training data too strongly.\n",
    "\n",
    "- Our corrections to how we predict will then be too specific to the training data."
   ]
  },
  {
   "cell_type": "markdown",
   "metadata": {
    "cell_style": "center",
    "slideshow": {
     "slide_type": "slide"
    }
   },
   "source": [
    "**I just overfitted**"
   ]
  },
  {
   "cell_type": "markdown",
   "metadata": {
    "slideshow": {
     "slide_type": "fragment"
    }
   },
   "source": [
    "Yes I learned from a specific set of mistakes:\n",
    "- but have I learned a sufficiently general lesson?"
   ]
  },
  {
   "cell_type": "markdown",
   "metadata": {
    "slideshow": {
     "slide_type": "fragment"
    }
   },
   "source": [
    "Want to learn from last mistakes in a way that is **generalizable**"
   ]
  },
  {
   "cell_type": "markdown",
   "metadata": {
    "cell_style": "center",
    "slideshow": {
     "slide_type": "slide"
    }
   },
   "source": [
    "One possibility: \n",
    "- don't weight lesson from any one mistake too strongly.\n",
    "- perhaps even learn from different mistakes in a \"weak\" manner\n",
    "- BUT do this a bunch of times in sequence.\n"
   ]
  },
  {
   "cell_type": "markdown",
   "metadata": {
    "cell_style": "center",
    "slideshow": {
     "slide_type": "fragment"
    }
   },
   "source": [
    "The hope is that eventually:\n",
    "\n",
    "- Gain wisdom via each generation learning from the previous \n",
    "- But in a weak way: take some of the \"lessons\" but not all."
   ]
  },
  {
   "cell_type": "markdown",
   "metadata": {
    "slideshow": {
     "slide_type": "slide"
    }
   },
   "source": [
    "<center><b> Can such a sequence of weak learners create a single strong learner? </b></center>"
   ]
  },
  {
   "cell_type": "markdown",
   "metadata": {
    "slideshow": {
     "slide_type": "fragment"
    }
   },
   "source": [
    "The answer is yes."
   ]
  },
  {
   "cell_type": "markdown",
   "metadata": {
    "slideshow": {
     "slide_type": "slide"
    }
   },
   "source": [
    "#### Gradient Boosting"
   ]
  },
  {
   "cell_type": "markdown",
   "metadata": {
    "cell_style": "split",
    "slideshow": {
     "slide_type": "fragment"
    }
   },
   "source": [
    "<img src = \"Images/boosting_update.png\" width = 500 />"
   ]
  },
  {
   "cell_type": "markdown",
   "metadata": {
    "cell_style": "split",
    "slideshow": {
     "slide_type": "fragment"
    }
   },
   "source": [
    "Getting better approximations on $F$ iteratively.\n",
    "- Looks a lot like gradient descent.\n",
    "\n"
   ]
  },
  {
   "cell_type": "markdown",
   "metadata": {
    "slideshow": {
     "slide_type": "slide"
    }
   },
   "source": [
    "Use regression as example:\n",
    "\n",
    "- Least squares objective function:"
   ]
  },
  {
   "cell_type": "code",
   "execution_count": 64,
   "metadata": {
    "slideshow": {
     "slide_type": "slide"
    }
   },
   "outputs": [],
   "source": [
    "from sympy import *\n",
    "from sympy.abc import x, y\n",
    "\n",
    "x, y, i, N, h, F = symbols(\"x, y, i, N, h_0, F\")\n",
    "L = summation((Indexed('y',i) - F)**2 ,(i,1,N))/2"
   ]
  },
  {
   "cell_type": "code",
   "execution_count": 65,
   "metadata": {
    "cell_style": "split",
    "slideshow": {
     "slide_type": "slide"
    }
   },
   "outputs": [
    {
     "data": {
      "text/latex": [
       "$\\displaystyle \\frac{\\sum_{i=1}^{N} \\left(- F + {y}_{i}\\right)^{2}}{2}$"
      ],
      "text/plain": [
       "Sum((-F + y[i])**2, (i, 1, N))/2"
      ]
     },
     "execution_count": 65,
     "metadata": {},
     "output_type": "execute_result"
    }
   ],
   "source": [
    "L"
   ]
  },
  {
   "cell_type": "markdown",
   "metadata": {
    "cell_style": "split",
    "slideshow": {
     "slide_type": "fragment"
    }
   },
   "source": [
    "Take gradient with respect to the function $F$"
   ]
  },
  {
   "cell_type": "code",
   "execution_count": 66,
   "metadata": {
    "cell_style": "split",
    "slideshow": {
     "slide_type": "fragment"
    }
   },
   "outputs": [
    {
     "data": {
      "text/latex": [
       "$\\displaystyle \\frac{\\sum_{i=1}^{N} \\left(2 F - 2 {y}_{i}\\right)}{2}$"
      ],
      "text/plain": [
       "Sum(2*F - 2*y[i], (i, 1, N))/2"
      ]
     },
     "execution_count": 66,
     "metadata": {},
     "output_type": "execute_result"
    }
   ],
   "source": [
    "gradL = diff(L, F)\n",
    "gradL"
   ]
  },
  {
   "cell_type": "markdown",
   "metadata": {
    "slideshow": {
     "slide_type": "slide"
    }
   },
   "source": [
    "Thus:"
   ]
  },
  {
   "cell_type": "markdown",
   "metadata": {
    "cell_style": "center",
    "slideshow": {
     "slide_type": "fragment"
    }
   },
   "source": [
    "$$ \\nabla_FL = \\sum_{i=1}^N \\Big(F(x_i)- y_i\\Big) $$\n",
    "\n",
    "or $$ - \\nabla_FL = \\sum_{i=1}^N  \\Big(y_i - F(x_i)\\Big) $$\n",
    "**This is  error we input to learner at each step**"
   ]
  },
  {
   "cell_type": "markdown",
   "metadata": {
    "cell_style": "split",
    "slideshow": {
     "slide_type": "slide"
    }
   },
   "source": [
    "Input into a regressor:\n",
    "\n",
    "Want to learn from errors at given stage $m$:"
   ]
  },
  {
   "cell_type": "markdown",
   "metadata": {
    "cell_style": "split",
    "slideshow": {
     "slide_type": "fragment"
    }
   },
   "source": [
    "<img src = \"Images/train_mistakes.png\" />"
   ]
  },
  {
   "cell_type": "markdown",
   "metadata": {
    "cell_style": "split",
    "slideshow": {
     "slide_type": "slide"
    }
   },
   "source": [
    "Now we have a statistical model that can predict error from previous step:\n",
    "\n",
    "- Learned function:\n",
    "$$h_m(x_i)$$"
   ]
  },
  {
   "cell_type": "markdown",
   "metadata": {
    "cell_style": "split",
    "slideshow": {
     "slide_type": "fragment"
    }
   },
   "source": [
    "<img src = \"Images/error_prediction.png\" />"
   ]
  },
  {
   "cell_type": "markdown",
   "metadata": {
    "cell_style": "center",
    "slideshow": {
     "slide_type": "slide"
    }
   },
   "source": [
    "Adding this to previous estimator: previous estimator + training error\n",
    "    \n",
    "$$ F_{m+1}(x_i) = F_m(x_i) + h_m(x_i) $$\n",
    "\n",
    "Corrects for error in previous stage."
   ]
  },
  {
   "cell_type": "markdown",
   "metadata": {
    "slideshow": {
     "slide_type": "fragment"
    }
   },
   "source": [
    "This is good, right?"
   ]
  },
  {
   "cell_type": "markdown",
   "metadata": {
    "slideshow": {
     "slide_type": "slide"
    }
   },
   "source": [
    "Not necessarily. If regressor is good at fitting error:\n",
    "\n",
    "- this is a super-strong learner:\n",
    "- Accounts too strongly for specific training errors  at step $m$.\n",
    "\n",
    "**Will introduce variance problems**"
   ]
  },
  {
   "cell_type": "markdown",
   "metadata": {
    "slideshow": {
     "slide_type": "slide"
    }
   },
   "source": [
    "A way to make learner weak: \n",
    "- simpler decision trees\n",
    "- the learning rate $\\alpha$"
   ]
  },
  {
   "cell_type": "markdown",
   "metadata": {
    "slideshow": {
     "slide_type": "slide"
    }
   },
   "source": [
    "#### Weaker vs. stronger learners: decision tree depth"
   ]
  },
  {
   "cell_type": "markdown",
   "metadata": {
    "cell_style": "split",
    "slideshow": {
     "slide_type": "slide"
    }
   },
   "source": [
    "<center><b>Strong Learner </b> </center>\n",
    "<img src = \"Images/deep_tree.png\" />\n",
    "<center> Will train on errors at each step very well. But probably too well. </center>"
   ]
  },
  {
   "cell_type": "markdown",
   "metadata": {
    "cell_style": "split",
    "slideshow": {
     "slide_type": "fragment"
    }
   },
   "source": [
    "<center><b>Weak learner </b></center>\n",
    "<center><img src = \"Images/dec_stump.png\" width = 250/></center>\n",
    "\n",
    "<center> Decision boundary learned by stump: </center>\n",
    "<center><img src = \"Images/dectree_stump_boundary.png\" width = 250/></center>"
   ]
  },
  {
   "cell_type": "markdown",
   "metadata": {
    "slideshow": {
     "slide_type": "slide"
    }
   },
   "source": [
    "#### The learning rate"
   ]
  },
  {
   "cell_type": "markdown",
   "metadata": {
    "cell_style": "split",
    "slideshow": {
     "slide_type": "fragment"
    }
   },
   "source": [
    "Instead of:\n",
    "    \n",
    "$$ F_{m+1}(x_i) = F_m(x_i) + h_m(x_i) $$\n",
    "\n",
    "with $ h_m(x_i)$ learned by tree."
   ]
  },
  {
   "cell_type": "markdown",
   "metadata": {
    "cell_style": "split",
    "slideshow": {
     "slide_type": "fragment"
    }
   },
   "source": [
    "Weight learning from mth mistake weakly:\n",
    "\n",
    "$$ F_{m+1}(x_i) = F_m(x_i) + \\alpha h_m(x_i) $$\n",
    "\n",
    "where $\\alpha$ is small. \n",
    "\n",
    "- Weakens effect of learning from error."
   ]
  },
  {
   "cell_type": "markdown",
   "metadata": {
    "slideshow": {
     "slide_type": "slide"
    }
   },
   "source": [
    "The learning rate $\\alpha$ controls how much we weight learners:\n",
    "\n",
    "- We weight how we factor in our learning from mistakes of a given step weakly.\n"
   ]
  },
  {
   "cell_type": "markdown",
   "metadata": {
    "slideshow": {
     "slide_type": "slide"
    }
   },
   "source": [
    "The learning rate (one factor controlling weakness of learners): connects to gradient descent"
   ]
  },
  {
   "cell_type": "markdown",
   "metadata": {
    "cell_style": "center",
    "slideshow": {
     "slide_type": "fragment"
    }
   },
   "source": [
    "$$ F_{m+1}(x_i) = F_m(x_i) + \\alpha h_m(x_i) $$"
   ]
  },
  {
   "cell_type": "markdown",
   "metadata": {
    "cell_style": "center",
    "slideshow": {
     "slide_type": "fragment"
    }
   },
   "source": [
    "$$ F_{m+1}(x_i) = F_m(x_i) + \\alpha \\Big(y_i - F_m(x_i)\\Big)_{estimated} $$\n"
   ]
  },
  {
   "cell_type": "markdown",
   "metadata": {
    "slideshow": {
     "slide_type": "slide"
    }
   },
   "source": [
    "But we know that:\n",
    "$$ - \\nabla_F L|_{x_i} = \\sum_i^{N} \\Big(y_i - F_m(x_i)\\Big) $$"
   ]
  },
  {
   "cell_type": "markdown",
   "metadata": {
    "cell_style": "center",
    "slideshow": {
     "slide_type": "slide"
    }
   },
   "source": [
    "$$ F_{m+1}(x_i) = F_m(x_i) + \\alpha \\Big(y_i - F_m(x_i)\\Big)_{estimated} $$"
   ]
  },
  {
   "cell_type": "markdown",
   "metadata": {
    "cell_style": "center",
    "slideshow": {
     "slide_type": "fragment"
    }
   },
   "source": [
    "$$ F_{m+1}(x_i) = F_m(x_i) - \\alpha \\nabla_F L|_{x_i} $$"
   ]
  },
  {
   "cell_type": "markdown",
   "metadata": {
    "cell_style": "center",
    "slideshow": {
     "slide_type": "slide"
    }
   },
   "source": [
    "$$ F_{m+1}(x_i) = F_m(x_i) - \\alpha \\nabla_F L|_{x_i} $$"
   ]
  },
  {
   "cell_type": "markdown",
   "metadata": {
    "cell_style": "center",
    "slideshow": {
     "slide_type": "fragment"
    }
   },
   "source": [
    "Doing gradient descent:\n",
    "- iteratively adding onto (or boosting) estimator to lower loss.\n",
    "- Parameter $\\alpha$ controlling gradient step also representing weakness of learning at each stage.\n"
   ]
  },
  {
   "cell_type": "markdown",
   "metadata": {
    "slideshow": {
     "slide_type": "slide"
    }
   },
   "source": [
    "That's why its called gradient boosting!\n",
    "\n",
    "General framework: with different $L$ applies to classification, etc."
   ]
  },
  {
   "cell_type": "markdown",
   "metadata": {
    "slideshow": {
     "slide_type": "slide"
    }
   },
   "source": [
    "A summary of the learning process in more detail:"
   ]
  },
  {
   "cell_type": "markdown",
   "metadata": {
    "slideshow": {
     "slide_type": "fragment"
    }
   },
   "source": [
    "<center><img src = \"Images/update_detailed_process.png\" width = 1000/></center>"
   ]
  },
  {
   "cell_type": "code",
   "execution_count": 67,
   "metadata": {
    "slideshow": {
     "slide_type": "skip"
    }
   },
   "outputs": [],
   "source": [
    "import pandas as pd\n",
    "import numpy as np\n",
    "import matplotlib.pyplot as plt\n",
    "from scipy.stats import norm\n",
    "from sklearn.tree import DecisionTreeRegressor, plot_tree\n",
    "\n",
    "%matplotlib inline"
   ]
  },
  {
   "cell_type": "markdown",
   "metadata": {
    "slideshow": {
     "slide_type": "slide"
    }
   },
   "source": [
    "#### Fit a noisy sinusoid with boosting:"
   ]
  },
  {
   "cell_type": "code",
   "execution_count": 68,
   "metadata": {
    "scrolled": true,
    "slideshow": {
     "slide_type": "slide"
    }
   },
   "outputs": [
    {
     "data": {
<<<<<<< HEAD
      "image/png": "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\n",
=======
      "image/png": "iVBORw0KGgoAAAANSUhEUgAAAXIAAAD4CAYAAADxeG0DAAAAOXRFWHRTb2Z0d2FyZQBNYXRwbG90bGliIHZlcnNpb24zLjUuMSwgaHR0cHM6Ly9tYXRwbG90bGliLm9yZy/YYfK9AAAACXBIWXMAAAsTAAALEwEAmpwYAABCrklEQVR4nO2df5CcRXrfvz2zr6RZcWYk3yaGASFMHCnFCWnD3iFHqSQiNrpYx90cHKwxpJyKy/wTV1k6amNhk5OgcKHKBpCrnEqK2K7YQcYLiFvDySlxDkq5TCKO1e0KnXyS7TuQxEB8ssVwh3Ykzc50/pjp0TvvdPfb/b79/uhRf6pUkmZnZ/rtt9+nn35+EkopHA6Hw2EvhawH4HA4HI54OEHucDgcluMEucPhcFiOE+QOh8NhOU6QOxwOh+WMZPGln/70p+natWuz+GqHw+GwlqNHj/4tpXQs+Homgnzt2rWYm5vL4qsdDofDWgghp3mvO9OKw+FwWI4T5A6Hw2E5TpA7HA6H5ThB7nA4HJbjBLnD4XBYTiZRK0kzO1/D9KFT+KDewPXlEqa2rUN1vJL1sBwOhyMRhk6Qz87X8Ogrx9FotgAAtXoDj75yHACcMHc4HEPJ0JlWpg+d6glxRqPZwvShUxmNyOFwOJJl6AT5B/WG1usOh8NhO0MnyK8vl7RedzgcDtsZOkE+tW0dSl6x77WSV8TUtnUZjcjhcDiSZeicncyh6aJWHA7H1cLQCXKgI8yd4HY4HFcLQ2dacTgcjqsNJ8gdDofDcpwgdzgcDsuJbSMnhNwI4A8A/ASANoDnKKW/FfdzHY484co+OHRIe72YcHYuAXiEUvptQsinABwlhHyTUvoXBj7b4cgcV/bBoUMW6yW2aYVS+iGl9Nvdf/8IwHcBuNXtGBpc2Yf0mZ2vYcveN3DzroPYsvcNzM7Xsh6SMlmsF6Phh4SQtQDGAbxl8nMdjiyxseyDzaYg209AWawXY85OQsg1AA4A2EEp/SHn5w8TQuYIIXPnzp0z9bUOR+LYVvaBCcJavQGKK4LQFq3W9hNQFuvFiCAnhHjoCPH9lNJXeO+hlD5HKZ2glE6MjY2Z+FqHIxVsK/tguyC08QTkJ4v1YiJqhQD4XQDfpZQ+E39IDke+sK3sg+2C8PpyCTXOWPN6AgqSxXoxYSPfAuBfAzhOCFnovvbrlNI/MfDZDkcusKnsg+2CcGrbuj4bOZDvExCPtNdLbEFOKf1zAMTAWBwOhwFsF4S2nYDywFAWzWLY7Ll3OKIyDILQphNQHiCU0tS/dGJigs7NzSX6HcEQJqBzbHhw8xo8Wd2Q6HdfbQzLhjks1+EYXgghRymlEwOvD6sg37L3Da6dkAB4dnKTe0ANwdswS14RT92zwao55l2HVyC4ZsUI6otNJ9gduUAkyIe2aJbIQ08Ba8KwbMD2UDcG7zqabYqPFptWxmI78kFaGapDayMXee4Be8KwbMD2UDeGynjZBuW0cocIv3nu2pKHC5eX0Gx1rB61egM7ZxYwd/q8cfPu0GrkU9vWCUNpbAnDsgHbsh5FqI43rxuUzbVJhoVgRm290ewJcQYFsP/IGeP3Z2gFeXW8ggc3rxkQ5jaFYdmAbVmPQZgArNUbSjG0edygbE/JHxZ45jkeSZh3h1aQA8CT1Q14dnITKuUSCIBKuWSlEy7PmlZ1vIKn7tnQN8f33l7B9KFTuR0zwy8Agc4DFibM87hBDYufwnZ0TmumT3ZDayNn2ByPaksVOP8c2zJmgC8AKYAiIWgJormYcMzTtQyLn8J2ZH453ntNMtQaue3YqGnZNGaRoGtROmAuYuTRbCESChTI9Ylo2OCZGXkCNgnToxPkOcZGTcumMYsEIDPBVQQ/z9vGxBMgjDxuPMMKz8z4zOQm7EvBvDsUppVhzcizsfiRaMwFQjA7X8vVfZHVJGHmopt3HQTPyJKnjcmfks+bexc2mR4iU27Sc2+9Ri7y2D82ezzXTkIVbIwIEWmHLUpzpxnyNKigtmRLeGV1vII3d90pdNbmaeNRIe9O/rxhvUYussnuP3Kmp0nl2eEWxvKRQu/6Vo162H7bdZg+dAo7ZxZyefpgY3nkxWMDDsM8aoZhznDbKgnaeIoLYpPDXEaalgLrNXJZKr6fvNk1w2CLud5o9l775OISZt4+m/t44ep4BW1B1IdtmqGK1p4nbDzFBbHJYS4i7dh+6zVynZAfm4SIqPZHkDxqucBwaIYMm0JYgyVsry15IATYObOA6UOncneC42GTw1yEaDPa8+qJRObfeo2cp4EMQ2p+lskFJhDZyhcvL+XuBDFsMHv5s5ObcGmpnfvCX0F7eHnU476POcxtQPRM1hvNRK7BekHOO/o+uHmN9cdLnU0njxsUuy8lr3+JfbTYzKUwGUZUTBRZOxV5JohPLi7BKw6qY3l0mIuQPZNJmIisF+TAFQ3k3b3b8eauO/FkdYNVdk0eU9vWDSzmAsHAa3nfoC422wOv2WbvtJUwE0UearSITIgrl42gSAaFuS1rR/ZMqpqCdbDeRi7CJrsmz7sNYMBjWyQEk5+9EYdPnrMiZn760CluDDbQWcxb9r6R6/HbTpifQqaxp3VPRJvNxz4nv+rv5InqeAWPv3YCHy3yr8N0TsXQCvK8w4Q3q7oXDJVc4RUGnJvNNsXzR86gUi7lostRWHhVmOZhQ1iZDclmojGGhU7mwakYttnY7DDfftt1eP7IGe7PTDs9h8K0Yhu8qnt+Gs2WcCcH8uG0UjmW847GQfJ8VM6D6SEM2Rir4xXce3uldx+KhODe26+cVPOQ7CQLl7Q5lHJ2voYDR8XrpC45cUTBaeQZoFq3WEbWYYeiY/kOX5ibqIJgkLwelfNgeggjzKF54Gitdx9atHOiY1riqFeAVyR9zQ/SFpTB8gJFQnrjn9q2Dk/dsyG3J6LZ+Rr2vHqiJ5QLBGjTjk9u8fJS7GdcByfIM0BFcJVLHi4ttaWLIW0B6D/Cy0Q00wpXjXrSkwUjr0dl0fzW6g3cvOtgLgSLzDwSpjAsNtsokE7GcJYNptn38bI5n7pnA97cdWeq41Fhdr6GqZeO9Zk/2T9VnJmrBCGWUXGCPAPCkpgIOkevcsnDCq8gFIZpCkBel3kZjWYLy0cKKHlF6e/k+agsu09+MwaQnY1fNEY2vjDaFBhdNoL5r92VwOjUCTtZ5E0rnz50ipugp4JXJNh9961Gx+Ns5BkgKzsKXLGZ1xtNXGy28VAO4uKjmIM+bjQHwkAf2rzGmrDQsPsEZG/j54Wp6pIH05Zo02GbZd78FFFDCFeNepj+ykZXxlaFoBd/6/qxXIXsBe2C/qiVII1mCy+8dRYP3JFt2GGUh/36csmqMNAg1fEK5k6f7yvAxiNzQRhNMeyRB9OWrCtTHv0UsvGKYCasJLpMDYUg9wvua0sefnRpCa3usadWb/SFAOXhOMy+uzpe6TX+ldGiFDPfOovp+8zv5KqIjvCV7qZiU4VAHQ6fPBcqJ7MUhHGO+EDnmJ+H+6QrFLPePHXHC6BnIk1CBllvWgmGX9UbzZ4QF9FotvDIi8dyUetYdUE22xR7Xj2R8GjEyELBbG7AHEbY/clqw2Kp9XGyBJM65usyO18LbXodJOtThKh7lCqmTXLWa+RRQ/nYjpq1hq5TvdF07KkOwap6QfMOO2GwkKzgKWjnzAJemjuD9/6ukRsTlwplSeRNJaNr0HU88yiSjsMtD/MvywAWsXh5KdPIId4pVBeTpwrrBbmJycjS5mZiQaRFmL1bJmAogDe/d773/6w3UBl+U52IcsnLLCzORB5Ci1LsnFnAjpmFzDYkRpRnOEkzhQph7fVUMHmqsN60YmoysrK5MbNEuRQeV2o69tQ0ugImy4gPUdW/oKlOpCnKaoEkjam1GiwLkZX5K+4znNU6YsX69k1uCo1uCmLaJGe9IFcJEVMhS5tbdbyClcvlh6NiwXzsqWmiCBhWPCtNISJLa1fdjLJcL0l8d5abqolnOEvnJ08ZG/UKWDXqpRZ2a71pBejvaxmFPERYhC3ETy0fyZ0JIoiOvd9P2sdjUfLJzhcXoBKMUPKK2Lp+DFv2vpGJvV8UJXTv7RV849iHkX0pWZ5K506fxwtvnY0UDQJku7EGU/WBTtZss0VTK25nRJATQn4PwBcA/IBS+hkTn6mCCacPgMySUvpssbJgcmR7lA9DVMlRhzT9FMI+r5KBFwlBm9JeXsKBo7XMmgPLHM9PVjcAQKSIlrQzhf0hwxcuL0UW4lkqYjIZ1GxTPPrKO/YIcgD/HcBvA/gDQ5+nhAmnT6WbtJI2AwsgZA1fW/Iy0wBlBK8jTm5KWhqh7smh5BX7Nvste9/INElFpbSu7lymKQyDa0blBMEUhErOEvzCZFCj2cbaXQcTdygbEeSU0j8jhKw18Vk6xH3wvUJ2yRC6m1C90ewt+Fq9gamXjuHx1070FTtin5vmAjexmTLS0gintq3DjpkF6Xv8giM4j1nV8eYd4UWnAZXNyn/KSFMY6qwZAgxkZx8+eS43iozqPU/61Jaas5MQ8jAhZI4QMnfu3Dkjnxn7wY9XoiIWcds9Ndu0r6nu1EvHMPXysdRrUugIL1l5cgJ5eyyTVMcroRFATIi/uevO3oPHIl1Ep44kNyKmxfK0V56jcmrbOngF+QJvU9prj5jHcg+Vcgnv7t2OqW3rcOBoLXf1Vmbnaygo1NxnJOlQTk2QU0qfo5ROUEonxsbGjHzm1vXxPqfZonjkxWOZLAiVpgs6NNu0r640kE4kgo7wovRKDWw/BMCDm9ekKkxUIoD8AifYDCRI0qaJMC02KByr4xVcs0J+4M7KQaj6vfXFy8JIoqyLlbH1oGvXT6JfJ2Bx+GFYBw5VsurMHdWxo0vSx33d0LHFZhutFgVTFouE4MHNa3pOurSojlfw0OY10vf4BY5MkKZRxTHsPvKEYz2kFnxWZkXVNXPhcqdRiawyYlY8/tqJSCZFAiQia6wV5FEnkkcWu3vcWg2qJK116SQ0Mdq4UoS/RSkOHK2ltpH6E4EOnzzXLRE8+BgENWyRICVAKqYJ2X30h0P6E5xkv7N8pICdMwupxvCzud85s4DlI1firKOSlFAMY3a+Jm2YInu2KZCIFcCIICeEvADg/wJYRwh5nxDySyY+V0TYREahVm+kuihERahMZm+mGYlwaakd+XdZEbOk55+XCPT8kTNoNAfH3mi28OuvvIPxJ17HzbsOCm2haTpoRVosAcXM22cHbMhb149xf6dAOvcrTXszr7jdxWYbz05uiqzUUCAT84rsO5lf5b2924XvScIKYESQU0ofoJReRyn1KKU3UEp/18Tnikjq5qVpYuFVDHzqng3YffetoU4qFdJs2mCq9kfS8687zsVmu+dQ5pnC0two/esF6PfTs+QTP41mC4dPnhtYY6tGPQSLg6ZxIpXZueNkdmaRxCT7Tv96kG1Qrvohot88r0Cw1KbSJg5JxQKLYn/938Xeo1pfelmRgAIDzXPTTnAyZatMOhbb9EPv70ifBjo17IHO9QbX2M27DgrfmySykE02vmBopQpZOGxFoZ3MvMjyPa4teQPNrf1c9dUPVRM6vALBNStGerHW9cXLaF6Wa2RJLOhgAgQ7zs6dPt+LjWXZbaKbHqRc8rCw+y6l5JCkidItRUSSAiVqCQERB9/5MHUnLaA+RzwhJ5qDpAVi2PeyNfvVFxcGTgwissroFFUsvbzUwtTLx3rPcL3RhFcgKBBwr8nknFspyFVKvxYJGeios1agjfhJYkGLjpX+FmK6mki90cT4E69j9923Zt5l3GQETpICZWrbur4HLS6m/TSqqGxIrPNPMBX+8tLgM5OGQFTpIjV96JRQiPszOmv1BoqE9Jknsihhy6uvEqTZpiiXPFxaaifaQctKQR7W85IAeOCOG7VvblILWljbI+bnfrTYxNTLxwBkV9N7dr5mTCNPRcMyHPWZRdmErevHQvuIjhTIgKDhKQurRj1sv+06TB86hZ0zC8avI7iRrPAKA9nIbA5F18Mig9jn8U63QPrCfPrQKSUF7ONGE89Obkr05ExoSvHMfiYmJujc3Jyxz3ts9vjAwg6aVaa2rZPa4JKshRC3JVcYzFOeNrKCQQTA6LIiLoSYshhpNDdI+j6k4Z/grfU48IqcmboO3vpgnw3o2cTZ+hA1cmCmxjS5eddBpfvAnk8TZlBCyFFK6cTA6zYLcn/VvTBYmc8/PHIG/gNQAcAzCZea5C3oqFUCeRAA70rCnZIiTDB6BQIQhJoy0noIVR+8OCRZv2R2voadMwuJXwMQTzkIey55pgYVSl5R+jv7EnyOgycLQtRMa+w5L3N8YFE2TJEgtzYhKCxlOkij2cI3jn2IYiA9PPj/OOPhdZwB+KGGD25eE5oMsXxE7fZklWod5nRrtqm8NmyXtHqRpjFPLUoTi8+O0tsyKlGdzirPZb3RjBSu2mi2pKUtkgqh5MXAq/pH/D6wJEtoWGkjB6LFLvMERrNFY4e8qdjtRP0u/U2Kg6gm2WSVaq3idOP4fzJDxUlOABQKBC3V0AkJpsMpZcLVZOQQ0CmbHAWT1TB5yK4xqYinJK/J1Jit1chN3rS4n6Vb1Idp7zIhrsrKZfHb3EXF1AaSVi/SYFIN0+78Oh5F56Fg6ePlkoc4+Vkm12lZME/MuW8ikYzxo0tLkU4TYddrOnvZDwUSKTmQdEisCazVyE3GBLMFENWmKbrRrB8lc25sXT8WqxUXjwuXW9g5s4C50+czKTz1+GsnYofhpdmLNHgy4tn5m22K0WUjmP9ax24vSqJRwdSDOjtfwycXl7g/e3DzGnzj2IfKiWQqtNrRTqqy57Lii1QJqwcflSSiWFRkTaVckkbe8GAhoiawViOPW8I2SBybpuhhJd3P9df1SMIeTNEx0bC6IEkXQvL7AyjFQFlaXbJsECDLOAyrPx4kOA8mwylFGb8EwP6E1lUUTVRUQ2jf5KZecbHqeCXRk6Tp9Pew2u6saJlObXIAWLnMXB9eKwX57HwNM986a/xzoy4A3uI1GZWiir/RRFJ1S3iOH1BENj+kVQVShGgTXuF1qgPqnPpWLhtJrFO6LBchqXUW5TQhqiHkn4fHZo8rh6VGxbQ5ROTqqZRLuPf2Cg4crWn7KEz24bXStKJTj0SXKAuA1ww3y1rJQHJ1S3j+AFH2mgpZOWqBzqZ04dKgucIrEG5FxDA+bjT7yibsnFnoFYWKex/SXlPFGG0QRY59oDPn+w34hsIwGaH0+GsnpM7vg+98GMkZetWn6OfR+aBie02bJOZJ9Jn1RhPlkqe1oMslL9OMVF4EC3PERbH7X18uJZZ5qNJnVMSoV+B2kJLxqeXmjv1+ooZQlkseVi4f6aXnh2m/JhUE2VqI+oxf1Sn6TNOR3UJClEKXuZicXJVQtzAIOmFgUe2fScRNl0c94cKuN5pCk1Lwda9AQEjHkcgSLPxZuEkndogewNFlI5E3QJZ5KIpginNNcRzLi822dkSLyWO/nyhzW/KK2PPFWwfmT6QslbxCLhozB0kyWcwaG7lqAlBUIW7apsmzFW65ZbVyRxTWeDZqxmNSdUvC5pdisKd1ySviwc1renNRLnkAuWLTZwkWadr3RTDTGA+VeydznsYlTq36ZptKm18HSSp5SvdzZc+lyAm51KZG188op4OULiWviKfv35hYs2trNHLVoPyKhi2RFQxipWRNV1LjmVtU9hmC/qgcnWti709Cq52drymdDlgHelFNiS1735B+DusYBJiNaFFZQ2y8vJIKD25e06u+x2PPqycSLRMbN9xTVclJQgnwn4RUAwFYyj2LHvKvJ0DsKzOR5Ocft4pJquQVcLHZHijex56FpOsIWSPIVTSaIiHK2Xv/5JbVOPHBj/qScmr1RqIx2apaGQVw4GgNEzetRnW8omWmSaqAFtNmVQgbg8o8sI5BgDlhrvK9W9ePoTpewdzp83jhrbNoUYoiIXjgjhvxZHUDZudrQlt1vdHEFzZehwNHa4mVLA1rqCxDZFsm6JjMkjJtBf0G7NQWJh6nD53C3OnzffNZqzfw1ZkFYRQJw5R/SCWwwl8ILKveANaYVlQ0mhalqI5XcO/tFekxmAJ483vnuVohRScuN4mjvY5WFqy17DfTyOpNJNV7VLXZNYudl8Wyq86D6Xhgle89fPIcZudrfeFk/gbR1fGKNDPxG8c+7KuRs2rUM2qyi6rZl7wiHrjjRm5LNQr0+mcmceznnYSYpiqjVm9g/5EzA7+rEk9kyjSksiGs6JpequMVvLnrzsTMJzKsEeQqff3Ywjh88lys2Nqkmrrq9ib0LyL/Inn6/o3Sjcq0jVmn2TWbd5mte2rbOmVfgcnIH5X5ZyY2WckFWSZqvdHsUxAuGi42E5acUiQE+yY3YV+3qbE/lvvJ6gY8dc8Grq08yb6dMr9BWLp+lOfY5AlIZUNgfQHSbN4exBpBHqZp+2+eiWNVEqF7sga6PGSLaIXEAWP6oYz6WaJxVMcryg+o7PShS3D+eVzfte3zYKedMK3cj+l7UR2vYPq+jcKft7unUpl2KLKVJxXWK1rH15dLHQeuoQqkgPmgBVXlq9miePy1E0a+MwrWCHJArGkXCem7eSaOVUl47f01jVkpW5FQF2kVs/M1TL10LDRhJS9FxUS/qyoITVb0A66cbPZNbuKmkk9tWye99ztnFrB210EtW7VpASnbSEqSDX52vtZzIvNIKlJFJAwXL3eSsaa/sjF2hi8B+soAmEJl82dk1foPsEyQi47ZzDbO0DVhBPFiZLWJCKa2s9ortYBQD0vv3vPqCaWsVpMPZdSSprJxqMrnpFL4g36HcrcN2c6ZBZy/cEn4ezTwtx+RxSPqvZDVuBfN32Kzza25w9afbGNMKsuWzXVwk/losdlzaLPNNapu/uDmNYnZpNnmn2esiVqR2Z+Cx29eyvzaHy/hyPc/UtLwmm2KudPnUwt9q9UbOHC0pnQkVAn/Mx0+FtW6IRuHSsJJ0j08mQkiGFURJT0f4HdKB6IVeAvLEJXNH9MM/b8TFnqZRpYtb15ZqCnrFxrl/EUATNy0Ovb4ZMzO10IjbcoxFJ64WKGRz87Xek2GefCEs99GOLVtHb71rpoQZ5iOXAlz2pmwpSZRrAmIFvIWNHcFkZkAgGSuQ0TSzRAOvvOh9u+EOVx1I39k5h2WOZkke14V24/9XZWi6AwU5h38QcIyygsEvTmUnaSSwgqN/PHXTkiD8sN2QlVzhB8WuWIqqUAlblbFlrpKkCJfIMAz9yfTszBKwaZ2wNzlZ3a+hkWJ1ss08TT6L6ZRjCqK7TTM4apTe0V2nWEbrilUy0yoxpgHSapIHEP2bBZI5zQmins3nQ/BHUNin2yQsAfhhxeb0l0vaq0Sk0kFKgtTRcsSefnbNDmtJIrPQXYtYScP05EeTENau+sgbt51EDu65WnjaIFJI5s/Jhh0erqK6oQ/ff/G3NUl8ceY69ybrIrpMR1RFPeeZGgnwwpBHkabyo9uMmQxuWkmFajag6vjFUx/ZSM3LC+pBcNCP1UJuxaV+TD1UAbrq/A2VF59GK9Aeu3eKuUS9k1uityiLMyMxEMWL87us8rm6j/dhNUJN4HIrKAzdywz+L292/Hs5CZl23Mcp3wYqrkPIoUtyU0GsESQq9xImdYtWkSrRj1Mfu5G7s9MtmEK2xCKhPQeThWNujpeQVtg709iwbBMR1UKpBOmJ7IPqmyQpjZRVfs30wKZkJu+byPmv3ZXXxz27rtvjRQNFaWIU3W8gmtWiC2fH9QbUocnT1gnnXnIi8xip0TeSbJAwrsqVccrWNh9Vy/BiV0bjwuXo/UZVUEn94FHUqGdDCsE+Z4vRq/6BvDNEV6RYPfdt+LwyXPc3zHZhkl0rH1o8xqUvGLPCatT+U8Y1gfzDWh1nYEXLreklQzDTDUmo1VU7d9MC5QJOZ2YYj+siJMuMifz9eWScA2wyplpp4mLHLQsKmXlspGeUtUp6QqMFEgvbLNICO69/UqhOb92zxp0vLd3O97du52rnEWdZ1VU77tqTohJrBDkLJtNluUnO7oxc0SfxvWVTnac6EE3WY+ZCQD/yWKFV+B2FlE1j8iO3qZLwcbR8nnXw5sPBgH6HuY4MCdzGDoPmj+hKGn7rUyLq9Ub+OjCpUT7hOoiukYWlVJvNPHJxSUUC1eKdzWa7Z6N2V/TRqbdA+JNjvVa/Uf/4X9i7a6DWLvrIH7y0YN4bFat4JsMFfOKVyDKOSEmsSJqBeg8QDslXvqwTuzBkrJh1fziJHGIKqBdWroSqSFz4Ko89GElTU168WURDyohnbzrqY5XMH3o1IBJjALCU5Iuqk7mKA8aq5C4/8gZY47sIFvXj/VV5wyy2GyjQDpKjKnKhbL1G4ZKBFBY9Jh/45c16BB917Ulb6A6YpuiN48qVU1Fc6B0z0knpj2J6qkyrNDIGaKHIUoyg6yaX1StRqZF6JgnVB/6sGgeU5UQRaYhUTW9IKLrSaoJAzuSq5hVKuVSZMH3ZHUDHty8JvR9OuvJH2EjE+KMNu10NTJhSgnTgsOIm1HN+KDeCF0bojVJiLg64gtvhTdsD5uDJ6sb8KzPXh8kafOOCKsEOe/m+VuGqdqGw6r5RT0KyWyEqrZa1Yde1WxgwsQiSmfff+QMlo8UetEd5ZKndNRnwkqk1bDel1GSKlQ7STHimiHCTg86R2vdsTNMhsnGCZ2Tmcx0kNn/2euiKByZX0Hl9KgyB8y8Jnr+ko5Q4WHEtEII+TyA3wJQBPA7lNK9Jj43SDD1/tqShwuXl7gpybIHR7Yw46Qqy2yEsu9buXxE+yirajZoNFvY8+qJ2CYWUTp7vdFEySviWV83F9nRXNT0mFHyiti6fixyA2Odk8+ogd6Osoe2XPK0anREzTA1ZQYUbSA6gklkMlPFHy0WXCe8iJbg/ZP1Y1WppBl2EvDPWUFgWkwyDFJEbEFOCCkC+M8AfhbA+wDeJoS8Sin9i7ifzcN/83gtw1Rsw7KF+cOLTYw/8Xokm2OULEFCEMmuqfNw1RvNXvnVuIQ1F+Y9XGG/z2AtseI0MNaZFxN1FWX3vN5oYu2ug8qtvqJoclHDZHm1XEToCqY4GmkwWizMXh/cjLauH8MfHjnDNa88cAc/1NiPrFXfY7PH++zjIgWNhUHa1ljicwD+mlL6fUrpZQB/BOBLBj43lKg21rAsraiNgHUaJjBYBThd84euFqZrtxOZNuLatUXvI0DPxhvnO/S6MLVjm51U7MKq6yiKZn3N8mi6mI72rxufHSdm2h8tFhb3zrNnHzhawy9sXtOXhFUgwEOb1yg5IEW2963rx5Qd21nYyU0I8goAvxfh/e5rfRBCHiaEzBFC5s6dixaVEBQuZUHIYdhC0nHK6NoIo2h5UTIydbUwHS2J1Tz3PyA7Zhbw2OzxUNtlGGG/PztfQ0FwBFb5Dl2H2w5J4pIKqlmvKvc4irMwqiKgc3LUFUxhXYxk6GwCopPbC2+dxcVmu5eR+/2ntitHkYhs77pdx9K2k5sQ5Lw7NnDNlNLnKKUTlNKJsbHoZT39wuVjgWMjrGwou1mq3Wd0bkrU+tm6N16nSw2g94CIiow9f+QMtq4fEzZkUEGk8UxtWyetma1TwsD/IKoQJ+5eJ+tVdo/9kU3BcY96BYwa7gil23lJ104uy0oVoRstFha3HuW+inw8us9n0pmcQUwI8vcB+I1PNwD4wMDn9sHbfUVhRipxyNXxCp6+f2Os8DkeUUOwdL6DnUxUq+p5BYLFy0vKESAyR9Xhk+di1eyQ1fwQHfd1K/T5j+Qrl5k/efkxEVYaVg+m2aKh8de6gka385KuYNItfRwlcUZlTDr3VRZ6KPuuPCRlmYhaeRvATxFCbgZQA/DzAH7BwOf2obNQVd/LFo2sHKjuTfFH1pgOOQTCoz4YrLRmOWJkjwh2TXE6pvAcorPzNeF8yUriypidr+HCZfUokFq9gZt3HdRycquuNdk9DtsMkugIVdFwzOuuT9WIKvbZUcN9p7atU3oWVO+RyFSzY2ahF1rrL6dN0OlMNHHT6shJVKaILcgppUuEkF8BcAid8MPfo5Qa70KqExGis6ir4xWpIJc1OZZ9ZnW8gpt3HRQuaFZzWTWigaGqAbJn/+NGc2AMYREgoprnjB0zC9gxs6A9dh6z8zXsefWE9BQQ9ZgaRcP2a2JA+GZXFsyVTlhpXHtqFA1QtZ65zj1WVTKifDYP9nuPvHhMesJQXT+y+1BvNHsVMXkRbVmXAjaSEEQp/RNK6T+klN5CKf1NE58ZhOdAKcDMsUZm147qTALkC4gtO9aAVhXdhz5KWc3dd98q7D/pJ25NF/bgy4Q4ixjY9PjrvdoZ40+8rvSdpmvEBJmdr+GTi4P3zysSfGHjdcrfFceeGrWWh4qPxR8OqmKW0zEzrRr1jBT1klUCBfTkQdh9aLapsSxa01iV2Rn0AhWLBJOfvTF2gZowuzbLztTNHr1wKVxIf7TYxNTLx5SFoSkniuxzquMVPHO/Wh1odvSMEvmh8uATUDx/5EyfsP9osYkd3W72su+NO1dhG8H0oVNcs8dIgeDA0Zpyqnuc1PY4AiWsLO9HFy5h6uVjytehemJmlUdNIItyAvRO1KqhpHnEGkE+fejUQLu3Zovi8MlzsWssq6QW63jCVTRNPzrhXSbqWahoKdXxilYfxyjauYrGLGsJF/a9vLnSidUI2whE428020JbK2/jCZbH9Y9x1agn1JyjRkipfC/QmfvgMyc6qejc9+mvxOtK5K9Hs2NmQWpW0TlRq5YpNlFJ0TTWCPKkCiz58VcnlBF27I6Saq3joA3WPVGhSIj2qUXXxqwb+WHqdCH6Xl6EjI4TLmyzizJ+0cZTHa/0Nh7/GC8229h+23WxQj5lsAif9/ZuV76eWr0xsCGpduiKU6QMiFaPRjcXJCwO/nnDjdlNYE0ZW1nqrAl0ha9M8JquPR0kGPXx2OxxaaU8r0iEWpCsNkqU69D5HdWoAxWYcOGVHvVft6gqYpSaN7zxl7wiVngFqbNY5GwWRU2wkM8kIyNkUUM8gg5hldMnQfwiZVHr0eisS5HJzM/jr8WvX2QSawS56KExFa8ZN+BfpZiOiLht5SZuWi0V5DIhLitOFaV2jO6GBOiFaspgn1GrN7BTEFkjWkd7vnhrJIchG79fwAKDBZ9EY/UjO3WG1bCJQ1htfhG6Ne8p4kd3RD2B66xLle9QzeFIC2sEueihMbW4dYRWcAMJCkQdIb5q1MPuu/WFSPC7RciOsmHFqXQ15igbq6iqYlzYHQhuTqbXkUzAyjYoAvQVVpqdr12JSQ2QdJZgVC0XuNKRhxAgbNmXS16sxhVAtMJ0uusyyndkDaGaGV4mmJiYoHNzc6l/bxD/omIlcYPOnSA8wTv+xOvaOzQB8O7e7VGG3YesgUJYsoUszv297thm52vCON2oJXhFzM7XpLHNzEQE6GvxrCdn2szO17BzZoE7z2xMrLYN7zhfIJ3qg6Y6AAXHpjqPgj2mW5yKKG0EBQIUC/1JNboJQVE2fNWCWf7vEN0PRrnkYWH3XcqfaQpCyFFK6UTwdWs0ctPw6moXcCUjUsSlrsa6c2ahVzYzyjHLlJYlOwaGPSAizSOoLX5qxciADTSqOSIOLLqHRSepdgECsin2D8gTztiYZDZZVo0TiJ+V60dFIHYaJNPeOp/51tmBcTZCoor8tCnQFkTB6JRfAMKTgPwcOFrDxE2rteZM9tlegWhFdKWBNVErphHVbgnLhl5stvviavcrtOMKYtK2L+ukruKsE1U8mz50ShhGuWrUS6ShrEpkgV8g6wjnJM0Tsm5Gs/M1YYEqNiad64haEyZImDmFoFO/+9nJTQCA/UfOYEmhVEAUohSMkyUBBdGds+lDp4RyoEgIpu+LFz6ZBFZq5HHtbIA5DS3K0jbVJR6I5wQO0xZFD/tooPi/KXTrjevYMsMqYuogM8n5tWZZo17/PdK1ybJerHHuQdhcU3TC7FT6hsYlyiarO2emajVFrfuTNNZp5HEbxDLSLjPpZ/+RM6FZiaqIqgkCGNASeZqjKPnh+nIpldh9RliGHjAY3aOTHPXCt84aif0Nrr96o8lNmtnz6gmhEA9Wc4xSvztuL9as1r+pSoG6iXE61yt7b5ZyQ4Z1gjxug1iGqY7fUQhGVJgQ5iy7dWrbOux59QR2zCwMNIYIvvboK8el9cXjNpFQRVaHvI/Aj3mbmCgLstWmePy1+LXcVCM86pxiZYygVlcdr2D6vo19XW3CiGtiyWr9myipAahnYQIdM5HOiUz03rhhwklinWnFlJYYDEMDws0kW25ZjW+f+dhYiByg7+yRoevRZ91UWpSi2I19D8ZdJxm7z1AVjs02HWgk7Q//C4t6MRH7a+I0cn251BcxwuY+yWYPQaKsf1WKkjyKA0drxvwr7N6HOb0p0PNlyUrOhlXinPzsjbk0qwAWCnKTGZ5BISALOSqXPOz/5Z8OFRZRMGWqiBIPzB64FqV9QpplSV5b8rDCKyQS/sbQbSTNa2jM7p8KcXwscWOMmXbIyztIutlDEP/6Vw2h9QoE16wYQX2xyQ3ZLXlF3Ht7BQeO1rhr0aTiwlApycts/jNvn+X6M4DwJC6VhjVZYZ0gTyrDky0s3o7MQu3Y+0xlIjLSCEVUgdl2Ly1dKfpUbzRR8op4dnJTYtpIFOEYDMVTSatmCSmybNYw4pQVYI0IDp88F/tUZ/qYr9LRh5dDEXT8EtLRfq8tecJrNOGs9VMdr2Du9Hklx6yoCNji5SVjDSqywDobuci5Z+qotrD7Luyb3CT9/CgREOzYHDw8pxGKqEO90TTig9Bhatu6ASeYCv6KgmEbAYv9jetj4a0/FYqE4NnJTXiyusGIErDScOSQbO2wJsbzX7tr4DuZf+bZyU24tNTGR4vNnhNYdkdN+Ib8PFndgH2TaqWXg9TqDaXTSF4dnYCFGjkgT4tO4/OjHLHalOK9vduNhE6KmNq2TphFGJekU5ZbIRm1Mmr1hjDzEOiP/d0ZkpyjQnB9qJglWj4Hp8yGrMrHiiWSVRGdNFaNeti6fqwvCY63ZnkbJIU4IzQJEwugXsHUj+r9yKujE7BQI88DUYQa2839ESamu4xUxyt4cPMaY58XRLUzjy7Th04JG2mrInoMvSLB0/dfSeBIIhJn9923hp4oWLYsoG8L52FaO2QnjaBG+9FiE88fORMa7ivaCGVXatpUEcVHVPKKyvcjr45OwAlyIaJsvdn5mlZzAkC/i30cnqxuwJZbVify2XHa3skw+UAHQ/iWFQvY6WvowAu7M2HeGgmJA2fZskD8hhBJdWmvjlegEjjDM0XJMoxluQom0V1HzGwa1vIOUK/7nxVOkHOQJR3pdAjvQdCzHZqKHZex/5d/Gg9tXqMdzqZCEvZyUw9052Hrv+YLl1sDDZVN+liuOE/DzxRM0PA2E69AMKoQR27SJxRkdr6mHKIZPJXKNsikNs8gOuvIXxud13c1yIXLS7lrJuHnqq5+KELkPIti2xSV90yjGp9Kh/oomKrcyFCpNheGSkMHwPy86xTu8n930Feydf2YMGSPoVspUBedawHQ11F+7Y+X8H++d76n5KxcVsRvfvnKWJP0DTF08yjYSSHK/csKV/1QEVmnlBalUqdaEK9AhMIp6VAm0/W9/SRhnwX6Qz9XjXpK2iHpjoc5esOo1Ru4eddBY8JE9T76swt5Qk3FvpuUg5Chuyb9VRmDz8yFyy3MnT7fG2tSAQrBubz39goOnzynJJx1rzfPNcqdIPeh0ilF5okPMvm5G4X1NpKuxhdWQzzqokwqTZn3oIdpiEEN6fHXTigJ/6CpJY6AUY2Bp+hkNaL7tz+OXSfBLEkFwHRDhRfeOqtVB1wXXk4AyxxVmdPrNTXyYHnnPOFs5D5Uvd4U4c6PSrmEwyfPcYW4id6FIsLqltQbTUxtW4d9k5si1doYKZDUFrIsvrzkFbF1/VjPIb3p8de1Q/JM2PtFNUt4vs9Gs4Xnj5yJdUpKUgEwXX/FvwZlpX6jIssJUPEPiez3Iig6ddDzaCt3gtyHqrZTKZewcrn4MMMcObKQrKSEocpmFHT6Af0uQpkXX6eRQByYfZ/XsWnVqNdLA/dXIYxiYo+r4fIShPZNbgptexaFpKJVGKIQxDhs2fsGHps9bqRiaRBZ3aUwX1a55PVOgffeXlGORGtRmniwQhScacWHytGSPUwyeywrIytqwhw3/EyGimBiWossjn3troPC30/6eBlm32exzSYwoeHyzEJxyzgQAP/kltV47+8aiToIGf4iXmFCrVzy8MOLahsna74SfKsJe39Y3SVZv1R/hx/RyVlE0r6KKDiN3IcoLGzVqDcQqiaLmwUgNG8krVWpCqagwA8efVcuEx83k9ZI4jQD1iHJezG1bV2sh4sCeO/vGoklj/nxh9uy75ZBCLRMMKLPi3saCgt5lI3HH00TZcPNW90Vp5EHWD5S6AkRWYd7WfEukSAKNhRIAtWiTn6Bz3MaeQWCYoGgxVG78hY9EYVg9UTTVMcr+OqLC7Fqw6YlLHQ3ThPlgAEz1RsBDIRxsv/LQn/jhubmre6KE+RdeMf5ixJ7MG8RMcEgMruk0SbKPy5RDZKgJsp7kJttinLJEy50m6InghAglXjguC0u0xIWaWwYwXVo6jQULEXd9wxz5p+go6jErUmUt7orTpB3EXnAH3nxGHbOLPRKdPrrcjMogP/38UXsmFnA9KFTKAtioAuEpBK+FLTZhiVjiB7kjxtNVAzWf1dlats6TL18jOvoNEFaAjJOcSx/WQfT9vHgehCtV1OwGuWHT55L1N4vOwkHc0DirCyC/NVdcYK8i0iYsQfRr5nW6o1OEwNypb4xex8TejyzBPN4A+ktBJWMOpEGfG3JS6z+eyiBJ60AoFgkXOHuFUjfvQgjLW3qgTtu1HbKEqDXsMGfcGNq3YjMaF5gbnUS34IUSOcakmxGwiPsGda9ngLALeaWZGG6qDhnZxddLa3ZplLB0WpTYSxxkrW9/ag2qhY1/603mtgxs4DlIwWuwzcpeE0i2ujU4GbOZBYnXC55uGbFiLIQZ2FnaaBbwKxSLuHdvduxcvng9ZhaNyIzGptbdo+fndyE9/Zu1w5FXLmsiGfu79QuT9pJG8TESYs9BZVyCc9MbuqrWVQkBA9tXpNoklNUnEbeJU7nFxEiG2mWTiwmEOZOn+/16wwjjS5BfmSmnoXdd/X+r1uGwN/pKS1Ye0BRpi3DnyRmqi+tzmfw5nbL3je0nYGLKUQbiYj7DPOCG6rjlVwK7iCxNHJCyH2EkBOEkDYhZKCQi03odOWOS9ZOrFq9geePnNGy36Z5klCtGa4TbZHGSUJEdbwSOtf+kLiyICHLxLpRmdtgOCLQr6k+JDEtUApMvZxN9mMwOUuHQrdC6fShU7lL9lEhrmnlOwDuAfBnBsaSOdXxilbKbjGkBnW55KVSvlNE1vWeo6Ja9lQ1suW9lI/4QVRq2DMFYna+xi2raqrGjcrcirr9sNo2EzetltYtb7Zoapu+DFmafrnk9T2/7PScRpnpJIhlWqGUfhcASAJ1r7NCR8srAPgxgcfff4xPunyniK3rx4xlQALpnSRkoZ0MJhzDzhRpnLDCUKlhX6s3sGXvG1i8vMStmLnUptjZjYqKs4ZU5lZ2klu766DSvGeRMBM0tfFOQWzsH19sCsso5DFzM4zUbOSEkIcBPAwAa9bkz+vL0FmAzTbF6LIRzH/tLml0SFYLIkpvURFpniQAcdlTfyp5GEkWJ9NB9eQgex8NaIxA9HUVVlI2LI5fxSCXRcKMVvhhyEXkLXMzjFDTCiHkTwkh3+H8+ZLOF1FKn6OUTlBKJ8bG9LvQp4XuAqzVG73Y8Klt63B9uYQP6o1c2NpMLsas7Mt+eLZbGUkWJ1MlSmvAMJL2V5iogpjFBipa721KUSmXtMIP85a5GUaoIKeU/gyl9DOcP3+cxgDTJsoifvSV49wKbztmFhJrWKyCbYsxDN1U8iIhqfRJlRGpNaACSWqMcZyGQLohnn5kjlyd+fI3AbEFF0cegFeWVFZACuhoSC+8dZYrZJJqWKyCycWYpvNKVLtaV3i1KE2tT6qIqALXH7vMI+lNujpe6RXs0vEzFEinqFYWG6jMkaszX6wJSNYnah3ihh9+mRDyPoCfBnCQEHLIzLCyxb+I39x1J37zyxtCtXRZeFmaoXt+TNrI07IZ8pKYpl46hvEnXo+l2WZ1D6IK3BalKHlFPHDHjZlGPgF6p9Q2TbfRuB+eEsZMglvXj2mdLrJaL1GJG7XydQBfNzSWXMBrinv45LnYiUJZOE9MfmdaZhpR5qGJWiBZ3AOVJJUC4SePNZotHD55Dk/dsyGzyCdgsBCbDmlHgASLaE0fOoUdMwuRSg7Y5PB0mZ0+eHUo8tTAIMp3mqgimKYGmHRVxbRREYI/tsLDx40mV9B8UG8k1rhYBzaG8Sde195U8xCKGOU0Z5OPydnIfcRpaFApl4Qt0rIKgzMRfZBGDXU/Jh6eklfI3Bzhh5nqREf7jxtN5WzWrNl+23XCn4muL0+hiKpkuV6i4AS5j6iaA8u62333rQMChKBTLS2r1HDWdi6MUa8wUDjLKxA8ff/GVMced/MpeUU8dc9tQltp0siaDIsEGgV/7eVNmMzO1/DCW2e5PysSggc3r+F22GLleNN0fsY5BWRZziEqzrTiI6opYvKzN/bd9CztmUGq4xUl2+Zisz3YsT6DhN1g5iEr6SqqbugVCK5ZMcItmZr2vPNMcyx5BwAuXBpMvWcEr07WnSpNVDvptCnFk9UNmLhp9cC9S6Icbxi6z3JHAbBLePshNIl23yFMTEzQubm51L83DN1qeowiIWhTmgvBzWN2voapl45xU78ZoiYIRZK+Vh7ksdnj3Aa+jHLJw8rlI5lvnlv2vsEVHuWSh0tLba11xeqaZInKumHw7oFIgUjj2nSf5bxsnGEQQo5SSgcKFDqN3EdQG1Td4vxNJfwah0pThzSojlfw+GsnpE4qUfhkFs0wgoR1Oa83mj2NMU2tL4joOB+lL2QeIiZ4deF5eAWCC5eXBu6BSIimcW3s3oeVD2awfA//79qEs5EHiJoIwWDhVqpNHdKiHhJpILOiZB1Tq/vg2xYznvRnRUVl3ouEcBt7NJqtzJKZGNXxCp6+f6Py+7Ne53FwglxCVMcbq7UiauqQBWEPD4VcmGepIUZ58LOKGY8bJQTkx8kZNu8lr4in798oVBJYUlPwd9IuviaKJuORh5NQFJwgl1Adr+De2ysDAo79X6RxXFvyhI6WrBbK1LZ1ob5LiuxSwmWojD1IVjHjqs1JvALhtgJcNerlxukmagEI9I9TNNcs+iOL6CE/u+++VXn95OEkFAVnIw+BZ5+lQK+XYdD+yeyFIrJcKCu8AhpNXjvZDpWuHT+TZssh6Ljks44Zr45XhI5PoLNZTt/XOfLnwYcigo3FH7XCcwrK1kxekpnmTp+XOswZthXLYjhBHoKOA4sd4UROxawEzBUPvliIs1h4lcYDacLGrkMeNNqpbeuwY2aB+7MW7XTQsUFoqAjivK0ZHiw0MiyU0mR9ojRx4YchyDSrIJVuuUzRjO5LqXlxEJVrKJe8vua7eUFn/oF8hEsyoqSz2xIGZyth64kAeHfv9vQGpIko/NDZyEPQcWAxbYRHpVzK7OFUsct/HCFELg1kYx9IYMKVcMk8lCDlZfqGkWXZYz+yDFWbCXsWri2pO0bzhBPkIQQdWLKGruxImbWnPoiKXT6vTh7Zxjj9lY3c+5GXMDId56efrMeft9BZk4St8wuXl6y8TifIFWBt3EpeUZhc4Hfu5MFT70flVLGY0wXMGztBR7hMHzolvB95CSNjeQk6IXBAtuPPW+isScKehWaLWnmdztmpiKyaWqU8WOMjTzZOXv2Sy0stLPqcn3nNbAuWgfXXlQ7+30/eThi6rqgsxy/aRPKyOcZBpaywjdfpNHJFRDeXAHhz1525En48/BmrC7vvwqqVywfek1eti42d10CXl8iUtSmLh44PIuvx21JSNyr+9cTDxut0glwR0c29tuRZ6RSyUesSjY0CuTJl8ZDZ+vdNbsrV+PPo5zFB0IG7df3Y0FynM60owkt6EBULAvJlnuAhKvOZZ21ENOY8VAoMI6+JVjxsiAvXhVdi+MDRGu69vYLDJ89Zf51OkCvCW9yLvlrLjLR7FEbFJsHCEPW/ZI7aPM+5SDgCENYwz7qOffD781LNMwoiB+7hk+dyrwSo4AS5BsHFffOug9z35dk8wbBR6+KljAP5ddQG4QnHLXvfEEaI5OlaZE0z8jROETaaEnVwglwRnjZio3nCT96ia1RgHY+CadZ5FH4q2CJgZCGJNsx52LNq82kDcM5OJUQJEsPkLLEpk88W4aeCLREits+5zIE7DAlQTpArILOv5S35Jwq2LWRbhJ8KtkSI2D7nskS9YUiAcqYVBWTaiI3miSC2HZttdNSKsMVXMQxzLnpWbT9tAE6QK2G7LTwM2xayLcJPFRuUgWGbcz/D8Hw7Qa7AMGgjMmxbyLY7pmzFhg0nCsPwfDsbuQI8+9q9t3dsazY4B8OwxU4L2GfPd+SfPBa608U1lohAMKYW6Ag+226+H1u0XFFjABuyOx2OuIgaSzjTSgRscw6qYMux2TZ7vsORBs60EgGR0NBpSeaIhu1hcA5HEjhBHgGR0CCAs9UmjE32/GHEpsSxqwknyCMwtW3dQA1soFNO1aYkAhsZBseUrThHc35xNvIIVMcr2DGzwP2Zs9Umjy32/GFD5Bt65MVjAOwonjWsxNLICSHThJCThJB3CCFfJ4SUDY0r9wxTdxGHQwWRktKi1GnmGRPXtPJNAJ+hlN4G4C8BPBp/SHbgbLWOqw2ZkmJbbZJhI5Ygp5S+Tild6v73CIAb4g/JDpyt1nG1EdaB3pkVs8OkjfzfApgR/ZAQ8jCAhwFgzZo1Br82O5yt1nE1wdb6Iy8eQ4uTSOjMitkRKsgJIX8K4Cc4P/oNSukfd9/zGwCWAOwXfQ6l9DkAzwGdzM5Io3U4HJnChLnttUmGjVBBTin9GdnPCSG/COALAP4lzSLf3+FwpMowV0K0lVimFULI5wH8GoB/TildNDMkh8ORd5xZMV/EjVr5bQCfAvBNQsgCIeS/GhiTw+FwODSIpZFTSv+BqYE4HA6HIxouRd/hcDgsxwlyh8PhsBwnyB0Oh8NynCB3OBwOy3GC3OFwOCzHCXKHw+GwHCfIHQ6Hw3JcYwmHw3FVMztfs77cgBPkDofjqoW1r2MFwFj7OsCujkfOtOJwOK5aRO3rbGuS4QS5w+G4ahE1w7CtSYYT5A6H46pF1AzDtiYZTpA7HI6rlmHpveucnQ6H46plWJpkOEHucDiuaoahSYYzrTgcDoflOEHucDgcluMEucPhcFiOE+QOh8NhOU6QOxwOh+UQSmn6X0rIOQCnI/76pwH8rcHhmMKNSw83Lj3cuPTI67iAeGO7iVI6FnwxE0EeB0LIHKV0IutxBHHj0sONSw83Lj3yOi4gmbE504rD4XBYjhPkDofDYTk2CvLnsh6AADcuPdy49HDj0iOv4wISGJt1NnKHw+Fw9GOjRu5wOBwOH06QOxwOh+VYJcgJIZ8nhJwihPw1IWRX1uNhEELeI4QcJ4QsEELmMhzH7xFCfkAI+Y7vtdWEkG8SQv6q+/eqnIxrDyGk1p2zBULIz2UwrhsJIYcJId8lhJwghPxq9/VM50wyrkznjBCyghDyLULIse64Hu++nvV8icaV+RrrjqNICJknhHyj+3/j82WNjZwQUgTwlwB+FsD7AN4G8ACl9C8yHRg6ghzABKU00wQEQsg/A/AJgD+glH6m+9p/BHCeUrq3u/mtopT+Wg7GtQfAJ5TS/5TmWALjug7AdZTSbxNCPgXgKIAqgH+DDOdMMq77keGcEUIIgJWU0k8IIR6APwfwqwDuQbbzJRrX55HxGuuO76sAJgD8GKX0C0k8kzZp5J8D8NeU0u9TSi8D+CMAX8p4TLmCUvpnAM4HXv4SgN/v/vv30REIqSIYV+ZQSj+klH67++8fAfgugAoynjPJuDKFdvik+1+v+4ci+/kSjStzCCE3ANgO4Hd8LxufL5sEeQXAWd//30cOFncXCuB1QshRQsjDWQ8mwN+nlH4IdAQEgL+X8Xj8/Aoh5J2u6SV1k48fQshaAOMA3kKO5iwwLiDjOeuaCRYA/ADANymluZgvwbiA7NfYPgD/HkDb95rx+bJJkBPOa7nYdQFsoZT+YwD/CsC/65oSHHL+C4BbAGwC8CGAp7MaCCHkGgAHAOyglP4wq3EE4Ywr8zmjlLYopZsA3ADgc4SQz6Q9Bh6CcWU6X4SQLwD4AaX0aNLfZZMgfx/Ajb7/3wDgg4zG0gel9IPu3z8A8HV0zEB54W+6Nldme/1BxuMBAFBK/6b78LUB/DdkNGddm+oBAPsppa90X858znjjysucdcdSB/C/0bFDZz5fvHHlYL62APhi14f2RwDuJIQ8jwTmyyZB/jaAnyKE3EwIWQbg5wG8mvGYQAhZ2XVIgRCyEsBdAL4j/61UeRXAL3b//YsA/jjDsfRgC7nLl5HBnHWdZL8L4LuU0md8P8p0zkTjynrOCCFjhJBy998lAD8D4CSyny/uuLKeL0rpo5TSGyila9GRV29QSh9CEvNFKbXmD4CfQydy5XsAfiPr8XTH9JMAjnX/nMhyXABeQOcI2UTnBPNLAH4cwP8C8Ffdv1fnZFz/A8BxAO90F/Z1GYzrn6JjnnsHwEL3z89lPWeScWU6ZwBuAzDf/f7vAPha9/Ws50s0rszXmG+M/wLAN5KaL2vCDx0Oh8PBxybTisPhcDg4OEHucDgcluMEucPhcFiOE+QOh8NhOU6QOxwOh+U4Qe5wOByW4wS5w+FwWM7/B1pKdNUgQz2wAAAAAElFTkSuQmCC\n",
>>>>>>> upstream/main
      "text/plain": [
       "<Figure size 432x288 with 1 Axes>"
      ]
     },
     "metadata": {
      "needs_background": "light"
     },
     "output_type": "display_data"
    }
   ],
   "source": [
    "import numpy as np\n",
    "X = np.linspace(0,40,1000)\n",
    "y = np.sin(X) + norm.rvs(loc = 0, scale = .4, size = 1000)\n",
    "fig, ax = plt.subplots()\n",
    "ax.scatter(X, y);"
   ]
  },
  {
   "cell_type": "markdown",
   "metadata": {
    "slideshow": {
     "slide_type": "slide"
    }
   },
   "source": [
    "#### Starting point: the dummy model\n",
    "\n",
    "Dummy regressor: average of our $\\{y_i\\}$ as a model of our data."
   ]
  },
  {
   "cell_type": "code",
   "execution_count": 69,
   "metadata": {
    "cell_style": "center",
    "scrolled": false,
    "slideshow": {
     "slide_type": "slide"
    }
   },
   "outputs": [],
   "source": [
    "%%capture dummyapprox\n",
    "fig, ax = plt.subplots()\n",
    "ax.scatter(X, y, label = 'Data')\n",
    "f0 = y.mean()\n",
    "ax.hlines(f0, 0, 40, linestyle = '--', color = 'r', label = 'Dummy Regressor')\n",
    "ax.set_ylabel('y')\n",
    "ax.set_xlabel('X')\n",
    "ax.legend()\n",
    "plt.show()"
   ]
  },
  {
   "cell_type": "code",
   "execution_count": 70,
   "metadata": {
    "cell_style": "center",
    "slideshow": {
     "slide_type": "fragment"
    }
   },
   "outputs": [
    {
     "data": {
<<<<<<< HEAD
      "image/png": "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\n",
=======
      "image/png": "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\n",
>>>>>>> upstream/main
      "text/plain": [
       "<Figure size 432x288 with 1 Axes>"
      ]
     },
     "metadata": {
      "needs_background": "light"
     },
     "output_type": "display_data"
    }
   ],
   "source": [
    "dummyapprox()"
   ]
  },
  {
   "cell_type": "markdown",
   "metadata": {
    "slideshow": {
     "slide_type": "slide"
    }
   },
   "source": [
    "#### Now walk through process of \"boosting\" this prediction with weak learner sequence."
   ]
  },
  {
   "cell_type": "code",
   "execution_count": 71,
   "metadata": {
    "slideshow": {
     "slide_type": "slide"
    }
   },
   "outputs": [],
   "source": [
    "def simple_boosting_algorithm(X, y, n_learners, learner,\n",
    "                              learning_rate):\n",
    "    y = y.ravel()\n",
    "    # calculates the dummy model\n",
    "    f0 = y.mean()\n",
    "    \n",
    "    # calculates error of first step\n",
    "    residuals = y - f0\n",
    "    \n",
    "    # This next line fills an array of len(y) with the mean of y.\n",
    "    f = np.full(len(y), fill_value=f0)\n",
    "\n",
    "    # start sequential training \n",
    "\n",
    "    for i in range(n_learners):\n",
    "        # error of previous model\n",
    "        residuals = y - f\n",
    "        \n",
    "        # fit error with decision tree\n",
    "        mod = learner.fit(X.reshape(-1, 1), residuals)\n",
    "\n",
    "        # update f\n",
    "        f = learning_rate * mod.predict(X.reshape(-1, 1)) + f\n",
    "        fit_df = pd.DataFrame({'x': X, 'F': f})\n",
    "    return fit_df\n",
    "    \n",
    "   "
   ]
  },
  {
   "cell_type": "code",
   "execution_count": null,
   "metadata": {},
   "outputs": [],
   "source": []
  },
  {
   "cell_type": "code",
   "execution_count": 72,
   "metadata": {
    "scrolled": false,
    "slideshow": {
     "slide_type": "skip"
    }
   },
   "outputs": [
    {
     "data": {
      "text/html": [
       "\n",
       "    <div class=\"bk-root\">\n",
       "        <a href=\"https://bokeh.org\" target=\"_blank\" class=\"bk-logo bk-logo-small bk-logo-notebook\"></a>\n",
       "        <span id=\"1624\">Loading BokehJS ...</span>\n",
       "    </div>"
      ]
     },
     "metadata": {},
     "output_type": "display_data"
    },
    {
     "data": {
      "application/javascript": [
       "\n",
       "(function(root) {\n",
       "  function now() {\n",
       "    return new Date();\n",
       "  }\n",
       "\n",
       "  const force = true;\n",
       "\n",
       "  if (typeof root._bokeh_onload_callbacks === \"undefined\" || force === true) {\n",
       "    root._bokeh_onload_callbacks = [];\n",
       "    root._bokeh_is_loading = undefined;\n",
       "  }\n",
       "\n",
       "  const JS_MIME_TYPE = 'application/javascript';\n",
       "  const HTML_MIME_TYPE = 'text/html';\n",
       "  const EXEC_MIME_TYPE = 'application/vnd.bokehjs_exec.v0+json';\n",
       "  const CLASS_NAME = 'output_bokeh rendered_html';\n",
       "\n",
       "  /**\n",
       "   * Render data to the DOM node\n",
       "   */\n",
       "  function render(props, node) {\n",
       "    const script = document.createElement(\"script\");\n",
       "    node.appendChild(script);\n",
       "  }\n",
       "\n",
       "  /**\n",
       "   * Handle when an output is cleared or removed\n",
       "   */\n",
       "  function handleClearOutput(event, handle) {\n",
       "    const cell = handle.cell;\n",
       "\n",
       "    const id = cell.output_area._bokeh_element_id;\n",
       "    const server_id = cell.output_area._bokeh_server_id;\n",
       "    // Clean up Bokeh references\n",
       "    if (id != null && id in Bokeh.index) {\n",
       "      Bokeh.index[id].model.document.clear();\n",
       "      delete Bokeh.index[id];\n",
       "    }\n",
       "\n",
       "    if (server_id !== undefined) {\n",
       "      // Clean up Bokeh references\n",
       "      const cmd_clean = \"from bokeh.io.state import curstate; print(curstate().uuid_to_server['\" + server_id + \"'].get_sessions()[0].document.roots[0]._id)\";\n",
       "      cell.notebook.kernel.execute(cmd_clean, {\n",
       "        iopub: {\n",
       "          output: function(msg) {\n",
       "            const id = msg.content.text.trim();\n",
       "            if (id in Bokeh.index) {\n",
       "              Bokeh.index[id].model.document.clear();\n",
       "              delete Bokeh.index[id];\n",
       "            }\n",
       "          }\n",
       "        }\n",
       "      });\n",
       "      // Destroy server and session\n",
       "      const cmd_destroy = \"import bokeh.io.notebook as ion; ion.destroy_server('\" + server_id + \"')\";\n",
       "      cell.notebook.kernel.execute(cmd_destroy);\n",
       "    }\n",
       "  }\n",
       "\n",
       "  /**\n",
       "   * Handle when a new output is added\n",
       "   */\n",
       "  function handleAddOutput(event, handle) {\n",
       "    const output_area = handle.output_area;\n",
       "    const output = handle.output;\n",
       "\n",
       "    // limit handleAddOutput to display_data with EXEC_MIME_TYPE content only\n",
       "    if ((output.output_type != \"display_data\") || (!Object.prototype.hasOwnProperty.call(output.data, EXEC_MIME_TYPE))) {\n",
       "      return\n",
       "    }\n",
       "\n",
       "    const toinsert = output_area.element.find(\".\" + CLASS_NAME.split(' ')[0]);\n",
       "\n",
       "    if (output.metadata[EXEC_MIME_TYPE][\"id\"] !== undefined) {\n",
       "      toinsert[toinsert.length - 1].firstChild.textContent = output.data[JS_MIME_TYPE];\n",
       "      // store reference to embed id on output_area\n",
       "      output_area._bokeh_element_id = output.metadata[EXEC_MIME_TYPE][\"id\"];\n",
       "    }\n",
       "    if (output.metadata[EXEC_MIME_TYPE][\"server_id\"] !== undefined) {\n",
       "      const bk_div = document.createElement(\"div\");\n",
       "      bk_div.innerHTML = output.data[HTML_MIME_TYPE];\n",
       "      const script_attrs = bk_div.children[0].attributes;\n",
       "      for (let i = 0; i < script_attrs.length; i++) {\n",
       "        toinsert[toinsert.length - 1].firstChild.setAttribute(script_attrs[i].name, script_attrs[i].value);\n",
       "        toinsert[toinsert.length - 1].firstChild.textContent = bk_div.children[0].textContent\n",
       "      }\n",
       "      // store reference to server id on output_area\n",
       "      output_area._bokeh_server_id = output.metadata[EXEC_MIME_TYPE][\"server_id\"];\n",
       "    }\n",
       "  }\n",
       "\n",
       "  function register_renderer(events, OutputArea) {\n",
       "\n",
       "    function append_mime(data, metadata, element) {\n",
       "      // create a DOM node to render to\n",
       "      const toinsert = this.create_output_subarea(\n",
       "        metadata,\n",
       "        CLASS_NAME,\n",
       "        EXEC_MIME_TYPE\n",
       "      );\n",
       "      this.keyboard_manager.register_events(toinsert);\n",
       "      // Render to node\n",
       "      const props = {data: data, metadata: metadata[EXEC_MIME_TYPE]};\n",
       "      render(props, toinsert[toinsert.length - 1]);\n",
       "      element.append(toinsert);\n",
       "      return toinsert\n",
       "    }\n",
       "\n",
       "    /* Handle when an output is cleared or removed */\n",
       "    events.on('clear_output.CodeCell', handleClearOutput);\n",
       "    events.on('delete.Cell', handleClearOutput);\n",
       "\n",
       "    /* Handle when a new output is added */\n",
       "    events.on('output_added.OutputArea', handleAddOutput);\n",
       "\n",
       "    /**\n",
       "     * Register the mime type and append_mime function with output_area\n",
       "     */\n",
       "    OutputArea.prototype.register_mime_type(EXEC_MIME_TYPE, append_mime, {\n",
       "      /* Is output safe? */\n",
       "      safe: true,\n",
       "      /* Index of renderer in `output_area.display_order` */\n",
       "      index: 0\n",
       "    });\n",
       "  }\n",
       "\n",
       "  // register the mime type if in Jupyter Notebook environment and previously unregistered\n",
       "  if (root.Jupyter !== undefined) {\n",
       "    const events = require('base/js/events');\n",
       "    const OutputArea = require('notebook/js/outputarea').OutputArea;\n",
       "\n",
       "    if (OutputArea.prototype.mime_types().indexOf(EXEC_MIME_TYPE) == -1) {\n",
       "      register_renderer(events, OutputArea);\n",
       "    }\n",
       "  }\n",
       "\n",
       "  \n",
       "  if (typeof (root._bokeh_timeout) === \"undefined\" || force === true) {\n",
       "    root._bokeh_timeout = Date.now() + 5000;\n",
       "    root._bokeh_failed_load = false;\n",
       "  }\n",
       "\n",
       "  const NB_LOAD_WARNING = {'data': {'text/html':\n",
       "     \"<div style='background-color: #fdd'>\\n\"+\n",
       "     \"<p>\\n\"+\n",
       "     \"BokehJS does not appear to have successfully loaded. If loading BokehJS from CDN, this \\n\"+\n",
       "     \"may be due to a slow or bad network connection. Possible fixes:\\n\"+\n",
       "     \"</p>\\n\"+\n",
       "     \"<ul>\\n\"+\n",
       "     \"<li>re-rerun `output_notebook()` to attempt to load from CDN again, or</li>\\n\"+\n",
       "     \"<li>use INLINE resources instead, as so:</li>\\n\"+\n",
       "     \"</ul>\\n\"+\n",
       "     \"<code>\\n\"+\n",
       "     \"from bokeh.resources import INLINE\\n\"+\n",
       "     \"output_notebook(resources=INLINE)\\n\"+\n",
       "     \"</code>\\n\"+\n",
       "     \"</div>\"}};\n",
       "\n",
       "  function display_loaded() {\n",
       "    const el = document.getElementById(\"1624\");\n",
       "    if (el != null) {\n",
       "      el.textContent = \"BokehJS is loading...\";\n",
       "    }\n",
       "    if (root.Bokeh !== undefined) {\n",
       "      if (el != null) {\n",
       "        el.textContent = \"BokehJS \" + root.Bokeh.version + \" successfully loaded.\";\n",
       "      }\n",
       "    } else if (Date.now() < root._bokeh_timeout) {\n",
       "      setTimeout(display_loaded, 100)\n",
       "    }\n",
       "  }\n",
       "\n",
       "\n",
       "  function run_callbacks() {\n",
       "    try {\n",
       "      root._bokeh_onload_callbacks.forEach(function(callback) {\n",
       "        if (callback != null)\n",
       "          callback();\n",
       "      });\n",
       "    } finally {\n",
       "      delete root._bokeh_onload_callbacks\n",
       "    }\n",
       "    console.debug(\"Bokeh: all callbacks have finished\");\n",
       "  }\n",
       "\n",
       "  function load_libs(css_urls, js_urls, callback) {\n",
       "    if (css_urls == null) css_urls = [];\n",
       "    if (js_urls == null) js_urls = [];\n",
       "\n",
       "    root._bokeh_onload_callbacks.push(callback);\n",
       "    if (root._bokeh_is_loading > 0) {\n",
       "      console.debug(\"Bokeh: BokehJS is being loaded, scheduling callback at\", now());\n",
       "      return null;\n",
       "    }\n",
       "    if (js_urls == null || js_urls.length === 0) {\n",
       "      run_callbacks();\n",
       "      return null;\n",
       "    }\n",
       "    console.debug(\"Bokeh: BokehJS not loaded, scheduling load and callback at\", now());\n",
       "    root._bokeh_is_loading = css_urls.length + js_urls.length;\n",
       "\n",
       "    function on_load() {\n",
       "      root._bokeh_is_loading--;\n",
       "      if (root._bokeh_is_loading === 0) {\n",
       "        console.debug(\"Bokeh: all BokehJS libraries/stylesheets loaded\");\n",
       "        run_callbacks()\n",
       "      }\n",
       "    }\n",
       "\n",
       "    function on_error(url) {\n",
       "      console.error(\"failed to load \" + url);\n",
       "    }\n",
       "\n",
       "    for (let i = 0; i < css_urls.length; i++) {\n",
       "      const url = css_urls[i];\n",
       "      const element = document.createElement(\"link\");\n",
       "      element.onload = on_load;\n",
       "      element.onerror = on_error.bind(null, url);\n",
       "      element.rel = \"stylesheet\";\n",
       "      element.type = \"text/css\";\n",
       "      element.href = url;\n",
       "      console.debug(\"Bokeh: injecting link tag for BokehJS stylesheet: \", url);\n",
       "      document.body.appendChild(element);\n",
       "    }\n",
       "\n",
       "    for (let i = 0; i < js_urls.length; i++) {\n",
       "      const url = js_urls[i];\n",
       "      const element = document.createElement('script');\n",
       "      element.onload = on_load;\n",
       "      element.onerror = on_error.bind(null, url);\n",
       "      element.async = false;\n",
       "      element.src = url;\n",
       "      console.debug(\"Bokeh: injecting script tag for BokehJS library: \", url);\n",
       "      document.head.appendChild(element);\n",
       "    }\n",
       "  };\n",
       "\n",
       "  function inject_raw_css(css) {\n",
       "    const element = document.createElement(\"style\");\n",
       "    element.appendChild(document.createTextNode(css));\n",
       "    document.body.appendChild(element);\n",
       "  }\n",
       "\n",
       "  \n",
       "  const js_urls = [\"https://cdn.bokeh.org/bokeh/release/bokeh-2.4.2.min.js\", \"https://cdn.bokeh.org/bokeh/release/bokeh-gl-2.4.2.min.js\", \"https://cdn.bokeh.org/bokeh/release/bokeh-widgets-2.4.2.min.js\", \"https://cdn.bokeh.org/bokeh/release/bokeh-tables-2.4.2.min.js\", \"https://cdn.bokeh.org/bokeh/release/bokeh-mathjax-2.4.2.min.js\"];\n",
       "  const css_urls = [];\n",
       "  \n",
       "\n",
       "  const inline_js = [\n",
       "    function(Bokeh) {\n",
       "      Bokeh.set_log_level(\"info\");\n",
       "    },\n",
       "    function(Bokeh) {\n",
       "    \n",
       "    \n",
       "    }\n",
       "  ];\n",
       "\n",
       "  function run_inline_js() {\n",
       "    \n",
       "    if (root.Bokeh !== undefined || force === true) {\n",
       "      \n",
       "    for (let i = 0; i < inline_js.length; i++) {\n",
       "      inline_js[i].call(root, root.Bokeh);\n",
       "    }\n",
       "    if (force === true) {\n",
       "        display_loaded();\n",
       "      }} else if (Date.now() < root._bokeh_timeout) {\n",
       "      setTimeout(run_inline_js, 100);\n",
       "    } else if (!root._bokeh_failed_load) {\n",
       "      console.log(\"Bokeh: BokehJS failed to load within specified timeout.\");\n",
       "      root._bokeh_failed_load = true;\n",
       "    } else if (force !== true) {\n",
       "      const cell = $(document.getElementById(\"1624\")).parents('.cell').data().cell;\n",
       "      cell.output_area.append_execute_result(NB_LOAD_WARNING)\n",
       "    }\n",
       "\n",
       "  }\n",
       "\n",
       "  if (root._bokeh_is_loading === 0) {\n",
       "    console.debug(\"Bokeh: BokehJS loaded, going straight to plotting\");\n",
       "    run_inline_js();\n",
       "  } else {\n",
       "    load_libs(css_urls, js_urls, function() {\n",
       "      console.debug(\"Bokeh: BokehJS plotting callback run at\", now());\n",
       "      run_inline_js();\n",
       "    });\n",
       "  }\n",
       "}(window));"
      ],
      "application/vnd.bokehjs_load.v0+json": "\n(function(root) {\n  function now() {\n    return new Date();\n  }\n\n  const force = true;\n\n  if (typeof root._bokeh_onload_callbacks === \"undefined\" || force === true) {\n    root._bokeh_onload_callbacks = [];\n    root._bokeh_is_loading = undefined;\n  }\n\n  \n\n  \n  if (typeof (root._bokeh_timeout) === \"undefined\" || force === true) {\n    root._bokeh_timeout = Date.now() + 5000;\n    root._bokeh_failed_load = false;\n  }\n\n  const NB_LOAD_WARNING = {'data': {'text/html':\n     \"<div style='background-color: #fdd'>\\n\"+\n     \"<p>\\n\"+\n     \"BokehJS does not appear to have successfully loaded. If loading BokehJS from CDN, this \\n\"+\n     \"may be due to a slow or bad network connection. Possible fixes:\\n\"+\n     \"</p>\\n\"+\n     \"<ul>\\n\"+\n     \"<li>re-rerun `output_notebook()` to attempt to load from CDN again, or</li>\\n\"+\n     \"<li>use INLINE resources instead, as so:</li>\\n\"+\n     \"</ul>\\n\"+\n     \"<code>\\n\"+\n     \"from bokeh.resources import INLINE\\n\"+\n     \"output_notebook(resources=INLINE)\\n\"+\n     \"</code>\\n\"+\n     \"</div>\"}};\n\n  function display_loaded() {\n    const el = document.getElementById(\"1624\");\n    if (el != null) {\n      el.textContent = \"BokehJS is loading...\";\n    }\n    if (root.Bokeh !== undefined) {\n      if (el != null) {\n        el.textContent = \"BokehJS \" + root.Bokeh.version + \" successfully loaded.\";\n      }\n    } else if (Date.now() < root._bokeh_timeout) {\n      setTimeout(display_loaded, 100)\n    }\n  }\n\n\n  function run_callbacks() {\n    try {\n      root._bokeh_onload_callbacks.forEach(function(callback) {\n        if (callback != null)\n          callback();\n      });\n    } finally {\n      delete root._bokeh_onload_callbacks\n    }\n    console.debug(\"Bokeh: all callbacks have finished\");\n  }\n\n  function load_libs(css_urls, js_urls, callback) {\n    if (css_urls == null) css_urls = [];\n    if (js_urls == null) js_urls = [];\n\n    root._bokeh_onload_callbacks.push(callback);\n    if (root._bokeh_is_loading > 0) {\n      console.debug(\"Bokeh: BokehJS is being loaded, scheduling callback at\", now());\n      return null;\n    }\n    if (js_urls == null || js_urls.length === 0) {\n      run_callbacks();\n      return null;\n    }\n    console.debug(\"Bokeh: BokehJS not loaded, scheduling load and callback at\", now());\n    root._bokeh_is_loading = css_urls.length + js_urls.length;\n\n    function on_load() {\n      root._bokeh_is_loading--;\n      if (root._bokeh_is_loading === 0) {\n        console.debug(\"Bokeh: all BokehJS libraries/stylesheets loaded\");\n        run_callbacks()\n      }\n    }\n\n    function on_error(url) {\n      console.error(\"failed to load \" + url);\n    }\n\n    for (let i = 0; i < css_urls.length; i++) {\n      const url = css_urls[i];\n      const element = document.createElement(\"link\");\n      element.onload = on_load;\n      element.onerror = on_error.bind(null, url);\n      element.rel = \"stylesheet\";\n      element.type = \"text/css\";\n      element.href = url;\n      console.debug(\"Bokeh: injecting link tag for BokehJS stylesheet: \", url);\n      document.body.appendChild(element);\n    }\n\n    for (let i = 0; i < js_urls.length; i++) {\n      const url = js_urls[i];\n      const element = document.createElement('script');\n      element.onload = on_load;\n      element.onerror = on_error.bind(null, url);\n      element.async = false;\n      element.src = url;\n      console.debug(\"Bokeh: injecting script tag for BokehJS library: \", url);\n      document.head.appendChild(element);\n    }\n  };\n\n  function inject_raw_css(css) {\n    const element = document.createElement(\"style\");\n    element.appendChild(document.createTextNode(css));\n    document.body.appendChild(element);\n  }\n\n  \n  const js_urls = [\"https://cdn.bokeh.org/bokeh/release/bokeh-2.4.2.min.js\", \"https://cdn.bokeh.org/bokeh/release/bokeh-gl-2.4.2.min.js\", \"https://cdn.bokeh.org/bokeh/release/bokeh-widgets-2.4.2.min.js\", \"https://cdn.bokeh.org/bokeh/release/bokeh-tables-2.4.2.min.js\", \"https://cdn.bokeh.org/bokeh/release/bokeh-mathjax-2.4.2.min.js\"];\n  const css_urls = [];\n  \n\n  const inline_js = [\n    function(Bokeh) {\n      Bokeh.set_log_level(\"info\");\n    },\n    function(Bokeh) {\n    \n    \n    }\n  ];\n\n  function run_inline_js() {\n    \n    if (root.Bokeh !== undefined || force === true) {\n      \n    for (let i = 0; i < inline_js.length; i++) {\n      inline_js[i].call(root, root.Bokeh);\n    }\n    if (force === true) {\n        display_loaded();\n      }} else if (Date.now() < root._bokeh_timeout) {\n      setTimeout(run_inline_js, 100);\n    } else if (!root._bokeh_failed_load) {\n      console.log(\"Bokeh: BokehJS failed to load within specified timeout.\");\n      root._bokeh_failed_load = true;\n    } else if (force !== true) {\n      const cell = $(document.getElementById(\"1624\")).parents('.cell').data().cell;\n      cell.output_area.append_execute_result(NB_LOAD_WARNING)\n    }\n\n  }\n\n  if (root._bokeh_is_loading === 0) {\n    console.debug(\"Bokeh: BokehJS loaded, going straight to plotting\");\n    run_inline_js();\n  } else {\n    load_libs(css_urls, js_urls, function() {\n      console.debug(\"Bokeh: BokehJS plotting callback run at\", now());\n      run_inline_js();\n    });\n  }\n}(window));"
     },
     "metadata": {},
     "output_type": "display_data"
    }
   ],
   "source": [
    "\n",
    "from bokeh.layouts import column,row\n",
    "from bokeh.models import ColumnDataSource, Slider, TextInput, Select\n",
    "from bokeh.plotting import figure, output_file, show\n",
    "from bokeh.io import show, output_notebook\n",
    "from bokeh.themes import Theme\n",
    "import yaml\n",
    "import numpy as np\n",
    "output_notebook()\n",
    "\n",
    "def bk_app(doc):\n",
    "    \n",
    "    func_approx =simple_boosting_algorithm(X=X,\n",
    "                      y=y,\n",
    "                      n_learners= 1,\n",
    "                      learner=DecisionTreeRegressor(max_depth= 1),\n",
    "                      learning_rate=0.02)\n",
    "\n",
    "    source = ColumnDataSource(func_approx)\n",
    "\n",
    "    # Create plots and widgets\n",
    "    plot = figure()\n",
    "\n",
    "    plot.circle(X, y, size = 6, color = 'blue', legend_label= 'Data')\n",
    "    plot.line('x', 'F', source = source, line_width=3, line_alpha=1, color = 'red', legend_label = 'Boosting') \n",
    "\n",
    "    # Create Slider object\n",
    "     \n",
    "    tree_depth = Slider(start=1, end=10, value=1,\n",
    "                    step=1, title='Tree Depth')  \n",
    "    \n",
    "    n_est = TextInput(title=\"Number of estimators\", value = '1')\n",
    "    \n",
    "    lr = Select(title=\"Learning rate\", value='5e-1',\n",
    "               options=['1e-4', '1e-3', '5e-3', '1e-2', '5e-2', '1e-1', '5e-1', '1'])\n",
    "\n",
    "    # Adding callback code\n",
    "    def callback(attr, old, new):\n",
    "        N = n_est.value\n",
    "        depth = tree_depth.value\n",
    "        learn_rate = float(lr.value)\n",
    "        \n",
    "        func_approx =simple_boosting_algorithm(X=X,\n",
    "                              y=y,\n",
    "                              n_learners= int(N),\n",
    "                              learner=DecisionTreeRegressor(max_depth= depth),\n",
    "                              learning_rate= float(learn_rate))\n",
    "\n",
    "        source.data = func_approx\n",
    "\n",
    "\n",
    "    tree_depth.on_change('value', callback)\n",
    "    n_est.on_change('value', callback)\n",
    "    lr.on_change('value', callback)\n",
    "\n",
    "    doc.add_root(row(\n",
    "        plot,\n",
    "        column(tree_depth, n_est, lr),\n",
    "    ))\n",
    "\n",
    "    doc.theme = Theme(json=yaml.load(\"\"\"\n",
    "        attrs:\n",
    "            Figure:\n",
    "                background_fill_color: white\n",
    "                outline_line_color: white\n",
    "                toolbar_location: above\n",
    "                height: 450\n",
    "                width: 450\n",
    "    \"\"\", Loader=yaml.FullLoader))\n",
    "\n"
   ]
  },
  {
   "cell_type": "markdown",
   "metadata": {
    "slideshow": {
     "slide_type": "slide"
    }
   },
   "source": [
    "The effects of sequential boosting with weak learners:"
   ]
  },
  {
   "cell_type": "code",
<<<<<<< HEAD
   "execution_count": 73,
=======
   "execution_count": 11,
>>>>>>> upstream/main
   "metadata": {
    "scrolled": false,
    "slideshow": {
     "slide_type": "fragment"
    }
   },
   "outputs": [
    {
     "data": {
      "application/vnd.bokehjs_exec.v0+json": "",
      "text/html": [
<<<<<<< HEAD
       "\n",
       "<script id=\"1625\">\n",
       "  (function() {\n",
       "    const xhr = new XMLHttpRequest()\n",
       "    xhr.responseType = 'blob';\n",
       "    xhr.open('GET', \"http://localhost:59651/autoload.js?bokeh-autoload-element=1625&bokeh-absolute-url=http://localhost:59651&resources=none\", true);\n",
       "    \n",
=======
       "<script id=\"1003\">\n",
       "  (function() {\n",
       "    const xhr = new XMLHttpRequest()\n",
       "    xhr.responseType = 'blob';\n",
       "    xhr.open('GET', \"http://localhost:51038/autoload.js?bokeh-autoload-element=1003&bokeh-absolute-url=http://localhost:51038&resources=none\", true);\n",
>>>>>>> upstream/main
       "    xhr.onload = function (event) {\n",
       "      const script = document.createElement('script');\n",
       "      const src = URL.createObjectURL(event.target.response);\n",
       "      script.src = src;\n",
       "      document.body.appendChild(script);\n",
       "    };\n",
       "    xhr.send();\n",
       "  })();\n",
       "</script>"
      ]
     },
     "metadata": {
      "application/vnd.bokehjs_exec.v0+json": {
<<<<<<< HEAD
       "server_id": "c1bb6098455b4844984190cb24888d8e"
=======
       "server_id": "048aa36290fb4fba860d5b93cd3f4c8b"
>>>>>>> upstream/main
      }
     },
     "output_type": "display_data"
    }
   ],
   "source": [
    "show(bk_app, notebook_url=\"http://localhost:8888\")"
   ]
  },
  {
   "cell_type": "markdown",
   "metadata": {
    "cell_style": "split",
    "slideshow": {
     "slide_type": "slide"
    }
   },
   "source": [
    "Gradient boosting:\n",
    "    \n",
    "- Tuning hyperparameters can be very important for performance."
   ]
  },
  {
   "cell_type": "markdown",
   "metadata": {
    "cell_style": "split",
    "slideshow": {
     "slide_type": "slide"
    }
   },
   "source": [
    "- Number of estimators (convergence/overfitting)\n",
    "- learning rate (too high...overfit)\n",
    "- tree depth (too large...overfit)\n",
    "\n",
    "Critical hyperparameters in balance between underfitting/overfitting"
   ]
  },
  {
   "cell_type": "markdown",
   "metadata": {
    "slideshow": {
     "slide_type": "slide"
    }
   },
   "source": [
    "Playing around with hyperparameters"
   ]
  },
  {
   "cell_type": "code",
<<<<<<< HEAD
   "execution_count": 74,
=======
   "execution_count": 12,
>>>>>>> upstream/main
   "metadata": {
    "scrolled": true,
    "slideshow": {
     "slide_type": "fragment"
    }
   },
   "outputs": [
    {
     "data": {
      "application/vnd.bokehjs_exec.v0+json": "",
      "text/html": [
<<<<<<< HEAD
       "\n",
       "<script id=\"1626\">\n",
       "  (function() {\n",
       "    const xhr = new XMLHttpRequest()\n",
       "    xhr.responseType = 'blob';\n",
       "    xhr.open('GET', \"http://localhost:59653/autoload.js?bokeh-autoload-element=1626&bokeh-absolute-url=http://localhost:59653&resources=none\", true);\n",
       "    \n",
=======
       "<script id=\"1004\">\n",
       "  (function() {\n",
       "    const xhr = new XMLHttpRequest()\n",
       "    xhr.responseType = 'blob';\n",
       "    xhr.open('GET', \"http://localhost:51040/autoload.js?bokeh-autoload-element=1004&bokeh-absolute-url=http://localhost:51040&resources=none\", true);\n",
>>>>>>> upstream/main
       "    xhr.onload = function (event) {\n",
       "      const script = document.createElement('script');\n",
       "      const src = URL.createObjectURL(event.target.response);\n",
       "      script.src = src;\n",
       "      document.body.appendChild(script);\n",
       "    };\n",
       "    xhr.send();\n",
       "  })();\n",
       "</script>"
      ]
     },
     "metadata": {
      "application/vnd.bokehjs_exec.v0+json": {
<<<<<<< HEAD
       "server_id": "4f9459c1387d4a8e841f7a266a614c1a"
=======
       "server_id": "b9aea5db5d344727a5f4402e86e82cc3"
>>>>>>> upstream/main
      }
     },
     "output_type": "display_data"
    },
    {
     "name": "stderr",
     "output_type": "stream",
     "text": [
      "ERROR:bokeh.server.views.ws:Refusing websocket connection from Origin 'http://localhost:8889';                       use --allow-websocket-origin=localhost:8889 or set BOKEH_ALLOW_WS_ORIGIN=localhost:8889 to permit this; currently we allow origins {'localhost:8888'}\n",
      "WARNING:tornado.access:403 GET /ws (::1) 1.98ms\n",
      "ERROR:bokeh.server.views.ws:Refusing websocket connection from Origin 'http://localhost:8889';                       use --allow-websocket-origin=localhost:8889 or set BOKEH_ALLOW_WS_ORIGIN=localhost:8889 to permit this; currently we allow origins {'localhost:8888'}\n",
      "WARNING:tornado.access:403 GET /ws (::1) 0.64ms\n"
     ]
    }
   ],
   "source": [
    "show(bk_app, notebook_url=\"http://localhost:8888\")"
   ]
  },
  {
   "cell_type": "markdown",
   "metadata": {
    "cell_style": "split",
    "slideshow": {
     "slide_type": "slide"
    }
   },
   "source": [
    "Why do all this?\n",
    "\n",
    "- Decision trees can be very fast.\n",
    "- Weak learners (particularly stumps) are even **faster**."
   ]
  },
  {
   "cell_type": "markdown",
   "metadata": {
    "cell_style": "split",
    "slideshow": {
     "slide_type": "fragment"
    }
   },
   "source": [
    "In principal:\n",
    "- can tune and fit models really quickly."
   ]
  },
  {
   "cell_type": "markdown",
   "metadata": {
    "cell_style": "center",
    "slideshow": {
     "slide_type": "slide"
    }
   },
   "source": [
    "Our naive implementation: \n",
    "- can be a little sensitive to overfitting \n",
    "- certainly overfits more than random forests."
   ]
  },
  {
   "cell_type": "markdown",
   "metadata": {
    "slideshow": {
     "slide_type": "slide"
    }
   },
   "source": [
    "\n",
    "Gets much better with extra randomization: \n",
    "- Random feature subset selection on individual trees \n",
    "- Randomly sampling subset of training data to improve on error at each stage.\n"
   ]
  },
  {
   "cell_type": "markdown",
   "metadata": {
    "slideshow": {
     "slide_type": "slide"
    }
   },
   "source": [
    "Even better with regularization on trees:"
   ]
  },
  {
   "cell_type": "markdown",
   "metadata": {
    "cell_style": "split",
    "slideshow": {
     "slide_type": "fragment"
    }
   },
   "source": [
    "$$ L = \\sum_{i=1}^N l(y_i, \\hat{y}_i) + \\gamma \\sum_{m=1}^M \\Omega(h_m)$$\n",
    "- $\\Omega$: complexity of tree at the mth step. \n",
    "- $\\gamma$: controls penalty on complexity \n",
    "\n",
    "**Penalizing building more complex trees but also allows for it if necessary**"
   ]
  },
  {
   "cell_type": "markdown",
   "metadata": {
    "cell_style": "split",
    "slideshow": {
     "slide_type": "fragment"
    }
   },
   "source": [
    "$\\gamma$ controls tree pruning. If branch doesn't minimize error (maximize imformation gain) **enough** then cut it.\n",
    "\n",
    "<img src = \"Images/pruning_reg.webp\" />"
   ]
  },
  {
   "cell_type": "markdown",
   "metadata": {
    "cell_style": "center",
    "slideshow": {
     "slide_type": "slide"
    }
   },
   "source": [
    "#### Use above strategies + a lot of algorithm optimization\n",
    "\n",
    "- XGBoost (Extreme Gradient Boosting)\n",
    "\n"
   ]
  },
  {
   "cell_type": "markdown",
   "metadata": {
    "cell_style": "center",
    "slideshow": {
     "slide_type": "fragment"
    }
   },
   "source": [
    "<img src = \"Images/xgboost.png\" />\n",
    "<center>Package integrates well with scikit-learn</center>"
   ]
  },
  {
   "cell_type": "markdown",
   "metadata": {
    "slideshow": {
     "slide_type": "slide"
    }
   },
   "source": [
    "Load in the XGB classifier/regressor"
   ]
  },
  {
   "cell_type": "code",
   "execution_count": 75,
   "metadata": {
    "slideshow": {
     "slide_type": "fragment"
    }
   },
   "outputs": [],
   "source": [
    "from xgboost import XGBRegressor\n",
    "from xgboost import XGBClassifier"
   ]
  },
  {
   "cell_type": "code",
   "execution_count": 76,
   "metadata": {
    "slideshow": {
     "slide_type": "fragment"
    }
   },
   "outputs": [],
   "source": [
    "from sklearn.model_selection import train_test_split\n",
    "from sklearn.model_selection import GridSearchCV"
   ]
  },
  {
   "cell_type": "code",
   "execution_count": 77,
   "metadata": {
    "slideshow": {
     "slide_type": "fragment"
    }
   },
   "outputs": [],
   "source": [
    "X_train, X_test, y_train, y_test = train_test_split(X, y, test_size = .3)"
   ]
  },
  {
   "cell_type": "markdown",
   "metadata": {
    "slideshow": {
     "slide_type": "slide"
    }
   },
   "source": [
    "#### Hyperparameters to tune and ranges"
   ]
  },
  {
   "cell_type": "markdown",
   "metadata": {
    "slideshow": {
     "slide_type": "fragment"
    }
   },
   "source": [
    "| Hyperparameter | Description  | Typical ranges | <center> Comments </center> |\n",
    "| --- | --- | --- | --- |\n",
    "| n_estimator | Number of trees <br> (iterations in sequence) | 50-500 | <center> Can get into low thousands. <br> Increasing beyond certain point: <br> overfitting or no benefit. </center>  |\n",
    "| max_depth | Maximum tree depth of learners | 3-6 |<center> Increment by 1. <br> Changing depth: huge effect. </center>| \n",
    "| learning_rate | The learning rate | 1e-3 to 1 | <center> Proper regularization/randomization <br> allows for faster learning rates <br> ~ 0.1-1 </center>   |\n",
    "|  <font color='red'>gamma </font>| Tree complexity regularization | 0 - 100 | <center> Primary knob for tree regularization </center>   |\n",
    "| <font color='red'>colsample_bytree </font> | <center> Fraction of features <br> randomly sampled by tree </center> | 0.5 - 1 | <center> Regularizing effect  <br>colsample_bylevel, colsample_bynode:<br> add extra degrees of randomization </center>|"
   ]
  },
  {
   "cell_type": "markdown",
   "metadata": {
    "slideshow": {
     "slide_type": "slide"
    }
   },
   "source": [
    "XGB estimators fits neatly and seamlessly into scikit-learn model pipelines, grid search, etc."
   ]
  },
  {
   "cell_type": "code",
   "execution_count": 78,
   "metadata": {
    "scrolled": true,
    "slideshow": {
     "slide_type": "fragment"
    }
   },
   "outputs": [],
   "source": [
    "from xgboost import XGBRegressor\n",
    "from xgboost import XGBClassifier"
   ]
  },
  {
   "cell_type": "code",
   "execution_count": 79,
   "metadata": {},
   "outputs": [],
   "source": [
    "from sklearn.model_selection import GridSearchCV"
   ]
  },
  {
   "cell_type": "code",
   "execution_count": 80,
   "metadata": {
    "slideshow": {
     "slide_type": "fragment"
    }
   },
   "outputs": [],
   "source": [
    "params = {'max_depth': [3,4, 5], 'learning_rate': [.1, .3, .5],\n",
    "          'gamma': [0,5,10], 'n_estimators': [50,100, 150] }\n",
    "cv = GridSearchCV(estimator = XGBRegressor(objective='reg:squarederror'), scoring='neg_mean_absolute_error',\n",
    "                  param_grid = params, cv = 5)\n",
    "cv.fit(X_train.reshape(-1,1), y_train);"
   ]
  },
  {
   "cell_type": "code",
   "execution_count": 81,
   "metadata": {
    "cell_style": "center",
    "scrolled": true,
    "slideshow": {
     "slide_type": "slide"
    }
   },
   "outputs": [
    {
     "data": {
      "text/html": [
       "<style>#sk-container-id-1 {color: black;background-color: white;}#sk-container-id-1 pre{padding: 0;}#sk-container-id-1 div.sk-toggleable {background-color: white;}#sk-container-id-1 label.sk-toggleable__label {cursor: pointer;display: block;width: 100%;margin-bottom: 0;padding: 0.3em;box-sizing: border-box;text-align: center;}#sk-container-id-1 label.sk-toggleable__label-arrow:before {content: \"▸\";float: left;margin-right: 0.25em;color: #696969;}#sk-container-id-1 label.sk-toggleable__label-arrow:hover:before {color: black;}#sk-container-id-1 div.sk-estimator:hover label.sk-toggleable__label-arrow:before {color: black;}#sk-container-id-1 div.sk-toggleable__content {max-height: 0;max-width: 0;overflow: hidden;text-align: left;background-color: #f0f8ff;}#sk-container-id-1 div.sk-toggleable__content pre {margin: 0.2em;color: black;border-radius: 0.25em;background-color: #f0f8ff;}#sk-container-id-1 input.sk-toggleable__control:checked~div.sk-toggleable__content {max-height: 200px;max-width: 100%;overflow: auto;}#sk-container-id-1 input.sk-toggleable__control:checked~label.sk-toggleable__label-arrow:before {content: \"▾\";}#sk-container-id-1 div.sk-estimator input.sk-toggleable__control:checked~label.sk-toggleable__label {background-color: #d4ebff;}#sk-container-id-1 div.sk-label input.sk-toggleable__control:checked~label.sk-toggleable__label {background-color: #d4ebff;}#sk-container-id-1 input.sk-hidden--visually {border: 0;clip: rect(1px 1px 1px 1px);clip: rect(1px, 1px, 1px, 1px);height: 1px;margin: -1px;overflow: hidden;padding: 0;position: absolute;width: 1px;}#sk-container-id-1 div.sk-estimator {font-family: monospace;background-color: #f0f8ff;border: 1px dotted black;border-radius: 0.25em;box-sizing: border-box;margin-bottom: 0.5em;}#sk-container-id-1 div.sk-estimator:hover {background-color: #d4ebff;}#sk-container-id-1 div.sk-parallel-item::after {content: \"\";width: 100%;border-bottom: 1px solid gray;flex-grow: 1;}#sk-container-id-1 div.sk-label:hover label.sk-toggleable__label {background-color: #d4ebff;}#sk-container-id-1 div.sk-serial::before {content: \"\";position: absolute;border-left: 1px solid gray;box-sizing: border-box;top: 0;bottom: 0;left: 50%;z-index: 0;}#sk-container-id-1 div.sk-serial {display: flex;flex-direction: column;align-items: center;background-color: white;padding-right: 0.2em;padding-left: 0.2em;position: relative;}#sk-container-id-1 div.sk-item {position: relative;z-index: 1;}#sk-container-id-1 div.sk-parallel {display: flex;align-items: stretch;justify-content: center;background-color: white;position: relative;}#sk-container-id-1 div.sk-item::before, #sk-container-id-1 div.sk-parallel-item::before {content: \"\";position: absolute;border-left: 1px solid gray;box-sizing: border-box;top: 0;bottom: 0;left: 50%;z-index: -1;}#sk-container-id-1 div.sk-parallel-item {display: flex;flex-direction: column;z-index: 1;position: relative;background-color: white;}#sk-container-id-1 div.sk-parallel-item:first-child::after {align-self: flex-end;width: 50%;}#sk-container-id-1 div.sk-parallel-item:last-child::after {align-self: flex-start;width: 50%;}#sk-container-id-1 div.sk-parallel-item:only-child::after {width: 0;}#sk-container-id-1 div.sk-dashed-wrapped {border: 1px dashed gray;margin: 0 0.4em 0.5em 0.4em;box-sizing: border-box;padding-bottom: 0.4em;background-color: white;}#sk-container-id-1 div.sk-label label {font-family: monospace;font-weight: bold;display: inline-block;line-height: 1.2em;}#sk-container-id-1 div.sk-label-container {text-align: center;}#sk-container-id-1 div.sk-container {/* jupyter's `normalize.less` sets `[hidden] { display: none; }` but bootstrap.min.css set `[hidden] { display: none !important; }` so we also need the `!important` here to be able to override the default hidden behavior on the sphinx rendered scikit-learn.org. See: https://github.com/scikit-learn/scikit-learn/issues/21755 */display: inline-block !important;position: relative;}#sk-container-id-1 div.sk-text-repr-fallback {display: none;}</style><div id=\"sk-container-id-1\" class=\"sk-top-container\"><div class=\"sk-text-repr-fallback\"><pre>XGBRegressor(base_score=0.5, booster=&#x27;gbtree&#x27;, colsample_bylevel=1,\n",
       "             colsample_bynode=1, colsample_bytree=1, enable_categorical=False,\n",
       "             gamma=0, gpu_id=-1, importance_type=None,\n",
       "             interaction_constraints=&#x27;&#x27;, learning_rate=0.3, max_delta_step=0,\n",
       "             max_depth=3, min_child_weight=1, missing=nan,\n",
       "             monotone_constraints=&#x27;()&#x27;, n_estimators=50, n_jobs=20,\n",
       "             num_parallel_tree=1, predictor=&#x27;auto&#x27;, random_state=0, reg_alpha=0,\n",
       "             reg_lambda=1, scale_pos_weight=1, subsample=1, tree_method=&#x27;exact&#x27;,\n",
       "             validate_parameters=1, verbosity=None)</pre><b>In a Jupyter environment, please rerun this cell to show the HTML representation or trust the notebook. <br />On GitHub, the HTML representation is unable to render, please try loading this page with nbviewer.org.</b></div><div class=\"sk-container\" hidden><div class=\"sk-item\"><div class=\"sk-estimator sk-toggleable\"><input class=\"sk-toggleable__control sk-hidden--visually\" id=\"sk-estimator-id-1\" type=\"checkbox\" checked><label for=\"sk-estimator-id-1\" class=\"sk-toggleable__label sk-toggleable__label-arrow\">XGBRegressor</label><div class=\"sk-toggleable__content\"><pre>XGBRegressor(base_score=0.5, booster=&#x27;gbtree&#x27;, colsample_bylevel=1,\n",
       "             colsample_bynode=1, colsample_bytree=1, enable_categorical=False,\n",
       "             gamma=0, gpu_id=-1, importance_type=None,\n",
       "             interaction_constraints=&#x27;&#x27;, learning_rate=0.3, max_delta_step=0,\n",
       "             max_depth=3, min_child_weight=1, missing=nan,\n",
       "             monotone_constraints=&#x27;()&#x27;, n_estimators=50, n_jobs=20,\n",
       "             num_parallel_tree=1, predictor=&#x27;auto&#x27;, random_state=0, reg_alpha=0,\n",
       "             reg_lambda=1, scale_pos_weight=1, subsample=1, tree_method=&#x27;exact&#x27;,\n",
       "             validate_parameters=1, verbosity=None)</pre></div></div></div></div></div>"
      ],
      "text/plain": [
       "XGBRegressor(base_score=0.5, booster='gbtree', colsample_bylevel=1,\n",
       "             colsample_bynode=1, colsample_bytree=1, enable_categorical=False,\n",
       "             gamma=0, gpu_id=-1, importance_type=None,\n",
       "             interaction_constraints='', learning_rate=0.3, max_delta_step=0,\n",
       "             max_depth=3, min_child_weight=1, missing=nan,\n",
<<<<<<< HEAD
       "             monotone_constraints='()', n_estimators=50, n_jobs=20,\n",
=======
       "             monotone_constraints='()', n_estimators=100, n_jobs=8,\n",
>>>>>>> upstream/main
       "             num_parallel_tree=1, predictor='auto', random_state=0, reg_alpha=0,\n",
       "             reg_lambda=1, scale_pos_weight=1, subsample=1, tree_method='exact',\n",
       "             validate_parameters=1, verbosity=None)"
      ]
     },
     "execution_count": 81,
     "metadata": {},
     "output_type": "execute_result"
    }
   ],
   "source": [
    "cv.best_estimator_"
   ]
  },
  {
   "cell_type": "code",
   "execution_count": 82,
   "metadata": {
    "cell_style": "split",
    "slideshow": {
     "slide_type": "fragment"
    }
   },
   "outputs": [
    {
     "data": {
      "text/plain": [
<<<<<<< HEAD
       "-0.3393367578695642"
=======
       "-0.3521079489740862"
>>>>>>> upstream/main
      ]
     },
     "execution_count": 82,
     "metadata": {},
     "output_type": "execute_result"
    }
   ],
   "source": [
    "cv.best_score_"
   ]
  },
  {
   "cell_type": "code",
   "execution_count": 83,
   "metadata": {
    "cell_style": "split",
    "slideshow": {
     "slide_type": "fragment"
    }
   },
   "outputs": [],
   "source": [
    "best_mod = cv.best_estimator_\n",
    "best_mod.fit(X_train.reshape(-1,1), y_train);\n",
    "y_pred = best_mod.predict(X_test)"
   ]
  },
  {
   "cell_type": "code",
   "execution_count": 84,
   "metadata": {
    "cell_style": "split",
    "slideshow": {
     "slide_type": "fragment"
    }
   },
   "outputs": [],
   "source": [
    "total_preds = best_mod.predict(X_train)"
   ]
  },
  {
   "cell_type": "code",
   "execution_count": 85,
   "metadata": {
    "cell_style": "split",
    "scrolled": false,
    "slideshow": {
     "slide_type": "slide"
    }
   },
   "outputs": [
    {
     "data": {
<<<<<<< HEAD
      "image/png": "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\n",
=======
      "image/png": "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\n",
>>>>>>> upstream/main
      "text/plain": [
       "<Figure size 432x288 with 1 Axes>"
      ]
     },
     "metadata": {
      "needs_background": "light"
     },
     "output_type": "display_data"
    }
   ],
   "source": [
    "fig, ax = plt.subplots()\n",
    "ax.scatter(X_test, y_test, c ='g', label = 'Test data')\n",
    "ax.scatter(X_test, y_pred, c ='r', label = 'Prediction')\n",
    "ax.legend()\n",
    "plt.show()"
   ]
  },
  {
   "cell_type": "markdown",
   "metadata": {
    "cell_style": "split",
    "slideshow": {
     "slide_type": "fragment"
    }
   },
   "source": [
    "Clearly doing pretty well with variance\n",
    "- CV average MAE at scale of intrinsic noise in model.\n",
    "- Also doing decently with bias. Sine wave amplitude ~ 1."
   ]
  },
  {
   "cell_type": "markdown",
   "metadata": {
    "slideshow": {
     "slide_type": "slide"
    }
   },
   "source": [
    "#### How about something a little more complicated?"
   ]
  },
  {
   "cell_type": "code",
   "execution_count": 86,
   "metadata": {
    "slideshow": {
     "slide_type": "slide"
    }
   },
   "outputs": [],
   "source": [
    "# load data\n",
    "file_path = \"Data/WHO_life.csv\"\n",
    "who_df = pd.read_csv(file_path).drop(columns = ['Adult Mortality', 'infant deaths',\n",
    "                                            'Year', 'Status', ' thinness 5-9 years', 'Country', \n",
    "                                            'under-five deaths ']).dropna()\n",
    "# clean column names\n",
    "who_df.columns = who_df.columns.str.strip()\n",
    "\n",
    "X_who, y_who = who_df.drop(columns = ['Life expectancy']), who_df['Life expectancy']"
   ]
  },
  {
   "cell_type": "code",
   "execution_count": 87,
   "metadata": {
    "cell_style": "center",
    "scrolled": true,
    "slideshow": {
     "slide_type": "slide"
    }
   },
   "outputs": [
    {
     "data": {
      "text/html": [
       "<div>\n",
       "<style scoped>\n",
       "    .dataframe tbody tr th:only-of-type {\n",
       "        vertical-align: middle;\n",
       "    }\n",
       "\n",
       "    .dataframe tbody tr th {\n",
       "        vertical-align: top;\n",
       "    }\n",
       "\n",
       "    .dataframe thead th {\n",
       "        text-align: right;\n",
       "    }\n",
       "</style>\n",
       "<table border=\"1\" class=\"dataframe\">\n",
       "  <thead>\n",
       "    <tr style=\"text-align: right;\">\n",
       "      <th></th>\n",
       "      <th>Alcohol</th>\n",
       "      <th>percentage expenditure</th>\n",
       "      <th>Hepatitis B</th>\n",
       "      <th>Measles</th>\n",
       "      <th>BMI</th>\n",
       "      <th>Polio</th>\n",
       "      <th>Total expenditure</th>\n",
       "      <th>Diphtheria</th>\n",
       "      <th>HIV/AIDS</th>\n",
       "      <th>GDP</th>\n",
       "      <th>Population</th>\n",
       "      <th>thinness  1-19 years</th>\n",
       "      <th>Income composition of resources</th>\n",
       "      <th>Schooling</th>\n",
       "    </tr>\n",
       "  </thead>\n",
       "  <tbody>\n",
       "    <tr>\n",
       "      <th>0</th>\n",
       "      <td>0.01</td>\n",
       "      <td>71.279624</td>\n",
       "      <td>65.0</td>\n",
       "      <td>1154</td>\n",
       "      <td>19.1</td>\n",
       "      <td>6.0</td>\n",
       "      <td>8.16</td>\n",
       "      <td>65.0</td>\n",
       "      <td>0.1</td>\n",
       "      <td>584.259210</td>\n",
       "      <td>33736494.0</td>\n",
       "      <td>17.2</td>\n",
       "      <td>0.479</td>\n",
       "      <td>10.1</td>\n",
       "    </tr>\n",
       "    <tr>\n",
       "      <th>1</th>\n",
       "      <td>0.01</td>\n",
       "      <td>73.523582</td>\n",
       "      <td>62.0</td>\n",
       "      <td>492</td>\n",
       "      <td>18.6</td>\n",
       "      <td>58.0</td>\n",
       "      <td>8.18</td>\n",
       "      <td>62.0</td>\n",
       "      <td>0.1</td>\n",
       "      <td>612.696514</td>\n",
       "      <td>327582.0</td>\n",
       "      <td>17.5</td>\n",
       "      <td>0.476</td>\n",
       "      <td>10.0</td>\n",
       "    </tr>\n",
       "    <tr>\n",
       "      <th>2</th>\n",
       "      <td>0.01</td>\n",
       "      <td>73.219243</td>\n",
       "      <td>64.0</td>\n",
       "      <td>430</td>\n",
       "      <td>18.1</td>\n",
       "      <td>62.0</td>\n",
       "      <td>8.13</td>\n",
       "      <td>64.0</td>\n",
       "      <td>0.1</td>\n",
       "      <td>631.744976</td>\n",
       "      <td>31731688.0</td>\n",
       "      <td>17.7</td>\n",
       "      <td>0.470</td>\n",
       "      <td>9.9</td>\n",
       "    </tr>\n",
       "    <tr>\n",
       "      <th>3</th>\n",
       "      <td>0.01</td>\n",
       "      <td>78.184215</td>\n",
       "      <td>67.0</td>\n",
       "      <td>2787</td>\n",
       "      <td>17.6</td>\n",
       "      <td>67.0</td>\n",
       "      <td>8.52</td>\n",
       "      <td>67.0</td>\n",
       "      <td>0.1</td>\n",
       "      <td>669.959000</td>\n",
       "      <td>3696958.0</td>\n",
       "      <td>17.9</td>\n",
       "      <td>0.463</td>\n",
       "      <td>9.8</td>\n",
       "    </tr>\n",
       "    <tr>\n",
       "      <th>4</th>\n",
       "      <td>0.01</td>\n",
       "      <td>7.097109</td>\n",
       "      <td>68.0</td>\n",
       "      <td>3013</td>\n",
       "      <td>17.2</td>\n",
       "      <td>68.0</td>\n",
       "      <td>7.87</td>\n",
       "      <td>68.0</td>\n",
       "      <td>0.1</td>\n",
       "      <td>63.537231</td>\n",
       "      <td>2978599.0</td>\n",
       "      <td>18.2</td>\n",
       "      <td>0.454</td>\n",
       "      <td>9.5</td>\n",
       "    </tr>\n",
       "  </tbody>\n",
       "</table>\n",
       "</div>"
      ],
      "text/plain": [
       "   Alcohol  percentage expenditure  Hepatitis B  Measles   BMI  Polio  \\\n",
       "0     0.01               71.279624         65.0     1154  19.1    6.0   \n",
       "1     0.01               73.523582         62.0      492  18.6   58.0   \n",
       "2     0.01               73.219243         64.0      430  18.1   62.0   \n",
       "3     0.01               78.184215         67.0     2787  17.6   67.0   \n",
       "4     0.01                7.097109         68.0     3013  17.2   68.0   \n",
       "\n",
       "   Total expenditure  Diphtheria  HIV/AIDS         GDP  Population  \\\n",
       "0               8.16        65.0       0.1  584.259210  33736494.0   \n",
       "1               8.18        62.0       0.1  612.696514    327582.0   \n",
       "2               8.13        64.0       0.1  631.744976  31731688.0   \n",
       "3               8.52        67.0       0.1  669.959000   3696958.0   \n",
       "4               7.87        68.0       0.1   63.537231   2978599.0   \n",
       "\n",
       "   thinness  1-19 years  Income composition of resources  Schooling  \n",
       "0                  17.2                            0.479       10.1  \n",
       "1                  17.5                            0.476       10.0  \n",
       "2                  17.7                            0.470        9.9  \n",
       "3                  17.9                            0.463        9.8  \n",
       "4                  18.2                            0.454        9.5  "
      ]
     },
     "execution_count": 87,
     "metadata": {},
     "output_type": "execute_result"
    }
   ],
   "source": [
    "X_who.head()"
   ]
  },
  {
   "cell_type": "code",
   "execution_count": 88,
   "metadata": {
    "cell_style": "split",
    "slideshow": {
     "slide_type": "fragment"
    }
   },
   "outputs": [
    {
     "data": {
      "text/plain": [
       "0    65.0\n",
       "1    59.9\n",
       "2    59.9\n",
       "3    59.5\n",
       "4    59.2\n",
       "Name: Life expectancy, dtype: float64"
      ]
     },
     "execution_count": 88,
     "metadata": {},
     "output_type": "execute_result"
    }
   ],
   "source": [
    "y_who.head()"
   ]
  },
  {
   "cell_type": "code",
   "execution_count": 89,
   "metadata": {
    "slideshow": {
     "slide_type": "fragment"
    }
   },
   "outputs": [],
   "source": [
    "# Train test split\n",
    "X_who_train, X_who_test, y_who_train, y_who_test = train_test_split(X_who, y_who, test_size = 0.3)"
   ]
  },
  {
   "cell_type": "code",
   "execution_count": 90,
   "metadata": {
    "slideshow": {
     "slide_type": "slide"
    }
   },
   "outputs": [
    {
     "name": "stderr",
     "output_type": "stream",
     "text": [
      "C:\\Users\\jackl\\anaconda3\\lib\\site-packages\\xgboost\\data.py:250: FutureWarning: pandas.Int64Index is deprecated and will be removed from pandas in a future version. Use pandas.Index with the appropriate dtype instead.\n",
      "  elif isinstance(data.columns, (pd.Int64Index, pd.RangeIndex)):\n",
      "C:\\Users\\jackl\\anaconda3\\lib\\site-packages\\xgboost\\data.py:250: FutureWarning: pandas.Int64Index is deprecated and will be removed from pandas in a future version. Use pandas.Index with the appropriate dtype instead.\n",
      "  elif isinstance(data.columns, (pd.Int64Index, pd.RangeIndex)):\n",
      "C:\\Users\\jackl\\anaconda3\\lib\\site-packages\\xgboost\\data.py:250: FutureWarning: pandas.Int64Index is deprecated and will be removed from pandas in a future version. Use pandas.Index with the appropriate dtype instead.\n",
      "  elif isinstance(data.columns, (pd.Int64Index, pd.RangeIndex)):\n",
      "C:\\Users\\jackl\\anaconda3\\lib\\site-packages\\xgboost\\data.py:250: FutureWarning: pandas.Int64Index is deprecated and will be removed from pandas in a future version. Use pandas.Index with the appropriate dtype instead.\n",
      "  elif isinstance(data.columns, (pd.Int64Index, pd.RangeIndex)):\n",
      "C:\\Users\\jackl\\anaconda3\\lib\\site-packages\\xgboost\\data.py:250: FutureWarning: pandas.Int64Index is deprecated and will be removed from pandas in a future version. Use pandas.Index with the appropriate dtype instead.\n",
      "  elif isinstance(data.columns, (pd.Int64Index, pd.RangeIndex)):\n",
      "C:\\Users\\jackl\\anaconda3\\lib\\site-packages\\xgboost\\data.py:250: FutureWarning: pandas.Int64Index is deprecated and will be removed from pandas in a future version. Use pandas.Index with the appropriate dtype instead.\n",
      "  elif isinstance(data.columns, (pd.Int64Index, pd.RangeIndex)):\n",
      "C:\\Users\\jackl\\anaconda3\\lib\\site-packages\\xgboost\\data.py:250: FutureWarning: pandas.Int64Index is deprecated and will be removed from pandas in a future version. Use pandas.Index with the appropriate dtype instead.\n",
      "  elif isinstance(data.columns, (pd.Int64Index, pd.RangeIndex)):\n",
      "C:\\Users\\jackl\\anaconda3\\lib\\site-packages\\xgboost\\data.py:250: FutureWarning: pandas.Int64Index is deprecated and will be removed from pandas in a future version. Use pandas.Index with the appropriate dtype instead.\n",
      "  elif isinstance(data.columns, (pd.Int64Index, pd.RangeIndex)):\n",
      "C:\\Users\\jackl\\anaconda3\\lib\\site-packages\\xgboost\\data.py:250: FutureWarning: pandas.Int64Index is deprecated and will be removed from pandas in a future version. Use pandas.Index with the appropriate dtype instead.\n",
      "  elif isinstance(data.columns, (pd.Int64Index, pd.RangeIndex)):\n",
      "C:\\Users\\jackl\\anaconda3\\lib\\site-packages\\xgboost\\data.py:250: FutureWarning: pandas.Int64Index is deprecated and will be removed from pandas in a future version. Use pandas.Index with the appropriate dtype instead.\n",
      "  elif isinstance(data.columns, (pd.Int64Index, pd.RangeIndex)):\n",
      "C:\\Users\\jackl\\anaconda3\\lib\\site-packages\\xgboost\\data.py:250: FutureWarning: pandas.Int64Index is deprecated and will be removed from pandas in a future version. Use pandas.Index with the appropriate dtype instead.\n",
      "  elif isinstance(data.columns, (pd.Int64Index, pd.RangeIndex)):\n",
      "C:\\Users\\jackl\\anaconda3\\lib\\site-packages\\xgboost\\data.py:250: FutureWarning: pandas.Int64Index is deprecated and will be removed from pandas in a future version. Use pandas.Index with the appropriate dtype instead.\n",
      "  elif isinstance(data.columns, (pd.Int64Index, pd.RangeIndex)):\n",
      "C:\\Users\\jackl\\anaconda3\\lib\\site-packages\\xgboost\\data.py:250: FutureWarning: pandas.Int64Index is deprecated and will be removed from pandas in a future version. Use pandas.Index with the appropriate dtype instead.\n",
      "  elif isinstance(data.columns, (pd.Int64Index, pd.RangeIndex)):\n",
      "C:\\Users\\jackl\\anaconda3\\lib\\site-packages\\xgboost\\data.py:250: FutureWarning: pandas.Int64Index is deprecated and will be removed from pandas in a future version. Use pandas.Index with the appropriate dtype instead.\n",
      "  elif isinstance(data.columns, (pd.Int64Index, pd.RangeIndex)):\n",
      "C:\\Users\\jackl\\anaconda3\\lib\\site-packages\\xgboost\\data.py:250: FutureWarning: pandas.Int64Index is deprecated and will be removed from pandas in a future version. Use pandas.Index with the appropriate dtype instead.\n",
      "  elif isinstance(data.columns, (pd.Int64Index, pd.RangeIndex)):\n",
      "C:\\Users\\jackl\\anaconda3\\lib\\site-packages\\xgboost\\data.py:250: FutureWarning: pandas.Int64Index is deprecated and will be removed from pandas in a future version. Use pandas.Index with the appropriate dtype instead.\n",
      "  elif isinstance(data.columns, (pd.Int64Index, pd.RangeIndex)):\n",
      "C:\\Users\\jackl\\anaconda3\\lib\\site-packages\\xgboost\\data.py:250: FutureWarning: pandas.Int64Index is deprecated and will be removed from pandas in a future version. Use pandas.Index with the appropriate dtype instead.\n",
      "  elif isinstance(data.columns, (pd.Int64Index, pd.RangeIndex)):\n",
      "C:\\Users\\jackl\\anaconda3\\lib\\site-packages\\xgboost\\data.py:250: FutureWarning: pandas.Int64Index is deprecated and will be removed from pandas in a future version. Use pandas.Index with the appropriate dtype instead.\n",
      "  elif isinstance(data.columns, (pd.Int64Index, pd.RangeIndex)):\n",
      "C:\\Users\\jackl\\anaconda3\\lib\\site-packages\\xgboost\\data.py:250: FutureWarning: pandas.Int64Index is deprecated and will be removed from pandas in a future version. Use pandas.Index with the appropriate dtype instead.\n",
      "  elif isinstance(data.columns, (pd.Int64Index, pd.RangeIndex)):\n",
      "C:\\Users\\jackl\\anaconda3\\lib\\site-packages\\xgboost\\data.py:250: FutureWarning: pandas.Int64Index is deprecated and will be removed from pandas in a future version. Use pandas.Index with the appropriate dtype instead.\n",
      "  elif isinstance(data.columns, (pd.Int64Index, pd.RangeIndex)):\n",
      "C:\\Users\\jackl\\anaconda3\\lib\\site-packages\\xgboost\\data.py:250: FutureWarning: pandas.Int64Index is deprecated and will be removed from pandas in a future version. Use pandas.Index with the appropriate dtype instead.\n",
      "  elif isinstance(data.columns, (pd.Int64Index, pd.RangeIndex)):\n",
      "C:\\Users\\jackl\\anaconda3\\lib\\site-packages\\xgboost\\data.py:250: FutureWarning: pandas.Int64Index is deprecated and will be removed from pandas in a future version. Use pandas.Index with the appropriate dtype instead.\n",
      "  elif isinstance(data.columns, (pd.Int64Index, pd.RangeIndex)):\n",
      "C:\\Users\\jackl\\anaconda3\\lib\\site-packages\\xgboost\\data.py:250: FutureWarning: pandas.Int64Index is deprecated and will be removed from pandas in a future version. Use pandas.Index with the appropriate dtype instead.\n",
      "  elif isinstance(data.columns, (pd.Int64Index, pd.RangeIndex)):\n",
      "C:\\Users\\jackl\\anaconda3\\lib\\site-packages\\xgboost\\data.py:250: FutureWarning: pandas.Int64Index is deprecated and will be removed from pandas in a future version. Use pandas.Index with the appropriate dtype instead.\n",
      "  elif isinstance(data.columns, (pd.Int64Index, pd.RangeIndex)):\n",
      "C:\\Users\\jackl\\anaconda3\\lib\\site-packages\\xgboost\\data.py:250: FutureWarning: pandas.Int64Index is deprecated and will be removed from pandas in a future version. Use pandas.Index with the appropriate dtype instead.\n",
      "  elif isinstance(data.columns, (pd.Int64Index, pd.RangeIndex)):\n",
      "C:\\Users\\jackl\\anaconda3\\lib\\site-packages\\xgboost\\data.py:250: FutureWarning: pandas.Int64Index is deprecated and will be removed from pandas in a future version. Use pandas.Index with the appropriate dtype instead.\n",
      "  elif isinstance(data.columns, (pd.Int64Index, pd.RangeIndex)):\n",
      "C:\\Users\\jackl\\anaconda3\\lib\\site-packages\\xgboost\\data.py:250: FutureWarning: pandas.Int64Index is deprecated and will be removed from pandas in a future version. Use pandas.Index with the appropriate dtype instead.\n",
      "  elif isinstance(data.columns, (pd.Int64Index, pd.RangeIndex)):\n",
      "C:\\Users\\jackl\\anaconda3\\lib\\site-packages\\xgboost\\data.py:250: FutureWarning: pandas.Int64Index is deprecated and will be removed from pandas in a future version. Use pandas.Index with the appropriate dtype instead.\n",
      "  elif isinstance(data.columns, (pd.Int64Index, pd.RangeIndex)):\n",
      "C:\\Users\\jackl\\anaconda3\\lib\\site-packages\\xgboost\\data.py:250: FutureWarning: pandas.Int64Index is deprecated and will be removed from pandas in a future version. Use pandas.Index with the appropriate dtype instead.\n",
      "  elif isinstance(data.columns, (pd.Int64Index, pd.RangeIndex)):\n",
      "C:\\Users\\jackl\\anaconda3\\lib\\site-packages\\xgboost\\data.py:250: FutureWarning: pandas.Int64Index is deprecated and will be removed from pandas in a future version. Use pandas.Index with the appropriate dtype instead.\n",
      "  elif isinstance(data.columns, (pd.Int64Index, pd.RangeIndex)):\n"
     ]
    },
    {
     "name": "stderr",
     "output_type": "stream",
     "text": [
      "C:\\Users\\jackl\\anaconda3\\lib\\site-packages\\xgboost\\data.py:250: FutureWarning: pandas.Int64Index is deprecated and will be removed from pandas in a future version. Use pandas.Index with the appropriate dtype instead.\n",
      "  elif isinstance(data.columns, (pd.Int64Index, pd.RangeIndex)):\n",
      "C:\\Users\\jackl\\anaconda3\\lib\\site-packages\\xgboost\\data.py:250: FutureWarning: pandas.Int64Index is deprecated and will be removed from pandas in a future version. Use pandas.Index with the appropriate dtype instead.\n",
      "  elif isinstance(data.columns, (pd.Int64Index, pd.RangeIndex)):\n",
      "C:\\Users\\jackl\\anaconda3\\lib\\site-packages\\xgboost\\data.py:250: FutureWarning: pandas.Int64Index is deprecated and will be removed from pandas in a future version. Use pandas.Index with the appropriate dtype instead.\n",
      "  elif isinstance(data.columns, (pd.Int64Index, pd.RangeIndex)):\n",
      "C:\\Users\\jackl\\anaconda3\\lib\\site-packages\\xgboost\\data.py:250: FutureWarning: pandas.Int64Index is deprecated and will be removed from pandas in a future version. Use pandas.Index with the appropriate dtype instead.\n",
      "  elif isinstance(data.columns, (pd.Int64Index, pd.RangeIndex)):\n",
      "C:\\Users\\jackl\\anaconda3\\lib\\site-packages\\xgboost\\data.py:250: FutureWarning: pandas.Int64Index is deprecated and will be removed from pandas in a future version. Use pandas.Index with the appropriate dtype instead.\n",
      "  elif isinstance(data.columns, (pd.Int64Index, pd.RangeIndex)):\n",
      "C:\\Users\\jackl\\anaconda3\\lib\\site-packages\\xgboost\\data.py:250: FutureWarning: pandas.Int64Index is deprecated and will be removed from pandas in a future version. Use pandas.Index with the appropriate dtype instead.\n",
      "  elif isinstance(data.columns, (pd.Int64Index, pd.RangeIndex)):\n",
      "C:\\Users\\jackl\\anaconda3\\lib\\site-packages\\xgboost\\data.py:250: FutureWarning: pandas.Int64Index is deprecated and will be removed from pandas in a future version. Use pandas.Index with the appropriate dtype instead.\n",
      "  elif isinstance(data.columns, (pd.Int64Index, pd.RangeIndex)):\n",
      "C:\\Users\\jackl\\anaconda3\\lib\\site-packages\\xgboost\\data.py:250: FutureWarning: pandas.Int64Index is deprecated and will be removed from pandas in a future version. Use pandas.Index with the appropriate dtype instead.\n",
      "  elif isinstance(data.columns, (pd.Int64Index, pd.RangeIndex)):\n",
      "C:\\Users\\jackl\\anaconda3\\lib\\site-packages\\xgboost\\data.py:250: FutureWarning: pandas.Int64Index is deprecated and will be removed from pandas in a future version. Use pandas.Index with the appropriate dtype instead.\n",
      "  elif isinstance(data.columns, (pd.Int64Index, pd.RangeIndex)):\n",
      "C:\\Users\\jackl\\anaconda3\\lib\\site-packages\\xgboost\\data.py:250: FutureWarning: pandas.Int64Index is deprecated and will be removed from pandas in a future version. Use pandas.Index with the appropriate dtype instead.\n",
      "  elif isinstance(data.columns, (pd.Int64Index, pd.RangeIndex)):\n",
      "C:\\Users\\jackl\\anaconda3\\lib\\site-packages\\xgboost\\data.py:250: FutureWarning: pandas.Int64Index is deprecated and will be removed from pandas in a future version. Use pandas.Index with the appropriate dtype instead.\n",
      "  elif isinstance(data.columns, (pd.Int64Index, pd.RangeIndex)):\n",
      "C:\\Users\\jackl\\anaconda3\\lib\\site-packages\\xgboost\\data.py:250: FutureWarning: pandas.Int64Index is deprecated and will be removed from pandas in a future version. Use pandas.Index with the appropriate dtype instead.\n",
      "  elif isinstance(data.columns, (pd.Int64Index, pd.RangeIndex)):\n",
      "C:\\Users\\jackl\\anaconda3\\lib\\site-packages\\xgboost\\data.py:250: FutureWarning: pandas.Int64Index is deprecated and will be removed from pandas in a future version. Use pandas.Index with the appropriate dtype instead.\n",
      "  elif isinstance(data.columns, (pd.Int64Index, pd.RangeIndex)):\n",
      "C:\\Users\\jackl\\anaconda3\\lib\\site-packages\\xgboost\\data.py:250: FutureWarning: pandas.Int64Index is deprecated and will be removed from pandas in a future version. Use pandas.Index with the appropriate dtype instead.\n",
      "  elif isinstance(data.columns, (pd.Int64Index, pd.RangeIndex)):\n",
      "C:\\Users\\jackl\\anaconda3\\lib\\site-packages\\xgboost\\data.py:250: FutureWarning: pandas.Int64Index is deprecated and will be removed from pandas in a future version. Use pandas.Index with the appropriate dtype instead.\n",
      "  elif isinstance(data.columns, (pd.Int64Index, pd.RangeIndex)):\n",
      "C:\\Users\\jackl\\anaconda3\\lib\\site-packages\\xgboost\\data.py:250: FutureWarning: pandas.Int64Index is deprecated and will be removed from pandas in a future version. Use pandas.Index with the appropriate dtype instead.\n",
      "  elif isinstance(data.columns, (pd.Int64Index, pd.RangeIndex)):\n",
      "C:\\Users\\jackl\\anaconda3\\lib\\site-packages\\xgboost\\data.py:250: FutureWarning: pandas.Int64Index is deprecated and will be removed from pandas in a future version. Use pandas.Index with the appropriate dtype instead.\n",
      "  elif isinstance(data.columns, (pd.Int64Index, pd.RangeIndex)):\n",
      "C:\\Users\\jackl\\anaconda3\\lib\\site-packages\\xgboost\\data.py:250: FutureWarning: pandas.Int64Index is deprecated and will be removed from pandas in a future version. Use pandas.Index with the appropriate dtype instead.\n",
      "  elif isinstance(data.columns, (pd.Int64Index, pd.RangeIndex)):\n",
      "C:\\Users\\jackl\\anaconda3\\lib\\site-packages\\xgboost\\data.py:250: FutureWarning: pandas.Int64Index is deprecated and will be removed from pandas in a future version. Use pandas.Index with the appropriate dtype instead.\n",
      "  elif isinstance(data.columns, (pd.Int64Index, pd.RangeIndex)):\n",
      "C:\\Users\\jackl\\anaconda3\\lib\\site-packages\\xgboost\\data.py:250: FutureWarning: pandas.Int64Index is deprecated and will be removed from pandas in a future version. Use pandas.Index with the appropriate dtype instead.\n",
      "  elif isinstance(data.columns, (pd.Int64Index, pd.RangeIndex)):\n",
      "C:\\Users\\jackl\\anaconda3\\lib\\site-packages\\xgboost\\data.py:250: FutureWarning: pandas.Int64Index is deprecated and will be removed from pandas in a future version. Use pandas.Index with the appropriate dtype instead.\n",
      "  elif isinstance(data.columns, (pd.Int64Index, pd.RangeIndex)):\n",
      "C:\\Users\\jackl\\anaconda3\\lib\\site-packages\\xgboost\\data.py:250: FutureWarning: pandas.Int64Index is deprecated and will be removed from pandas in a future version. Use pandas.Index with the appropriate dtype instead.\n",
      "  elif isinstance(data.columns, (pd.Int64Index, pd.RangeIndex)):\n",
      "C:\\Users\\jackl\\anaconda3\\lib\\site-packages\\xgboost\\data.py:250: FutureWarning: pandas.Int64Index is deprecated and will be removed from pandas in a future version. Use pandas.Index with the appropriate dtype instead.\n",
      "  elif isinstance(data.columns, (pd.Int64Index, pd.RangeIndex)):\n",
      "C:\\Users\\jackl\\anaconda3\\lib\\site-packages\\xgboost\\data.py:250: FutureWarning: pandas.Int64Index is deprecated and will be removed from pandas in a future version. Use pandas.Index with the appropriate dtype instead.\n",
      "  elif isinstance(data.columns, (pd.Int64Index, pd.RangeIndex)):\n",
      "C:\\Users\\jackl\\anaconda3\\lib\\site-packages\\xgboost\\data.py:250: FutureWarning: pandas.Int64Index is deprecated and will be removed from pandas in a future version. Use pandas.Index with the appropriate dtype instead.\n",
      "  elif isinstance(data.columns, (pd.Int64Index, pd.RangeIndex)):\n",
      "C:\\Users\\jackl\\anaconda3\\lib\\site-packages\\xgboost\\data.py:250: FutureWarning: pandas.Int64Index is deprecated and will be removed from pandas in a future version. Use pandas.Index with the appropriate dtype instead.\n",
      "  elif isinstance(data.columns, (pd.Int64Index, pd.RangeIndex)):\n",
      "C:\\Users\\jackl\\anaconda3\\lib\\site-packages\\xgboost\\data.py:250: FutureWarning: pandas.Int64Index is deprecated and will be removed from pandas in a future version. Use pandas.Index with the appropriate dtype instead.\n",
      "  elif isinstance(data.columns, (pd.Int64Index, pd.RangeIndex)):\n",
      "C:\\Users\\jackl\\anaconda3\\lib\\site-packages\\xgboost\\data.py:250: FutureWarning: pandas.Int64Index is deprecated and will be removed from pandas in a future version. Use pandas.Index with the appropriate dtype instead.\n",
      "  elif isinstance(data.columns, (pd.Int64Index, pd.RangeIndex)):\n",
      "C:\\Users\\jackl\\anaconda3\\lib\\site-packages\\xgboost\\data.py:250: FutureWarning: pandas.Int64Index is deprecated and will be removed from pandas in a future version. Use pandas.Index with the appropriate dtype instead.\n",
      "  elif isinstance(data.columns, (pd.Int64Index, pd.RangeIndex)):\n",
      "C:\\Users\\jackl\\anaconda3\\lib\\site-packages\\xgboost\\data.py:250: FutureWarning: pandas.Int64Index is deprecated and will be removed from pandas in a future version. Use pandas.Index with the appropriate dtype instead.\n",
      "  elif isinstance(data.columns, (pd.Int64Index, pd.RangeIndex)):\n",
      "C:\\Users\\jackl\\anaconda3\\lib\\site-packages\\xgboost\\data.py:250: FutureWarning: pandas.Int64Index is deprecated and will be removed from pandas in a future version. Use pandas.Index with the appropriate dtype instead.\n",
      "  elif isinstance(data.columns, (pd.Int64Index, pd.RangeIndex)):\n",
      "C:\\Users\\jackl\\anaconda3\\lib\\site-packages\\xgboost\\data.py:250: FutureWarning: pandas.Int64Index is deprecated and will be removed from pandas in a future version. Use pandas.Index with the appropriate dtype instead.\n",
      "  elif isinstance(data.columns, (pd.Int64Index, pd.RangeIndex)):\n",
      "C:\\Users\\jackl\\anaconda3\\lib\\site-packages\\xgboost\\data.py:250: FutureWarning: pandas.Int64Index is deprecated and will be removed from pandas in a future version. Use pandas.Index with the appropriate dtype instead.\n",
      "  elif isinstance(data.columns, (pd.Int64Index, pd.RangeIndex)):\n",
      "C:\\Users\\jackl\\anaconda3\\lib\\site-packages\\xgboost\\data.py:250: FutureWarning: pandas.Int64Index is deprecated and will be removed from pandas in a future version. Use pandas.Index with the appropriate dtype instead.\n",
      "  elif isinstance(data.columns, (pd.Int64Index, pd.RangeIndex)):\n"
     ]
    },
    {
     "name": "stderr",
     "output_type": "stream",
     "text": [
      "C:\\Users\\jackl\\anaconda3\\lib\\site-packages\\xgboost\\data.py:250: FutureWarning: pandas.Int64Index is deprecated and will be removed from pandas in a future version. Use pandas.Index with the appropriate dtype instead.\n",
      "  elif isinstance(data.columns, (pd.Int64Index, pd.RangeIndex)):\n",
      "C:\\Users\\jackl\\anaconda3\\lib\\site-packages\\xgboost\\data.py:250: FutureWarning: pandas.Int64Index is deprecated and will be removed from pandas in a future version. Use pandas.Index with the appropriate dtype instead.\n",
      "  elif isinstance(data.columns, (pd.Int64Index, pd.RangeIndex)):\n",
      "C:\\Users\\jackl\\anaconda3\\lib\\site-packages\\xgboost\\data.py:250: FutureWarning: pandas.Int64Index is deprecated and will be removed from pandas in a future version. Use pandas.Index with the appropriate dtype instead.\n",
      "  elif isinstance(data.columns, (pd.Int64Index, pd.RangeIndex)):\n",
      "C:\\Users\\jackl\\anaconda3\\lib\\site-packages\\xgboost\\data.py:250: FutureWarning: pandas.Int64Index is deprecated and will be removed from pandas in a future version. Use pandas.Index with the appropriate dtype instead.\n",
      "  elif isinstance(data.columns, (pd.Int64Index, pd.RangeIndex)):\n",
      "C:\\Users\\jackl\\anaconda3\\lib\\site-packages\\xgboost\\data.py:250: FutureWarning: pandas.Int64Index is deprecated and will be removed from pandas in a future version. Use pandas.Index with the appropriate dtype instead.\n",
      "  elif isinstance(data.columns, (pd.Int64Index, pd.RangeIndex)):\n",
      "C:\\Users\\jackl\\anaconda3\\lib\\site-packages\\xgboost\\data.py:250: FutureWarning: pandas.Int64Index is deprecated and will be removed from pandas in a future version. Use pandas.Index with the appropriate dtype instead.\n",
      "  elif isinstance(data.columns, (pd.Int64Index, pd.RangeIndex)):\n",
      "C:\\Users\\jackl\\anaconda3\\lib\\site-packages\\xgboost\\data.py:250: FutureWarning: pandas.Int64Index is deprecated and will be removed from pandas in a future version. Use pandas.Index with the appropriate dtype instead.\n",
      "  elif isinstance(data.columns, (pd.Int64Index, pd.RangeIndex)):\n",
      "C:\\Users\\jackl\\anaconda3\\lib\\site-packages\\xgboost\\data.py:250: FutureWarning: pandas.Int64Index is deprecated and will be removed from pandas in a future version. Use pandas.Index with the appropriate dtype instead.\n",
      "  elif isinstance(data.columns, (pd.Int64Index, pd.RangeIndex)):\n",
      "C:\\Users\\jackl\\anaconda3\\lib\\site-packages\\xgboost\\data.py:250: FutureWarning: pandas.Int64Index is deprecated and will be removed from pandas in a future version. Use pandas.Index with the appropriate dtype instead.\n",
      "  elif isinstance(data.columns, (pd.Int64Index, pd.RangeIndex)):\n",
      "C:\\Users\\jackl\\anaconda3\\lib\\site-packages\\xgboost\\data.py:250: FutureWarning: pandas.Int64Index is deprecated and will be removed from pandas in a future version. Use pandas.Index with the appropriate dtype instead.\n",
      "  elif isinstance(data.columns, (pd.Int64Index, pd.RangeIndex)):\n",
      "C:\\Users\\jackl\\anaconda3\\lib\\site-packages\\xgboost\\data.py:250: FutureWarning: pandas.Int64Index is deprecated and will be removed from pandas in a future version. Use pandas.Index with the appropriate dtype instead.\n",
      "  elif isinstance(data.columns, (pd.Int64Index, pd.RangeIndex)):\n",
      "C:\\Users\\jackl\\anaconda3\\lib\\site-packages\\xgboost\\data.py:250: FutureWarning: pandas.Int64Index is deprecated and will be removed from pandas in a future version. Use pandas.Index with the appropriate dtype instead.\n",
      "  elif isinstance(data.columns, (pd.Int64Index, pd.RangeIndex)):\n",
      "C:\\Users\\jackl\\anaconda3\\lib\\site-packages\\xgboost\\data.py:250: FutureWarning: pandas.Int64Index is deprecated and will be removed from pandas in a future version. Use pandas.Index with the appropriate dtype instead.\n",
      "  elif isinstance(data.columns, (pd.Int64Index, pd.RangeIndex)):\n",
      "C:\\Users\\jackl\\anaconda3\\lib\\site-packages\\xgboost\\data.py:250: FutureWarning: pandas.Int64Index is deprecated and will be removed from pandas in a future version. Use pandas.Index with the appropriate dtype instead.\n",
      "  elif isinstance(data.columns, (pd.Int64Index, pd.RangeIndex)):\n",
      "C:\\Users\\jackl\\anaconda3\\lib\\site-packages\\xgboost\\data.py:250: FutureWarning: pandas.Int64Index is deprecated and will be removed from pandas in a future version. Use pandas.Index with the appropriate dtype instead.\n",
      "  elif isinstance(data.columns, (pd.Int64Index, pd.RangeIndex)):\n",
      "C:\\Users\\jackl\\anaconda3\\lib\\site-packages\\xgboost\\data.py:250: FutureWarning: pandas.Int64Index is deprecated and will be removed from pandas in a future version. Use pandas.Index with the appropriate dtype instead.\n",
      "  elif isinstance(data.columns, (pd.Int64Index, pd.RangeIndex)):\n",
      "C:\\Users\\jackl\\anaconda3\\lib\\site-packages\\xgboost\\data.py:250: FutureWarning: pandas.Int64Index is deprecated and will be removed from pandas in a future version. Use pandas.Index with the appropriate dtype instead.\n",
      "  elif isinstance(data.columns, (pd.Int64Index, pd.RangeIndex)):\n",
      "C:\\Users\\jackl\\anaconda3\\lib\\site-packages\\xgboost\\data.py:250: FutureWarning: pandas.Int64Index is deprecated and will be removed from pandas in a future version. Use pandas.Index with the appropriate dtype instead.\n",
      "  elif isinstance(data.columns, (pd.Int64Index, pd.RangeIndex)):\n",
      "C:\\Users\\jackl\\anaconda3\\lib\\site-packages\\xgboost\\data.py:250: FutureWarning: pandas.Int64Index is deprecated and will be removed from pandas in a future version. Use pandas.Index with the appropriate dtype instead.\n",
      "  elif isinstance(data.columns, (pd.Int64Index, pd.RangeIndex)):\n",
      "C:\\Users\\jackl\\anaconda3\\lib\\site-packages\\xgboost\\data.py:250: FutureWarning: pandas.Int64Index is deprecated and will be removed from pandas in a future version. Use pandas.Index with the appropriate dtype instead.\n",
      "  elif isinstance(data.columns, (pd.Int64Index, pd.RangeIndex)):\n",
      "C:\\Users\\jackl\\anaconda3\\lib\\site-packages\\xgboost\\data.py:250: FutureWarning: pandas.Int64Index is deprecated and will be removed from pandas in a future version. Use pandas.Index with the appropriate dtype instead.\n",
      "  elif isinstance(data.columns, (pd.Int64Index, pd.RangeIndex)):\n",
      "C:\\Users\\jackl\\anaconda3\\lib\\site-packages\\xgboost\\data.py:250: FutureWarning: pandas.Int64Index is deprecated and will be removed from pandas in a future version. Use pandas.Index with the appropriate dtype instead.\n",
      "  elif isinstance(data.columns, (pd.Int64Index, pd.RangeIndex)):\n",
      "C:\\Users\\jackl\\anaconda3\\lib\\site-packages\\xgboost\\data.py:250: FutureWarning: pandas.Int64Index is deprecated and will be removed from pandas in a future version. Use pandas.Index with the appropriate dtype instead.\n",
      "  elif isinstance(data.columns, (pd.Int64Index, pd.RangeIndex)):\n",
      "C:\\Users\\jackl\\anaconda3\\lib\\site-packages\\xgboost\\data.py:250: FutureWarning: pandas.Int64Index is deprecated and will be removed from pandas in a future version. Use pandas.Index with the appropriate dtype instead.\n",
      "  elif isinstance(data.columns, (pd.Int64Index, pd.RangeIndex)):\n",
      "C:\\Users\\jackl\\anaconda3\\lib\\site-packages\\xgboost\\data.py:250: FutureWarning: pandas.Int64Index is deprecated and will be removed from pandas in a future version. Use pandas.Index with the appropriate dtype instead.\n",
      "  elif isinstance(data.columns, (pd.Int64Index, pd.RangeIndex)):\n",
      "C:\\Users\\jackl\\anaconda3\\lib\\site-packages\\xgboost\\data.py:250: FutureWarning: pandas.Int64Index is deprecated and will be removed from pandas in a future version. Use pandas.Index with the appropriate dtype instead.\n",
      "  elif isinstance(data.columns, (pd.Int64Index, pd.RangeIndex)):\n",
      "C:\\Users\\jackl\\anaconda3\\lib\\site-packages\\xgboost\\data.py:250: FutureWarning: pandas.Int64Index is deprecated and will be removed from pandas in a future version. Use pandas.Index with the appropriate dtype instead.\n",
      "  elif isinstance(data.columns, (pd.Int64Index, pd.RangeIndex)):\n",
      "C:\\Users\\jackl\\anaconda3\\lib\\site-packages\\xgboost\\data.py:250: FutureWarning: pandas.Int64Index is deprecated and will be removed from pandas in a future version. Use pandas.Index with the appropriate dtype instead.\n",
      "  elif isinstance(data.columns, (pd.Int64Index, pd.RangeIndex)):\n",
      "C:\\Users\\jackl\\anaconda3\\lib\\site-packages\\xgboost\\data.py:250: FutureWarning: pandas.Int64Index is deprecated and will be removed from pandas in a future version. Use pandas.Index with the appropriate dtype instead.\n",
      "  elif isinstance(data.columns, (pd.Int64Index, pd.RangeIndex)):\n",
      "C:\\Users\\jackl\\anaconda3\\lib\\site-packages\\xgboost\\data.py:250: FutureWarning: pandas.Int64Index is deprecated and will be removed from pandas in a future version. Use pandas.Index with the appropriate dtype instead.\n",
      "  elif isinstance(data.columns, (pd.Int64Index, pd.RangeIndex)):\n",
      "C:\\Users\\jackl\\anaconda3\\lib\\site-packages\\xgboost\\data.py:250: FutureWarning: pandas.Int64Index is deprecated and will be removed from pandas in a future version. Use pandas.Index with the appropriate dtype instead.\n",
      "  elif isinstance(data.columns, (pd.Int64Index, pd.RangeIndex)):\n",
      "C:\\Users\\jackl\\anaconda3\\lib\\site-packages\\xgboost\\data.py:250: FutureWarning: pandas.Int64Index is deprecated and will be removed from pandas in a future version. Use pandas.Index with the appropriate dtype instead.\n",
      "  elif isinstance(data.columns, (pd.Int64Index, pd.RangeIndex)):\n",
      "C:\\Users\\jackl\\anaconda3\\lib\\site-packages\\xgboost\\data.py:250: FutureWarning: pandas.Int64Index is deprecated and will be removed from pandas in a future version. Use pandas.Index with the appropriate dtype instead.\n",
      "  elif isinstance(data.columns, (pd.Int64Index, pd.RangeIndex)):\n",
      "C:\\Users\\jackl\\anaconda3\\lib\\site-packages\\xgboost\\data.py:250: FutureWarning: pandas.Int64Index is deprecated and will be removed from pandas in a future version. Use pandas.Index with the appropriate dtype instead.\n",
      "  elif isinstance(data.columns, (pd.Int64Index, pd.RangeIndex)):\n"
     ]
    },
    {
     "name": "stderr",
     "output_type": "stream",
     "text": [
      "C:\\Users\\jackl\\anaconda3\\lib\\site-packages\\xgboost\\data.py:250: FutureWarning: pandas.Int64Index is deprecated and will be removed from pandas in a future version. Use pandas.Index with the appropriate dtype instead.\n",
      "  elif isinstance(data.columns, (pd.Int64Index, pd.RangeIndex)):\n",
      "C:\\Users\\jackl\\anaconda3\\lib\\site-packages\\xgboost\\data.py:250: FutureWarning: pandas.Int64Index is deprecated and will be removed from pandas in a future version. Use pandas.Index with the appropriate dtype instead.\n",
      "  elif isinstance(data.columns, (pd.Int64Index, pd.RangeIndex)):\n",
      "C:\\Users\\jackl\\anaconda3\\lib\\site-packages\\xgboost\\data.py:250: FutureWarning: pandas.Int64Index is deprecated and will be removed from pandas in a future version. Use pandas.Index with the appropriate dtype instead.\n",
      "  elif isinstance(data.columns, (pd.Int64Index, pd.RangeIndex)):\n",
      "C:\\Users\\jackl\\anaconda3\\lib\\site-packages\\xgboost\\data.py:250: FutureWarning: pandas.Int64Index is deprecated and will be removed from pandas in a future version. Use pandas.Index with the appropriate dtype instead.\n",
      "  elif isinstance(data.columns, (pd.Int64Index, pd.RangeIndex)):\n",
      "C:\\Users\\jackl\\anaconda3\\lib\\site-packages\\xgboost\\data.py:250: FutureWarning: pandas.Int64Index is deprecated and will be removed from pandas in a future version. Use pandas.Index with the appropriate dtype instead.\n",
      "  elif isinstance(data.columns, (pd.Int64Index, pd.RangeIndex)):\n",
      "C:\\Users\\jackl\\anaconda3\\lib\\site-packages\\xgboost\\data.py:250: FutureWarning: pandas.Int64Index is deprecated and will be removed from pandas in a future version. Use pandas.Index with the appropriate dtype instead.\n",
      "  elif isinstance(data.columns, (pd.Int64Index, pd.RangeIndex)):\n",
      "C:\\Users\\jackl\\anaconda3\\lib\\site-packages\\xgboost\\data.py:250: FutureWarning: pandas.Int64Index is deprecated and will be removed from pandas in a future version. Use pandas.Index with the appropriate dtype instead.\n",
      "  elif isinstance(data.columns, (pd.Int64Index, pd.RangeIndex)):\n",
      "C:\\Users\\jackl\\anaconda3\\lib\\site-packages\\xgboost\\data.py:250: FutureWarning: pandas.Int64Index is deprecated and will be removed from pandas in a future version. Use pandas.Index with the appropriate dtype instead.\n",
      "  elif isinstance(data.columns, (pd.Int64Index, pd.RangeIndex)):\n",
      "C:\\Users\\jackl\\anaconda3\\lib\\site-packages\\xgboost\\data.py:250: FutureWarning: pandas.Int64Index is deprecated and will be removed from pandas in a future version. Use pandas.Index with the appropriate dtype instead.\n",
      "  elif isinstance(data.columns, (pd.Int64Index, pd.RangeIndex)):\n",
      "C:\\Users\\jackl\\anaconda3\\lib\\site-packages\\xgboost\\data.py:250: FutureWarning: pandas.Int64Index is deprecated and will be removed from pandas in a future version. Use pandas.Index with the appropriate dtype instead.\n",
      "  elif isinstance(data.columns, (pd.Int64Index, pd.RangeIndex)):\n",
      "C:\\Users\\jackl\\anaconda3\\lib\\site-packages\\xgboost\\data.py:250: FutureWarning: pandas.Int64Index is deprecated and will be removed from pandas in a future version. Use pandas.Index with the appropriate dtype instead.\n",
      "  elif isinstance(data.columns, (pd.Int64Index, pd.RangeIndex)):\n",
      "C:\\Users\\jackl\\anaconda3\\lib\\site-packages\\xgboost\\data.py:250: FutureWarning: pandas.Int64Index is deprecated and will be removed from pandas in a future version. Use pandas.Index with the appropriate dtype instead.\n",
      "  elif isinstance(data.columns, (pd.Int64Index, pd.RangeIndex)):\n",
      "C:\\Users\\jackl\\anaconda3\\lib\\site-packages\\xgboost\\data.py:250: FutureWarning: pandas.Int64Index is deprecated and will be removed from pandas in a future version. Use pandas.Index with the appropriate dtype instead.\n",
      "  elif isinstance(data.columns, (pd.Int64Index, pd.RangeIndex)):\n",
      "C:\\Users\\jackl\\anaconda3\\lib\\site-packages\\xgboost\\data.py:250: FutureWarning: pandas.Int64Index is deprecated and will be removed from pandas in a future version. Use pandas.Index with the appropriate dtype instead.\n",
      "  elif isinstance(data.columns, (pd.Int64Index, pd.RangeIndex)):\n",
      "C:\\Users\\jackl\\anaconda3\\lib\\site-packages\\xgboost\\data.py:250: FutureWarning: pandas.Int64Index is deprecated and will be removed from pandas in a future version. Use pandas.Index with the appropriate dtype instead.\n",
      "  elif isinstance(data.columns, (pd.Int64Index, pd.RangeIndex)):\n",
      "C:\\Users\\jackl\\anaconda3\\lib\\site-packages\\xgboost\\data.py:250: FutureWarning: pandas.Int64Index is deprecated and will be removed from pandas in a future version. Use pandas.Index with the appropriate dtype instead.\n",
      "  elif isinstance(data.columns, (pd.Int64Index, pd.RangeIndex)):\n",
      "C:\\Users\\jackl\\anaconda3\\lib\\site-packages\\xgboost\\data.py:250: FutureWarning: pandas.Int64Index is deprecated and will be removed from pandas in a future version. Use pandas.Index with the appropriate dtype instead.\n",
      "  elif isinstance(data.columns, (pd.Int64Index, pd.RangeIndex)):\n",
      "C:\\Users\\jackl\\anaconda3\\lib\\site-packages\\xgboost\\data.py:250: FutureWarning: pandas.Int64Index is deprecated and will be removed from pandas in a future version. Use pandas.Index with the appropriate dtype instead.\n",
      "  elif isinstance(data.columns, (pd.Int64Index, pd.RangeIndex)):\n",
      "C:\\Users\\jackl\\anaconda3\\lib\\site-packages\\xgboost\\data.py:250: FutureWarning: pandas.Int64Index is deprecated and will be removed from pandas in a future version. Use pandas.Index with the appropriate dtype instead.\n",
      "  elif isinstance(data.columns, (pd.Int64Index, pd.RangeIndex)):\n",
      "C:\\Users\\jackl\\anaconda3\\lib\\site-packages\\xgboost\\data.py:250: FutureWarning: pandas.Int64Index is deprecated and will be removed from pandas in a future version. Use pandas.Index with the appropriate dtype instead.\n",
      "  elif isinstance(data.columns, (pd.Int64Index, pd.RangeIndex)):\n",
      "C:\\Users\\jackl\\anaconda3\\lib\\site-packages\\xgboost\\data.py:250: FutureWarning: pandas.Int64Index is deprecated and will be removed from pandas in a future version. Use pandas.Index with the appropriate dtype instead.\n",
      "  elif isinstance(data.columns, (pd.Int64Index, pd.RangeIndex)):\n",
      "C:\\Users\\jackl\\anaconda3\\lib\\site-packages\\xgboost\\data.py:250: FutureWarning: pandas.Int64Index is deprecated and will be removed from pandas in a future version. Use pandas.Index with the appropriate dtype instead.\n",
      "  elif isinstance(data.columns, (pd.Int64Index, pd.RangeIndex)):\n",
      "C:\\Users\\jackl\\anaconda3\\lib\\site-packages\\xgboost\\data.py:250: FutureWarning: pandas.Int64Index is deprecated and will be removed from pandas in a future version. Use pandas.Index with the appropriate dtype instead.\n",
      "  elif isinstance(data.columns, (pd.Int64Index, pd.RangeIndex)):\n",
      "C:\\Users\\jackl\\anaconda3\\lib\\site-packages\\xgboost\\data.py:250: FutureWarning: pandas.Int64Index is deprecated and will be removed from pandas in a future version. Use pandas.Index with the appropriate dtype instead.\n",
      "  elif isinstance(data.columns, (pd.Int64Index, pd.RangeIndex)):\n",
      "C:\\Users\\jackl\\anaconda3\\lib\\site-packages\\xgboost\\data.py:250: FutureWarning: pandas.Int64Index is deprecated and will be removed from pandas in a future version. Use pandas.Index with the appropriate dtype instead.\n",
      "  elif isinstance(data.columns, (pd.Int64Index, pd.RangeIndex)):\n",
      "C:\\Users\\jackl\\anaconda3\\lib\\site-packages\\xgboost\\data.py:250: FutureWarning: pandas.Int64Index is deprecated and will be removed from pandas in a future version. Use pandas.Index with the appropriate dtype instead.\n",
      "  elif isinstance(data.columns, (pd.Int64Index, pd.RangeIndex)):\n",
      "C:\\Users\\jackl\\anaconda3\\lib\\site-packages\\xgboost\\data.py:250: FutureWarning: pandas.Int64Index is deprecated and will be removed from pandas in a future version. Use pandas.Index with the appropriate dtype instead.\n",
      "  elif isinstance(data.columns, (pd.Int64Index, pd.RangeIndex)):\n",
      "C:\\Users\\jackl\\anaconda3\\lib\\site-packages\\xgboost\\data.py:250: FutureWarning: pandas.Int64Index is deprecated and will be removed from pandas in a future version. Use pandas.Index with the appropriate dtype instead.\n",
      "  elif isinstance(data.columns, (pd.Int64Index, pd.RangeIndex)):\n",
      "C:\\Users\\jackl\\anaconda3\\lib\\site-packages\\xgboost\\data.py:250: FutureWarning: pandas.Int64Index is deprecated and will be removed from pandas in a future version. Use pandas.Index with the appropriate dtype instead.\n",
      "  elif isinstance(data.columns, (pd.Int64Index, pd.RangeIndex)):\n",
      "C:\\Users\\jackl\\anaconda3\\lib\\site-packages\\xgboost\\data.py:250: FutureWarning: pandas.Int64Index is deprecated and will be removed from pandas in a future version. Use pandas.Index with the appropriate dtype instead.\n",
      "  elif isinstance(data.columns, (pd.Int64Index, pd.RangeIndex)):\n",
      "C:\\Users\\jackl\\anaconda3\\lib\\site-packages\\xgboost\\data.py:250: FutureWarning: pandas.Int64Index is deprecated and will be removed from pandas in a future version. Use pandas.Index with the appropriate dtype instead.\n",
      "  elif isinstance(data.columns, (pd.Int64Index, pd.RangeIndex)):\n"
     ]
    },
    {
     "name": "stderr",
     "output_type": "stream",
     "text": [
      "C:\\Users\\jackl\\anaconda3\\lib\\site-packages\\xgboost\\data.py:250: FutureWarning: pandas.Int64Index is deprecated and will be removed from pandas in a future version. Use pandas.Index with the appropriate dtype instead.\n",
      "  elif isinstance(data.columns, (pd.Int64Index, pd.RangeIndex)):\n",
      "C:\\Users\\jackl\\anaconda3\\lib\\site-packages\\xgboost\\data.py:250: FutureWarning: pandas.Int64Index is deprecated and will be removed from pandas in a future version. Use pandas.Index with the appropriate dtype instead.\n",
      "  elif isinstance(data.columns, (pd.Int64Index, pd.RangeIndex)):\n",
      "C:\\Users\\jackl\\anaconda3\\lib\\site-packages\\xgboost\\data.py:250: FutureWarning: pandas.Int64Index is deprecated and will be removed from pandas in a future version. Use pandas.Index with the appropriate dtype instead.\n",
      "  elif isinstance(data.columns, (pd.Int64Index, pd.RangeIndex)):\n",
      "C:\\Users\\jackl\\anaconda3\\lib\\site-packages\\xgboost\\data.py:250: FutureWarning: pandas.Int64Index is deprecated and will be removed from pandas in a future version. Use pandas.Index with the appropriate dtype instead.\n",
      "  elif isinstance(data.columns, (pd.Int64Index, pd.RangeIndex)):\n",
      "C:\\Users\\jackl\\anaconda3\\lib\\site-packages\\xgboost\\data.py:250: FutureWarning: pandas.Int64Index is deprecated and will be removed from pandas in a future version. Use pandas.Index with the appropriate dtype instead.\n",
      "  elif isinstance(data.columns, (pd.Int64Index, pd.RangeIndex)):\n",
      "C:\\Users\\jackl\\anaconda3\\lib\\site-packages\\xgboost\\data.py:250: FutureWarning: pandas.Int64Index is deprecated and will be removed from pandas in a future version. Use pandas.Index with the appropriate dtype instead.\n",
      "  elif isinstance(data.columns, (pd.Int64Index, pd.RangeIndex)):\n",
      "C:\\Users\\jackl\\anaconda3\\lib\\site-packages\\xgboost\\data.py:250: FutureWarning: pandas.Int64Index is deprecated and will be removed from pandas in a future version. Use pandas.Index with the appropriate dtype instead.\n",
      "  elif isinstance(data.columns, (pd.Int64Index, pd.RangeIndex)):\n",
      "C:\\Users\\jackl\\anaconda3\\lib\\site-packages\\xgboost\\data.py:250: FutureWarning: pandas.Int64Index is deprecated and will be removed from pandas in a future version. Use pandas.Index with the appropriate dtype instead.\n",
      "  elif isinstance(data.columns, (pd.Int64Index, pd.RangeIndex)):\n",
      "C:\\Users\\jackl\\anaconda3\\lib\\site-packages\\xgboost\\data.py:250: FutureWarning: pandas.Int64Index is deprecated and will be removed from pandas in a future version. Use pandas.Index with the appropriate dtype instead.\n",
      "  elif isinstance(data.columns, (pd.Int64Index, pd.RangeIndex)):\n",
      "C:\\Users\\jackl\\anaconda3\\lib\\site-packages\\xgboost\\data.py:250: FutureWarning: pandas.Int64Index is deprecated and will be removed from pandas in a future version. Use pandas.Index with the appropriate dtype instead.\n",
      "  elif isinstance(data.columns, (pd.Int64Index, pd.RangeIndex)):\n",
      "C:\\Users\\jackl\\anaconda3\\lib\\site-packages\\xgboost\\data.py:250: FutureWarning: pandas.Int64Index is deprecated and will be removed from pandas in a future version. Use pandas.Index with the appropriate dtype instead.\n",
      "  elif isinstance(data.columns, (pd.Int64Index, pd.RangeIndex)):\n",
      "C:\\Users\\jackl\\anaconda3\\lib\\site-packages\\xgboost\\data.py:250: FutureWarning: pandas.Int64Index is deprecated and will be removed from pandas in a future version. Use pandas.Index with the appropriate dtype instead.\n",
      "  elif isinstance(data.columns, (pd.Int64Index, pd.RangeIndex)):\n",
      "C:\\Users\\jackl\\anaconda3\\lib\\site-packages\\xgboost\\data.py:250: FutureWarning: pandas.Int64Index is deprecated and will be removed from pandas in a future version. Use pandas.Index with the appropriate dtype instead.\n",
      "  elif isinstance(data.columns, (pd.Int64Index, pd.RangeIndex)):\n",
      "C:\\Users\\jackl\\anaconda3\\lib\\site-packages\\xgboost\\data.py:250: FutureWarning: pandas.Int64Index is deprecated and will be removed from pandas in a future version. Use pandas.Index with the appropriate dtype instead.\n",
      "  elif isinstance(data.columns, (pd.Int64Index, pd.RangeIndex)):\n",
      "C:\\Users\\jackl\\anaconda3\\lib\\site-packages\\xgboost\\data.py:250: FutureWarning: pandas.Int64Index is deprecated and will be removed from pandas in a future version. Use pandas.Index with the appropriate dtype instead.\n",
      "  elif isinstance(data.columns, (pd.Int64Index, pd.RangeIndex)):\n",
      "C:\\Users\\jackl\\anaconda3\\lib\\site-packages\\xgboost\\data.py:250: FutureWarning: pandas.Int64Index is deprecated and will be removed from pandas in a future version. Use pandas.Index with the appropriate dtype instead.\n",
      "  elif isinstance(data.columns, (pd.Int64Index, pd.RangeIndex)):\n",
      "C:\\Users\\jackl\\anaconda3\\lib\\site-packages\\xgboost\\data.py:250: FutureWarning: pandas.Int64Index is deprecated and will be removed from pandas in a future version. Use pandas.Index with the appropriate dtype instead.\n",
      "  elif isinstance(data.columns, (pd.Int64Index, pd.RangeIndex)):\n",
      "C:\\Users\\jackl\\anaconda3\\lib\\site-packages\\xgboost\\data.py:250: FutureWarning: pandas.Int64Index is deprecated and will be removed from pandas in a future version. Use pandas.Index with the appropriate dtype instead.\n",
      "  elif isinstance(data.columns, (pd.Int64Index, pd.RangeIndex)):\n",
      "C:\\Users\\jackl\\anaconda3\\lib\\site-packages\\xgboost\\data.py:250: FutureWarning: pandas.Int64Index is deprecated and will be removed from pandas in a future version. Use pandas.Index with the appropriate dtype instead.\n",
      "  elif isinstance(data.columns, (pd.Int64Index, pd.RangeIndex)):\n",
      "C:\\Users\\jackl\\anaconda3\\lib\\site-packages\\xgboost\\data.py:250: FutureWarning: pandas.Int64Index is deprecated and will be removed from pandas in a future version. Use pandas.Index with the appropriate dtype instead.\n",
      "  elif isinstance(data.columns, (pd.Int64Index, pd.RangeIndex)):\n",
      "C:\\Users\\jackl\\anaconda3\\lib\\site-packages\\xgboost\\data.py:250: FutureWarning: pandas.Int64Index is deprecated and will be removed from pandas in a future version. Use pandas.Index with the appropriate dtype instead.\n",
      "  elif isinstance(data.columns, (pd.Int64Index, pd.RangeIndex)):\n",
      "C:\\Users\\jackl\\anaconda3\\lib\\site-packages\\xgboost\\data.py:250: FutureWarning: pandas.Int64Index is deprecated and will be removed from pandas in a future version. Use pandas.Index with the appropriate dtype instead.\n",
      "  elif isinstance(data.columns, (pd.Int64Index, pd.RangeIndex)):\n",
      "C:\\Users\\jackl\\anaconda3\\lib\\site-packages\\xgboost\\data.py:250: FutureWarning: pandas.Int64Index is deprecated and will be removed from pandas in a future version. Use pandas.Index with the appropriate dtype instead.\n",
      "  elif isinstance(data.columns, (pd.Int64Index, pd.RangeIndex)):\n",
      "C:\\Users\\jackl\\anaconda3\\lib\\site-packages\\xgboost\\data.py:250: FutureWarning: pandas.Int64Index is deprecated and will be removed from pandas in a future version. Use pandas.Index with the appropriate dtype instead.\n",
      "  elif isinstance(data.columns, (pd.Int64Index, pd.RangeIndex)):\n",
      "C:\\Users\\jackl\\anaconda3\\lib\\site-packages\\xgboost\\data.py:250: FutureWarning: pandas.Int64Index is deprecated and will be removed from pandas in a future version. Use pandas.Index with the appropriate dtype instead.\n",
      "  elif isinstance(data.columns, (pd.Int64Index, pd.RangeIndex)):\n",
      "C:\\Users\\jackl\\anaconda3\\lib\\site-packages\\xgboost\\data.py:250: FutureWarning: pandas.Int64Index is deprecated and will be removed from pandas in a future version. Use pandas.Index with the appropriate dtype instead.\n",
      "  elif isinstance(data.columns, (pd.Int64Index, pd.RangeIndex)):\n",
      "C:\\Users\\jackl\\anaconda3\\lib\\site-packages\\xgboost\\data.py:250: FutureWarning: pandas.Int64Index is deprecated and will be removed from pandas in a future version. Use pandas.Index with the appropriate dtype instead.\n",
      "  elif isinstance(data.columns, (pd.Int64Index, pd.RangeIndex)):\n",
      "C:\\Users\\jackl\\anaconda3\\lib\\site-packages\\xgboost\\data.py:250: FutureWarning: pandas.Int64Index is deprecated and will be removed from pandas in a future version. Use pandas.Index with the appropriate dtype instead.\n",
      "  elif isinstance(data.columns, (pd.Int64Index, pd.RangeIndex)):\n",
      "C:\\Users\\jackl\\anaconda3\\lib\\site-packages\\xgboost\\data.py:250: FutureWarning: pandas.Int64Index is deprecated and will be removed from pandas in a future version. Use pandas.Index with the appropriate dtype instead.\n",
      "  elif isinstance(data.columns, (pd.Int64Index, pd.RangeIndex)):\n",
      "C:\\Users\\jackl\\anaconda3\\lib\\site-packages\\xgboost\\data.py:250: FutureWarning: pandas.Int64Index is deprecated and will be removed from pandas in a future version. Use pandas.Index with the appropriate dtype instead.\n",
      "  elif isinstance(data.columns, (pd.Int64Index, pd.RangeIndex)):\n",
      "C:\\Users\\jackl\\anaconda3\\lib\\site-packages\\xgboost\\data.py:250: FutureWarning: pandas.Int64Index is deprecated and will be removed from pandas in a future version. Use pandas.Index with the appropriate dtype instead.\n",
      "  elif isinstance(data.columns, (pd.Int64Index, pd.RangeIndex)):\n"
     ]
    },
    {
     "name": "stderr",
     "output_type": "stream",
     "text": [
      "C:\\Users\\jackl\\anaconda3\\lib\\site-packages\\xgboost\\data.py:250: FutureWarning: pandas.Int64Index is deprecated and will be removed from pandas in a future version. Use pandas.Index with the appropriate dtype instead.\n",
      "  elif isinstance(data.columns, (pd.Int64Index, pd.RangeIndex)):\n",
      "C:\\Users\\jackl\\anaconda3\\lib\\site-packages\\xgboost\\data.py:250: FutureWarning: pandas.Int64Index is deprecated and will be removed from pandas in a future version. Use pandas.Index with the appropriate dtype instead.\n",
      "  elif isinstance(data.columns, (pd.Int64Index, pd.RangeIndex)):\n",
      "C:\\Users\\jackl\\anaconda3\\lib\\site-packages\\xgboost\\data.py:250: FutureWarning: pandas.Int64Index is deprecated and will be removed from pandas in a future version. Use pandas.Index with the appropriate dtype instead.\n",
      "  elif isinstance(data.columns, (pd.Int64Index, pd.RangeIndex)):\n",
      "C:\\Users\\jackl\\anaconda3\\lib\\site-packages\\xgboost\\data.py:250: FutureWarning: pandas.Int64Index is deprecated and will be removed from pandas in a future version. Use pandas.Index with the appropriate dtype instead.\n",
      "  elif isinstance(data.columns, (pd.Int64Index, pd.RangeIndex)):\n",
      "C:\\Users\\jackl\\anaconda3\\lib\\site-packages\\xgboost\\data.py:250: FutureWarning: pandas.Int64Index is deprecated and will be removed from pandas in a future version. Use pandas.Index with the appropriate dtype instead.\n",
      "  elif isinstance(data.columns, (pd.Int64Index, pd.RangeIndex)):\n",
      "C:\\Users\\jackl\\anaconda3\\lib\\site-packages\\xgboost\\data.py:250: FutureWarning: pandas.Int64Index is deprecated and will be removed from pandas in a future version. Use pandas.Index with the appropriate dtype instead.\n",
      "  elif isinstance(data.columns, (pd.Int64Index, pd.RangeIndex)):\n",
      "C:\\Users\\jackl\\anaconda3\\lib\\site-packages\\xgboost\\data.py:250: FutureWarning: pandas.Int64Index is deprecated and will be removed from pandas in a future version. Use pandas.Index with the appropriate dtype instead.\n",
      "  elif isinstance(data.columns, (pd.Int64Index, pd.RangeIndex)):\n",
      "C:\\Users\\jackl\\anaconda3\\lib\\site-packages\\xgboost\\data.py:250: FutureWarning: pandas.Int64Index is deprecated and will be removed from pandas in a future version. Use pandas.Index with the appropriate dtype instead.\n",
      "  elif isinstance(data.columns, (pd.Int64Index, pd.RangeIndex)):\n",
      "C:\\Users\\jackl\\anaconda3\\lib\\site-packages\\xgboost\\data.py:250: FutureWarning: pandas.Int64Index is deprecated and will be removed from pandas in a future version. Use pandas.Index with the appropriate dtype instead.\n",
      "  elif isinstance(data.columns, (pd.Int64Index, pd.RangeIndex)):\n",
      "C:\\Users\\jackl\\anaconda3\\lib\\site-packages\\xgboost\\data.py:250: FutureWarning: pandas.Int64Index is deprecated and will be removed from pandas in a future version. Use pandas.Index with the appropriate dtype instead.\n",
      "  elif isinstance(data.columns, (pd.Int64Index, pd.RangeIndex)):\n",
      "C:\\Users\\jackl\\anaconda3\\lib\\site-packages\\xgboost\\data.py:250: FutureWarning: pandas.Int64Index is deprecated and will be removed from pandas in a future version. Use pandas.Index with the appropriate dtype instead.\n",
      "  elif isinstance(data.columns, (pd.Int64Index, pd.RangeIndex)):\n",
      "C:\\Users\\jackl\\anaconda3\\lib\\site-packages\\xgboost\\data.py:250: FutureWarning: pandas.Int64Index is deprecated and will be removed from pandas in a future version. Use pandas.Index with the appropriate dtype instead.\n",
      "  elif isinstance(data.columns, (pd.Int64Index, pd.RangeIndex)):\n",
      "C:\\Users\\jackl\\anaconda3\\lib\\site-packages\\xgboost\\data.py:250: FutureWarning: pandas.Int64Index is deprecated and will be removed from pandas in a future version. Use pandas.Index with the appropriate dtype instead.\n",
      "  elif isinstance(data.columns, (pd.Int64Index, pd.RangeIndex)):\n",
      "C:\\Users\\jackl\\anaconda3\\lib\\site-packages\\xgboost\\data.py:250: FutureWarning: pandas.Int64Index is deprecated and will be removed from pandas in a future version. Use pandas.Index with the appropriate dtype instead.\n",
      "  elif isinstance(data.columns, (pd.Int64Index, pd.RangeIndex)):\n",
      "C:\\Users\\jackl\\anaconda3\\lib\\site-packages\\xgboost\\data.py:250: FutureWarning: pandas.Int64Index is deprecated and will be removed from pandas in a future version. Use pandas.Index with the appropriate dtype instead.\n",
      "  elif isinstance(data.columns, (pd.Int64Index, pd.RangeIndex)):\n",
      "C:\\Users\\jackl\\anaconda3\\lib\\site-packages\\xgboost\\data.py:250: FutureWarning: pandas.Int64Index is deprecated and will be removed from pandas in a future version. Use pandas.Index with the appropriate dtype instead.\n",
      "  elif isinstance(data.columns, (pd.Int64Index, pd.RangeIndex)):\n",
      "C:\\Users\\jackl\\anaconda3\\lib\\site-packages\\xgboost\\data.py:250: FutureWarning: pandas.Int64Index is deprecated and will be removed from pandas in a future version. Use pandas.Index with the appropriate dtype instead.\n",
      "  elif isinstance(data.columns, (pd.Int64Index, pd.RangeIndex)):\n",
      "C:\\Users\\jackl\\anaconda3\\lib\\site-packages\\xgboost\\data.py:250: FutureWarning: pandas.Int64Index is deprecated and will be removed from pandas in a future version. Use pandas.Index with the appropriate dtype instead.\n",
      "  elif isinstance(data.columns, (pd.Int64Index, pd.RangeIndex)):\n",
      "C:\\Users\\jackl\\anaconda3\\lib\\site-packages\\xgboost\\data.py:250: FutureWarning: pandas.Int64Index is deprecated and will be removed from pandas in a future version. Use pandas.Index with the appropriate dtype instead.\n",
      "  elif isinstance(data.columns, (pd.Int64Index, pd.RangeIndex)):\n",
      "C:\\Users\\jackl\\anaconda3\\lib\\site-packages\\xgboost\\data.py:250: FutureWarning: pandas.Int64Index is deprecated and will be removed from pandas in a future version. Use pandas.Index with the appropriate dtype instead.\n",
      "  elif isinstance(data.columns, (pd.Int64Index, pd.RangeIndex)):\n",
      "C:\\Users\\jackl\\anaconda3\\lib\\site-packages\\xgboost\\data.py:250: FutureWarning: pandas.Int64Index is deprecated and will be removed from pandas in a future version. Use pandas.Index with the appropriate dtype instead.\n",
      "  elif isinstance(data.columns, (pd.Int64Index, pd.RangeIndex)):\n",
      "C:\\Users\\jackl\\anaconda3\\lib\\site-packages\\xgboost\\data.py:250: FutureWarning: pandas.Int64Index is deprecated and will be removed from pandas in a future version. Use pandas.Index with the appropriate dtype instead.\n",
      "  elif isinstance(data.columns, (pd.Int64Index, pd.RangeIndex)):\n",
      "C:\\Users\\jackl\\anaconda3\\lib\\site-packages\\xgboost\\data.py:250: FutureWarning: pandas.Int64Index is deprecated and will be removed from pandas in a future version. Use pandas.Index with the appropriate dtype instead.\n",
      "  elif isinstance(data.columns, (pd.Int64Index, pd.RangeIndex)):\n",
      "C:\\Users\\jackl\\anaconda3\\lib\\site-packages\\xgboost\\data.py:250: FutureWarning: pandas.Int64Index is deprecated and will be removed from pandas in a future version. Use pandas.Index with the appropriate dtype instead.\n",
      "  elif isinstance(data.columns, (pd.Int64Index, pd.RangeIndex)):\n",
      "C:\\Users\\jackl\\anaconda3\\lib\\site-packages\\xgboost\\data.py:250: FutureWarning: pandas.Int64Index is deprecated and will be removed from pandas in a future version. Use pandas.Index with the appropriate dtype instead.\n",
      "  elif isinstance(data.columns, (pd.Int64Index, pd.RangeIndex)):\n",
      "C:\\Users\\jackl\\anaconda3\\lib\\site-packages\\xgboost\\data.py:250: FutureWarning: pandas.Int64Index is deprecated and will be removed from pandas in a future version. Use pandas.Index with the appropriate dtype instead.\n",
      "  elif isinstance(data.columns, (pd.Int64Index, pd.RangeIndex)):\n",
      "C:\\Users\\jackl\\anaconda3\\lib\\site-packages\\xgboost\\data.py:250: FutureWarning: pandas.Int64Index is deprecated and will be removed from pandas in a future version. Use pandas.Index with the appropriate dtype instead.\n",
      "  elif isinstance(data.columns, (pd.Int64Index, pd.RangeIndex)):\n",
      "C:\\Users\\jackl\\anaconda3\\lib\\site-packages\\xgboost\\data.py:250: FutureWarning: pandas.Int64Index is deprecated and will be removed from pandas in a future version. Use pandas.Index with the appropriate dtype instead.\n",
      "  elif isinstance(data.columns, (pd.Int64Index, pd.RangeIndex)):\n",
      "C:\\Users\\jackl\\anaconda3\\lib\\site-packages\\xgboost\\data.py:250: FutureWarning: pandas.Int64Index is deprecated and will be removed from pandas in a future version. Use pandas.Index with the appropriate dtype instead.\n",
      "  elif isinstance(data.columns, (pd.Int64Index, pd.RangeIndex)):\n",
      "C:\\Users\\jackl\\anaconda3\\lib\\site-packages\\xgboost\\data.py:250: FutureWarning: pandas.Int64Index is deprecated and will be removed from pandas in a future version. Use pandas.Index with the appropriate dtype instead.\n",
      "  elif isinstance(data.columns, (pd.Int64Index, pd.RangeIndex)):\n"
     ]
    },
    {
     "name": "stderr",
     "output_type": "stream",
     "text": [
      "C:\\Users\\jackl\\anaconda3\\lib\\site-packages\\xgboost\\data.py:250: FutureWarning: pandas.Int64Index is deprecated and will be removed from pandas in a future version. Use pandas.Index with the appropriate dtype instead.\n",
      "  elif isinstance(data.columns, (pd.Int64Index, pd.RangeIndex)):\n",
      "C:\\Users\\jackl\\anaconda3\\lib\\site-packages\\xgboost\\data.py:250: FutureWarning: pandas.Int64Index is deprecated and will be removed from pandas in a future version. Use pandas.Index with the appropriate dtype instead.\n",
      "  elif isinstance(data.columns, (pd.Int64Index, pd.RangeIndex)):\n",
      "C:\\Users\\jackl\\anaconda3\\lib\\site-packages\\xgboost\\data.py:250: FutureWarning: pandas.Int64Index is deprecated and will be removed from pandas in a future version. Use pandas.Index with the appropriate dtype instead.\n",
      "  elif isinstance(data.columns, (pd.Int64Index, pd.RangeIndex)):\n",
      "C:\\Users\\jackl\\anaconda3\\lib\\site-packages\\xgboost\\data.py:250: FutureWarning: pandas.Int64Index is deprecated and will be removed from pandas in a future version. Use pandas.Index with the appropriate dtype instead.\n",
      "  elif isinstance(data.columns, (pd.Int64Index, pd.RangeIndex)):\n",
      "C:\\Users\\jackl\\anaconda3\\lib\\site-packages\\xgboost\\data.py:250: FutureWarning: pandas.Int64Index is deprecated and will be removed from pandas in a future version. Use pandas.Index with the appropriate dtype instead.\n",
      "  elif isinstance(data.columns, (pd.Int64Index, pd.RangeIndex)):\n",
      "C:\\Users\\jackl\\anaconda3\\lib\\site-packages\\xgboost\\data.py:250: FutureWarning: pandas.Int64Index is deprecated and will be removed from pandas in a future version. Use pandas.Index with the appropriate dtype instead.\n",
      "  elif isinstance(data.columns, (pd.Int64Index, pd.RangeIndex)):\n",
      "C:\\Users\\jackl\\anaconda3\\lib\\site-packages\\xgboost\\data.py:250: FutureWarning: pandas.Int64Index is deprecated and will be removed from pandas in a future version. Use pandas.Index with the appropriate dtype instead.\n",
      "  elif isinstance(data.columns, (pd.Int64Index, pd.RangeIndex)):\n",
      "C:\\Users\\jackl\\anaconda3\\lib\\site-packages\\xgboost\\data.py:250: FutureWarning: pandas.Int64Index is deprecated and will be removed from pandas in a future version. Use pandas.Index with the appropriate dtype instead.\n",
      "  elif isinstance(data.columns, (pd.Int64Index, pd.RangeIndex)):\n",
      "C:\\Users\\jackl\\anaconda3\\lib\\site-packages\\xgboost\\data.py:250: FutureWarning: pandas.Int64Index is deprecated and will be removed from pandas in a future version. Use pandas.Index with the appropriate dtype instead.\n",
      "  elif isinstance(data.columns, (pd.Int64Index, pd.RangeIndex)):\n",
      "C:\\Users\\jackl\\anaconda3\\lib\\site-packages\\xgboost\\data.py:250: FutureWarning: pandas.Int64Index is deprecated and will be removed from pandas in a future version. Use pandas.Index with the appropriate dtype instead.\n",
      "  elif isinstance(data.columns, (pd.Int64Index, pd.RangeIndex)):\n",
      "C:\\Users\\jackl\\anaconda3\\lib\\site-packages\\xgboost\\data.py:250: FutureWarning: pandas.Int64Index is deprecated and will be removed from pandas in a future version. Use pandas.Index with the appropriate dtype instead.\n",
      "  elif isinstance(data.columns, (pd.Int64Index, pd.RangeIndex)):\n",
      "C:\\Users\\jackl\\anaconda3\\lib\\site-packages\\xgboost\\data.py:250: FutureWarning: pandas.Int64Index is deprecated and will be removed from pandas in a future version. Use pandas.Index with the appropriate dtype instead.\n",
      "  elif isinstance(data.columns, (pd.Int64Index, pd.RangeIndex)):\n",
      "C:\\Users\\jackl\\anaconda3\\lib\\site-packages\\xgboost\\data.py:250: FutureWarning: pandas.Int64Index is deprecated and will be removed from pandas in a future version. Use pandas.Index with the appropriate dtype instead.\n",
      "  elif isinstance(data.columns, (pd.Int64Index, pd.RangeIndex)):\n",
      "C:\\Users\\jackl\\anaconda3\\lib\\site-packages\\xgboost\\data.py:250: FutureWarning: pandas.Int64Index is deprecated and will be removed from pandas in a future version. Use pandas.Index with the appropriate dtype instead.\n",
      "  elif isinstance(data.columns, (pd.Int64Index, pd.RangeIndex)):\n",
      "C:\\Users\\jackl\\anaconda3\\lib\\site-packages\\xgboost\\data.py:250: FutureWarning: pandas.Int64Index is deprecated and will be removed from pandas in a future version. Use pandas.Index with the appropriate dtype instead.\n",
      "  elif isinstance(data.columns, (pd.Int64Index, pd.RangeIndex)):\n",
      "C:\\Users\\jackl\\anaconda3\\lib\\site-packages\\xgboost\\data.py:250: FutureWarning: pandas.Int64Index is deprecated and will be removed from pandas in a future version. Use pandas.Index with the appropriate dtype instead.\n",
      "  elif isinstance(data.columns, (pd.Int64Index, pd.RangeIndex)):\n",
      "C:\\Users\\jackl\\anaconda3\\lib\\site-packages\\xgboost\\data.py:250: FutureWarning: pandas.Int64Index is deprecated and will be removed from pandas in a future version. Use pandas.Index with the appropriate dtype instead.\n",
      "  elif isinstance(data.columns, (pd.Int64Index, pd.RangeIndex)):\n",
      "C:\\Users\\jackl\\anaconda3\\lib\\site-packages\\xgboost\\data.py:250: FutureWarning: pandas.Int64Index is deprecated and will be removed from pandas in a future version. Use pandas.Index with the appropriate dtype instead.\n",
      "  elif isinstance(data.columns, (pd.Int64Index, pd.RangeIndex)):\n",
      "C:\\Users\\jackl\\anaconda3\\lib\\site-packages\\xgboost\\data.py:250: FutureWarning: pandas.Int64Index is deprecated and will be removed from pandas in a future version. Use pandas.Index with the appropriate dtype instead.\n",
      "  elif isinstance(data.columns, (pd.Int64Index, pd.RangeIndex)):\n",
      "C:\\Users\\jackl\\anaconda3\\lib\\site-packages\\xgboost\\data.py:250: FutureWarning: pandas.Int64Index is deprecated and will be removed from pandas in a future version. Use pandas.Index with the appropriate dtype instead.\n",
      "  elif isinstance(data.columns, (pd.Int64Index, pd.RangeIndex)):\n",
      "C:\\Users\\jackl\\anaconda3\\lib\\site-packages\\xgboost\\data.py:250: FutureWarning: pandas.Int64Index is deprecated and will be removed from pandas in a future version. Use pandas.Index with the appropriate dtype instead.\n",
      "  elif isinstance(data.columns, (pd.Int64Index, pd.RangeIndex)):\n",
      "C:\\Users\\jackl\\anaconda3\\lib\\site-packages\\xgboost\\data.py:250: FutureWarning: pandas.Int64Index is deprecated and will be removed from pandas in a future version. Use pandas.Index with the appropriate dtype instead.\n",
      "  elif isinstance(data.columns, (pd.Int64Index, pd.RangeIndex)):\n",
      "C:\\Users\\jackl\\anaconda3\\lib\\site-packages\\xgboost\\data.py:250: FutureWarning: pandas.Int64Index is deprecated and will be removed from pandas in a future version. Use pandas.Index with the appropriate dtype instead.\n",
      "  elif isinstance(data.columns, (pd.Int64Index, pd.RangeIndex)):\n",
      "C:\\Users\\jackl\\anaconda3\\lib\\site-packages\\xgboost\\data.py:250: FutureWarning: pandas.Int64Index is deprecated and will be removed from pandas in a future version. Use pandas.Index with the appropriate dtype instead.\n",
      "  elif isinstance(data.columns, (pd.Int64Index, pd.RangeIndex)):\n",
      "C:\\Users\\jackl\\anaconda3\\lib\\site-packages\\xgboost\\data.py:250: FutureWarning: pandas.Int64Index is deprecated and will be removed from pandas in a future version. Use pandas.Index with the appropriate dtype instead.\n",
      "  elif isinstance(data.columns, (pd.Int64Index, pd.RangeIndex)):\n",
      "C:\\Users\\jackl\\anaconda3\\lib\\site-packages\\xgboost\\data.py:250: FutureWarning: pandas.Int64Index is deprecated and will be removed from pandas in a future version. Use pandas.Index with the appropriate dtype instead.\n",
      "  elif isinstance(data.columns, (pd.Int64Index, pd.RangeIndex)):\n",
      "C:\\Users\\jackl\\anaconda3\\lib\\site-packages\\xgboost\\data.py:250: FutureWarning: pandas.Int64Index is deprecated and will be removed from pandas in a future version. Use pandas.Index with the appropriate dtype instead.\n",
      "  elif isinstance(data.columns, (pd.Int64Index, pd.RangeIndex)):\n",
      "C:\\Users\\jackl\\anaconda3\\lib\\site-packages\\xgboost\\data.py:250: FutureWarning: pandas.Int64Index is deprecated and will be removed from pandas in a future version. Use pandas.Index with the appropriate dtype instead.\n",
      "  elif isinstance(data.columns, (pd.Int64Index, pd.RangeIndex)):\n",
      "C:\\Users\\jackl\\anaconda3\\lib\\site-packages\\xgboost\\data.py:250: FutureWarning: pandas.Int64Index is deprecated and will be removed from pandas in a future version. Use pandas.Index with the appropriate dtype instead.\n",
      "  elif isinstance(data.columns, (pd.Int64Index, pd.RangeIndex)):\n",
      "C:\\Users\\jackl\\anaconda3\\lib\\site-packages\\xgboost\\data.py:250: FutureWarning: pandas.Int64Index is deprecated and will be removed from pandas in a future version. Use pandas.Index with the appropriate dtype instead.\n",
      "  elif isinstance(data.columns, (pd.Int64Index, pd.RangeIndex)):\n",
      "C:\\Users\\jackl\\anaconda3\\lib\\site-packages\\xgboost\\data.py:250: FutureWarning: pandas.Int64Index is deprecated and will be removed from pandas in a future version. Use pandas.Index with the appropriate dtype instead.\n",
      "  elif isinstance(data.columns, (pd.Int64Index, pd.RangeIndex)):\n"
     ]
    },
    {
     "name": "stderr",
     "output_type": "stream",
     "text": [
      "C:\\Users\\jackl\\anaconda3\\lib\\site-packages\\xgboost\\data.py:250: FutureWarning: pandas.Int64Index is deprecated and will be removed from pandas in a future version. Use pandas.Index with the appropriate dtype instead.\n",
      "  elif isinstance(data.columns, (pd.Int64Index, pd.RangeIndex)):\n",
      "C:\\Users\\jackl\\anaconda3\\lib\\site-packages\\xgboost\\data.py:250: FutureWarning: pandas.Int64Index is deprecated and will be removed from pandas in a future version. Use pandas.Index with the appropriate dtype instead.\n",
      "  elif isinstance(data.columns, (pd.Int64Index, pd.RangeIndex)):\n",
      "C:\\Users\\jackl\\anaconda3\\lib\\site-packages\\xgboost\\data.py:250: FutureWarning: pandas.Int64Index is deprecated and will be removed from pandas in a future version. Use pandas.Index with the appropriate dtype instead.\n",
      "  elif isinstance(data.columns, (pd.Int64Index, pd.RangeIndex)):\n",
      "C:\\Users\\jackl\\anaconda3\\lib\\site-packages\\xgboost\\data.py:250: FutureWarning: pandas.Int64Index is deprecated and will be removed from pandas in a future version. Use pandas.Index with the appropriate dtype instead.\n",
      "  elif isinstance(data.columns, (pd.Int64Index, pd.RangeIndex)):\n",
      "C:\\Users\\jackl\\anaconda3\\lib\\site-packages\\xgboost\\data.py:250: FutureWarning: pandas.Int64Index is deprecated and will be removed from pandas in a future version. Use pandas.Index with the appropriate dtype instead.\n",
      "  elif isinstance(data.columns, (pd.Int64Index, pd.RangeIndex)):\n",
      "C:\\Users\\jackl\\anaconda3\\lib\\site-packages\\xgboost\\data.py:250: FutureWarning: pandas.Int64Index is deprecated and will be removed from pandas in a future version. Use pandas.Index with the appropriate dtype instead.\n",
      "  elif isinstance(data.columns, (pd.Int64Index, pd.RangeIndex)):\n",
      "C:\\Users\\jackl\\anaconda3\\lib\\site-packages\\xgboost\\data.py:250: FutureWarning: pandas.Int64Index is deprecated and will be removed from pandas in a future version. Use pandas.Index with the appropriate dtype instead.\n",
      "  elif isinstance(data.columns, (pd.Int64Index, pd.RangeIndex)):\n",
      "C:\\Users\\jackl\\anaconda3\\lib\\site-packages\\xgboost\\data.py:250: FutureWarning: pandas.Int64Index is deprecated and will be removed from pandas in a future version. Use pandas.Index with the appropriate dtype instead.\n",
      "  elif isinstance(data.columns, (pd.Int64Index, pd.RangeIndex)):\n",
      "C:\\Users\\jackl\\anaconda3\\lib\\site-packages\\xgboost\\data.py:250: FutureWarning: pandas.Int64Index is deprecated and will be removed from pandas in a future version. Use pandas.Index with the appropriate dtype instead.\n",
      "  elif isinstance(data.columns, (pd.Int64Index, pd.RangeIndex)):\n",
      "C:\\Users\\jackl\\anaconda3\\lib\\site-packages\\xgboost\\data.py:250: FutureWarning: pandas.Int64Index is deprecated and will be removed from pandas in a future version. Use pandas.Index with the appropriate dtype instead.\n",
      "  elif isinstance(data.columns, (pd.Int64Index, pd.RangeIndex)):\n",
      "C:\\Users\\jackl\\anaconda3\\lib\\site-packages\\xgboost\\data.py:250: FutureWarning: pandas.Int64Index is deprecated and will be removed from pandas in a future version. Use pandas.Index with the appropriate dtype instead.\n",
      "  elif isinstance(data.columns, (pd.Int64Index, pd.RangeIndex)):\n",
      "C:\\Users\\jackl\\anaconda3\\lib\\site-packages\\xgboost\\data.py:250: FutureWarning: pandas.Int64Index is deprecated and will be removed from pandas in a future version. Use pandas.Index with the appropriate dtype instead.\n",
      "  elif isinstance(data.columns, (pd.Int64Index, pd.RangeIndex)):\n",
      "C:\\Users\\jackl\\anaconda3\\lib\\site-packages\\xgboost\\data.py:250: FutureWarning: pandas.Int64Index is deprecated and will be removed from pandas in a future version. Use pandas.Index with the appropriate dtype instead.\n",
      "  elif isinstance(data.columns, (pd.Int64Index, pd.RangeIndex)):\n",
      "C:\\Users\\jackl\\anaconda3\\lib\\site-packages\\xgboost\\data.py:250: FutureWarning: pandas.Int64Index is deprecated and will be removed from pandas in a future version. Use pandas.Index with the appropriate dtype instead.\n",
      "  elif isinstance(data.columns, (pd.Int64Index, pd.RangeIndex)):\n",
      "C:\\Users\\jackl\\anaconda3\\lib\\site-packages\\xgboost\\data.py:250: FutureWarning: pandas.Int64Index is deprecated and will be removed from pandas in a future version. Use pandas.Index with the appropriate dtype instead.\n",
      "  elif isinstance(data.columns, (pd.Int64Index, pd.RangeIndex)):\n",
      "C:\\Users\\jackl\\anaconda3\\lib\\site-packages\\xgboost\\data.py:250: FutureWarning: pandas.Int64Index is deprecated and will be removed from pandas in a future version. Use pandas.Index with the appropriate dtype instead.\n",
      "  elif isinstance(data.columns, (pd.Int64Index, pd.RangeIndex)):\n",
      "C:\\Users\\jackl\\anaconda3\\lib\\site-packages\\xgboost\\data.py:250: FutureWarning: pandas.Int64Index is deprecated and will be removed from pandas in a future version. Use pandas.Index with the appropriate dtype instead.\n",
      "  elif isinstance(data.columns, (pd.Int64Index, pd.RangeIndex)):\n",
      "C:\\Users\\jackl\\anaconda3\\lib\\site-packages\\xgboost\\data.py:250: FutureWarning: pandas.Int64Index is deprecated and will be removed from pandas in a future version. Use pandas.Index with the appropriate dtype instead.\n",
      "  elif isinstance(data.columns, (pd.Int64Index, pd.RangeIndex)):\n",
      "C:\\Users\\jackl\\anaconda3\\lib\\site-packages\\xgboost\\data.py:250: FutureWarning: pandas.Int64Index is deprecated and will be removed from pandas in a future version. Use pandas.Index with the appropriate dtype instead.\n",
      "  elif isinstance(data.columns, (pd.Int64Index, pd.RangeIndex)):\n",
      "C:\\Users\\jackl\\anaconda3\\lib\\site-packages\\xgboost\\data.py:250: FutureWarning: pandas.Int64Index is deprecated and will be removed from pandas in a future version. Use pandas.Index with the appropriate dtype instead.\n",
      "  elif isinstance(data.columns, (pd.Int64Index, pd.RangeIndex)):\n",
      "C:\\Users\\jackl\\anaconda3\\lib\\site-packages\\xgboost\\data.py:250: FutureWarning: pandas.Int64Index is deprecated and will be removed from pandas in a future version. Use pandas.Index with the appropriate dtype instead.\n",
      "  elif isinstance(data.columns, (pd.Int64Index, pd.RangeIndex)):\n",
      "C:\\Users\\jackl\\anaconda3\\lib\\site-packages\\xgboost\\data.py:250: FutureWarning: pandas.Int64Index is deprecated and will be removed from pandas in a future version. Use pandas.Index with the appropriate dtype instead.\n",
      "  elif isinstance(data.columns, (pd.Int64Index, pd.RangeIndex)):\n",
      "C:\\Users\\jackl\\anaconda3\\lib\\site-packages\\xgboost\\data.py:250: FutureWarning: pandas.Int64Index is deprecated and will be removed from pandas in a future version. Use pandas.Index with the appropriate dtype instead.\n",
      "  elif isinstance(data.columns, (pd.Int64Index, pd.RangeIndex)):\n",
      "C:\\Users\\jackl\\anaconda3\\lib\\site-packages\\xgboost\\data.py:250: FutureWarning: pandas.Int64Index is deprecated and will be removed from pandas in a future version. Use pandas.Index with the appropriate dtype instead.\n",
      "  elif isinstance(data.columns, (pd.Int64Index, pd.RangeIndex)):\n",
      "C:\\Users\\jackl\\anaconda3\\lib\\site-packages\\xgboost\\data.py:250: FutureWarning: pandas.Int64Index is deprecated and will be removed from pandas in a future version. Use pandas.Index with the appropriate dtype instead.\n",
      "  elif isinstance(data.columns, (pd.Int64Index, pd.RangeIndex)):\n",
      "C:\\Users\\jackl\\anaconda3\\lib\\site-packages\\xgboost\\data.py:250: FutureWarning: pandas.Int64Index is deprecated and will be removed from pandas in a future version. Use pandas.Index with the appropriate dtype instead.\n",
      "  elif isinstance(data.columns, (pd.Int64Index, pd.RangeIndex)):\n",
      "C:\\Users\\jackl\\anaconda3\\lib\\site-packages\\xgboost\\data.py:250: FutureWarning: pandas.Int64Index is deprecated and will be removed from pandas in a future version. Use pandas.Index with the appropriate dtype instead.\n",
      "  elif isinstance(data.columns, (pd.Int64Index, pd.RangeIndex)):\n",
      "C:\\Users\\jackl\\anaconda3\\lib\\site-packages\\xgboost\\data.py:250: FutureWarning: pandas.Int64Index is deprecated and will be removed from pandas in a future version. Use pandas.Index with the appropriate dtype instead.\n",
      "  elif isinstance(data.columns, (pd.Int64Index, pd.RangeIndex)):\n",
      "C:\\Users\\jackl\\anaconda3\\lib\\site-packages\\xgboost\\data.py:250: FutureWarning: pandas.Int64Index is deprecated and will be removed from pandas in a future version. Use pandas.Index with the appropriate dtype instead.\n",
      "  elif isinstance(data.columns, (pd.Int64Index, pd.RangeIndex)):\n",
      "C:\\Users\\jackl\\anaconda3\\lib\\site-packages\\xgboost\\data.py:250: FutureWarning: pandas.Int64Index is deprecated and will be removed from pandas in a future version. Use pandas.Index with the appropriate dtype instead.\n",
      "  elif isinstance(data.columns, (pd.Int64Index, pd.RangeIndex)):\n"
     ]
    },
    {
     "name": "stderr",
     "output_type": "stream",
     "text": [
      "C:\\Users\\jackl\\anaconda3\\lib\\site-packages\\xgboost\\data.py:250: FutureWarning: pandas.Int64Index is deprecated and will be removed from pandas in a future version. Use pandas.Index with the appropriate dtype instead.\n",
      "  elif isinstance(data.columns, (pd.Int64Index, pd.RangeIndex)):\n",
      "C:\\Users\\jackl\\anaconda3\\lib\\site-packages\\xgboost\\data.py:250: FutureWarning: pandas.Int64Index is deprecated and will be removed from pandas in a future version. Use pandas.Index with the appropriate dtype instead.\n",
      "  elif isinstance(data.columns, (pd.Int64Index, pd.RangeIndex)):\n",
      "C:\\Users\\jackl\\anaconda3\\lib\\site-packages\\xgboost\\data.py:250: FutureWarning: pandas.Int64Index is deprecated and will be removed from pandas in a future version. Use pandas.Index with the appropriate dtype instead.\n",
      "  elif isinstance(data.columns, (pd.Int64Index, pd.RangeIndex)):\n",
      "C:\\Users\\jackl\\anaconda3\\lib\\site-packages\\xgboost\\data.py:250: FutureWarning: pandas.Int64Index is deprecated and will be removed from pandas in a future version. Use pandas.Index with the appropriate dtype instead.\n",
      "  elif isinstance(data.columns, (pd.Int64Index, pd.RangeIndex)):\n",
      "C:\\Users\\jackl\\anaconda3\\lib\\site-packages\\xgboost\\data.py:250: FutureWarning: pandas.Int64Index is deprecated and will be removed from pandas in a future version. Use pandas.Index with the appropriate dtype instead.\n",
      "  elif isinstance(data.columns, (pd.Int64Index, pd.RangeIndex)):\n",
      "C:\\Users\\jackl\\anaconda3\\lib\\site-packages\\xgboost\\data.py:250: FutureWarning: pandas.Int64Index is deprecated and will be removed from pandas in a future version. Use pandas.Index with the appropriate dtype instead.\n",
      "  elif isinstance(data.columns, (pd.Int64Index, pd.RangeIndex)):\n",
      "C:\\Users\\jackl\\anaconda3\\lib\\site-packages\\xgboost\\data.py:250: FutureWarning: pandas.Int64Index is deprecated and will be removed from pandas in a future version. Use pandas.Index with the appropriate dtype instead.\n",
      "  elif isinstance(data.columns, (pd.Int64Index, pd.RangeIndex)):\n",
      "C:\\Users\\jackl\\anaconda3\\lib\\site-packages\\xgboost\\data.py:250: FutureWarning: pandas.Int64Index is deprecated and will be removed from pandas in a future version. Use pandas.Index with the appropriate dtype instead.\n",
      "  elif isinstance(data.columns, (pd.Int64Index, pd.RangeIndex)):\n",
      "C:\\Users\\jackl\\anaconda3\\lib\\site-packages\\xgboost\\data.py:250: FutureWarning: pandas.Int64Index is deprecated and will be removed from pandas in a future version. Use pandas.Index with the appropriate dtype instead.\n",
      "  elif isinstance(data.columns, (pd.Int64Index, pd.RangeIndex)):\n",
      "C:\\Users\\jackl\\anaconda3\\lib\\site-packages\\xgboost\\data.py:250: FutureWarning: pandas.Int64Index is deprecated and will be removed from pandas in a future version. Use pandas.Index with the appropriate dtype instead.\n",
      "  elif isinstance(data.columns, (pd.Int64Index, pd.RangeIndex)):\n",
      "C:\\Users\\jackl\\anaconda3\\lib\\site-packages\\xgboost\\data.py:250: FutureWarning: pandas.Int64Index is deprecated and will be removed from pandas in a future version. Use pandas.Index with the appropriate dtype instead.\n",
      "  elif isinstance(data.columns, (pd.Int64Index, pd.RangeIndex)):\n",
      "C:\\Users\\jackl\\anaconda3\\lib\\site-packages\\xgboost\\data.py:250: FutureWarning: pandas.Int64Index is deprecated and will be removed from pandas in a future version. Use pandas.Index with the appropriate dtype instead.\n",
      "  elif isinstance(data.columns, (pd.Int64Index, pd.RangeIndex)):\n",
      "C:\\Users\\jackl\\anaconda3\\lib\\site-packages\\xgboost\\data.py:250: FutureWarning: pandas.Int64Index is deprecated and will be removed from pandas in a future version. Use pandas.Index with the appropriate dtype instead.\n",
      "  elif isinstance(data.columns, (pd.Int64Index, pd.RangeIndex)):\n",
      "C:\\Users\\jackl\\anaconda3\\lib\\site-packages\\xgboost\\data.py:250: FutureWarning: pandas.Int64Index is deprecated and will be removed from pandas in a future version. Use pandas.Index with the appropriate dtype instead.\n",
      "  elif isinstance(data.columns, (pd.Int64Index, pd.RangeIndex)):\n",
      "C:\\Users\\jackl\\anaconda3\\lib\\site-packages\\xgboost\\data.py:250: FutureWarning: pandas.Int64Index is deprecated and will be removed from pandas in a future version. Use pandas.Index with the appropriate dtype instead.\n",
      "  elif isinstance(data.columns, (pd.Int64Index, pd.RangeIndex)):\n",
      "C:\\Users\\jackl\\anaconda3\\lib\\site-packages\\xgboost\\data.py:250: FutureWarning: pandas.Int64Index is deprecated and will be removed from pandas in a future version. Use pandas.Index with the appropriate dtype instead.\n",
      "  elif isinstance(data.columns, (pd.Int64Index, pd.RangeIndex)):\n",
      "C:\\Users\\jackl\\anaconda3\\lib\\site-packages\\xgboost\\data.py:250: FutureWarning: pandas.Int64Index is deprecated and will be removed from pandas in a future version. Use pandas.Index with the appropriate dtype instead.\n",
      "  elif isinstance(data.columns, (pd.Int64Index, pd.RangeIndex)):\n",
      "C:\\Users\\jackl\\anaconda3\\lib\\site-packages\\xgboost\\data.py:250: FutureWarning: pandas.Int64Index is deprecated and will be removed from pandas in a future version. Use pandas.Index with the appropriate dtype instead.\n",
      "  elif isinstance(data.columns, (pd.Int64Index, pd.RangeIndex)):\n",
      "C:\\Users\\jackl\\anaconda3\\lib\\site-packages\\xgboost\\data.py:250: FutureWarning: pandas.Int64Index is deprecated and will be removed from pandas in a future version. Use pandas.Index with the appropriate dtype instead.\n",
      "  elif isinstance(data.columns, (pd.Int64Index, pd.RangeIndex)):\n",
      "C:\\Users\\jackl\\anaconda3\\lib\\site-packages\\xgboost\\data.py:250: FutureWarning: pandas.Int64Index is deprecated and will be removed from pandas in a future version. Use pandas.Index with the appropriate dtype instead.\n",
      "  elif isinstance(data.columns, (pd.Int64Index, pd.RangeIndex)):\n",
      "C:\\Users\\jackl\\anaconda3\\lib\\site-packages\\xgboost\\data.py:250: FutureWarning: pandas.Int64Index is deprecated and will be removed from pandas in a future version. Use pandas.Index with the appropriate dtype instead.\n",
      "  elif isinstance(data.columns, (pd.Int64Index, pd.RangeIndex)):\n",
      "C:\\Users\\jackl\\anaconda3\\lib\\site-packages\\xgboost\\data.py:250: FutureWarning: pandas.Int64Index is deprecated and will be removed from pandas in a future version. Use pandas.Index with the appropriate dtype instead.\n",
      "  elif isinstance(data.columns, (pd.Int64Index, pd.RangeIndex)):\n",
      "C:\\Users\\jackl\\anaconda3\\lib\\site-packages\\xgboost\\data.py:250: FutureWarning: pandas.Int64Index is deprecated and will be removed from pandas in a future version. Use pandas.Index with the appropriate dtype instead.\n",
      "  elif isinstance(data.columns, (pd.Int64Index, pd.RangeIndex)):\n",
      "C:\\Users\\jackl\\anaconda3\\lib\\site-packages\\xgboost\\data.py:250: FutureWarning: pandas.Int64Index is deprecated and will be removed from pandas in a future version. Use pandas.Index with the appropriate dtype instead.\n",
      "  elif isinstance(data.columns, (pd.Int64Index, pd.RangeIndex)):\n",
      "C:\\Users\\jackl\\anaconda3\\lib\\site-packages\\xgboost\\data.py:250: FutureWarning: pandas.Int64Index is deprecated and will be removed from pandas in a future version. Use pandas.Index with the appropriate dtype instead.\n",
      "  elif isinstance(data.columns, (pd.Int64Index, pd.RangeIndex)):\n",
      "C:\\Users\\jackl\\anaconda3\\lib\\site-packages\\xgboost\\data.py:250: FutureWarning: pandas.Int64Index is deprecated and will be removed from pandas in a future version. Use pandas.Index with the appropriate dtype instead.\n",
      "  elif isinstance(data.columns, (pd.Int64Index, pd.RangeIndex)):\n",
      "C:\\Users\\jackl\\anaconda3\\lib\\site-packages\\xgboost\\data.py:250: FutureWarning: pandas.Int64Index is deprecated and will be removed from pandas in a future version. Use pandas.Index with the appropriate dtype instead.\n",
      "  elif isinstance(data.columns, (pd.Int64Index, pd.RangeIndex)):\n",
      "C:\\Users\\jackl\\anaconda3\\lib\\site-packages\\xgboost\\data.py:250: FutureWarning: pandas.Int64Index is deprecated and will be removed from pandas in a future version. Use pandas.Index with the appropriate dtype instead.\n",
      "  elif isinstance(data.columns, (pd.Int64Index, pd.RangeIndex)):\n",
      "C:\\Users\\jackl\\anaconda3\\lib\\site-packages\\xgboost\\data.py:250: FutureWarning: pandas.Int64Index is deprecated and will be removed from pandas in a future version. Use pandas.Index with the appropriate dtype instead.\n",
      "  elif isinstance(data.columns, (pd.Int64Index, pd.RangeIndex)):\n",
      "C:\\Users\\jackl\\anaconda3\\lib\\site-packages\\xgboost\\data.py:250: FutureWarning: pandas.Int64Index is deprecated and will be removed from pandas in a future version. Use pandas.Index with the appropriate dtype instead.\n",
      "  elif isinstance(data.columns, (pd.Int64Index, pd.RangeIndex)):\n",
      "C:\\Users\\jackl\\anaconda3\\lib\\site-packages\\xgboost\\data.py:250: FutureWarning: pandas.Int64Index is deprecated and will be removed from pandas in a future version. Use pandas.Index with the appropriate dtype instead.\n",
      "  elif isinstance(data.columns, (pd.Int64Index, pd.RangeIndex)):\n",
      "C:\\Users\\jackl\\anaconda3\\lib\\site-packages\\xgboost\\data.py:250: FutureWarning: pandas.Int64Index is deprecated and will be removed from pandas in a future version. Use pandas.Index with the appropriate dtype instead.\n",
      "  elif isinstance(data.columns, (pd.Int64Index, pd.RangeIndex)):\n"
     ]
    },
    {
     "name": "stderr",
     "output_type": "stream",
     "text": [
      "C:\\Users\\jackl\\anaconda3\\lib\\site-packages\\xgboost\\data.py:250: FutureWarning: pandas.Int64Index is deprecated and will be removed from pandas in a future version. Use pandas.Index with the appropriate dtype instead.\n",
      "  elif isinstance(data.columns, (pd.Int64Index, pd.RangeIndex)):\n",
      "C:\\Users\\jackl\\anaconda3\\lib\\site-packages\\xgboost\\data.py:250: FutureWarning: pandas.Int64Index is deprecated and will be removed from pandas in a future version. Use pandas.Index with the appropriate dtype instead.\n",
      "  elif isinstance(data.columns, (pd.Int64Index, pd.RangeIndex)):\n",
      "C:\\Users\\jackl\\anaconda3\\lib\\site-packages\\xgboost\\data.py:250: FutureWarning: pandas.Int64Index is deprecated and will be removed from pandas in a future version. Use pandas.Index with the appropriate dtype instead.\n",
      "  elif isinstance(data.columns, (pd.Int64Index, pd.RangeIndex)):\n",
      "C:\\Users\\jackl\\anaconda3\\lib\\site-packages\\xgboost\\data.py:250: FutureWarning: pandas.Int64Index is deprecated and will be removed from pandas in a future version. Use pandas.Index with the appropriate dtype instead.\n",
      "  elif isinstance(data.columns, (pd.Int64Index, pd.RangeIndex)):\n",
      "C:\\Users\\jackl\\anaconda3\\lib\\site-packages\\xgboost\\data.py:250: FutureWarning: pandas.Int64Index is deprecated and will be removed from pandas in a future version. Use pandas.Index with the appropriate dtype instead.\n",
      "  elif isinstance(data.columns, (pd.Int64Index, pd.RangeIndex)):\n",
      "C:\\Users\\jackl\\anaconda3\\lib\\site-packages\\xgboost\\data.py:250: FutureWarning: pandas.Int64Index is deprecated and will be removed from pandas in a future version. Use pandas.Index with the appropriate dtype instead.\n",
      "  elif isinstance(data.columns, (pd.Int64Index, pd.RangeIndex)):\n",
      "C:\\Users\\jackl\\anaconda3\\lib\\site-packages\\xgboost\\data.py:250: FutureWarning: pandas.Int64Index is deprecated and will be removed from pandas in a future version. Use pandas.Index with the appropriate dtype instead.\n",
      "  elif isinstance(data.columns, (pd.Int64Index, pd.RangeIndex)):\n",
      "C:\\Users\\jackl\\anaconda3\\lib\\site-packages\\xgboost\\data.py:250: FutureWarning: pandas.Int64Index is deprecated and will be removed from pandas in a future version. Use pandas.Index with the appropriate dtype instead.\n",
      "  elif isinstance(data.columns, (pd.Int64Index, pd.RangeIndex)):\n",
      "C:\\Users\\jackl\\anaconda3\\lib\\site-packages\\xgboost\\data.py:250: FutureWarning: pandas.Int64Index is deprecated and will be removed from pandas in a future version. Use pandas.Index with the appropriate dtype instead.\n",
      "  elif isinstance(data.columns, (pd.Int64Index, pd.RangeIndex)):\n",
      "C:\\Users\\jackl\\anaconda3\\lib\\site-packages\\xgboost\\data.py:250: FutureWarning: pandas.Int64Index is deprecated and will be removed from pandas in a future version. Use pandas.Index with the appropriate dtype instead.\n",
      "  elif isinstance(data.columns, (pd.Int64Index, pd.RangeIndex)):\n",
      "C:\\Users\\jackl\\anaconda3\\lib\\site-packages\\xgboost\\data.py:250: FutureWarning: pandas.Int64Index is deprecated and will be removed from pandas in a future version. Use pandas.Index with the appropriate dtype instead.\n",
      "  elif isinstance(data.columns, (pd.Int64Index, pd.RangeIndex)):\n",
      "C:\\Users\\jackl\\anaconda3\\lib\\site-packages\\xgboost\\data.py:250: FutureWarning: pandas.Int64Index is deprecated and will be removed from pandas in a future version. Use pandas.Index with the appropriate dtype instead.\n",
      "  elif isinstance(data.columns, (pd.Int64Index, pd.RangeIndex)):\n",
      "C:\\Users\\jackl\\anaconda3\\lib\\site-packages\\xgboost\\data.py:250: FutureWarning: pandas.Int64Index is deprecated and will be removed from pandas in a future version. Use pandas.Index with the appropriate dtype instead.\n",
      "  elif isinstance(data.columns, (pd.Int64Index, pd.RangeIndex)):\n",
      "C:\\Users\\jackl\\anaconda3\\lib\\site-packages\\xgboost\\data.py:250: FutureWarning: pandas.Int64Index is deprecated and will be removed from pandas in a future version. Use pandas.Index with the appropriate dtype instead.\n",
      "  elif isinstance(data.columns, (pd.Int64Index, pd.RangeIndex)):\n",
      "C:\\Users\\jackl\\anaconda3\\lib\\site-packages\\xgboost\\data.py:250: FutureWarning: pandas.Int64Index is deprecated and will be removed from pandas in a future version. Use pandas.Index with the appropriate dtype instead.\n",
      "  elif isinstance(data.columns, (pd.Int64Index, pd.RangeIndex)):\n",
      "C:\\Users\\jackl\\anaconda3\\lib\\site-packages\\xgboost\\data.py:250: FutureWarning: pandas.Int64Index is deprecated and will be removed from pandas in a future version. Use pandas.Index with the appropriate dtype instead.\n",
      "  elif isinstance(data.columns, (pd.Int64Index, pd.RangeIndex)):\n",
      "C:\\Users\\jackl\\anaconda3\\lib\\site-packages\\xgboost\\data.py:250: FutureWarning: pandas.Int64Index is deprecated and will be removed from pandas in a future version. Use pandas.Index with the appropriate dtype instead.\n",
      "  elif isinstance(data.columns, (pd.Int64Index, pd.RangeIndex)):\n",
      "C:\\Users\\jackl\\anaconda3\\lib\\site-packages\\xgboost\\data.py:250: FutureWarning: pandas.Int64Index is deprecated and will be removed from pandas in a future version. Use pandas.Index with the appropriate dtype instead.\n",
      "  elif isinstance(data.columns, (pd.Int64Index, pd.RangeIndex)):\n",
      "C:\\Users\\jackl\\anaconda3\\lib\\site-packages\\xgboost\\data.py:250: FutureWarning: pandas.Int64Index is deprecated and will be removed from pandas in a future version. Use pandas.Index with the appropriate dtype instead.\n",
      "  elif isinstance(data.columns, (pd.Int64Index, pd.RangeIndex)):\n",
      "C:\\Users\\jackl\\anaconda3\\lib\\site-packages\\xgboost\\data.py:250: FutureWarning: pandas.Int64Index is deprecated and will be removed from pandas in a future version. Use pandas.Index with the appropriate dtype instead.\n",
      "  elif isinstance(data.columns, (pd.Int64Index, pd.RangeIndex)):\n",
      "C:\\Users\\jackl\\anaconda3\\lib\\site-packages\\xgboost\\data.py:250: FutureWarning: pandas.Int64Index is deprecated and will be removed from pandas in a future version. Use pandas.Index with the appropriate dtype instead.\n",
      "  elif isinstance(data.columns, (pd.Int64Index, pd.RangeIndex)):\n",
      "C:\\Users\\jackl\\anaconda3\\lib\\site-packages\\xgboost\\data.py:250: FutureWarning: pandas.Int64Index is deprecated and will be removed from pandas in a future version. Use pandas.Index with the appropriate dtype instead.\n",
      "  elif isinstance(data.columns, (pd.Int64Index, pd.RangeIndex)):\n",
      "C:\\Users\\jackl\\anaconda3\\lib\\site-packages\\xgboost\\data.py:250: FutureWarning: pandas.Int64Index is deprecated and will be removed from pandas in a future version. Use pandas.Index with the appropriate dtype instead.\n",
      "  elif isinstance(data.columns, (pd.Int64Index, pd.RangeIndex)):\n",
      "C:\\Users\\jackl\\anaconda3\\lib\\site-packages\\xgboost\\data.py:250: FutureWarning: pandas.Int64Index is deprecated and will be removed from pandas in a future version. Use pandas.Index with the appropriate dtype instead.\n",
      "  elif isinstance(data.columns, (pd.Int64Index, pd.RangeIndex)):\n",
      "C:\\Users\\jackl\\anaconda3\\lib\\site-packages\\xgboost\\data.py:250: FutureWarning: pandas.Int64Index is deprecated and will be removed from pandas in a future version. Use pandas.Index with the appropriate dtype instead.\n",
      "  elif isinstance(data.columns, (pd.Int64Index, pd.RangeIndex)):\n",
      "C:\\Users\\jackl\\anaconda3\\lib\\site-packages\\xgboost\\data.py:250: FutureWarning: pandas.Int64Index is deprecated and will be removed from pandas in a future version. Use pandas.Index with the appropriate dtype instead.\n",
      "  elif isinstance(data.columns, (pd.Int64Index, pd.RangeIndex)):\n",
      "C:\\Users\\jackl\\anaconda3\\lib\\site-packages\\xgboost\\data.py:250: FutureWarning: pandas.Int64Index is deprecated and will be removed from pandas in a future version. Use pandas.Index with the appropriate dtype instead.\n",
      "  elif isinstance(data.columns, (pd.Int64Index, pd.RangeIndex)):\n",
      "C:\\Users\\jackl\\anaconda3\\lib\\site-packages\\xgboost\\data.py:250: FutureWarning: pandas.Int64Index is deprecated and will be removed from pandas in a future version. Use pandas.Index with the appropriate dtype instead.\n",
      "  elif isinstance(data.columns, (pd.Int64Index, pd.RangeIndex)):\n",
      "C:\\Users\\jackl\\anaconda3\\lib\\site-packages\\xgboost\\data.py:250: FutureWarning: pandas.Int64Index is deprecated and will be removed from pandas in a future version. Use pandas.Index with the appropriate dtype instead.\n",
      "  elif isinstance(data.columns, (pd.Int64Index, pd.RangeIndex)):\n",
      "C:\\Users\\jackl\\anaconda3\\lib\\site-packages\\xgboost\\data.py:250: FutureWarning: pandas.Int64Index is deprecated and will be removed from pandas in a future version. Use pandas.Index with the appropriate dtype instead.\n",
      "  elif isinstance(data.columns, (pd.Int64Index, pd.RangeIndex)):\n"
     ]
    },
    {
     "name": "stderr",
     "output_type": "stream",
     "text": [
      "C:\\Users\\jackl\\anaconda3\\lib\\site-packages\\xgboost\\data.py:250: FutureWarning: pandas.Int64Index is deprecated and will be removed from pandas in a future version. Use pandas.Index with the appropriate dtype instead.\n",
      "  elif isinstance(data.columns, (pd.Int64Index, pd.RangeIndex)):\n",
      "C:\\Users\\jackl\\anaconda3\\lib\\site-packages\\xgboost\\data.py:250: FutureWarning: pandas.Int64Index is deprecated and will be removed from pandas in a future version. Use pandas.Index with the appropriate dtype instead.\n",
      "  elif isinstance(data.columns, (pd.Int64Index, pd.RangeIndex)):\n",
      "C:\\Users\\jackl\\anaconda3\\lib\\site-packages\\xgboost\\data.py:250: FutureWarning: pandas.Int64Index is deprecated and will be removed from pandas in a future version. Use pandas.Index with the appropriate dtype instead.\n",
      "  elif isinstance(data.columns, (pd.Int64Index, pd.RangeIndex)):\n",
      "C:\\Users\\jackl\\anaconda3\\lib\\site-packages\\xgboost\\data.py:250: FutureWarning: pandas.Int64Index is deprecated and will be removed from pandas in a future version. Use pandas.Index with the appropriate dtype instead.\n",
      "  elif isinstance(data.columns, (pd.Int64Index, pd.RangeIndex)):\n",
      "C:\\Users\\jackl\\anaconda3\\lib\\site-packages\\xgboost\\data.py:250: FutureWarning: pandas.Int64Index is deprecated and will be removed from pandas in a future version. Use pandas.Index with the appropriate dtype instead.\n",
      "  elif isinstance(data.columns, (pd.Int64Index, pd.RangeIndex)):\n",
      "C:\\Users\\jackl\\anaconda3\\lib\\site-packages\\xgboost\\data.py:250: FutureWarning: pandas.Int64Index is deprecated and will be removed from pandas in a future version. Use pandas.Index with the appropriate dtype instead.\n",
      "  elif isinstance(data.columns, (pd.Int64Index, pd.RangeIndex)):\n",
      "C:\\Users\\jackl\\anaconda3\\lib\\site-packages\\xgboost\\data.py:250: FutureWarning: pandas.Int64Index is deprecated and will be removed from pandas in a future version. Use pandas.Index with the appropriate dtype instead.\n",
      "  elif isinstance(data.columns, (pd.Int64Index, pd.RangeIndex)):\n",
      "C:\\Users\\jackl\\anaconda3\\lib\\site-packages\\xgboost\\data.py:250: FutureWarning: pandas.Int64Index is deprecated and will be removed from pandas in a future version. Use pandas.Index with the appropriate dtype instead.\n",
      "  elif isinstance(data.columns, (pd.Int64Index, pd.RangeIndex)):\n",
      "C:\\Users\\jackl\\anaconda3\\lib\\site-packages\\xgboost\\data.py:250: FutureWarning: pandas.Int64Index is deprecated and will be removed from pandas in a future version. Use pandas.Index with the appropriate dtype instead.\n",
      "  elif isinstance(data.columns, (pd.Int64Index, pd.RangeIndex)):\n",
      "C:\\Users\\jackl\\anaconda3\\lib\\site-packages\\xgboost\\data.py:250: FutureWarning: pandas.Int64Index is deprecated and will be removed from pandas in a future version. Use pandas.Index with the appropriate dtype instead.\n",
      "  elif isinstance(data.columns, (pd.Int64Index, pd.RangeIndex)):\n",
      "C:\\Users\\jackl\\anaconda3\\lib\\site-packages\\xgboost\\data.py:250: FutureWarning: pandas.Int64Index is deprecated and will be removed from pandas in a future version. Use pandas.Index with the appropriate dtype instead.\n",
      "  elif isinstance(data.columns, (pd.Int64Index, pd.RangeIndex)):\n",
      "C:\\Users\\jackl\\anaconda3\\lib\\site-packages\\xgboost\\data.py:250: FutureWarning: pandas.Int64Index is deprecated and will be removed from pandas in a future version. Use pandas.Index with the appropriate dtype instead.\n",
      "  elif isinstance(data.columns, (pd.Int64Index, pd.RangeIndex)):\n",
      "C:\\Users\\jackl\\anaconda3\\lib\\site-packages\\xgboost\\data.py:250: FutureWarning: pandas.Int64Index is deprecated and will be removed from pandas in a future version. Use pandas.Index with the appropriate dtype instead.\n",
      "  elif isinstance(data.columns, (pd.Int64Index, pd.RangeIndex)):\n",
      "C:\\Users\\jackl\\anaconda3\\lib\\site-packages\\xgboost\\data.py:250: FutureWarning: pandas.Int64Index is deprecated and will be removed from pandas in a future version. Use pandas.Index with the appropriate dtype instead.\n",
      "  elif isinstance(data.columns, (pd.Int64Index, pd.RangeIndex)):\n",
      "C:\\Users\\jackl\\anaconda3\\lib\\site-packages\\xgboost\\data.py:250: FutureWarning: pandas.Int64Index is deprecated and will be removed from pandas in a future version. Use pandas.Index with the appropriate dtype instead.\n",
      "  elif isinstance(data.columns, (pd.Int64Index, pd.RangeIndex)):\n",
      "C:\\Users\\jackl\\anaconda3\\lib\\site-packages\\xgboost\\data.py:250: FutureWarning: pandas.Int64Index is deprecated and will be removed from pandas in a future version. Use pandas.Index with the appropriate dtype instead.\n",
      "  elif isinstance(data.columns, (pd.Int64Index, pd.RangeIndex)):\n",
      "C:\\Users\\jackl\\anaconda3\\lib\\site-packages\\xgboost\\data.py:250: FutureWarning: pandas.Int64Index is deprecated and will be removed from pandas in a future version. Use pandas.Index with the appropriate dtype instead.\n",
      "  elif isinstance(data.columns, (pd.Int64Index, pd.RangeIndex)):\n",
      "C:\\Users\\jackl\\anaconda3\\lib\\site-packages\\xgboost\\data.py:250: FutureWarning: pandas.Int64Index is deprecated and will be removed from pandas in a future version. Use pandas.Index with the appropriate dtype instead.\n",
      "  elif isinstance(data.columns, (pd.Int64Index, pd.RangeIndex)):\n",
      "C:\\Users\\jackl\\anaconda3\\lib\\site-packages\\xgboost\\data.py:250: FutureWarning: pandas.Int64Index is deprecated and will be removed from pandas in a future version. Use pandas.Index with the appropriate dtype instead.\n",
      "  elif isinstance(data.columns, (pd.Int64Index, pd.RangeIndex)):\n",
      "C:\\Users\\jackl\\anaconda3\\lib\\site-packages\\xgboost\\data.py:250: FutureWarning: pandas.Int64Index is deprecated and will be removed from pandas in a future version. Use pandas.Index with the appropriate dtype instead.\n",
      "  elif isinstance(data.columns, (pd.Int64Index, pd.RangeIndex)):\n",
      "C:\\Users\\jackl\\anaconda3\\lib\\site-packages\\xgboost\\data.py:250: FutureWarning: pandas.Int64Index is deprecated and will be removed from pandas in a future version. Use pandas.Index with the appropriate dtype instead.\n",
      "  elif isinstance(data.columns, (pd.Int64Index, pd.RangeIndex)):\n",
      "C:\\Users\\jackl\\anaconda3\\lib\\site-packages\\xgboost\\data.py:250: FutureWarning: pandas.Int64Index is deprecated and will be removed from pandas in a future version. Use pandas.Index with the appropriate dtype instead.\n",
      "  elif isinstance(data.columns, (pd.Int64Index, pd.RangeIndex)):\n",
      "C:\\Users\\jackl\\anaconda3\\lib\\site-packages\\xgboost\\data.py:250: FutureWarning: pandas.Int64Index is deprecated and will be removed from pandas in a future version. Use pandas.Index with the appropriate dtype instead.\n",
      "  elif isinstance(data.columns, (pd.Int64Index, pd.RangeIndex)):\n",
      "C:\\Users\\jackl\\anaconda3\\lib\\site-packages\\xgboost\\data.py:250: FutureWarning: pandas.Int64Index is deprecated and will be removed from pandas in a future version. Use pandas.Index with the appropriate dtype instead.\n",
      "  elif isinstance(data.columns, (pd.Int64Index, pd.RangeIndex)):\n",
      "C:\\Users\\jackl\\anaconda3\\lib\\site-packages\\xgboost\\data.py:250: FutureWarning: pandas.Int64Index is deprecated and will be removed from pandas in a future version. Use pandas.Index with the appropriate dtype instead.\n",
      "  elif isinstance(data.columns, (pd.Int64Index, pd.RangeIndex)):\n",
      "C:\\Users\\jackl\\anaconda3\\lib\\site-packages\\xgboost\\data.py:250: FutureWarning: pandas.Int64Index is deprecated and will be removed from pandas in a future version. Use pandas.Index with the appropriate dtype instead.\n",
      "  elif isinstance(data.columns, (pd.Int64Index, pd.RangeIndex)):\n",
      "C:\\Users\\jackl\\anaconda3\\lib\\site-packages\\xgboost\\data.py:250: FutureWarning: pandas.Int64Index is deprecated and will be removed from pandas in a future version. Use pandas.Index with the appropriate dtype instead.\n",
      "  elif isinstance(data.columns, (pd.Int64Index, pd.RangeIndex)):\n",
      "C:\\Users\\jackl\\anaconda3\\lib\\site-packages\\xgboost\\data.py:250: FutureWarning: pandas.Int64Index is deprecated and will be removed from pandas in a future version. Use pandas.Index with the appropriate dtype instead.\n",
      "  elif isinstance(data.columns, (pd.Int64Index, pd.RangeIndex)):\n",
      "C:\\Users\\jackl\\anaconda3\\lib\\site-packages\\xgboost\\data.py:250: FutureWarning: pandas.Int64Index is deprecated and will be removed from pandas in a future version. Use pandas.Index with the appropriate dtype instead.\n",
      "  elif isinstance(data.columns, (pd.Int64Index, pd.RangeIndex)):\n",
      "C:\\Users\\jackl\\anaconda3\\lib\\site-packages\\xgboost\\data.py:250: FutureWarning: pandas.Int64Index is deprecated and will be removed from pandas in a future version. Use pandas.Index with the appropriate dtype instead.\n",
      "  elif isinstance(data.columns, (pd.Int64Index, pd.RangeIndex)):\n",
      "C:\\Users\\jackl\\anaconda3\\lib\\site-packages\\xgboost\\data.py:250: FutureWarning: pandas.Int64Index is deprecated and will be removed from pandas in a future version. Use pandas.Index with the appropriate dtype instead.\n",
      "  elif isinstance(data.columns, (pd.Int64Index, pd.RangeIndex)):\n"
     ]
    },
    {
     "name": "stderr",
     "output_type": "stream",
     "text": [
      "C:\\Users\\jackl\\anaconda3\\lib\\site-packages\\xgboost\\data.py:250: FutureWarning: pandas.Int64Index is deprecated and will be removed from pandas in a future version. Use pandas.Index with the appropriate dtype instead.\n",
      "  elif isinstance(data.columns, (pd.Int64Index, pd.RangeIndex)):\n",
      "C:\\Users\\jackl\\anaconda3\\lib\\site-packages\\xgboost\\data.py:250: FutureWarning: pandas.Int64Index is deprecated and will be removed from pandas in a future version. Use pandas.Index with the appropriate dtype instead.\n",
      "  elif isinstance(data.columns, (pd.Int64Index, pd.RangeIndex)):\n",
      "C:\\Users\\jackl\\anaconda3\\lib\\site-packages\\xgboost\\data.py:250: FutureWarning: pandas.Int64Index is deprecated and will be removed from pandas in a future version. Use pandas.Index with the appropriate dtype instead.\n",
      "  elif isinstance(data.columns, (pd.Int64Index, pd.RangeIndex)):\n",
      "C:\\Users\\jackl\\anaconda3\\lib\\site-packages\\xgboost\\data.py:250: FutureWarning: pandas.Int64Index is deprecated and will be removed from pandas in a future version. Use pandas.Index with the appropriate dtype instead.\n",
      "  elif isinstance(data.columns, (pd.Int64Index, pd.RangeIndex)):\n",
      "C:\\Users\\jackl\\anaconda3\\lib\\site-packages\\xgboost\\data.py:250: FutureWarning: pandas.Int64Index is deprecated and will be removed from pandas in a future version. Use pandas.Index with the appropriate dtype instead.\n",
      "  elif isinstance(data.columns, (pd.Int64Index, pd.RangeIndex)):\n",
      "C:\\Users\\jackl\\anaconda3\\lib\\site-packages\\xgboost\\data.py:250: FutureWarning: pandas.Int64Index is deprecated and will be removed from pandas in a future version. Use pandas.Index with the appropriate dtype instead.\n",
      "  elif isinstance(data.columns, (pd.Int64Index, pd.RangeIndex)):\n",
      "C:\\Users\\jackl\\anaconda3\\lib\\site-packages\\xgboost\\data.py:250: FutureWarning: pandas.Int64Index is deprecated and will be removed from pandas in a future version. Use pandas.Index with the appropriate dtype instead.\n",
      "  elif isinstance(data.columns, (pd.Int64Index, pd.RangeIndex)):\n",
      "C:\\Users\\jackl\\anaconda3\\lib\\site-packages\\xgboost\\data.py:250: FutureWarning: pandas.Int64Index is deprecated and will be removed from pandas in a future version. Use pandas.Index with the appropriate dtype instead.\n",
      "  elif isinstance(data.columns, (pd.Int64Index, pd.RangeIndex)):\n",
      "C:\\Users\\jackl\\anaconda3\\lib\\site-packages\\xgboost\\data.py:250: FutureWarning: pandas.Int64Index is deprecated and will be removed from pandas in a future version. Use pandas.Index with the appropriate dtype instead.\n",
      "  elif isinstance(data.columns, (pd.Int64Index, pd.RangeIndex)):\n",
      "C:\\Users\\jackl\\anaconda3\\lib\\site-packages\\xgboost\\data.py:250: FutureWarning: pandas.Int64Index is deprecated and will be removed from pandas in a future version. Use pandas.Index with the appropriate dtype instead.\n",
      "  elif isinstance(data.columns, (pd.Int64Index, pd.RangeIndex)):\n",
      "C:\\Users\\jackl\\anaconda3\\lib\\site-packages\\xgboost\\data.py:250: FutureWarning: pandas.Int64Index is deprecated and will be removed from pandas in a future version. Use pandas.Index with the appropriate dtype instead.\n",
      "  elif isinstance(data.columns, (pd.Int64Index, pd.RangeIndex)):\n",
      "C:\\Users\\jackl\\anaconda3\\lib\\site-packages\\xgboost\\data.py:250: FutureWarning: pandas.Int64Index is deprecated and will be removed from pandas in a future version. Use pandas.Index with the appropriate dtype instead.\n",
      "  elif isinstance(data.columns, (pd.Int64Index, pd.RangeIndex)):\n",
      "C:\\Users\\jackl\\anaconda3\\lib\\site-packages\\xgboost\\data.py:250: FutureWarning: pandas.Int64Index is deprecated and will be removed from pandas in a future version. Use pandas.Index with the appropriate dtype instead.\n",
      "  elif isinstance(data.columns, (pd.Int64Index, pd.RangeIndex)):\n",
      "C:\\Users\\jackl\\anaconda3\\lib\\site-packages\\xgboost\\data.py:250: FutureWarning: pandas.Int64Index is deprecated and will be removed from pandas in a future version. Use pandas.Index with the appropriate dtype instead.\n",
      "  elif isinstance(data.columns, (pd.Int64Index, pd.RangeIndex)):\n",
      "C:\\Users\\jackl\\anaconda3\\lib\\site-packages\\xgboost\\data.py:250: FutureWarning: pandas.Int64Index is deprecated and will be removed from pandas in a future version. Use pandas.Index with the appropriate dtype instead.\n",
      "  elif isinstance(data.columns, (pd.Int64Index, pd.RangeIndex)):\n",
      "C:\\Users\\jackl\\anaconda3\\lib\\site-packages\\xgboost\\data.py:250: FutureWarning: pandas.Int64Index is deprecated and will be removed from pandas in a future version. Use pandas.Index with the appropriate dtype instead.\n",
      "  elif isinstance(data.columns, (pd.Int64Index, pd.RangeIndex)):\n",
      "C:\\Users\\jackl\\anaconda3\\lib\\site-packages\\xgboost\\data.py:250: FutureWarning: pandas.Int64Index is deprecated and will be removed from pandas in a future version. Use pandas.Index with the appropriate dtype instead.\n",
      "  elif isinstance(data.columns, (pd.Int64Index, pd.RangeIndex)):\n",
      "C:\\Users\\jackl\\anaconda3\\lib\\site-packages\\xgboost\\data.py:250: FutureWarning: pandas.Int64Index is deprecated and will be removed from pandas in a future version. Use pandas.Index with the appropriate dtype instead.\n",
      "  elif isinstance(data.columns, (pd.Int64Index, pd.RangeIndex)):\n",
      "C:\\Users\\jackl\\anaconda3\\lib\\site-packages\\xgboost\\data.py:250: FutureWarning: pandas.Int64Index is deprecated and will be removed from pandas in a future version. Use pandas.Index with the appropriate dtype instead.\n",
      "  elif isinstance(data.columns, (pd.Int64Index, pd.RangeIndex)):\n",
      "C:\\Users\\jackl\\anaconda3\\lib\\site-packages\\xgboost\\data.py:250: FutureWarning: pandas.Int64Index is deprecated and will be removed from pandas in a future version. Use pandas.Index with the appropriate dtype instead.\n",
      "  elif isinstance(data.columns, (pd.Int64Index, pd.RangeIndex)):\n",
      "C:\\Users\\jackl\\anaconda3\\lib\\site-packages\\xgboost\\data.py:250: FutureWarning: pandas.Int64Index is deprecated and will be removed from pandas in a future version. Use pandas.Index with the appropriate dtype instead.\n",
      "  elif isinstance(data.columns, (pd.Int64Index, pd.RangeIndex)):\n",
      "C:\\Users\\jackl\\anaconda3\\lib\\site-packages\\xgboost\\data.py:250: FutureWarning: pandas.Int64Index is deprecated and will be removed from pandas in a future version. Use pandas.Index with the appropriate dtype instead.\n",
      "  elif isinstance(data.columns, (pd.Int64Index, pd.RangeIndex)):\n",
      "C:\\Users\\jackl\\anaconda3\\lib\\site-packages\\xgboost\\data.py:250: FutureWarning: pandas.Int64Index is deprecated and will be removed from pandas in a future version. Use pandas.Index with the appropriate dtype instead.\n",
      "  elif isinstance(data.columns, (pd.Int64Index, pd.RangeIndex)):\n",
      "C:\\Users\\jackl\\anaconda3\\lib\\site-packages\\xgboost\\data.py:250: FutureWarning: pandas.Int64Index is deprecated and will be removed from pandas in a future version. Use pandas.Index with the appropriate dtype instead.\n",
      "  elif isinstance(data.columns, (pd.Int64Index, pd.RangeIndex)):\n",
      "C:\\Users\\jackl\\anaconda3\\lib\\site-packages\\xgboost\\data.py:250: FutureWarning: pandas.Int64Index is deprecated and will be removed from pandas in a future version. Use pandas.Index with the appropriate dtype instead.\n",
      "  elif isinstance(data.columns, (pd.Int64Index, pd.RangeIndex)):\n",
      "C:\\Users\\jackl\\anaconda3\\lib\\site-packages\\xgboost\\data.py:250: FutureWarning: pandas.Int64Index is deprecated and will be removed from pandas in a future version. Use pandas.Index with the appropriate dtype instead.\n",
      "  elif isinstance(data.columns, (pd.Int64Index, pd.RangeIndex)):\n",
      "C:\\Users\\jackl\\anaconda3\\lib\\site-packages\\xgboost\\data.py:250: FutureWarning: pandas.Int64Index is deprecated and will be removed from pandas in a future version. Use pandas.Index with the appropriate dtype instead.\n",
      "  elif isinstance(data.columns, (pd.Int64Index, pd.RangeIndex)):\n",
      "C:\\Users\\jackl\\anaconda3\\lib\\site-packages\\xgboost\\data.py:250: FutureWarning: pandas.Int64Index is deprecated and will be removed from pandas in a future version. Use pandas.Index with the appropriate dtype instead.\n",
      "  elif isinstance(data.columns, (pd.Int64Index, pd.RangeIndex)):\n",
      "C:\\Users\\jackl\\anaconda3\\lib\\site-packages\\xgboost\\data.py:250: FutureWarning: pandas.Int64Index is deprecated and will be removed from pandas in a future version. Use pandas.Index with the appropriate dtype instead.\n",
      "  elif isinstance(data.columns, (pd.Int64Index, pd.RangeIndex)):\n",
      "C:\\Users\\jackl\\anaconda3\\lib\\site-packages\\xgboost\\data.py:250: FutureWarning: pandas.Int64Index is deprecated and will be removed from pandas in a future version. Use pandas.Index with the appropriate dtype instead.\n",
      "  elif isinstance(data.columns, (pd.Int64Index, pd.RangeIndex)):\n",
      "C:\\Users\\jackl\\anaconda3\\lib\\site-packages\\xgboost\\data.py:250: FutureWarning: pandas.Int64Index is deprecated and will be removed from pandas in a future version. Use pandas.Index with the appropriate dtype instead.\n",
      "  elif isinstance(data.columns, (pd.Int64Index, pd.RangeIndex)):\n"
     ]
    },
    {
     "name": "stderr",
     "output_type": "stream",
     "text": [
      "C:\\Users\\jackl\\anaconda3\\lib\\site-packages\\xgboost\\data.py:250: FutureWarning: pandas.Int64Index is deprecated and will be removed from pandas in a future version. Use pandas.Index with the appropriate dtype instead.\n",
      "  elif isinstance(data.columns, (pd.Int64Index, pd.RangeIndex)):\n",
      "C:\\Users\\jackl\\anaconda3\\lib\\site-packages\\xgboost\\data.py:250: FutureWarning: pandas.Int64Index is deprecated and will be removed from pandas in a future version. Use pandas.Index with the appropriate dtype instead.\n",
      "  elif isinstance(data.columns, (pd.Int64Index, pd.RangeIndex)):\n",
      "C:\\Users\\jackl\\anaconda3\\lib\\site-packages\\xgboost\\data.py:250: FutureWarning: pandas.Int64Index is deprecated and will be removed from pandas in a future version. Use pandas.Index with the appropriate dtype instead.\n",
      "  elif isinstance(data.columns, (pd.Int64Index, pd.RangeIndex)):\n",
      "C:\\Users\\jackl\\anaconda3\\lib\\site-packages\\xgboost\\data.py:250: FutureWarning: pandas.Int64Index is deprecated and will be removed from pandas in a future version. Use pandas.Index with the appropriate dtype instead.\n",
      "  elif isinstance(data.columns, (pd.Int64Index, pd.RangeIndex)):\n",
      "C:\\Users\\jackl\\anaconda3\\lib\\site-packages\\xgboost\\data.py:250: FutureWarning: pandas.Int64Index is deprecated and will be removed from pandas in a future version. Use pandas.Index with the appropriate dtype instead.\n",
      "  elif isinstance(data.columns, (pd.Int64Index, pd.RangeIndex)):\n",
      "C:\\Users\\jackl\\anaconda3\\lib\\site-packages\\xgboost\\data.py:250: FutureWarning: pandas.Int64Index is deprecated and will be removed from pandas in a future version. Use pandas.Index with the appropriate dtype instead.\n",
      "  elif isinstance(data.columns, (pd.Int64Index, pd.RangeIndex)):\n",
      "C:\\Users\\jackl\\anaconda3\\lib\\site-packages\\xgboost\\data.py:250: FutureWarning: pandas.Int64Index is deprecated and will be removed from pandas in a future version. Use pandas.Index with the appropriate dtype instead.\n",
      "  elif isinstance(data.columns, (pd.Int64Index, pd.RangeIndex)):\n",
      "C:\\Users\\jackl\\anaconda3\\lib\\site-packages\\xgboost\\data.py:250: FutureWarning: pandas.Int64Index is deprecated and will be removed from pandas in a future version. Use pandas.Index with the appropriate dtype instead.\n",
      "  elif isinstance(data.columns, (pd.Int64Index, pd.RangeIndex)):\n",
      "C:\\Users\\jackl\\anaconda3\\lib\\site-packages\\xgboost\\data.py:250: FutureWarning: pandas.Int64Index is deprecated and will be removed from pandas in a future version. Use pandas.Index with the appropriate dtype instead.\n",
      "  elif isinstance(data.columns, (pd.Int64Index, pd.RangeIndex)):\n",
      "C:\\Users\\jackl\\anaconda3\\lib\\site-packages\\xgboost\\data.py:250: FutureWarning: pandas.Int64Index is deprecated and will be removed from pandas in a future version. Use pandas.Index with the appropriate dtype instead.\n",
      "  elif isinstance(data.columns, (pd.Int64Index, pd.RangeIndex)):\n",
      "C:\\Users\\jackl\\anaconda3\\lib\\site-packages\\xgboost\\data.py:250: FutureWarning: pandas.Int64Index is deprecated and will be removed from pandas in a future version. Use pandas.Index with the appropriate dtype instead.\n",
      "  elif isinstance(data.columns, (pd.Int64Index, pd.RangeIndex)):\n",
      "C:\\Users\\jackl\\anaconda3\\lib\\site-packages\\xgboost\\data.py:250: FutureWarning: pandas.Int64Index is deprecated and will be removed from pandas in a future version. Use pandas.Index with the appropriate dtype instead.\n",
      "  elif isinstance(data.columns, (pd.Int64Index, pd.RangeIndex)):\n",
      "C:\\Users\\jackl\\anaconda3\\lib\\site-packages\\xgboost\\data.py:250: FutureWarning: pandas.Int64Index is deprecated and will be removed from pandas in a future version. Use pandas.Index with the appropriate dtype instead.\n",
      "  elif isinstance(data.columns, (pd.Int64Index, pd.RangeIndex)):\n",
      "C:\\Users\\jackl\\anaconda3\\lib\\site-packages\\xgboost\\data.py:250: FutureWarning: pandas.Int64Index is deprecated and will be removed from pandas in a future version. Use pandas.Index with the appropriate dtype instead.\n",
      "  elif isinstance(data.columns, (pd.Int64Index, pd.RangeIndex)):\n",
      "C:\\Users\\jackl\\anaconda3\\lib\\site-packages\\xgboost\\data.py:250: FutureWarning: pandas.Int64Index is deprecated and will be removed from pandas in a future version. Use pandas.Index with the appropriate dtype instead.\n",
      "  elif isinstance(data.columns, (pd.Int64Index, pd.RangeIndex)):\n",
      "C:\\Users\\jackl\\anaconda3\\lib\\site-packages\\xgboost\\data.py:250: FutureWarning: pandas.Int64Index is deprecated and will be removed from pandas in a future version. Use pandas.Index with the appropriate dtype instead.\n",
      "  elif isinstance(data.columns, (pd.Int64Index, pd.RangeIndex)):\n",
      "C:\\Users\\jackl\\anaconda3\\lib\\site-packages\\xgboost\\data.py:250: FutureWarning: pandas.Int64Index is deprecated and will be removed from pandas in a future version. Use pandas.Index with the appropriate dtype instead.\n",
      "  elif isinstance(data.columns, (pd.Int64Index, pd.RangeIndex)):\n",
      "C:\\Users\\jackl\\anaconda3\\lib\\site-packages\\xgboost\\data.py:250: FutureWarning: pandas.Int64Index is deprecated and will be removed from pandas in a future version. Use pandas.Index with the appropriate dtype instead.\n",
      "  elif isinstance(data.columns, (pd.Int64Index, pd.RangeIndex)):\n",
      "C:\\Users\\jackl\\anaconda3\\lib\\site-packages\\xgboost\\data.py:250: FutureWarning: pandas.Int64Index is deprecated and will be removed from pandas in a future version. Use pandas.Index with the appropriate dtype instead.\n",
      "  elif isinstance(data.columns, (pd.Int64Index, pd.RangeIndex)):\n",
      "C:\\Users\\jackl\\anaconda3\\lib\\site-packages\\xgboost\\data.py:250: FutureWarning: pandas.Int64Index is deprecated and will be removed from pandas in a future version. Use pandas.Index with the appropriate dtype instead.\n",
      "  elif isinstance(data.columns, (pd.Int64Index, pd.RangeIndex)):\n",
      "C:\\Users\\jackl\\anaconda3\\lib\\site-packages\\xgboost\\data.py:250: FutureWarning: pandas.Int64Index is deprecated and will be removed from pandas in a future version. Use pandas.Index with the appropriate dtype instead.\n",
      "  elif isinstance(data.columns, (pd.Int64Index, pd.RangeIndex)):\n",
      "C:\\Users\\jackl\\anaconda3\\lib\\site-packages\\xgboost\\data.py:250: FutureWarning: pandas.Int64Index is deprecated and will be removed from pandas in a future version. Use pandas.Index with the appropriate dtype instead.\n",
      "  elif isinstance(data.columns, (pd.Int64Index, pd.RangeIndex)):\n",
      "C:\\Users\\jackl\\anaconda3\\lib\\site-packages\\xgboost\\data.py:250: FutureWarning: pandas.Int64Index is deprecated and will be removed from pandas in a future version. Use pandas.Index with the appropriate dtype instead.\n",
      "  elif isinstance(data.columns, (pd.Int64Index, pd.RangeIndex)):\n",
      "C:\\Users\\jackl\\anaconda3\\lib\\site-packages\\xgboost\\data.py:250: FutureWarning: pandas.Int64Index is deprecated and will be removed from pandas in a future version. Use pandas.Index with the appropriate dtype instead.\n",
      "  elif isinstance(data.columns, (pd.Int64Index, pd.RangeIndex)):\n",
      "C:\\Users\\jackl\\anaconda3\\lib\\site-packages\\xgboost\\data.py:250: FutureWarning: pandas.Int64Index is deprecated and will be removed from pandas in a future version. Use pandas.Index with the appropriate dtype instead.\n",
      "  elif isinstance(data.columns, (pd.Int64Index, pd.RangeIndex)):\n",
      "C:\\Users\\jackl\\anaconda3\\lib\\site-packages\\xgboost\\data.py:250: FutureWarning: pandas.Int64Index is deprecated and will be removed from pandas in a future version. Use pandas.Index with the appropriate dtype instead.\n",
      "  elif isinstance(data.columns, (pd.Int64Index, pd.RangeIndex)):\n",
      "C:\\Users\\jackl\\anaconda3\\lib\\site-packages\\xgboost\\data.py:250: FutureWarning: pandas.Int64Index is deprecated and will be removed from pandas in a future version. Use pandas.Index with the appropriate dtype instead.\n",
      "  elif isinstance(data.columns, (pd.Int64Index, pd.RangeIndex)):\n",
      "C:\\Users\\jackl\\anaconda3\\lib\\site-packages\\xgboost\\data.py:250: FutureWarning: pandas.Int64Index is deprecated and will be removed from pandas in a future version. Use pandas.Index with the appropriate dtype instead.\n",
      "  elif isinstance(data.columns, (pd.Int64Index, pd.RangeIndex)):\n",
      "C:\\Users\\jackl\\anaconda3\\lib\\site-packages\\xgboost\\data.py:250: FutureWarning: pandas.Int64Index is deprecated and will be removed from pandas in a future version. Use pandas.Index with the appropriate dtype instead.\n",
      "  elif isinstance(data.columns, (pd.Int64Index, pd.RangeIndex)):\n",
      "C:\\Users\\jackl\\anaconda3\\lib\\site-packages\\xgboost\\data.py:250: FutureWarning: pandas.Int64Index is deprecated and will be removed from pandas in a future version. Use pandas.Index with the appropriate dtype instead.\n",
      "  elif isinstance(data.columns, (pd.Int64Index, pd.RangeIndex)):\n",
      "C:\\Users\\jackl\\anaconda3\\lib\\site-packages\\xgboost\\data.py:250: FutureWarning: pandas.Int64Index is deprecated and will be removed from pandas in a future version. Use pandas.Index with the appropriate dtype instead.\n",
      "  elif isinstance(data.columns, (pd.Int64Index, pd.RangeIndex)):\n",
      "C:\\Users\\jackl\\anaconda3\\lib\\site-packages\\xgboost\\data.py:250: FutureWarning: pandas.Int64Index is deprecated and will be removed from pandas in a future version. Use pandas.Index with the appropriate dtype instead.\n",
      "  elif isinstance(data.columns, (pd.Int64Index, pd.RangeIndex)):\n",
      "C:\\Users\\jackl\\anaconda3\\lib\\site-packages\\xgboost\\data.py:250: FutureWarning: pandas.Int64Index is deprecated and will be removed from pandas in a future version. Use pandas.Index with the appropriate dtype instead.\n",
      "  elif isinstance(data.columns, (pd.Int64Index, pd.RangeIndex)):\n",
      "C:\\Users\\jackl\\anaconda3\\lib\\site-packages\\xgboost\\data.py:250: FutureWarning: pandas.Int64Index is deprecated and will be removed from pandas in a future version. Use pandas.Index with the appropriate dtype instead.\n",
      "  elif isinstance(data.columns, (pd.Int64Index, pd.RangeIndex)):\n"
     ]
    },
    {
     "name": "stderr",
     "output_type": "stream",
     "text": [
      "C:\\Users\\jackl\\anaconda3\\lib\\site-packages\\xgboost\\data.py:250: FutureWarning: pandas.Int64Index is deprecated and will be removed from pandas in a future version. Use pandas.Index with the appropriate dtype instead.\n",
      "  elif isinstance(data.columns, (pd.Int64Index, pd.RangeIndex)):\n",
      "C:\\Users\\jackl\\anaconda3\\lib\\site-packages\\xgboost\\data.py:250: FutureWarning: pandas.Int64Index is deprecated and will be removed from pandas in a future version. Use pandas.Index with the appropriate dtype instead.\n",
      "  elif isinstance(data.columns, (pd.Int64Index, pd.RangeIndex)):\n",
      "C:\\Users\\jackl\\anaconda3\\lib\\site-packages\\xgboost\\data.py:250: FutureWarning: pandas.Int64Index is deprecated and will be removed from pandas in a future version. Use pandas.Index with the appropriate dtype instead.\n",
      "  elif isinstance(data.columns, (pd.Int64Index, pd.RangeIndex)):\n",
      "C:\\Users\\jackl\\anaconda3\\lib\\site-packages\\xgboost\\data.py:250: FutureWarning: pandas.Int64Index is deprecated and will be removed from pandas in a future version. Use pandas.Index with the appropriate dtype instead.\n",
      "  elif isinstance(data.columns, (pd.Int64Index, pd.RangeIndex)):\n",
      "C:\\Users\\jackl\\anaconda3\\lib\\site-packages\\xgboost\\data.py:250: FutureWarning: pandas.Int64Index is deprecated and will be removed from pandas in a future version. Use pandas.Index with the appropriate dtype instead.\n",
      "  elif isinstance(data.columns, (pd.Int64Index, pd.RangeIndex)):\n",
      "C:\\Users\\jackl\\anaconda3\\lib\\site-packages\\xgboost\\data.py:250: FutureWarning: pandas.Int64Index is deprecated and will be removed from pandas in a future version. Use pandas.Index with the appropriate dtype instead.\n",
      "  elif isinstance(data.columns, (pd.Int64Index, pd.RangeIndex)):\n",
      "C:\\Users\\jackl\\anaconda3\\lib\\site-packages\\xgboost\\data.py:250: FutureWarning: pandas.Int64Index is deprecated and will be removed from pandas in a future version. Use pandas.Index with the appropriate dtype instead.\n",
      "  elif isinstance(data.columns, (pd.Int64Index, pd.RangeIndex)):\n",
      "C:\\Users\\jackl\\anaconda3\\lib\\site-packages\\xgboost\\data.py:250: FutureWarning: pandas.Int64Index is deprecated and will be removed from pandas in a future version. Use pandas.Index with the appropriate dtype instead.\n",
      "  elif isinstance(data.columns, (pd.Int64Index, pd.RangeIndex)):\n",
      "C:\\Users\\jackl\\anaconda3\\lib\\site-packages\\xgboost\\data.py:250: FutureWarning: pandas.Int64Index is deprecated and will be removed from pandas in a future version. Use pandas.Index with the appropriate dtype instead.\n",
      "  elif isinstance(data.columns, (pd.Int64Index, pd.RangeIndex)):\n",
      "C:\\Users\\jackl\\anaconda3\\lib\\site-packages\\xgboost\\data.py:250: FutureWarning: pandas.Int64Index is deprecated and will be removed from pandas in a future version. Use pandas.Index with the appropriate dtype instead.\n",
      "  elif isinstance(data.columns, (pd.Int64Index, pd.RangeIndex)):\n",
      "C:\\Users\\jackl\\anaconda3\\lib\\site-packages\\xgboost\\data.py:250: FutureWarning: pandas.Int64Index is deprecated and will be removed from pandas in a future version. Use pandas.Index with the appropriate dtype instead.\n",
      "  elif isinstance(data.columns, (pd.Int64Index, pd.RangeIndex)):\n",
      "C:\\Users\\jackl\\anaconda3\\lib\\site-packages\\xgboost\\data.py:250: FutureWarning: pandas.Int64Index is deprecated and will be removed from pandas in a future version. Use pandas.Index with the appropriate dtype instead.\n",
      "  elif isinstance(data.columns, (pd.Int64Index, pd.RangeIndex)):\n",
      "C:\\Users\\jackl\\anaconda3\\lib\\site-packages\\xgboost\\data.py:250: FutureWarning: pandas.Int64Index is deprecated and will be removed from pandas in a future version. Use pandas.Index with the appropriate dtype instead.\n",
      "  elif isinstance(data.columns, (pd.Int64Index, pd.RangeIndex)):\n",
      "C:\\Users\\jackl\\anaconda3\\lib\\site-packages\\xgboost\\data.py:250: FutureWarning: pandas.Int64Index is deprecated and will be removed from pandas in a future version. Use pandas.Index with the appropriate dtype instead.\n",
      "  elif isinstance(data.columns, (pd.Int64Index, pd.RangeIndex)):\n",
      "C:\\Users\\jackl\\anaconda3\\lib\\site-packages\\xgboost\\data.py:250: FutureWarning: pandas.Int64Index is deprecated and will be removed from pandas in a future version. Use pandas.Index with the appropriate dtype instead.\n",
      "  elif isinstance(data.columns, (pd.Int64Index, pd.RangeIndex)):\n",
      "C:\\Users\\jackl\\anaconda3\\lib\\site-packages\\xgboost\\data.py:250: FutureWarning: pandas.Int64Index is deprecated and will be removed from pandas in a future version. Use pandas.Index with the appropriate dtype instead.\n",
      "  elif isinstance(data.columns, (pd.Int64Index, pd.RangeIndex)):\n",
      "C:\\Users\\jackl\\anaconda3\\lib\\site-packages\\xgboost\\data.py:250: FutureWarning: pandas.Int64Index is deprecated and will be removed from pandas in a future version. Use pandas.Index with the appropriate dtype instead.\n",
      "  elif isinstance(data.columns, (pd.Int64Index, pd.RangeIndex)):\n",
      "C:\\Users\\jackl\\anaconda3\\lib\\site-packages\\xgboost\\data.py:250: FutureWarning: pandas.Int64Index is deprecated and will be removed from pandas in a future version. Use pandas.Index with the appropriate dtype instead.\n",
      "  elif isinstance(data.columns, (pd.Int64Index, pd.RangeIndex)):\n",
      "C:\\Users\\jackl\\anaconda3\\lib\\site-packages\\xgboost\\data.py:250: FutureWarning: pandas.Int64Index is deprecated and will be removed from pandas in a future version. Use pandas.Index with the appropriate dtype instead.\n",
      "  elif isinstance(data.columns, (pd.Int64Index, pd.RangeIndex)):\n",
      "C:\\Users\\jackl\\anaconda3\\lib\\site-packages\\xgboost\\data.py:250: FutureWarning: pandas.Int64Index is deprecated and will be removed from pandas in a future version. Use pandas.Index with the appropriate dtype instead.\n",
      "  elif isinstance(data.columns, (pd.Int64Index, pd.RangeIndex)):\n",
      "C:\\Users\\jackl\\anaconda3\\lib\\site-packages\\xgboost\\data.py:250: FutureWarning: pandas.Int64Index is deprecated and will be removed from pandas in a future version. Use pandas.Index with the appropriate dtype instead.\n",
      "  elif isinstance(data.columns, (pd.Int64Index, pd.RangeIndex)):\n",
      "C:\\Users\\jackl\\anaconda3\\lib\\site-packages\\xgboost\\data.py:250: FutureWarning: pandas.Int64Index is deprecated and will be removed from pandas in a future version. Use pandas.Index with the appropriate dtype instead.\n",
      "  elif isinstance(data.columns, (pd.Int64Index, pd.RangeIndex)):\n",
      "C:\\Users\\jackl\\anaconda3\\lib\\site-packages\\xgboost\\data.py:250: FutureWarning: pandas.Int64Index is deprecated and will be removed from pandas in a future version. Use pandas.Index with the appropriate dtype instead.\n",
      "  elif isinstance(data.columns, (pd.Int64Index, pd.RangeIndex)):\n",
      "C:\\Users\\jackl\\anaconda3\\lib\\site-packages\\xgboost\\data.py:250: FutureWarning: pandas.Int64Index is deprecated and will be removed from pandas in a future version. Use pandas.Index with the appropriate dtype instead.\n",
      "  elif isinstance(data.columns, (pd.Int64Index, pd.RangeIndex)):\n",
      "C:\\Users\\jackl\\anaconda3\\lib\\site-packages\\xgboost\\data.py:250: FutureWarning: pandas.Int64Index is deprecated and will be removed from pandas in a future version. Use pandas.Index with the appropriate dtype instead.\n",
      "  elif isinstance(data.columns, (pd.Int64Index, pd.RangeIndex)):\n",
      "C:\\Users\\jackl\\anaconda3\\lib\\site-packages\\xgboost\\data.py:250: FutureWarning: pandas.Int64Index is deprecated and will be removed from pandas in a future version. Use pandas.Index with the appropriate dtype instead.\n",
      "  elif isinstance(data.columns, (pd.Int64Index, pd.RangeIndex)):\n",
      "C:\\Users\\jackl\\anaconda3\\lib\\site-packages\\xgboost\\data.py:250: FutureWarning: pandas.Int64Index is deprecated and will be removed from pandas in a future version. Use pandas.Index with the appropriate dtype instead.\n",
      "  elif isinstance(data.columns, (pd.Int64Index, pd.RangeIndex)):\n",
      "C:\\Users\\jackl\\anaconda3\\lib\\site-packages\\xgboost\\data.py:250: FutureWarning: pandas.Int64Index is deprecated and will be removed from pandas in a future version. Use pandas.Index with the appropriate dtype instead.\n",
      "  elif isinstance(data.columns, (pd.Int64Index, pd.RangeIndex)):\n",
      "C:\\Users\\jackl\\anaconda3\\lib\\site-packages\\xgboost\\data.py:250: FutureWarning: pandas.Int64Index is deprecated and will be removed from pandas in a future version. Use pandas.Index with the appropriate dtype instead.\n",
      "  elif isinstance(data.columns, (pd.Int64Index, pd.RangeIndex)):\n",
      "C:\\Users\\jackl\\anaconda3\\lib\\site-packages\\xgboost\\data.py:250: FutureWarning: pandas.Int64Index is deprecated and will be removed from pandas in a future version. Use pandas.Index with the appropriate dtype instead.\n",
      "  elif isinstance(data.columns, (pd.Int64Index, pd.RangeIndex)):\n",
      "C:\\Users\\jackl\\anaconda3\\lib\\site-packages\\xgboost\\data.py:250: FutureWarning: pandas.Int64Index is deprecated and will be removed from pandas in a future version. Use pandas.Index with the appropriate dtype instead.\n",
      "  elif isinstance(data.columns, (pd.Int64Index, pd.RangeIndex)):\n",
      "C:\\Users\\jackl\\anaconda3\\lib\\site-packages\\xgboost\\data.py:250: FutureWarning: pandas.Int64Index is deprecated and will be removed from pandas in a future version. Use pandas.Index with the appropriate dtype instead.\n",
      "  elif isinstance(data.columns, (pd.Int64Index, pd.RangeIndex)):\n"
     ]
    },
    {
     "name": "stderr",
     "output_type": "stream",
     "text": [
      "C:\\Users\\jackl\\anaconda3\\lib\\site-packages\\xgboost\\data.py:250: FutureWarning: pandas.Int64Index is deprecated and will be removed from pandas in a future version. Use pandas.Index with the appropriate dtype instead.\n",
      "  elif isinstance(data.columns, (pd.Int64Index, pd.RangeIndex)):\n",
      "C:\\Users\\jackl\\anaconda3\\lib\\site-packages\\xgboost\\data.py:250: FutureWarning: pandas.Int64Index is deprecated and will be removed from pandas in a future version. Use pandas.Index with the appropriate dtype instead.\n",
      "  elif isinstance(data.columns, (pd.Int64Index, pd.RangeIndex)):\n",
      "C:\\Users\\jackl\\anaconda3\\lib\\site-packages\\xgboost\\data.py:250: FutureWarning: pandas.Int64Index is deprecated and will be removed from pandas in a future version. Use pandas.Index with the appropriate dtype instead.\n",
      "  elif isinstance(data.columns, (pd.Int64Index, pd.RangeIndex)):\n",
      "C:\\Users\\jackl\\anaconda3\\lib\\site-packages\\xgboost\\data.py:250: FutureWarning: pandas.Int64Index is deprecated and will be removed from pandas in a future version. Use pandas.Index with the appropriate dtype instead.\n",
      "  elif isinstance(data.columns, (pd.Int64Index, pd.RangeIndex)):\n",
      "C:\\Users\\jackl\\anaconda3\\lib\\site-packages\\xgboost\\data.py:250: FutureWarning: pandas.Int64Index is deprecated and will be removed from pandas in a future version. Use pandas.Index with the appropriate dtype instead.\n",
      "  elif isinstance(data.columns, (pd.Int64Index, pd.RangeIndex)):\n",
      "C:\\Users\\jackl\\anaconda3\\lib\\site-packages\\xgboost\\data.py:250: FutureWarning: pandas.Int64Index is deprecated and will be removed from pandas in a future version. Use pandas.Index with the appropriate dtype instead.\n",
      "  elif isinstance(data.columns, (pd.Int64Index, pd.RangeIndex)):\n",
      "C:\\Users\\jackl\\anaconda3\\lib\\site-packages\\xgboost\\data.py:250: FutureWarning: pandas.Int64Index is deprecated and will be removed from pandas in a future version. Use pandas.Index with the appropriate dtype instead.\n",
      "  elif isinstance(data.columns, (pd.Int64Index, pd.RangeIndex)):\n",
      "C:\\Users\\jackl\\anaconda3\\lib\\site-packages\\xgboost\\data.py:250: FutureWarning: pandas.Int64Index is deprecated and will be removed from pandas in a future version. Use pandas.Index with the appropriate dtype instead.\n",
      "  elif isinstance(data.columns, (pd.Int64Index, pd.RangeIndex)):\n",
      "C:\\Users\\jackl\\anaconda3\\lib\\site-packages\\xgboost\\data.py:250: FutureWarning: pandas.Int64Index is deprecated and will be removed from pandas in a future version. Use pandas.Index with the appropriate dtype instead.\n",
      "  elif isinstance(data.columns, (pd.Int64Index, pd.RangeIndex)):\n",
      "C:\\Users\\jackl\\anaconda3\\lib\\site-packages\\xgboost\\data.py:250: FutureWarning: pandas.Int64Index is deprecated and will be removed from pandas in a future version. Use pandas.Index with the appropriate dtype instead.\n",
      "  elif isinstance(data.columns, (pd.Int64Index, pd.RangeIndex)):\n",
      "C:\\Users\\jackl\\anaconda3\\lib\\site-packages\\xgboost\\data.py:250: FutureWarning: pandas.Int64Index is deprecated and will be removed from pandas in a future version. Use pandas.Index with the appropriate dtype instead.\n",
      "  elif isinstance(data.columns, (pd.Int64Index, pd.RangeIndex)):\n",
      "C:\\Users\\jackl\\anaconda3\\lib\\site-packages\\xgboost\\data.py:250: FutureWarning: pandas.Int64Index is deprecated and will be removed from pandas in a future version. Use pandas.Index with the appropriate dtype instead.\n",
      "  elif isinstance(data.columns, (pd.Int64Index, pd.RangeIndex)):\n",
      "C:\\Users\\jackl\\anaconda3\\lib\\site-packages\\xgboost\\data.py:250: FutureWarning: pandas.Int64Index is deprecated and will be removed from pandas in a future version. Use pandas.Index with the appropriate dtype instead.\n",
      "  elif isinstance(data.columns, (pd.Int64Index, pd.RangeIndex)):\n",
      "C:\\Users\\jackl\\anaconda3\\lib\\site-packages\\xgboost\\data.py:250: FutureWarning: pandas.Int64Index is deprecated and will be removed from pandas in a future version. Use pandas.Index with the appropriate dtype instead.\n",
      "  elif isinstance(data.columns, (pd.Int64Index, pd.RangeIndex)):\n",
      "C:\\Users\\jackl\\anaconda3\\lib\\site-packages\\xgboost\\data.py:250: FutureWarning: pandas.Int64Index is deprecated and will be removed from pandas in a future version. Use pandas.Index with the appropriate dtype instead.\n",
      "  elif isinstance(data.columns, (pd.Int64Index, pd.RangeIndex)):\n",
      "C:\\Users\\jackl\\anaconda3\\lib\\site-packages\\xgboost\\data.py:250: FutureWarning: pandas.Int64Index is deprecated and will be removed from pandas in a future version. Use pandas.Index with the appropriate dtype instead.\n",
      "  elif isinstance(data.columns, (pd.Int64Index, pd.RangeIndex)):\n",
      "C:\\Users\\jackl\\anaconda3\\lib\\site-packages\\xgboost\\data.py:250: FutureWarning: pandas.Int64Index is deprecated and will be removed from pandas in a future version. Use pandas.Index with the appropriate dtype instead.\n",
      "  elif isinstance(data.columns, (pd.Int64Index, pd.RangeIndex)):\n",
      "C:\\Users\\jackl\\anaconda3\\lib\\site-packages\\xgboost\\data.py:250: FutureWarning: pandas.Int64Index is deprecated and will be removed from pandas in a future version. Use pandas.Index with the appropriate dtype instead.\n",
      "  elif isinstance(data.columns, (pd.Int64Index, pd.RangeIndex)):\n",
      "C:\\Users\\jackl\\anaconda3\\lib\\site-packages\\xgboost\\data.py:250: FutureWarning: pandas.Int64Index is deprecated and will be removed from pandas in a future version. Use pandas.Index with the appropriate dtype instead.\n",
      "  elif isinstance(data.columns, (pd.Int64Index, pd.RangeIndex)):\n",
      "C:\\Users\\jackl\\anaconda3\\lib\\site-packages\\xgboost\\data.py:250: FutureWarning: pandas.Int64Index is deprecated and will be removed from pandas in a future version. Use pandas.Index with the appropriate dtype instead.\n",
      "  elif isinstance(data.columns, (pd.Int64Index, pd.RangeIndex)):\n",
      "C:\\Users\\jackl\\anaconda3\\lib\\site-packages\\xgboost\\data.py:250: FutureWarning: pandas.Int64Index is deprecated and will be removed from pandas in a future version. Use pandas.Index with the appropriate dtype instead.\n",
      "  elif isinstance(data.columns, (pd.Int64Index, pd.RangeIndex)):\n",
      "C:\\Users\\jackl\\anaconda3\\lib\\site-packages\\xgboost\\data.py:250: FutureWarning: pandas.Int64Index is deprecated and will be removed from pandas in a future version. Use pandas.Index with the appropriate dtype instead.\n",
      "  elif isinstance(data.columns, (pd.Int64Index, pd.RangeIndex)):\n",
      "C:\\Users\\jackl\\anaconda3\\lib\\site-packages\\xgboost\\data.py:250: FutureWarning: pandas.Int64Index is deprecated and will be removed from pandas in a future version. Use pandas.Index with the appropriate dtype instead.\n",
      "  elif isinstance(data.columns, (pd.Int64Index, pd.RangeIndex)):\n",
      "C:\\Users\\jackl\\anaconda3\\lib\\site-packages\\xgboost\\data.py:250: FutureWarning: pandas.Int64Index is deprecated and will be removed from pandas in a future version. Use pandas.Index with the appropriate dtype instead.\n",
      "  elif isinstance(data.columns, (pd.Int64Index, pd.RangeIndex)):\n",
      "C:\\Users\\jackl\\anaconda3\\lib\\site-packages\\xgboost\\data.py:250: FutureWarning: pandas.Int64Index is deprecated and will be removed from pandas in a future version. Use pandas.Index with the appropriate dtype instead.\n",
      "  elif isinstance(data.columns, (pd.Int64Index, pd.RangeIndex)):\n",
      "C:\\Users\\jackl\\anaconda3\\lib\\site-packages\\xgboost\\data.py:250: FutureWarning: pandas.Int64Index is deprecated and will be removed from pandas in a future version. Use pandas.Index with the appropriate dtype instead.\n",
      "  elif isinstance(data.columns, (pd.Int64Index, pd.RangeIndex)):\n",
      "C:\\Users\\jackl\\anaconda3\\lib\\site-packages\\xgboost\\data.py:250: FutureWarning: pandas.Int64Index is deprecated and will be removed from pandas in a future version. Use pandas.Index with the appropriate dtype instead.\n",
      "  elif isinstance(data.columns, (pd.Int64Index, pd.RangeIndex)):\n",
      "C:\\Users\\jackl\\anaconda3\\lib\\site-packages\\xgboost\\data.py:250: FutureWarning: pandas.Int64Index is deprecated and will be removed from pandas in a future version. Use pandas.Index with the appropriate dtype instead.\n",
      "  elif isinstance(data.columns, (pd.Int64Index, pd.RangeIndex)):\n",
      "C:\\Users\\jackl\\anaconda3\\lib\\site-packages\\xgboost\\data.py:250: FutureWarning: pandas.Int64Index is deprecated and will be removed from pandas in a future version. Use pandas.Index with the appropriate dtype instead.\n",
      "  elif isinstance(data.columns, (pd.Int64Index, pd.RangeIndex)):\n",
      "C:\\Users\\jackl\\anaconda3\\lib\\site-packages\\xgboost\\data.py:250: FutureWarning: pandas.Int64Index is deprecated and will be removed from pandas in a future version. Use pandas.Index with the appropriate dtype instead.\n",
      "  elif isinstance(data.columns, (pd.Int64Index, pd.RangeIndex)):\n"
     ]
    },
    {
     "name": "stderr",
     "output_type": "stream",
     "text": [
      "C:\\Users\\jackl\\anaconda3\\lib\\site-packages\\xgboost\\data.py:250: FutureWarning: pandas.Int64Index is deprecated and will be removed from pandas in a future version. Use pandas.Index with the appropriate dtype instead.\n",
      "  elif isinstance(data.columns, (pd.Int64Index, pd.RangeIndex)):\n",
      "C:\\Users\\jackl\\anaconda3\\lib\\site-packages\\xgboost\\data.py:250: FutureWarning: pandas.Int64Index is deprecated and will be removed from pandas in a future version. Use pandas.Index with the appropriate dtype instead.\n",
      "  elif isinstance(data.columns, (pd.Int64Index, pd.RangeIndex)):\n",
      "C:\\Users\\jackl\\anaconda3\\lib\\site-packages\\xgboost\\data.py:250: FutureWarning: pandas.Int64Index is deprecated and will be removed from pandas in a future version. Use pandas.Index with the appropriate dtype instead.\n",
      "  elif isinstance(data.columns, (pd.Int64Index, pd.RangeIndex)):\n",
      "C:\\Users\\jackl\\anaconda3\\lib\\site-packages\\xgboost\\data.py:250: FutureWarning: pandas.Int64Index is deprecated and will be removed from pandas in a future version. Use pandas.Index with the appropriate dtype instead.\n",
      "  elif isinstance(data.columns, (pd.Int64Index, pd.RangeIndex)):\n",
      "C:\\Users\\jackl\\anaconda3\\lib\\site-packages\\xgboost\\data.py:250: FutureWarning: pandas.Int64Index is deprecated and will be removed from pandas in a future version. Use pandas.Index with the appropriate dtype instead.\n",
      "  elif isinstance(data.columns, (pd.Int64Index, pd.RangeIndex)):\n",
      "C:\\Users\\jackl\\anaconda3\\lib\\site-packages\\xgboost\\data.py:250: FutureWarning: pandas.Int64Index is deprecated and will be removed from pandas in a future version. Use pandas.Index with the appropriate dtype instead.\n",
      "  elif isinstance(data.columns, (pd.Int64Index, pd.RangeIndex)):\n",
      "C:\\Users\\jackl\\anaconda3\\lib\\site-packages\\xgboost\\data.py:250: FutureWarning: pandas.Int64Index is deprecated and will be removed from pandas in a future version. Use pandas.Index with the appropriate dtype instead.\n",
      "  elif isinstance(data.columns, (pd.Int64Index, pd.RangeIndex)):\n",
      "C:\\Users\\jackl\\anaconda3\\lib\\site-packages\\xgboost\\data.py:250: FutureWarning: pandas.Int64Index is deprecated and will be removed from pandas in a future version. Use pandas.Index with the appropriate dtype instead.\n",
      "  elif isinstance(data.columns, (pd.Int64Index, pd.RangeIndex)):\n",
      "C:\\Users\\jackl\\anaconda3\\lib\\site-packages\\xgboost\\data.py:250: FutureWarning: pandas.Int64Index is deprecated and will be removed from pandas in a future version. Use pandas.Index with the appropriate dtype instead.\n",
      "  elif isinstance(data.columns, (pd.Int64Index, pd.RangeIndex)):\n",
      "C:\\Users\\jackl\\anaconda3\\lib\\site-packages\\xgboost\\data.py:250: FutureWarning: pandas.Int64Index is deprecated and will be removed from pandas in a future version. Use pandas.Index with the appropriate dtype instead.\n",
      "  elif isinstance(data.columns, (pd.Int64Index, pd.RangeIndex)):\n",
      "C:\\Users\\jackl\\anaconda3\\lib\\site-packages\\xgboost\\data.py:250: FutureWarning: pandas.Int64Index is deprecated and will be removed from pandas in a future version. Use pandas.Index with the appropriate dtype instead.\n",
      "  elif isinstance(data.columns, (pd.Int64Index, pd.RangeIndex)):\n",
      "C:\\Users\\jackl\\anaconda3\\lib\\site-packages\\xgboost\\data.py:250: FutureWarning: pandas.Int64Index is deprecated and will be removed from pandas in a future version. Use pandas.Index with the appropriate dtype instead.\n",
      "  elif isinstance(data.columns, (pd.Int64Index, pd.RangeIndex)):\n",
      "C:\\Users\\jackl\\anaconda3\\lib\\site-packages\\xgboost\\data.py:250: FutureWarning: pandas.Int64Index is deprecated and will be removed from pandas in a future version. Use pandas.Index with the appropriate dtype instead.\n",
      "  elif isinstance(data.columns, (pd.Int64Index, pd.RangeIndex)):\n",
      "C:\\Users\\jackl\\anaconda3\\lib\\site-packages\\xgboost\\data.py:250: FutureWarning: pandas.Int64Index is deprecated and will be removed from pandas in a future version. Use pandas.Index with the appropriate dtype instead.\n",
      "  elif isinstance(data.columns, (pd.Int64Index, pd.RangeIndex)):\n",
      "C:\\Users\\jackl\\anaconda3\\lib\\site-packages\\xgboost\\data.py:250: FutureWarning: pandas.Int64Index is deprecated and will be removed from pandas in a future version. Use pandas.Index with the appropriate dtype instead.\n",
      "  elif isinstance(data.columns, (pd.Int64Index, pd.RangeIndex)):\n",
      "C:\\Users\\jackl\\anaconda3\\lib\\site-packages\\xgboost\\data.py:250: FutureWarning: pandas.Int64Index is deprecated and will be removed from pandas in a future version. Use pandas.Index with the appropriate dtype instead.\n",
      "  elif isinstance(data.columns, (pd.Int64Index, pd.RangeIndex)):\n",
      "C:\\Users\\jackl\\anaconda3\\lib\\site-packages\\xgboost\\data.py:250: FutureWarning: pandas.Int64Index is deprecated and will be removed from pandas in a future version. Use pandas.Index with the appropriate dtype instead.\n",
      "  elif isinstance(data.columns, (pd.Int64Index, pd.RangeIndex)):\n",
      "C:\\Users\\jackl\\anaconda3\\lib\\site-packages\\xgboost\\data.py:250: FutureWarning: pandas.Int64Index is deprecated and will be removed from pandas in a future version. Use pandas.Index with the appropriate dtype instead.\n",
      "  elif isinstance(data.columns, (pd.Int64Index, pd.RangeIndex)):\n",
      "C:\\Users\\jackl\\anaconda3\\lib\\site-packages\\xgboost\\data.py:250: FutureWarning: pandas.Int64Index is deprecated and will be removed from pandas in a future version. Use pandas.Index with the appropriate dtype instead.\n",
      "  elif isinstance(data.columns, (pd.Int64Index, pd.RangeIndex)):\n",
      "C:\\Users\\jackl\\anaconda3\\lib\\site-packages\\xgboost\\data.py:250: FutureWarning: pandas.Int64Index is deprecated and will be removed from pandas in a future version. Use pandas.Index with the appropriate dtype instead.\n",
      "  elif isinstance(data.columns, (pd.Int64Index, pd.RangeIndex)):\n",
      "C:\\Users\\jackl\\anaconda3\\lib\\site-packages\\xgboost\\data.py:250: FutureWarning: pandas.Int64Index is deprecated and will be removed from pandas in a future version. Use pandas.Index with the appropriate dtype instead.\n",
      "  elif isinstance(data.columns, (pd.Int64Index, pd.RangeIndex)):\n",
      "C:\\Users\\jackl\\anaconda3\\lib\\site-packages\\xgboost\\data.py:250: FutureWarning: pandas.Int64Index is deprecated and will be removed from pandas in a future version. Use pandas.Index with the appropriate dtype instead.\n",
      "  elif isinstance(data.columns, (pd.Int64Index, pd.RangeIndex)):\n",
      "C:\\Users\\jackl\\anaconda3\\lib\\site-packages\\xgboost\\data.py:250: FutureWarning: pandas.Int64Index is deprecated and will be removed from pandas in a future version. Use pandas.Index with the appropriate dtype instead.\n",
      "  elif isinstance(data.columns, (pd.Int64Index, pd.RangeIndex)):\n",
      "C:\\Users\\jackl\\anaconda3\\lib\\site-packages\\xgboost\\data.py:250: FutureWarning: pandas.Int64Index is deprecated and will be removed from pandas in a future version. Use pandas.Index with the appropriate dtype instead.\n",
      "  elif isinstance(data.columns, (pd.Int64Index, pd.RangeIndex)):\n",
      "C:\\Users\\jackl\\anaconda3\\lib\\site-packages\\xgboost\\data.py:250: FutureWarning: pandas.Int64Index is deprecated and will be removed from pandas in a future version. Use pandas.Index with the appropriate dtype instead.\n",
      "  elif isinstance(data.columns, (pd.Int64Index, pd.RangeIndex)):\n",
      "C:\\Users\\jackl\\anaconda3\\lib\\site-packages\\xgboost\\data.py:250: FutureWarning: pandas.Int64Index is deprecated and will be removed from pandas in a future version. Use pandas.Index with the appropriate dtype instead.\n",
      "  elif isinstance(data.columns, (pd.Int64Index, pd.RangeIndex)):\n",
      "C:\\Users\\jackl\\anaconda3\\lib\\site-packages\\xgboost\\data.py:250: FutureWarning: pandas.Int64Index is deprecated and will be removed from pandas in a future version. Use pandas.Index with the appropriate dtype instead.\n",
      "  elif isinstance(data.columns, (pd.Int64Index, pd.RangeIndex)):\n",
      "C:\\Users\\jackl\\anaconda3\\lib\\site-packages\\xgboost\\data.py:250: FutureWarning: pandas.Int64Index is deprecated and will be removed from pandas in a future version. Use pandas.Index with the appropriate dtype instead.\n",
      "  elif isinstance(data.columns, (pd.Int64Index, pd.RangeIndex)):\n",
      "C:\\Users\\jackl\\anaconda3\\lib\\site-packages\\xgboost\\data.py:250: FutureWarning: pandas.Int64Index is deprecated and will be removed from pandas in a future version. Use pandas.Index with the appropriate dtype instead.\n",
      "  elif isinstance(data.columns, (pd.Int64Index, pd.RangeIndex)):\n",
      "C:\\Users\\jackl\\anaconda3\\lib\\site-packages\\xgboost\\data.py:250: FutureWarning: pandas.Int64Index is deprecated and will be removed from pandas in a future version. Use pandas.Index with the appropriate dtype instead.\n",
      "  elif isinstance(data.columns, (pd.Int64Index, pd.RangeIndex)):\n",
      "C:\\Users\\jackl\\anaconda3\\lib\\site-packages\\xgboost\\data.py:250: FutureWarning: pandas.Int64Index is deprecated and will be removed from pandas in a future version. Use pandas.Index with the appropriate dtype instead.\n",
      "  elif isinstance(data.columns, (pd.Int64Index, pd.RangeIndex)):\n"
     ]
    },
    {
     "name": "stderr",
     "output_type": "stream",
     "text": [
      "C:\\Users\\jackl\\anaconda3\\lib\\site-packages\\xgboost\\data.py:250: FutureWarning: pandas.Int64Index is deprecated and will be removed from pandas in a future version. Use pandas.Index with the appropriate dtype instead.\n",
      "  elif isinstance(data.columns, (pd.Int64Index, pd.RangeIndex)):\n",
      "C:\\Users\\jackl\\anaconda3\\lib\\site-packages\\xgboost\\data.py:250: FutureWarning: pandas.Int64Index is deprecated and will be removed from pandas in a future version. Use pandas.Index with the appropriate dtype instead.\n",
      "  elif isinstance(data.columns, (pd.Int64Index, pd.RangeIndex)):\n",
      "C:\\Users\\jackl\\anaconda3\\lib\\site-packages\\xgboost\\data.py:250: FutureWarning: pandas.Int64Index is deprecated and will be removed from pandas in a future version. Use pandas.Index with the appropriate dtype instead.\n",
      "  elif isinstance(data.columns, (pd.Int64Index, pd.RangeIndex)):\n",
      "C:\\Users\\jackl\\anaconda3\\lib\\site-packages\\xgboost\\data.py:250: FutureWarning: pandas.Int64Index is deprecated and will be removed from pandas in a future version. Use pandas.Index with the appropriate dtype instead.\n",
      "  elif isinstance(data.columns, (pd.Int64Index, pd.RangeIndex)):\n",
      "C:\\Users\\jackl\\anaconda3\\lib\\site-packages\\xgboost\\data.py:250: FutureWarning: pandas.Int64Index is deprecated and will be removed from pandas in a future version. Use pandas.Index with the appropriate dtype instead.\n",
      "  elif isinstance(data.columns, (pd.Int64Index, pd.RangeIndex)):\n",
      "C:\\Users\\jackl\\anaconda3\\lib\\site-packages\\xgboost\\data.py:250: FutureWarning: pandas.Int64Index is deprecated and will be removed from pandas in a future version. Use pandas.Index with the appropriate dtype instead.\n",
      "  elif isinstance(data.columns, (pd.Int64Index, pd.RangeIndex)):\n",
      "C:\\Users\\jackl\\anaconda3\\lib\\site-packages\\xgboost\\data.py:250: FutureWarning: pandas.Int64Index is deprecated and will be removed from pandas in a future version. Use pandas.Index with the appropriate dtype instead.\n",
      "  elif isinstance(data.columns, (pd.Int64Index, pd.RangeIndex)):\n",
      "C:\\Users\\jackl\\anaconda3\\lib\\site-packages\\xgboost\\data.py:250: FutureWarning: pandas.Int64Index is deprecated and will be removed from pandas in a future version. Use pandas.Index with the appropriate dtype instead.\n",
      "  elif isinstance(data.columns, (pd.Int64Index, pd.RangeIndex)):\n",
      "C:\\Users\\jackl\\anaconda3\\lib\\site-packages\\xgboost\\data.py:250: FutureWarning: pandas.Int64Index is deprecated and will be removed from pandas in a future version. Use pandas.Index with the appropriate dtype instead.\n",
      "  elif isinstance(data.columns, (pd.Int64Index, pd.RangeIndex)):\n",
      "C:\\Users\\jackl\\anaconda3\\lib\\site-packages\\xgboost\\data.py:250: FutureWarning: pandas.Int64Index is deprecated and will be removed from pandas in a future version. Use pandas.Index with the appropriate dtype instead.\n",
      "  elif isinstance(data.columns, (pd.Int64Index, pd.RangeIndex)):\n",
      "C:\\Users\\jackl\\anaconda3\\lib\\site-packages\\xgboost\\data.py:250: FutureWarning: pandas.Int64Index is deprecated and will be removed from pandas in a future version. Use pandas.Index with the appropriate dtype instead.\n",
      "  elif isinstance(data.columns, (pd.Int64Index, pd.RangeIndex)):\n",
      "C:\\Users\\jackl\\anaconda3\\lib\\site-packages\\xgboost\\data.py:250: FutureWarning: pandas.Int64Index is deprecated and will be removed from pandas in a future version. Use pandas.Index with the appropriate dtype instead.\n",
      "  elif isinstance(data.columns, (pd.Int64Index, pd.RangeIndex)):\n",
      "C:\\Users\\jackl\\anaconda3\\lib\\site-packages\\xgboost\\data.py:250: FutureWarning: pandas.Int64Index is deprecated and will be removed from pandas in a future version. Use pandas.Index with the appropriate dtype instead.\n",
      "  elif isinstance(data.columns, (pd.Int64Index, pd.RangeIndex)):\n",
      "C:\\Users\\jackl\\anaconda3\\lib\\site-packages\\xgboost\\data.py:250: FutureWarning: pandas.Int64Index is deprecated and will be removed from pandas in a future version. Use pandas.Index with the appropriate dtype instead.\n",
      "  elif isinstance(data.columns, (pd.Int64Index, pd.RangeIndex)):\n",
      "C:\\Users\\jackl\\anaconda3\\lib\\site-packages\\xgboost\\data.py:250: FutureWarning: pandas.Int64Index is deprecated and will be removed from pandas in a future version. Use pandas.Index with the appropriate dtype instead.\n",
      "  elif isinstance(data.columns, (pd.Int64Index, pd.RangeIndex)):\n",
      "C:\\Users\\jackl\\anaconda3\\lib\\site-packages\\xgboost\\data.py:250: FutureWarning: pandas.Int64Index is deprecated and will be removed from pandas in a future version. Use pandas.Index with the appropriate dtype instead.\n",
      "  elif isinstance(data.columns, (pd.Int64Index, pd.RangeIndex)):\n",
      "C:\\Users\\jackl\\anaconda3\\lib\\site-packages\\xgboost\\data.py:250: FutureWarning: pandas.Int64Index is deprecated and will be removed from pandas in a future version. Use pandas.Index with the appropriate dtype instead.\n",
      "  elif isinstance(data.columns, (pd.Int64Index, pd.RangeIndex)):\n",
      "C:\\Users\\jackl\\anaconda3\\lib\\site-packages\\xgboost\\data.py:250: FutureWarning: pandas.Int64Index is deprecated and will be removed from pandas in a future version. Use pandas.Index with the appropriate dtype instead.\n",
      "  elif isinstance(data.columns, (pd.Int64Index, pd.RangeIndex)):\n",
      "C:\\Users\\jackl\\anaconda3\\lib\\site-packages\\xgboost\\data.py:250: FutureWarning: pandas.Int64Index is deprecated and will be removed from pandas in a future version. Use pandas.Index with the appropriate dtype instead.\n",
      "  elif isinstance(data.columns, (pd.Int64Index, pd.RangeIndex)):\n",
      "C:\\Users\\jackl\\anaconda3\\lib\\site-packages\\xgboost\\data.py:250: FutureWarning: pandas.Int64Index is deprecated and will be removed from pandas in a future version. Use pandas.Index with the appropriate dtype instead.\n",
      "  elif isinstance(data.columns, (pd.Int64Index, pd.RangeIndex)):\n",
      "C:\\Users\\jackl\\anaconda3\\lib\\site-packages\\xgboost\\data.py:250: FutureWarning: pandas.Int64Index is deprecated and will be removed from pandas in a future version. Use pandas.Index with the appropriate dtype instead.\n",
      "  elif isinstance(data.columns, (pd.Int64Index, pd.RangeIndex)):\n",
      "C:\\Users\\jackl\\anaconda3\\lib\\site-packages\\xgboost\\data.py:250: FutureWarning: pandas.Int64Index is deprecated and will be removed from pandas in a future version. Use pandas.Index with the appropriate dtype instead.\n",
      "  elif isinstance(data.columns, (pd.Int64Index, pd.RangeIndex)):\n",
      "C:\\Users\\jackl\\anaconda3\\lib\\site-packages\\xgboost\\data.py:250: FutureWarning: pandas.Int64Index is deprecated and will be removed from pandas in a future version. Use pandas.Index with the appropriate dtype instead.\n",
      "  elif isinstance(data.columns, (pd.Int64Index, pd.RangeIndex)):\n",
      "C:\\Users\\jackl\\anaconda3\\lib\\site-packages\\xgboost\\data.py:250: FutureWarning: pandas.Int64Index is deprecated and will be removed from pandas in a future version. Use pandas.Index with the appropriate dtype instead.\n",
      "  elif isinstance(data.columns, (pd.Int64Index, pd.RangeIndex)):\n",
      "C:\\Users\\jackl\\anaconda3\\lib\\site-packages\\xgboost\\data.py:250: FutureWarning: pandas.Int64Index is deprecated and will be removed from pandas in a future version. Use pandas.Index with the appropriate dtype instead.\n",
      "  elif isinstance(data.columns, (pd.Int64Index, pd.RangeIndex)):\n",
      "C:\\Users\\jackl\\anaconda3\\lib\\site-packages\\xgboost\\data.py:250: FutureWarning: pandas.Int64Index is deprecated and will be removed from pandas in a future version. Use pandas.Index with the appropriate dtype instead.\n",
      "  elif isinstance(data.columns, (pd.Int64Index, pd.RangeIndex)):\n",
      "C:\\Users\\jackl\\anaconda3\\lib\\site-packages\\xgboost\\data.py:250: FutureWarning: pandas.Int64Index is deprecated and will be removed from pandas in a future version. Use pandas.Index with the appropriate dtype instead.\n",
      "  elif isinstance(data.columns, (pd.Int64Index, pd.RangeIndex)):\n",
      "C:\\Users\\jackl\\anaconda3\\lib\\site-packages\\xgboost\\data.py:250: FutureWarning: pandas.Int64Index is deprecated and will be removed from pandas in a future version. Use pandas.Index with the appropriate dtype instead.\n",
      "  elif isinstance(data.columns, (pd.Int64Index, pd.RangeIndex)):\n",
      "C:\\Users\\jackl\\anaconda3\\lib\\site-packages\\xgboost\\data.py:250: FutureWarning: pandas.Int64Index is deprecated and will be removed from pandas in a future version. Use pandas.Index with the appropriate dtype instead.\n",
      "  elif isinstance(data.columns, (pd.Int64Index, pd.RangeIndex)):\n",
      "C:\\Users\\jackl\\anaconda3\\lib\\site-packages\\xgboost\\data.py:250: FutureWarning: pandas.Int64Index is deprecated and will be removed from pandas in a future version. Use pandas.Index with the appropriate dtype instead.\n",
      "  elif isinstance(data.columns, (pd.Int64Index, pd.RangeIndex)):\n",
      "C:\\Users\\jackl\\anaconda3\\lib\\site-packages\\xgboost\\data.py:250: FutureWarning: pandas.Int64Index is deprecated and will be removed from pandas in a future version. Use pandas.Index with the appropriate dtype instead.\n",
      "  elif isinstance(data.columns, (pd.Int64Index, pd.RangeIndex)):\n",
      "C:\\Users\\jackl\\anaconda3\\lib\\site-packages\\xgboost\\data.py:250: FutureWarning: pandas.Int64Index is deprecated and will be removed from pandas in a future version. Use pandas.Index with the appropriate dtype instead.\n",
      "  elif isinstance(data.columns, (pd.Int64Index, pd.RangeIndex)):\n"
     ]
    },
    {
     "name": "stderr",
     "output_type": "stream",
     "text": [
      "C:\\Users\\jackl\\anaconda3\\lib\\site-packages\\xgboost\\data.py:250: FutureWarning: pandas.Int64Index is deprecated and will be removed from pandas in a future version. Use pandas.Index with the appropriate dtype instead.\n",
      "  elif isinstance(data.columns, (pd.Int64Index, pd.RangeIndex)):\n",
      "C:\\Users\\jackl\\anaconda3\\lib\\site-packages\\xgboost\\data.py:250: FutureWarning: pandas.Int64Index is deprecated and will be removed from pandas in a future version. Use pandas.Index with the appropriate dtype instead.\n",
      "  elif isinstance(data.columns, (pd.Int64Index, pd.RangeIndex)):\n",
      "C:\\Users\\jackl\\anaconda3\\lib\\site-packages\\xgboost\\data.py:250: FutureWarning: pandas.Int64Index is deprecated and will be removed from pandas in a future version. Use pandas.Index with the appropriate dtype instead.\n",
      "  elif isinstance(data.columns, (pd.Int64Index, pd.RangeIndex)):\n",
      "C:\\Users\\jackl\\anaconda3\\lib\\site-packages\\xgboost\\data.py:250: FutureWarning: pandas.Int64Index is deprecated and will be removed from pandas in a future version. Use pandas.Index with the appropriate dtype instead.\n",
      "  elif isinstance(data.columns, (pd.Int64Index, pd.RangeIndex)):\n",
      "C:\\Users\\jackl\\anaconda3\\lib\\site-packages\\xgboost\\data.py:250: FutureWarning: pandas.Int64Index is deprecated and will be removed from pandas in a future version. Use pandas.Index with the appropriate dtype instead.\n",
      "  elif isinstance(data.columns, (pd.Int64Index, pd.RangeIndex)):\n",
      "C:\\Users\\jackl\\anaconda3\\lib\\site-packages\\xgboost\\data.py:250: FutureWarning: pandas.Int64Index is deprecated and will be removed from pandas in a future version. Use pandas.Index with the appropriate dtype instead.\n",
      "  elif isinstance(data.columns, (pd.Int64Index, pd.RangeIndex)):\n",
      "C:\\Users\\jackl\\anaconda3\\lib\\site-packages\\xgboost\\data.py:250: FutureWarning: pandas.Int64Index is deprecated and will be removed from pandas in a future version. Use pandas.Index with the appropriate dtype instead.\n",
      "  elif isinstance(data.columns, (pd.Int64Index, pd.RangeIndex)):\n",
      "C:\\Users\\jackl\\anaconda3\\lib\\site-packages\\xgboost\\data.py:250: FutureWarning: pandas.Int64Index is deprecated and will be removed from pandas in a future version. Use pandas.Index with the appropriate dtype instead.\n",
      "  elif isinstance(data.columns, (pd.Int64Index, pd.RangeIndex)):\n",
      "C:\\Users\\jackl\\anaconda3\\lib\\site-packages\\xgboost\\data.py:250: FutureWarning: pandas.Int64Index is deprecated and will be removed from pandas in a future version. Use pandas.Index with the appropriate dtype instead.\n",
      "  elif isinstance(data.columns, (pd.Int64Index, pd.RangeIndex)):\n",
      "C:\\Users\\jackl\\anaconda3\\lib\\site-packages\\xgboost\\data.py:250: FutureWarning: pandas.Int64Index is deprecated and will be removed from pandas in a future version. Use pandas.Index with the appropriate dtype instead.\n",
      "  elif isinstance(data.columns, (pd.Int64Index, pd.RangeIndex)):\n",
      "C:\\Users\\jackl\\anaconda3\\lib\\site-packages\\xgboost\\data.py:250: FutureWarning: pandas.Int64Index is deprecated and will be removed from pandas in a future version. Use pandas.Index with the appropriate dtype instead.\n",
      "  elif isinstance(data.columns, (pd.Int64Index, pd.RangeIndex)):\n",
      "C:\\Users\\jackl\\anaconda3\\lib\\site-packages\\xgboost\\data.py:250: FutureWarning: pandas.Int64Index is deprecated and will be removed from pandas in a future version. Use pandas.Index with the appropriate dtype instead.\n",
      "  elif isinstance(data.columns, (pd.Int64Index, pd.RangeIndex)):\n",
      "C:\\Users\\jackl\\anaconda3\\lib\\site-packages\\xgboost\\data.py:250: FutureWarning: pandas.Int64Index is deprecated and will be removed from pandas in a future version. Use pandas.Index with the appropriate dtype instead.\n",
      "  elif isinstance(data.columns, (pd.Int64Index, pd.RangeIndex)):\n",
      "C:\\Users\\jackl\\anaconda3\\lib\\site-packages\\xgboost\\data.py:250: FutureWarning: pandas.Int64Index is deprecated and will be removed from pandas in a future version. Use pandas.Index with the appropriate dtype instead.\n",
      "  elif isinstance(data.columns, (pd.Int64Index, pd.RangeIndex)):\n",
      "C:\\Users\\jackl\\anaconda3\\lib\\site-packages\\xgboost\\data.py:250: FutureWarning: pandas.Int64Index is deprecated and will be removed from pandas in a future version. Use pandas.Index with the appropriate dtype instead.\n",
      "  elif isinstance(data.columns, (pd.Int64Index, pd.RangeIndex)):\n",
      "C:\\Users\\jackl\\anaconda3\\lib\\site-packages\\xgboost\\data.py:250: FutureWarning: pandas.Int64Index is deprecated and will be removed from pandas in a future version. Use pandas.Index with the appropriate dtype instead.\n",
      "  elif isinstance(data.columns, (pd.Int64Index, pd.RangeIndex)):\n",
      "C:\\Users\\jackl\\anaconda3\\lib\\site-packages\\xgboost\\data.py:250: FutureWarning: pandas.Int64Index is deprecated and will be removed from pandas in a future version. Use pandas.Index with the appropriate dtype instead.\n",
      "  elif isinstance(data.columns, (pd.Int64Index, pd.RangeIndex)):\n",
      "C:\\Users\\jackl\\anaconda3\\lib\\site-packages\\xgboost\\data.py:250: FutureWarning: pandas.Int64Index is deprecated and will be removed from pandas in a future version. Use pandas.Index with the appropriate dtype instead.\n",
      "  elif isinstance(data.columns, (pd.Int64Index, pd.RangeIndex)):\n",
      "C:\\Users\\jackl\\anaconda3\\lib\\site-packages\\xgboost\\data.py:250: FutureWarning: pandas.Int64Index is deprecated and will be removed from pandas in a future version. Use pandas.Index with the appropriate dtype instead.\n",
      "  elif isinstance(data.columns, (pd.Int64Index, pd.RangeIndex)):\n",
      "C:\\Users\\jackl\\anaconda3\\lib\\site-packages\\xgboost\\data.py:250: FutureWarning: pandas.Int64Index is deprecated and will be removed from pandas in a future version. Use pandas.Index with the appropriate dtype instead.\n",
      "  elif isinstance(data.columns, (pd.Int64Index, pd.RangeIndex)):\n",
      "C:\\Users\\jackl\\anaconda3\\lib\\site-packages\\xgboost\\data.py:250: FutureWarning: pandas.Int64Index is deprecated and will be removed from pandas in a future version. Use pandas.Index with the appropriate dtype instead.\n",
      "  elif isinstance(data.columns, (pd.Int64Index, pd.RangeIndex)):\n",
      "C:\\Users\\jackl\\anaconda3\\lib\\site-packages\\xgboost\\data.py:250: FutureWarning: pandas.Int64Index is deprecated and will be removed from pandas in a future version. Use pandas.Index with the appropriate dtype instead.\n",
      "  elif isinstance(data.columns, (pd.Int64Index, pd.RangeIndex)):\n",
      "C:\\Users\\jackl\\anaconda3\\lib\\site-packages\\xgboost\\data.py:250: FutureWarning: pandas.Int64Index is deprecated and will be removed from pandas in a future version. Use pandas.Index with the appropriate dtype instead.\n",
      "  elif isinstance(data.columns, (pd.Int64Index, pd.RangeIndex)):\n",
      "C:\\Users\\jackl\\anaconda3\\lib\\site-packages\\xgboost\\data.py:250: FutureWarning: pandas.Int64Index is deprecated and will be removed from pandas in a future version. Use pandas.Index with the appropriate dtype instead.\n",
      "  elif isinstance(data.columns, (pd.Int64Index, pd.RangeIndex)):\n",
      "C:\\Users\\jackl\\anaconda3\\lib\\site-packages\\xgboost\\data.py:250: FutureWarning: pandas.Int64Index is deprecated and will be removed from pandas in a future version. Use pandas.Index with the appropriate dtype instead.\n",
      "  elif isinstance(data.columns, (pd.Int64Index, pd.RangeIndex)):\n",
      "C:\\Users\\jackl\\anaconda3\\lib\\site-packages\\xgboost\\data.py:250: FutureWarning: pandas.Int64Index is deprecated and will be removed from pandas in a future version. Use pandas.Index with the appropriate dtype instead.\n",
      "  elif isinstance(data.columns, (pd.Int64Index, pd.RangeIndex)):\n",
      "C:\\Users\\jackl\\anaconda3\\lib\\site-packages\\xgboost\\data.py:250: FutureWarning: pandas.Int64Index is deprecated and will be removed from pandas in a future version. Use pandas.Index with the appropriate dtype instead.\n",
      "  elif isinstance(data.columns, (pd.Int64Index, pd.RangeIndex)):\n",
      "C:\\Users\\jackl\\anaconda3\\lib\\site-packages\\xgboost\\data.py:250: FutureWarning: pandas.Int64Index is deprecated and will be removed from pandas in a future version. Use pandas.Index with the appropriate dtype instead.\n",
      "  elif isinstance(data.columns, (pd.Int64Index, pd.RangeIndex)):\n",
      "C:\\Users\\jackl\\anaconda3\\lib\\site-packages\\xgboost\\data.py:250: FutureWarning: pandas.Int64Index is deprecated and will be removed from pandas in a future version. Use pandas.Index with the appropriate dtype instead.\n",
      "  elif isinstance(data.columns, (pd.Int64Index, pd.RangeIndex)):\n",
      "C:\\Users\\jackl\\anaconda3\\lib\\site-packages\\xgboost\\data.py:250: FutureWarning: pandas.Int64Index is deprecated and will be removed from pandas in a future version. Use pandas.Index with the appropriate dtype instead.\n",
      "  elif isinstance(data.columns, (pd.Int64Index, pd.RangeIndex)):\n",
      "C:\\Users\\jackl\\anaconda3\\lib\\site-packages\\xgboost\\data.py:250: FutureWarning: pandas.Int64Index is deprecated and will be removed from pandas in a future version. Use pandas.Index with the appropriate dtype instead.\n",
      "  elif isinstance(data.columns, (pd.Int64Index, pd.RangeIndex)):\n"
     ]
    },
    {
     "name": "stderr",
     "output_type": "stream",
     "text": [
      "C:\\Users\\jackl\\anaconda3\\lib\\site-packages\\xgboost\\data.py:250: FutureWarning: pandas.Int64Index is deprecated and will be removed from pandas in a future version. Use pandas.Index with the appropriate dtype instead.\n",
      "  elif isinstance(data.columns, (pd.Int64Index, pd.RangeIndex)):\n",
      "C:\\Users\\jackl\\anaconda3\\lib\\site-packages\\xgboost\\data.py:250: FutureWarning: pandas.Int64Index is deprecated and will be removed from pandas in a future version. Use pandas.Index with the appropriate dtype instead.\n",
      "  elif isinstance(data.columns, (pd.Int64Index, pd.RangeIndex)):\n",
      "C:\\Users\\jackl\\anaconda3\\lib\\site-packages\\xgboost\\data.py:250: FutureWarning: pandas.Int64Index is deprecated and will be removed from pandas in a future version. Use pandas.Index with the appropriate dtype instead.\n",
      "  elif isinstance(data.columns, (pd.Int64Index, pd.RangeIndex)):\n",
      "C:\\Users\\jackl\\anaconda3\\lib\\site-packages\\xgboost\\data.py:250: FutureWarning: pandas.Int64Index is deprecated and will be removed from pandas in a future version. Use pandas.Index with the appropriate dtype instead.\n",
      "  elif isinstance(data.columns, (pd.Int64Index, pd.RangeIndex)):\n",
      "C:\\Users\\jackl\\anaconda3\\lib\\site-packages\\xgboost\\data.py:250: FutureWarning: pandas.Int64Index is deprecated and will be removed from pandas in a future version. Use pandas.Index with the appropriate dtype instead.\n",
      "  elif isinstance(data.columns, (pd.Int64Index, pd.RangeIndex)):\n",
      "C:\\Users\\jackl\\anaconda3\\lib\\site-packages\\xgboost\\data.py:250: FutureWarning: pandas.Int64Index is deprecated and will be removed from pandas in a future version. Use pandas.Index with the appropriate dtype instead.\n",
      "  elif isinstance(data.columns, (pd.Int64Index, pd.RangeIndex)):\n",
      "C:\\Users\\jackl\\anaconda3\\lib\\site-packages\\xgboost\\data.py:250: FutureWarning: pandas.Int64Index is deprecated and will be removed from pandas in a future version. Use pandas.Index with the appropriate dtype instead.\n",
      "  elif isinstance(data.columns, (pd.Int64Index, pd.RangeIndex)):\n",
      "C:\\Users\\jackl\\anaconda3\\lib\\site-packages\\xgboost\\data.py:250: FutureWarning: pandas.Int64Index is deprecated and will be removed from pandas in a future version. Use pandas.Index with the appropriate dtype instead.\n",
      "  elif isinstance(data.columns, (pd.Int64Index, pd.RangeIndex)):\n",
      "C:\\Users\\jackl\\anaconda3\\lib\\site-packages\\xgboost\\data.py:250: FutureWarning: pandas.Int64Index is deprecated and will be removed from pandas in a future version. Use pandas.Index with the appropriate dtype instead.\n",
      "  elif isinstance(data.columns, (pd.Int64Index, pd.RangeIndex)):\n",
      "C:\\Users\\jackl\\anaconda3\\lib\\site-packages\\xgboost\\data.py:250: FutureWarning: pandas.Int64Index is deprecated and will be removed from pandas in a future version. Use pandas.Index with the appropriate dtype instead.\n",
      "  elif isinstance(data.columns, (pd.Int64Index, pd.RangeIndex)):\n",
      "C:\\Users\\jackl\\anaconda3\\lib\\site-packages\\xgboost\\data.py:250: FutureWarning: pandas.Int64Index is deprecated and will be removed from pandas in a future version. Use pandas.Index with the appropriate dtype instead.\n",
      "  elif isinstance(data.columns, (pd.Int64Index, pd.RangeIndex)):\n",
      "C:\\Users\\jackl\\anaconda3\\lib\\site-packages\\xgboost\\data.py:250: FutureWarning: pandas.Int64Index is deprecated and will be removed from pandas in a future version. Use pandas.Index with the appropriate dtype instead.\n",
      "  elif isinstance(data.columns, (pd.Int64Index, pd.RangeIndex)):\n",
      "C:\\Users\\jackl\\anaconda3\\lib\\site-packages\\xgboost\\data.py:250: FutureWarning: pandas.Int64Index is deprecated and will be removed from pandas in a future version. Use pandas.Index with the appropriate dtype instead.\n",
      "  elif isinstance(data.columns, (pd.Int64Index, pd.RangeIndex)):\n",
      "C:\\Users\\jackl\\anaconda3\\lib\\site-packages\\xgboost\\data.py:250: FutureWarning: pandas.Int64Index is deprecated and will be removed from pandas in a future version. Use pandas.Index with the appropriate dtype instead.\n",
      "  elif isinstance(data.columns, (pd.Int64Index, pd.RangeIndex)):\n",
      "C:\\Users\\jackl\\anaconda3\\lib\\site-packages\\xgboost\\data.py:250: FutureWarning: pandas.Int64Index is deprecated and will be removed from pandas in a future version. Use pandas.Index with the appropriate dtype instead.\n",
      "  elif isinstance(data.columns, (pd.Int64Index, pd.RangeIndex)):\n",
      "C:\\Users\\jackl\\anaconda3\\lib\\site-packages\\xgboost\\data.py:250: FutureWarning: pandas.Int64Index is deprecated and will be removed from pandas in a future version. Use pandas.Index with the appropriate dtype instead.\n",
      "  elif isinstance(data.columns, (pd.Int64Index, pd.RangeIndex)):\n",
      "C:\\Users\\jackl\\anaconda3\\lib\\site-packages\\xgboost\\data.py:250: FutureWarning: pandas.Int64Index is deprecated and will be removed from pandas in a future version. Use pandas.Index with the appropriate dtype instead.\n",
      "  elif isinstance(data.columns, (pd.Int64Index, pd.RangeIndex)):\n",
      "C:\\Users\\jackl\\anaconda3\\lib\\site-packages\\xgboost\\data.py:250: FutureWarning: pandas.Int64Index is deprecated and will be removed from pandas in a future version. Use pandas.Index with the appropriate dtype instead.\n",
      "  elif isinstance(data.columns, (pd.Int64Index, pd.RangeIndex)):\n",
      "C:\\Users\\jackl\\anaconda3\\lib\\site-packages\\xgboost\\data.py:250: FutureWarning: pandas.Int64Index is deprecated and will be removed from pandas in a future version. Use pandas.Index with the appropriate dtype instead.\n",
      "  elif isinstance(data.columns, (pd.Int64Index, pd.RangeIndex)):\n",
      "C:\\Users\\jackl\\anaconda3\\lib\\site-packages\\xgboost\\data.py:250: FutureWarning: pandas.Int64Index is deprecated and will be removed from pandas in a future version. Use pandas.Index with the appropriate dtype instead.\n",
      "  elif isinstance(data.columns, (pd.Int64Index, pd.RangeIndex)):\n",
      "C:\\Users\\jackl\\anaconda3\\lib\\site-packages\\xgboost\\data.py:250: FutureWarning: pandas.Int64Index is deprecated and will be removed from pandas in a future version. Use pandas.Index with the appropriate dtype instead.\n",
      "  elif isinstance(data.columns, (pd.Int64Index, pd.RangeIndex)):\n",
      "C:\\Users\\jackl\\anaconda3\\lib\\site-packages\\xgboost\\data.py:250: FutureWarning: pandas.Int64Index is deprecated and will be removed from pandas in a future version. Use pandas.Index with the appropriate dtype instead.\n",
      "  elif isinstance(data.columns, (pd.Int64Index, pd.RangeIndex)):\n",
      "C:\\Users\\jackl\\anaconda3\\lib\\site-packages\\xgboost\\data.py:250: FutureWarning: pandas.Int64Index is deprecated and will be removed from pandas in a future version. Use pandas.Index with the appropriate dtype instead.\n",
      "  elif isinstance(data.columns, (pd.Int64Index, pd.RangeIndex)):\n",
      "C:\\Users\\jackl\\anaconda3\\lib\\site-packages\\xgboost\\data.py:250: FutureWarning: pandas.Int64Index is deprecated and will be removed from pandas in a future version. Use pandas.Index with the appropriate dtype instead.\n",
      "  elif isinstance(data.columns, (pd.Int64Index, pd.RangeIndex)):\n",
      "C:\\Users\\jackl\\anaconda3\\lib\\site-packages\\xgboost\\data.py:250: FutureWarning: pandas.Int64Index is deprecated and will be removed from pandas in a future version. Use pandas.Index with the appropriate dtype instead.\n",
      "  elif isinstance(data.columns, (pd.Int64Index, pd.RangeIndex)):\n",
      "C:\\Users\\jackl\\anaconda3\\lib\\site-packages\\xgboost\\data.py:250: FutureWarning: pandas.Int64Index is deprecated and will be removed from pandas in a future version. Use pandas.Index with the appropriate dtype instead.\n",
      "  elif isinstance(data.columns, (pd.Int64Index, pd.RangeIndex)):\n",
      "C:\\Users\\jackl\\anaconda3\\lib\\site-packages\\xgboost\\data.py:250: FutureWarning: pandas.Int64Index is deprecated and will be removed from pandas in a future version. Use pandas.Index with the appropriate dtype instead.\n",
      "  elif isinstance(data.columns, (pd.Int64Index, pd.RangeIndex)):\n",
      "C:\\Users\\jackl\\anaconda3\\lib\\site-packages\\xgboost\\data.py:250: FutureWarning: pandas.Int64Index is deprecated and will be removed from pandas in a future version. Use pandas.Index with the appropriate dtype instead.\n",
      "  elif isinstance(data.columns, (pd.Int64Index, pd.RangeIndex)):\n",
      "C:\\Users\\jackl\\anaconda3\\lib\\site-packages\\xgboost\\data.py:250: FutureWarning: pandas.Int64Index is deprecated and will be removed from pandas in a future version. Use pandas.Index with the appropriate dtype instead.\n",
      "  elif isinstance(data.columns, (pd.Int64Index, pd.RangeIndex)):\n",
      "C:\\Users\\jackl\\anaconda3\\lib\\site-packages\\xgboost\\data.py:250: FutureWarning: pandas.Int64Index is deprecated and will be removed from pandas in a future version. Use pandas.Index with the appropriate dtype instead.\n",
      "  elif isinstance(data.columns, (pd.Int64Index, pd.RangeIndex)):\n",
      "C:\\Users\\jackl\\anaconda3\\lib\\site-packages\\xgboost\\data.py:250: FutureWarning: pandas.Int64Index is deprecated and will be removed from pandas in a future version. Use pandas.Index with the appropriate dtype instead.\n",
      "  elif isinstance(data.columns, (pd.Int64Index, pd.RangeIndex)):\n"
     ]
    },
    {
     "name": "stderr",
     "output_type": "stream",
     "text": [
      "C:\\Users\\jackl\\anaconda3\\lib\\site-packages\\xgboost\\data.py:250: FutureWarning: pandas.Int64Index is deprecated and will be removed from pandas in a future version. Use pandas.Index with the appropriate dtype instead.\n",
      "  elif isinstance(data.columns, (pd.Int64Index, pd.RangeIndex)):\n",
      "C:\\Users\\jackl\\anaconda3\\lib\\site-packages\\xgboost\\data.py:250: FutureWarning: pandas.Int64Index is deprecated and will be removed from pandas in a future version. Use pandas.Index with the appropriate dtype instead.\n",
      "  elif isinstance(data.columns, (pd.Int64Index, pd.RangeIndex)):\n",
      "C:\\Users\\jackl\\anaconda3\\lib\\site-packages\\xgboost\\data.py:250: FutureWarning: pandas.Int64Index is deprecated and will be removed from pandas in a future version. Use pandas.Index with the appropriate dtype instead.\n",
      "  elif isinstance(data.columns, (pd.Int64Index, pd.RangeIndex)):\n",
      "C:\\Users\\jackl\\anaconda3\\lib\\site-packages\\xgboost\\data.py:250: FutureWarning: pandas.Int64Index is deprecated and will be removed from pandas in a future version. Use pandas.Index with the appropriate dtype instead.\n",
      "  elif isinstance(data.columns, (pd.Int64Index, pd.RangeIndex)):\n",
      "C:\\Users\\jackl\\anaconda3\\lib\\site-packages\\xgboost\\data.py:250: FutureWarning: pandas.Int64Index is deprecated and will be removed from pandas in a future version. Use pandas.Index with the appropriate dtype instead.\n",
      "  elif isinstance(data.columns, (pd.Int64Index, pd.RangeIndex)):\n",
      "C:\\Users\\jackl\\anaconda3\\lib\\site-packages\\xgboost\\data.py:250: FutureWarning: pandas.Int64Index is deprecated and will be removed from pandas in a future version. Use pandas.Index with the appropriate dtype instead.\n",
      "  elif isinstance(data.columns, (pd.Int64Index, pd.RangeIndex)):\n",
      "C:\\Users\\jackl\\anaconda3\\lib\\site-packages\\xgboost\\data.py:250: FutureWarning: pandas.Int64Index is deprecated and will be removed from pandas in a future version. Use pandas.Index with the appropriate dtype instead.\n",
      "  elif isinstance(data.columns, (pd.Int64Index, pd.RangeIndex)):\n",
      "C:\\Users\\jackl\\anaconda3\\lib\\site-packages\\xgboost\\data.py:250: FutureWarning: pandas.Int64Index is deprecated and will be removed from pandas in a future version. Use pandas.Index with the appropriate dtype instead.\n",
      "  elif isinstance(data.columns, (pd.Int64Index, pd.RangeIndex)):\n",
      "C:\\Users\\jackl\\anaconda3\\lib\\site-packages\\xgboost\\data.py:250: FutureWarning: pandas.Int64Index is deprecated and will be removed from pandas in a future version. Use pandas.Index with the appropriate dtype instead.\n",
      "  elif isinstance(data.columns, (pd.Int64Index, pd.RangeIndex)):\n",
      "C:\\Users\\jackl\\anaconda3\\lib\\site-packages\\xgboost\\data.py:250: FutureWarning: pandas.Int64Index is deprecated and will be removed from pandas in a future version. Use pandas.Index with the appropriate dtype instead.\n",
      "  elif isinstance(data.columns, (pd.Int64Index, pd.RangeIndex)):\n",
      "C:\\Users\\jackl\\anaconda3\\lib\\site-packages\\xgboost\\data.py:250: FutureWarning: pandas.Int64Index is deprecated and will be removed from pandas in a future version. Use pandas.Index with the appropriate dtype instead.\n",
      "  elif isinstance(data.columns, (pd.Int64Index, pd.RangeIndex)):\n",
      "C:\\Users\\jackl\\anaconda3\\lib\\site-packages\\xgboost\\data.py:250: FutureWarning: pandas.Int64Index is deprecated and will be removed from pandas in a future version. Use pandas.Index with the appropriate dtype instead.\n",
      "  elif isinstance(data.columns, (pd.Int64Index, pd.RangeIndex)):\n",
      "C:\\Users\\jackl\\anaconda3\\lib\\site-packages\\xgboost\\data.py:250: FutureWarning: pandas.Int64Index is deprecated and will be removed from pandas in a future version. Use pandas.Index with the appropriate dtype instead.\n",
      "  elif isinstance(data.columns, (pd.Int64Index, pd.RangeIndex)):\n",
      "C:\\Users\\jackl\\anaconda3\\lib\\site-packages\\xgboost\\data.py:250: FutureWarning: pandas.Int64Index is deprecated and will be removed from pandas in a future version. Use pandas.Index with the appropriate dtype instead.\n",
      "  elif isinstance(data.columns, (pd.Int64Index, pd.RangeIndex)):\n",
      "C:\\Users\\jackl\\anaconda3\\lib\\site-packages\\xgboost\\data.py:250: FutureWarning: pandas.Int64Index is deprecated and will be removed from pandas in a future version. Use pandas.Index with the appropriate dtype instead.\n",
      "  elif isinstance(data.columns, (pd.Int64Index, pd.RangeIndex)):\n",
      "C:\\Users\\jackl\\anaconda3\\lib\\site-packages\\xgboost\\data.py:250: FutureWarning: pandas.Int64Index is deprecated and will be removed from pandas in a future version. Use pandas.Index with the appropriate dtype instead.\n",
      "  elif isinstance(data.columns, (pd.Int64Index, pd.RangeIndex)):\n",
      "C:\\Users\\jackl\\anaconda3\\lib\\site-packages\\xgboost\\data.py:250: FutureWarning: pandas.Int64Index is deprecated and will be removed from pandas in a future version. Use pandas.Index with the appropriate dtype instead.\n",
      "  elif isinstance(data.columns, (pd.Int64Index, pd.RangeIndex)):\n",
      "C:\\Users\\jackl\\anaconda3\\lib\\site-packages\\xgboost\\data.py:250: FutureWarning: pandas.Int64Index is deprecated and will be removed from pandas in a future version. Use pandas.Index with the appropriate dtype instead.\n",
      "  elif isinstance(data.columns, (pd.Int64Index, pd.RangeIndex)):\n",
      "C:\\Users\\jackl\\anaconda3\\lib\\site-packages\\xgboost\\data.py:250: FutureWarning: pandas.Int64Index is deprecated and will be removed from pandas in a future version. Use pandas.Index with the appropriate dtype instead.\n",
      "  elif isinstance(data.columns, (pd.Int64Index, pd.RangeIndex)):\n",
      "C:\\Users\\jackl\\anaconda3\\lib\\site-packages\\xgboost\\data.py:250: FutureWarning: pandas.Int64Index is deprecated and will be removed from pandas in a future version. Use pandas.Index with the appropriate dtype instead.\n",
      "  elif isinstance(data.columns, (pd.Int64Index, pd.RangeIndex)):\n",
      "C:\\Users\\jackl\\anaconda3\\lib\\site-packages\\xgboost\\data.py:250: FutureWarning: pandas.Int64Index is deprecated and will be removed from pandas in a future version. Use pandas.Index with the appropriate dtype instead.\n",
      "  elif isinstance(data.columns, (pd.Int64Index, pd.RangeIndex)):\n",
      "C:\\Users\\jackl\\anaconda3\\lib\\site-packages\\xgboost\\data.py:250: FutureWarning: pandas.Int64Index is deprecated and will be removed from pandas in a future version. Use pandas.Index with the appropriate dtype instead.\n",
      "  elif isinstance(data.columns, (pd.Int64Index, pd.RangeIndex)):\n",
      "C:\\Users\\jackl\\anaconda3\\lib\\site-packages\\xgboost\\data.py:250: FutureWarning: pandas.Int64Index is deprecated and will be removed from pandas in a future version. Use pandas.Index with the appropriate dtype instead.\n",
      "  elif isinstance(data.columns, (pd.Int64Index, pd.RangeIndex)):\n",
      "C:\\Users\\jackl\\anaconda3\\lib\\site-packages\\xgboost\\data.py:250: FutureWarning: pandas.Int64Index is deprecated and will be removed from pandas in a future version. Use pandas.Index with the appropriate dtype instead.\n",
      "  elif isinstance(data.columns, (pd.Int64Index, pd.RangeIndex)):\n",
      "C:\\Users\\jackl\\anaconda3\\lib\\site-packages\\xgboost\\data.py:250: FutureWarning: pandas.Int64Index is deprecated and will be removed from pandas in a future version. Use pandas.Index with the appropriate dtype instead.\n",
      "  elif isinstance(data.columns, (pd.Int64Index, pd.RangeIndex)):\n",
      "C:\\Users\\jackl\\anaconda3\\lib\\site-packages\\xgboost\\data.py:250: FutureWarning: pandas.Int64Index is deprecated and will be removed from pandas in a future version. Use pandas.Index with the appropriate dtype instead.\n",
      "  elif isinstance(data.columns, (pd.Int64Index, pd.RangeIndex)):\n",
      "C:\\Users\\jackl\\anaconda3\\lib\\site-packages\\xgboost\\data.py:250: FutureWarning: pandas.Int64Index is deprecated and will be removed from pandas in a future version. Use pandas.Index with the appropriate dtype instead.\n",
      "  elif isinstance(data.columns, (pd.Int64Index, pd.RangeIndex)):\n",
      "C:\\Users\\jackl\\anaconda3\\lib\\site-packages\\xgboost\\data.py:250: FutureWarning: pandas.Int64Index is deprecated and will be removed from pandas in a future version. Use pandas.Index with the appropriate dtype instead.\n",
      "  elif isinstance(data.columns, (pd.Int64Index, pd.RangeIndex)):\n",
      "C:\\Users\\jackl\\anaconda3\\lib\\site-packages\\xgboost\\data.py:250: FutureWarning: pandas.Int64Index is deprecated and will be removed from pandas in a future version. Use pandas.Index with the appropriate dtype instead.\n",
      "  elif isinstance(data.columns, (pd.Int64Index, pd.RangeIndex)):\n",
      "C:\\Users\\jackl\\anaconda3\\lib\\site-packages\\xgboost\\data.py:250: FutureWarning: pandas.Int64Index is deprecated and will be removed from pandas in a future version. Use pandas.Index with the appropriate dtype instead.\n",
      "  elif isinstance(data.columns, (pd.Int64Index, pd.RangeIndex)):\n",
      "C:\\Users\\jackl\\anaconda3\\lib\\site-packages\\xgboost\\data.py:250: FutureWarning: pandas.Int64Index is deprecated and will be removed from pandas in a future version. Use pandas.Index with the appropriate dtype instead.\n",
      "  elif isinstance(data.columns, (pd.Int64Index, pd.RangeIndex)):\n"
     ]
    },
    {
     "name": "stderr",
     "output_type": "stream",
     "text": [
      "C:\\Users\\jackl\\anaconda3\\lib\\site-packages\\xgboost\\data.py:250: FutureWarning: pandas.Int64Index is deprecated and will be removed from pandas in a future version. Use pandas.Index with the appropriate dtype instead.\n",
      "  elif isinstance(data.columns, (pd.Int64Index, pd.RangeIndex)):\n",
      "C:\\Users\\jackl\\anaconda3\\lib\\site-packages\\xgboost\\data.py:250: FutureWarning: pandas.Int64Index is deprecated and will be removed from pandas in a future version. Use pandas.Index with the appropriate dtype instead.\n",
      "  elif isinstance(data.columns, (pd.Int64Index, pd.RangeIndex)):\n",
      "C:\\Users\\jackl\\anaconda3\\lib\\site-packages\\xgboost\\data.py:250: FutureWarning: pandas.Int64Index is deprecated and will be removed from pandas in a future version. Use pandas.Index with the appropriate dtype instead.\n",
      "  elif isinstance(data.columns, (pd.Int64Index, pd.RangeIndex)):\n",
      "C:\\Users\\jackl\\anaconda3\\lib\\site-packages\\xgboost\\data.py:250: FutureWarning: pandas.Int64Index is deprecated and will be removed from pandas in a future version. Use pandas.Index with the appropriate dtype instead.\n",
      "  elif isinstance(data.columns, (pd.Int64Index, pd.RangeIndex)):\n",
      "C:\\Users\\jackl\\anaconda3\\lib\\site-packages\\xgboost\\data.py:250: FutureWarning: pandas.Int64Index is deprecated and will be removed from pandas in a future version. Use pandas.Index with the appropriate dtype instead.\n",
      "  elif isinstance(data.columns, (pd.Int64Index, pd.RangeIndex)):\n",
      "C:\\Users\\jackl\\anaconda3\\lib\\site-packages\\xgboost\\data.py:250: FutureWarning: pandas.Int64Index is deprecated and will be removed from pandas in a future version. Use pandas.Index with the appropriate dtype instead.\n",
      "  elif isinstance(data.columns, (pd.Int64Index, pd.RangeIndex)):\n",
      "C:\\Users\\jackl\\anaconda3\\lib\\site-packages\\xgboost\\data.py:250: FutureWarning: pandas.Int64Index is deprecated and will be removed from pandas in a future version. Use pandas.Index with the appropriate dtype instead.\n",
      "  elif isinstance(data.columns, (pd.Int64Index, pd.RangeIndex)):\n",
      "C:\\Users\\jackl\\anaconda3\\lib\\site-packages\\xgboost\\data.py:250: FutureWarning: pandas.Int64Index is deprecated and will be removed from pandas in a future version. Use pandas.Index with the appropriate dtype instead.\n",
      "  elif isinstance(data.columns, (pd.Int64Index, pd.RangeIndex)):\n",
      "C:\\Users\\jackl\\anaconda3\\lib\\site-packages\\xgboost\\data.py:250: FutureWarning: pandas.Int64Index is deprecated and will be removed from pandas in a future version. Use pandas.Index with the appropriate dtype instead.\n",
      "  elif isinstance(data.columns, (pd.Int64Index, pd.RangeIndex)):\n",
      "C:\\Users\\jackl\\anaconda3\\lib\\site-packages\\xgboost\\data.py:250: FutureWarning: pandas.Int64Index is deprecated and will be removed from pandas in a future version. Use pandas.Index with the appropriate dtype instead.\n",
      "  elif isinstance(data.columns, (pd.Int64Index, pd.RangeIndex)):\n",
      "C:\\Users\\jackl\\anaconda3\\lib\\site-packages\\xgboost\\data.py:250: FutureWarning: pandas.Int64Index is deprecated and will be removed from pandas in a future version. Use pandas.Index with the appropriate dtype instead.\n",
      "  elif isinstance(data.columns, (pd.Int64Index, pd.RangeIndex)):\n",
      "C:\\Users\\jackl\\anaconda3\\lib\\site-packages\\xgboost\\data.py:250: FutureWarning: pandas.Int64Index is deprecated and will be removed from pandas in a future version. Use pandas.Index with the appropriate dtype instead.\n",
      "  elif isinstance(data.columns, (pd.Int64Index, pd.RangeIndex)):\n",
      "C:\\Users\\jackl\\anaconda3\\lib\\site-packages\\xgboost\\data.py:250: FutureWarning: pandas.Int64Index is deprecated and will be removed from pandas in a future version. Use pandas.Index with the appropriate dtype instead.\n",
      "  elif isinstance(data.columns, (pd.Int64Index, pd.RangeIndex)):\n",
      "C:\\Users\\jackl\\anaconda3\\lib\\site-packages\\xgboost\\data.py:250: FutureWarning: pandas.Int64Index is deprecated and will be removed from pandas in a future version. Use pandas.Index with the appropriate dtype instead.\n",
      "  elif isinstance(data.columns, (pd.Int64Index, pd.RangeIndex)):\n",
      "C:\\Users\\jackl\\anaconda3\\lib\\site-packages\\xgboost\\data.py:250: FutureWarning: pandas.Int64Index is deprecated and will be removed from pandas in a future version. Use pandas.Index with the appropriate dtype instead.\n",
      "  elif isinstance(data.columns, (pd.Int64Index, pd.RangeIndex)):\n",
      "C:\\Users\\jackl\\anaconda3\\lib\\site-packages\\xgboost\\data.py:250: FutureWarning: pandas.Int64Index is deprecated and will be removed from pandas in a future version. Use pandas.Index with the appropriate dtype instead.\n",
      "  elif isinstance(data.columns, (pd.Int64Index, pd.RangeIndex)):\n",
      "C:\\Users\\jackl\\anaconda3\\lib\\site-packages\\xgboost\\data.py:250: FutureWarning: pandas.Int64Index is deprecated and will be removed from pandas in a future version. Use pandas.Index with the appropriate dtype instead.\n",
      "  elif isinstance(data.columns, (pd.Int64Index, pd.RangeIndex)):\n",
      "C:\\Users\\jackl\\anaconda3\\lib\\site-packages\\xgboost\\data.py:250: FutureWarning: pandas.Int64Index is deprecated and will be removed from pandas in a future version. Use pandas.Index with the appropriate dtype instead.\n",
      "  elif isinstance(data.columns, (pd.Int64Index, pd.RangeIndex)):\n",
      "C:\\Users\\jackl\\anaconda3\\lib\\site-packages\\xgboost\\data.py:250: FutureWarning: pandas.Int64Index is deprecated and will be removed from pandas in a future version. Use pandas.Index with the appropriate dtype instead.\n",
      "  elif isinstance(data.columns, (pd.Int64Index, pd.RangeIndex)):\n",
      "C:\\Users\\jackl\\anaconda3\\lib\\site-packages\\xgboost\\data.py:250: FutureWarning: pandas.Int64Index is deprecated and will be removed from pandas in a future version. Use pandas.Index with the appropriate dtype instead.\n",
      "  elif isinstance(data.columns, (pd.Int64Index, pd.RangeIndex)):\n",
      "C:\\Users\\jackl\\anaconda3\\lib\\site-packages\\xgboost\\data.py:250: FutureWarning: pandas.Int64Index is deprecated and will be removed from pandas in a future version. Use pandas.Index with the appropriate dtype instead.\n",
      "  elif isinstance(data.columns, (pd.Int64Index, pd.RangeIndex)):\n",
      "C:\\Users\\jackl\\anaconda3\\lib\\site-packages\\xgboost\\data.py:250: FutureWarning: pandas.Int64Index is deprecated and will be removed from pandas in a future version. Use pandas.Index with the appropriate dtype instead.\n",
      "  elif isinstance(data.columns, (pd.Int64Index, pd.RangeIndex)):\n",
      "C:\\Users\\jackl\\anaconda3\\lib\\site-packages\\xgboost\\data.py:250: FutureWarning: pandas.Int64Index is deprecated and will be removed from pandas in a future version. Use pandas.Index with the appropriate dtype instead.\n",
      "  elif isinstance(data.columns, (pd.Int64Index, pd.RangeIndex)):\n",
      "C:\\Users\\jackl\\anaconda3\\lib\\site-packages\\xgboost\\data.py:250: FutureWarning: pandas.Int64Index is deprecated and will be removed from pandas in a future version. Use pandas.Index with the appropriate dtype instead.\n",
      "  elif isinstance(data.columns, (pd.Int64Index, pd.RangeIndex)):\n",
      "C:\\Users\\jackl\\anaconda3\\lib\\site-packages\\xgboost\\data.py:250: FutureWarning: pandas.Int64Index is deprecated and will be removed from pandas in a future version. Use pandas.Index with the appropriate dtype instead.\n",
      "  elif isinstance(data.columns, (pd.Int64Index, pd.RangeIndex)):\n",
      "C:\\Users\\jackl\\anaconda3\\lib\\site-packages\\xgboost\\data.py:250: FutureWarning: pandas.Int64Index is deprecated and will be removed from pandas in a future version. Use pandas.Index with the appropriate dtype instead.\n",
      "  elif isinstance(data.columns, (pd.Int64Index, pd.RangeIndex)):\n",
      "C:\\Users\\jackl\\anaconda3\\lib\\site-packages\\xgboost\\data.py:250: FutureWarning: pandas.Int64Index is deprecated and will be removed from pandas in a future version. Use pandas.Index with the appropriate dtype instead.\n",
      "  elif isinstance(data.columns, (pd.Int64Index, pd.RangeIndex)):\n",
      "C:\\Users\\jackl\\anaconda3\\lib\\site-packages\\xgboost\\data.py:250: FutureWarning: pandas.Int64Index is deprecated and will be removed from pandas in a future version. Use pandas.Index with the appropriate dtype instead.\n",
      "  elif isinstance(data.columns, (pd.Int64Index, pd.RangeIndex)):\n",
      "C:\\Users\\jackl\\anaconda3\\lib\\site-packages\\xgboost\\data.py:250: FutureWarning: pandas.Int64Index is deprecated and will be removed from pandas in a future version. Use pandas.Index with the appropriate dtype instead.\n",
      "  elif isinstance(data.columns, (pd.Int64Index, pd.RangeIndex)):\n",
      "C:\\Users\\jackl\\anaconda3\\lib\\site-packages\\xgboost\\data.py:250: FutureWarning: pandas.Int64Index is deprecated and will be removed from pandas in a future version. Use pandas.Index with the appropriate dtype instead.\n",
      "  elif isinstance(data.columns, (pd.Int64Index, pd.RangeIndex)):\n"
     ]
    },
    {
     "name": "stderr",
     "output_type": "stream",
     "text": [
      "C:\\Users\\jackl\\anaconda3\\lib\\site-packages\\xgboost\\data.py:250: FutureWarning: pandas.Int64Index is deprecated and will be removed from pandas in a future version. Use pandas.Index with the appropriate dtype instead.\n",
      "  elif isinstance(data.columns, (pd.Int64Index, pd.RangeIndex)):\n",
      "C:\\Users\\jackl\\anaconda3\\lib\\site-packages\\xgboost\\data.py:250: FutureWarning: pandas.Int64Index is deprecated and will be removed from pandas in a future version. Use pandas.Index with the appropriate dtype instead.\n",
      "  elif isinstance(data.columns, (pd.Int64Index, pd.RangeIndex)):\n",
      "C:\\Users\\jackl\\anaconda3\\lib\\site-packages\\xgboost\\data.py:250: FutureWarning: pandas.Int64Index is deprecated and will be removed from pandas in a future version. Use pandas.Index with the appropriate dtype instead.\n",
      "  elif isinstance(data.columns, (pd.Int64Index, pd.RangeIndex)):\n",
      "C:\\Users\\jackl\\anaconda3\\lib\\site-packages\\xgboost\\data.py:250: FutureWarning: pandas.Int64Index is deprecated and will be removed from pandas in a future version. Use pandas.Index with the appropriate dtype instead.\n",
      "  elif isinstance(data.columns, (pd.Int64Index, pd.RangeIndex)):\n",
      "C:\\Users\\jackl\\anaconda3\\lib\\site-packages\\xgboost\\data.py:250: FutureWarning: pandas.Int64Index is deprecated and will be removed from pandas in a future version. Use pandas.Index with the appropriate dtype instead.\n",
      "  elif isinstance(data.columns, (pd.Int64Index, pd.RangeIndex)):\n",
      "C:\\Users\\jackl\\anaconda3\\lib\\site-packages\\xgboost\\data.py:250: FutureWarning: pandas.Int64Index is deprecated and will be removed from pandas in a future version. Use pandas.Index with the appropriate dtype instead.\n",
      "  elif isinstance(data.columns, (pd.Int64Index, pd.RangeIndex)):\n",
      "C:\\Users\\jackl\\anaconda3\\lib\\site-packages\\xgboost\\data.py:250: FutureWarning: pandas.Int64Index is deprecated and will be removed from pandas in a future version. Use pandas.Index with the appropriate dtype instead.\n",
      "  elif isinstance(data.columns, (pd.Int64Index, pd.RangeIndex)):\n",
      "C:\\Users\\jackl\\anaconda3\\lib\\site-packages\\xgboost\\data.py:250: FutureWarning: pandas.Int64Index is deprecated and will be removed from pandas in a future version. Use pandas.Index with the appropriate dtype instead.\n",
      "  elif isinstance(data.columns, (pd.Int64Index, pd.RangeIndex)):\n",
      "C:\\Users\\jackl\\anaconda3\\lib\\site-packages\\xgboost\\data.py:250: FutureWarning: pandas.Int64Index is deprecated and will be removed from pandas in a future version. Use pandas.Index with the appropriate dtype instead.\n",
      "  elif isinstance(data.columns, (pd.Int64Index, pd.RangeIndex)):\n",
      "C:\\Users\\jackl\\anaconda3\\lib\\site-packages\\xgboost\\data.py:250: FutureWarning: pandas.Int64Index is deprecated and will be removed from pandas in a future version. Use pandas.Index with the appropriate dtype instead.\n",
      "  elif isinstance(data.columns, (pd.Int64Index, pd.RangeIndex)):\n",
      "C:\\Users\\jackl\\anaconda3\\lib\\site-packages\\xgboost\\data.py:250: FutureWarning: pandas.Int64Index is deprecated and will be removed from pandas in a future version. Use pandas.Index with the appropriate dtype instead.\n",
      "  elif isinstance(data.columns, (pd.Int64Index, pd.RangeIndex)):\n",
      "C:\\Users\\jackl\\anaconda3\\lib\\site-packages\\xgboost\\data.py:250: FutureWarning: pandas.Int64Index is deprecated and will be removed from pandas in a future version. Use pandas.Index with the appropriate dtype instead.\n",
      "  elif isinstance(data.columns, (pd.Int64Index, pd.RangeIndex)):\n",
      "C:\\Users\\jackl\\anaconda3\\lib\\site-packages\\xgboost\\data.py:250: FutureWarning: pandas.Int64Index is deprecated and will be removed from pandas in a future version. Use pandas.Index with the appropriate dtype instead.\n",
      "  elif isinstance(data.columns, (pd.Int64Index, pd.RangeIndex)):\n",
      "C:\\Users\\jackl\\anaconda3\\lib\\site-packages\\xgboost\\data.py:250: FutureWarning: pandas.Int64Index is deprecated and will be removed from pandas in a future version. Use pandas.Index with the appropriate dtype instead.\n",
      "  elif isinstance(data.columns, (pd.Int64Index, pd.RangeIndex)):\n",
      "C:\\Users\\jackl\\anaconda3\\lib\\site-packages\\xgboost\\data.py:250: FutureWarning: pandas.Int64Index is deprecated and will be removed from pandas in a future version. Use pandas.Index with the appropriate dtype instead.\n",
      "  elif isinstance(data.columns, (pd.Int64Index, pd.RangeIndex)):\n",
      "C:\\Users\\jackl\\anaconda3\\lib\\site-packages\\xgboost\\data.py:250: FutureWarning: pandas.Int64Index is deprecated and will be removed from pandas in a future version. Use pandas.Index with the appropriate dtype instead.\n",
      "  elif isinstance(data.columns, (pd.Int64Index, pd.RangeIndex)):\n",
      "C:\\Users\\jackl\\anaconda3\\lib\\site-packages\\xgboost\\data.py:250: FutureWarning: pandas.Int64Index is deprecated and will be removed from pandas in a future version. Use pandas.Index with the appropriate dtype instead.\n",
      "  elif isinstance(data.columns, (pd.Int64Index, pd.RangeIndex)):\n",
      "C:\\Users\\jackl\\anaconda3\\lib\\site-packages\\xgboost\\data.py:250: FutureWarning: pandas.Int64Index is deprecated and will be removed from pandas in a future version. Use pandas.Index with the appropriate dtype instead.\n",
      "  elif isinstance(data.columns, (pd.Int64Index, pd.RangeIndex)):\n",
      "C:\\Users\\jackl\\anaconda3\\lib\\site-packages\\xgboost\\data.py:250: FutureWarning: pandas.Int64Index is deprecated and will be removed from pandas in a future version. Use pandas.Index with the appropriate dtype instead.\n",
      "  elif isinstance(data.columns, (pd.Int64Index, pd.RangeIndex)):\n",
      "C:\\Users\\jackl\\anaconda3\\lib\\site-packages\\xgboost\\data.py:250: FutureWarning: pandas.Int64Index is deprecated and will be removed from pandas in a future version. Use pandas.Index with the appropriate dtype instead.\n",
      "  elif isinstance(data.columns, (pd.Int64Index, pd.RangeIndex)):\n",
      "C:\\Users\\jackl\\anaconda3\\lib\\site-packages\\xgboost\\data.py:250: FutureWarning: pandas.Int64Index is deprecated and will be removed from pandas in a future version. Use pandas.Index with the appropriate dtype instead.\n",
      "  elif isinstance(data.columns, (pd.Int64Index, pd.RangeIndex)):\n",
      "C:\\Users\\jackl\\anaconda3\\lib\\site-packages\\xgboost\\data.py:250: FutureWarning: pandas.Int64Index is deprecated and will be removed from pandas in a future version. Use pandas.Index with the appropriate dtype instead.\n",
      "  elif isinstance(data.columns, (pd.Int64Index, pd.RangeIndex)):\n",
      "C:\\Users\\jackl\\anaconda3\\lib\\site-packages\\xgboost\\data.py:250: FutureWarning: pandas.Int64Index is deprecated and will be removed from pandas in a future version. Use pandas.Index with the appropriate dtype instead.\n",
      "  elif isinstance(data.columns, (pd.Int64Index, pd.RangeIndex)):\n",
      "C:\\Users\\jackl\\anaconda3\\lib\\site-packages\\xgboost\\data.py:250: FutureWarning: pandas.Int64Index is deprecated and will be removed from pandas in a future version. Use pandas.Index with the appropriate dtype instead.\n",
      "  elif isinstance(data.columns, (pd.Int64Index, pd.RangeIndex)):\n",
      "C:\\Users\\jackl\\anaconda3\\lib\\site-packages\\xgboost\\data.py:250: FutureWarning: pandas.Int64Index is deprecated and will be removed from pandas in a future version. Use pandas.Index with the appropriate dtype instead.\n",
      "  elif isinstance(data.columns, (pd.Int64Index, pd.RangeIndex)):\n",
      "C:\\Users\\jackl\\anaconda3\\lib\\site-packages\\xgboost\\data.py:250: FutureWarning: pandas.Int64Index is deprecated and will be removed from pandas in a future version. Use pandas.Index with the appropriate dtype instead.\n",
      "  elif isinstance(data.columns, (pd.Int64Index, pd.RangeIndex)):\n",
      "C:\\Users\\jackl\\anaconda3\\lib\\site-packages\\xgboost\\data.py:250: FutureWarning: pandas.Int64Index is deprecated and will be removed from pandas in a future version. Use pandas.Index with the appropriate dtype instead.\n",
      "  elif isinstance(data.columns, (pd.Int64Index, pd.RangeIndex)):\n",
      "C:\\Users\\jackl\\anaconda3\\lib\\site-packages\\xgboost\\data.py:250: FutureWarning: pandas.Int64Index is deprecated and will be removed from pandas in a future version. Use pandas.Index with the appropriate dtype instead.\n",
      "  elif isinstance(data.columns, (pd.Int64Index, pd.RangeIndex)):\n",
      "C:\\Users\\jackl\\anaconda3\\lib\\site-packages\\xgboost\\data.py:250: FutureWarning: pandas.Int64Index is deprecated and will be removed from pandas in a future version. Use pandas.Index with the appropriate dtype instead.\n",
      "  elif isinstance(data.columns, (pd.Int64Index, pd.RangeIndex)):\n",
      "C:\\Users\\jackl\\anaconda3\\lib\\site-packages\\xgboost\\data.py:250: FutureWarning: pandas.Int64Index is deprecated and will be removed from pandas in a future version. Use pandas.Index with the appropriate dtype instead.\n",
      "  elif isinstance(data.columns, (pd.Int64Index, pd.RangeIndex)):\n",
      "C:\\Users\\jackl\\anaconda3\\lib\\site-packages\\xgboost\\data.py:250: FutureWarning: pandas.Int64Index is deprecated and will be removed from pandas in a future version. Use pandas.Index with the appropriate dtype instead.\n",
      "  elif isinstance(data.columns, (pd.Int64Index, pd.RangeIndex)):\n",
      "C:\\Users\\jackl\\anaconda3\\lib\\site-packages\\xgboost\\data.py:250: FutureWarning: pandas.Int64Index is deprecated and will be removed from pandas in a future version. Use pandas.Index with the appropriate dtype instead.\n",
      "  elif isinstance(data.columns, (pd.Int64Index, pd.RangeIndex)):\n"
     ]
    },
    {
     "name": "stderr",
     "output_type": "stream",
     "text": [
      "C:\\Users\\jackl\\anaconda3\\lib\\site-packages\\xgboost\\data.py:250: FutureWarning: pandas.Int64Index is deprecated and will be removed from pandas in a future version. Use pandas.Index with the appropriate dtype instead.\n",
      "  elif isinstance(data.columns, (pd.Int64Index, pd.RangeIndex)):\n",
      "C:\\Users\\jackl\\anaconda3\\lib\\site-packages\\xgboost\\data.py:250: FutureWarning: pandas.Int64Index is deprecated and will be removed from pandas in a future version. Use pandas.Index with the appropriate dtype instead.\n",
      "  elif isinstance(data.columns, (pd.Int64Index, pd.RangeIndex)):\n",
      "C:\\Users\\jackl\\anaconda3\\lib\\site-packages\\xgboost\\data.py:250: FutureWarning: pandas.Int64Index is deprecated and will be removed from pandas in a future version. Use pandas.Index with the appropriate dtype instead.\n",
      "  elif isinstance(data.columns, (pd.Int64Index, pd.RangeIndex)):\n",
      "C:\\Users\\jackl\\anaconda3\\lib\\site-packages\\xgboost\\data.py:250: FutureWarning: pandas.Int64Index is deprecated and will be removed from pandas in a future version. Use pandas.Index with the appropriate dtype instead.\n",
      "  elif isinstance(data.columns, (pd.Int64Index, pd.RangeIndex)):\n",
      "C:\\Users\\jackl\\anaconda3\\lib\\site-packages\\xgboost\\data.py:250: FutureWarning: pandas.Int64Index is deprecated and will be removed from pandas in a future version. Use pandas.Index with the appropriate dtype instead.\n",
      "  elif isinstance(data.columns, (pd.Int64Index, pd.RangeIndex)):\n",
      "C:\\Users\\jackl\\anaconda3\\lib\\site-packages\\xgboost\\data.py:250: FutureWarning: pandas.Int64Index is deprecated and will be removed from pandas in a future version. Use pandas.Index with the appropriate dtype instead.\n",
      "  elif isinstance(data.columns, (pd.Int64Index, pd.RangeIndex)):\n",
      "C:\\Users\\jackl\\anaconda3\\lib\\site-packages\\xgboost\\data.py:250: FutureWarning: pandas.Int64Index is deprecated and will be removed from pandas in a future version. Use pandas.Index with the appropriate dtype instead.\n",
      "  elif isinstance(data.columns, (pd.Int64Index, pd.RangeIndex)):\n",
      "C:\\Users\\jackl\\anaconda3\\lib\\site-packages\\xgboost\\data.py:250: FutureWarning: pandas.Int64Index is deprecated and will be removed from pandas in a future version. Use pandas.Index with the appropriate dtype instead.\n",
      "  elif isinstance(data.columns, (pd.Int64Index, pd.RangeIndex)):\n",
      "C:\\Users\\jackl\\anaconda3\\lib\\site-packages\\xgboost\\data.py:250: FutureWarning: pandas.Int64Index is deprecated and will be removed from pandas in a future version. Use pandas.Index with the appropriate dtype instead.\n",
      "  elif isinstance(data.columns, (pd.Int64Index, pd.RangeIndex)):\n",
      "C:\\Users\\jackl\\anaconda3\\lib\\site-packages\\xgboost\\data.py:250: FutureWarning: pandas.Int64Index is deprecated and will be removed from pandas in a future version. Use pandas.Index with the appropriate dtype instead.\n",
      "  elif isinstance(data.columns, (pd.Int64Index, pd.RangeIndex)):\n",
      "C:\\Users\\jackl\\anaconda3\\lib\\site-packages\\xgboost\\data.py:250: FutureWarning: pandas.Int64Index is deprecated and will be removed from pandas in a future version. Use pandas.Index with the appropriate dtype instead.\n",
      "  elif isinstance(data.columns, (pd.Int64Index, pd.RangeIndex)):\n",
      "C:\\Users\\jackl\\anaconda3\\lib\\site-packages\\xgboost\\data.py:250: FutureWarning: pandas.Int64Index is deprecated and will be removed from pandas in a future version. Use pandas.Index with the appropriate dtype instead.\n",
      "  elif isinstance(data.columns, (pd.Int64Index, pd.RangeIndex)):\n",
      "C:\\Users\\jackl\\anaconda3\\lib\\site-packages\\xgboost\\data.py:250: FutureWarning: pandas.Int64Index is deprecated and will be removed from pandas in a future version. Use pandas.Index with the appropriate dtype instead.\n",
      "  elif isinstance(data.columns, (pd.Int64Index, pd.RangeIndex)):\n",
      "C:\\Users\\jackl\\anaconda3\\lib\\site-packages\\xgboost\\data.py:250: FutureWarning: pandas.Int64Index is deprecated and will be removed from pandas in a future version. Use pandas.Index with the appropriate dtype instead.\n",
      "  elif isinstance(data.columns, (pd.Int64Index, pd.RangeIndex)):\n",
      "C:\\Users\\jackl\\anaconda3\\lib\\site-packages\\xgboost\\data.py:250: FutureWarning: pandas.Int64Index is deprecated and will be removed from pandas in a future version. Use pandas.Index with the appropriate dtype instead.\n",
      "  elif isinstance(data.columns, (pd.Int64Index, pd.RangeIndex)):\n",
      "C:\\Users\\jackl\\anaconda3\\lib\\site-packages\\xgboost\\data.py:250: FutureWarning: pandas.Int64Index is deprecated and will be removed from pandas in a future version. Use pandas.Index with the appropriate dtype instead.\n",
      "  elif isinstance(data.columns, (pd.Int64Index, pd.RangeIndex)):\n",
      "C:\\Users\\jackl\\anaconda3\\lib\\site-packages\\xgboost\\data.py:250: FutureWarning: pandas.Int64Index is deprecated and will be removed from pandas in a future version. Use pandas.Index with the appropriate dtype instead.\n",
      "  elif isinstance(data.columns, (pd.Int64Index, pd.RangeIndex)):\n",
      "C:\\Users\\jackl\\anaconda3\\lib\\site-packages\\xgboost\\data.py:250: FutureWarning: pandas.Int64Index is deprecated and will be removed from pandas in a future version. Use pandas.Index with the appropriate dtype instead.\n",
      "  elif isinstance(data.columns, (pd.Int64Index, pd.RangeIndex)):\n",
      "C:\\Users\\jackl\\anaconda3\\lib\\site-packages\\xgboost\\data.py:250: FutureWarning: pandas.Int64Index is deprecated and will be removed from pandas in a future version. Use pandas.Index with the appropriate dtype instead.\n",
      "  elif isinstance(data.columns, (pd.Int64Index, pd.RangeIndex)):\n",
      "C:\\Users\\jackl\\anaconda3\\lib\\site-packages\\xgboost\\data.py:250: FutureWarning: pandas.Int64Index is deprecated and will be removed from pandas in a future version. Use pandas.Index with the appropriate dtype instead.\n",
      "  elif isinstance(data.columns, (pd.Int64Index, pd.RangeIndex)):\n",
      "C:\\Users\\jackl\\anaconda3\\lib\\site-packages\\xgboost\\data.py:250: FutureWarning: pandas.Int64Index is deprecated and will be removed from pandas in a future version. Use pandas.Index with the appropriate dtype instead.\n",
      "  elif isinstance(data.columns, (pd.Int64Index, pd.RangeIndex)):\n",
      "C:\\Users\\jackl\\anaconda3\\lib\\site-packages\\xgboost\\data.py:250: FutureWarning: pandas.Int64Index is deprecated and will be removed from pandas in a future version. Use pandas.Index with the appropriate dtype instead.\n",
      "  elif isinstance(data.columns, (pd.Int64Index, pd.RangeIndex)):\n",
      "C:\\Users\\jackl\\anaconda3\\lib\\site-packages\\xgboost\\data.py:250: FutureWarning: pandas.Int64Index is deprecated and will be removed from pandas in a future version. Use pandas.Index with the appropriate dtype instead.\n",
      "  elif isinstance(data.columns, (pd.Int64Index, pd.RangeIndex)):\n",
      "C:\\Users\\jackl\\anaconda3\\lib\\site-packages\\xgboost\\data.py:250: FutureWarning: pandas.Int64Index is deprecated and will be removed from pandas in a future version. Use pandas.Index with the appropriate dtype instead.\n",
      "  elif isinstance(data.columns, (pd.Int64Index, pd.RangeIndex)):\n",
      "C:\\Users\\jackl\\anaconda3\\lib\\site-packages\\xgboost\\data.py:250: FutureWarning: pandas.Int64Index is deprecated and will be removed from pandas in a future version. Use pandas.Index with the appropriate dtype instead.\n",
      "  elif isinstance(data.columns, (pd.Int64Index, pd.RangeIndex)):\n",
      "C:\\Users\\jackl\\anaconda3\\lib\\site-packages\\xgboost\\data.py:250: FutureWarning: pandas.Int64Index is deprecated and will be removed from pandas in a future version. Use pandas.Index with the appropriate dtype instead.\n",
      "  elif isinstance(data.columns, (pd.Int64Index, pd.RangeIndex)):\n",
      "C:\\Users\\jackl\\anaconda3\\lib\\site-packages\\xgboost\\data.py:250: FutureWarning: pandas.Int64Index is deprecated and will be removed from pandas in a future version. Use pandas.Index with the appropriate dtype instead.\n",
      "  elif isinstance(data.columns, (pd.Int64Index, pd.RangeIndex)):\n",
      "C:\\Users\\jackl\\anaconda3\\lib\\site-packages\\xgboost\\data.py:250: FutureWarning: pandas.Int64Index is deprecated and will be removed from pandas in a future version. Use pandas.Index with the appropriate dtype instead.\n",
      "  elif isinstance(data.columns, (pd.Int64Index, pd.RangeIndex)):\n",
      "C:\\Users\\jackl\\anaconda3\\lib\\site-packages\\xgboost\\data.py:250: FutureWarning: pandas.Int64Index is deprecated and will be removed from pandas in a future version. Use pandas.Index with the appropriate dtype instead.\n",
      "  elif isinstance(data.columns, (pd.Int64Index, pd.RangeIndex)):\n",
      "C:\\Users\\jackl\\anaconda3\\lib\\site-packages\\xgboost\\data.py:250: FutureWarning: pandas.Int64Index is deprecated and will be removed from pandas in a future version. Use pandas.Index with the appropriate dtype instead.\n",
      "  elif isinstance(data.columns, (pd.Int64Index, pd.RangeIndex)):\n"
     ]
    },
    {
     "name": "stderr",
     "output_type": "stream",
     "text": [
      "C:\\Users\\jackl\\anaconda3\\lib\\site-packages\\xgboost\\data.py:250: FutureWarning: pandas.Int64Index is deprecated and will be removed from pandas in a future version. Use pandas.Index with the appropriate dtype instead.\n",
      "  elif isinstance(data.columns, (pd.Int64Index, pd.RangeIndex)):\n",
      "C:\\Users\\jackl\\anaconda3\\lib\\site-packages\\xgboost\\data.py:250: FutureWarning: pandas.Int64Index is deprecated and will be removed from pandas in a future version. Use pandas.Index with the appropriate dtype instead.\n",
      "  elif isinstance(data.columns, (pd.Int64Index, pd.RangeIndex)):\n",
      "C:\\Users\\jackl\\anaconda3\\lib\\site-packages\\xgboost\\data.py:250: FutureWarning: pandas.Int64Index is deprecated and will be removed from pandas in a future version. Use pandas.Index with the appropriate dtype instead.\n",
      "  elif isinstance(data.columns, (pd.Int64Index, pd.RangeIndex)):\n",
      "C:\\Users\\jackl\\anaconda3\\lib\\site-packages\\xgboost\\data.py:250: FutureWarning: pandas.Int64Index is deprecated and will be removed from pandas in a future version. Use pandas.Index with the appropriate dtype instead.\n",
      "  elif isinstance(data.columns, (pd.Int64Index, pd.RangeIndex)):\n",
      "C:\\Users\\jackl\\anaconda3\\lib\\site-packages\\xgboost\\data.py:250: FutureWarning: pandas.Int64Index is deprecated and will be removed from pandas in a future version. Use pandas.Index with the appropriate dtype instead.\n",
      "  elif isinstance(data.columns, (pd.Int64Index, pd.RangeIndex)):\n",
      "C:\\Users\\jackl\\anaconda3\\lib\\site-packages\\xgboost\\data.py:250: FutureWarning: pandas.Int64Index is deprecated and will be removed from pandas in a future version. Use pandas.Index with the appropriate dtype instead.\n",
      "  elif isinstance(data.columns, (pd.Int64Index, pd.RangeIndex)):\n",
      "C:\\Users\\jackl\\anaconda3\\lib\\site-packages\\xgboost\\data.py:250: FutureWarning: pandas.Int64Index is deprecated and will be removed from pandas in a future version. Use pandas.Index with the appropriate dtype instead.\n",
      "  elif isinstance(data.columns, (pd.Int64Index, pd.RangeIndex)):\n",
      "C:\\Users\\jackl\\anaconda3\\lib\\site-packages\\xgboost\\data.py:250: FutureWarning: pandas.Int64Index is deprecated and will be removed from pandas in a future version. Use pandas.Index with the appropriate dtype instead.\n",
      "  elif isinstance(data.columns, (pd.Int64Index, pd.RangeIndex)):\n",
      "C:\\Users\\jackl\\anaconda3\\lib\\site-packages\\xgboost\\data.py:250: FutureWarning: pandas.Int64Index is deprecated and will be removed from pandas in a future version. Use pandas.Index with the appropriate dtype instead.\n",
      "  elif isinstance(data.columns, (pd.Int64Index, pd.RangeIndex)):\n",
      "C:\\Users\\jackl\\anaconda3\\lib\\site-packages\\xgboost\\data.py:250: FutureWarning: pandas.Int64Index is deprecated and will be removed from pandas in a future version. Use pandas.Index with the appropriate dtype instead.\n",
      "  elif isinstance(data.columns, (pd.Int64Index, pd.RangeIndex)):\n",
      "C:\\Users\\jackl\\anaconda3\\lib\\site-packages\\xgboost\\data.py:250: FutureWarning: pandas.Int64Index is deprecated and will be removed from pandas in a future version. Use pandas.Index with the appropriate dtype instead.\n",
      "  elif isinstance(data.columns, (pd.Int64Index, pd.RangeIndex)):\n",
      "C:\\Users\\jackl\\anaconda3\\lib\\site-packages\\xgboost\\data.py:250: FutureWarning: pandas.Int64Index is deprecated and will be removed from pandas in a future version. Use pandas.Index with the appropriate dtype instead.\n",
      "  elif isinstance(data.columns, (pd.Int64Index, pd.RangeIndex)):\n",
      "C:\\Users\\jackl\\anaconda3\\lib\\site-packages\\xgboost\\data.py:250: FutureWarning: pandas.Int64Index is deprecated and will be removed from pandas in a future version. Use pandas.Index with the appropriate dtype instead.\n",
      "  elif isinstance(data.columns, (pd.Int64Index, pd.RangeIndex)):\n",
      "C:\\Users\\jackl\\anaconda3\\lib\\site-packages\\xgboost\\data.py:250: FutureWarning: pandas.Int64Index is deprecated and will be removed from pandas in a future version. Use pandas.Index with the appropriate dtype instead.\n",
      "  elif isinstance(data.columns, (pd.Int64Index, pd.RangeIndex)):\n",
      "C:\\Users\\jackl\\anaconda3\\lib\\site-packages\\xgboost\\data.py:250: FutureWarning: pandas.Int64Index is deprecated and will be removed from pandas in a future version. Use pandas.Index with the appropriate dtype instead.\n",
      "  elif isinstance(data.columns, (pd.Int64Index, pd.RangeIndex)):\n",
      "C:\\Users\\jackl\\anaconda3\\lib\\site-packages\\xgboost\\data.py:250: FutureWarning: pandas.Int64Index is deprecated and will be removed from pandas in a future version. Use pandas.Index with the appropriate dtype instead.\n",
      "  elif isinstance(data.columns, (pd.Int64Index, pd.RangeIndex)):\n",
      "C:\\Users\\jackl\\anaconda3\\lib\\site-packages\\xgboost\\data.py:250: FutureWarning: pandas.Int64Index is deprecated and will be removed from pandas in a future version. Use pandas.Index with the appropriate dtype instead.\n",
      "  elif isinstance(data.columns, (pd.Int64Index, pd.RangeIndex)):\n",
      "C:\\Users\\jackl\\anaconda3\\lib\\site-packages\\xgboost\\data.py:250: FutureWarning: pandas.Int64Index is deprecated and will be removed from pandas in a future version. Use pandas.Index with the appropriate dtype instead.\n",
      "  elif isinstance(data.columns, (pd.Int64Index, pd.RangeIndex)):\n",
      "C:\\Users\\jackl\\anaconda3\\lib\\site-packages\\xgboost\\data.py:250: FutureWarning: pandas.Int64Index is deprecated and will be removed from pandas in a future version. Use pandas.Index with the appropriate dtype instead.\n",
      "  elif isinstance(data.columns, (pd.Int64Index, pd.RangeIndex)):\n",
      "C:\\Users\\jackl\\anaconda3\\lib\\site-packages\\xgboost\\data.py:250: FutureWarning: pandas.Int64Index is deprecated and will be removed from pandas in a future version. Use pandas.Index with the appropriate dtype instead.\n",
      "  elif isinstance(data.columns, (pd.Int64Index, pd.RangeIndex)):\n",
      "C:\\Users\\jackl\\anaconda3\\lib\\site-packages\\xgboost\\data.py:250: FutureWarning: pandas.Int64Index is deprecated and will be removed from pandas in a future version. Use pandas.Index with the appropriate dtype instead.\n",
      "  elif isinstance(data.columns, (pd.Int64Index, pd.RangeIndex)):\n",
      "C:\\Users\\jackl\\anaconda3\\lib\\site-packages\\xgboost\\data.py:250: FutureWarning: pandas.Int64Index is deprecated and will be removed from pandas in a future version. Use pandas.Index with the appropriate dtype instead.\n",
      "  elif isinstance(data.columns, (pd.Int64Index, pd.RangeIndex)):\n",
      "C:\\Users\\jackl\\anaconda3\\lib\\site-packages\\xgboost\\data.py:250: FutureWarning: pandas.Int64Index is deprecated and will be removed from pandas in a future version. Use pandas.Index with the appropriate dtype instead.\n",
      "  elif isinstance(data.columns, (pd.Int64Index, pd.RangeIndex)):\n",
      "C:\\Users\\jackl\\anaconda3\\lib\\site-packages\\xgboost\\data.py:250: FutureWarning: pandas.Int64Index is deprecated and will be removed from pandas in a future version. Use pandas.Index with the appropriate dtype instead.\n",
      "  elif isinstance(data.columns, (pd.Int64Index, pd.RangeIndex)):\n",
      "C:\\Users\\jackl\\anaconda3\\lib\\site-packages\\xgboost\\data.py:250: FutureWarning: pandas.Int64Index is deprecated and will be removed from pandas in a future version. Use pandas.Index with the appropriate dtype instead.\n",
      "  elif isinstance(data.columns, (pd.Int64Index, pd.RangeIndex)):\n",
      "C:\\Users\\jackl\\anaconda3\\lib\\site-packages\\xgboost\\data.py:250: FutureWarning: pandas.Int64Index is deprecated and will be removed from pandas in a future version. Use pandas.Index with the appropriate dtype instead.\n",
      "  elif isinstance(data.columns, (pd.Int64Index, pd.RangeIndex)):\n",
      "C:\\Users\\jackl\\anaconda3\\lib\\site-packages\\xgboost\\data.py:250: FutureWarning: pandas.Int64Index is deprecated and will be removed from pandas in a future version. Use pandas.Index with the appropriate dtype instead.\n",
      "  elif isinstance(data.columns, (pd.Int64Index, pd.RangeIndex)):\n",
      "C:\\Users\\jackl\\anaconda3\\lib\\site-packages\\xgboost\\data.py:250: FutureWarning: pandas.Int64Index is deprecated and will be removed from pandas in a future version. Use pandas.Index with the appropriate dtype instead.\n",
      "  elif isinstance(data.columns, (pd.Int64Index, pd.RangeIndex)):\n",
      "C:\\Users\\jackl\\anaconda3\\lib\\site-packages\\xgboost\\data.py:250: FutureWarning: pandas.Int64Index is deprecated and will be removed from pandas in a future version. Use pandas.Index with the appropriate dtype instead.\n",
      "  elif isinstance(data.columns, (pd.Int64Index, pd.RangeIndex)):\n",
      "C:\\Users\\jackl\\anaconda3\\lib\\site-packages\\xgboost\\data.py:250: FutureWarning: pandas.Int64Index is deprecated and will be removed from pandas in a future version. Use pandas.Index with the appropriate dtype instead.\n",
      "  elif isinstance(data.columns, (pd.Int64Index, pd.RangeIndex)):\n",
      "C:\\Users\\jackl\\anaconda3\\lib\\site-packages\\xgboost\\data.py:250: FutureWarning: pandas.Int64Index is deprecated and will be removed from pandas in a future version. Use pandas.Index with the appropriate dtype instead.\n",
      "  elif isinstance(data.columns, (pd.Int64Index, pd.RangeIndex)):\n"
     ]
    },
    {
     "name": "stderr",
     "output_type": "stream",
     "text": [
      "C:\\Users\\jackl\\anaconda3\\lib\\site-packages\\xgboost\\data.py:250: FutureWarning: pandas.Int64Index is deprecated and will be removed from pandas in a future version. Use pandas.Index with the appropriate dtype instead.\n",
      "  elif isinstance(data.columns, (pd.Int64Index, pd.RangeIndex)):\n",
      "C:\\Users\\jackl\\anaconda3\\lib\\site-packages\\xgboost\\data.py:250: FutureWarning: pandas.Int64Index is deprecated and will be removed from pandas in a future version. Use pandas.Index with the appropriate dtype instead.\n",
      "  elif isinstance(data.columns, (pd.Int64Index, pd.RangeIndex)):\n",
      "C:\\Users\\jackl\\anaconda3\\lib\\site-packages\\xgboost\\data.py:250: FutureWarning: pandas.Int64Index is deprecated and will be removed from pandas in a future version. Use pandas.Index with the appropriate dtype instead.\n",
      "  elif isinstance(data.columns, (pd.Int64Index, pd.RangeIndex)):\n",
      "C:\\Users\\jackl\\anaconda3\\lib\\site-packages\\xgboost\\data.py:250: FutureWarning: pandas.Int64Index is deprecated and will be removed from pandas in a future version. Use pandas.Index with the appropriate dtype instead.\n",
      "  elif isinstance(data.columns, (pd.Int64Index, pd.RangeIndex)):\n",
      "C:\\Users\\jackl\\anaconda3\\lib\\site-packages\\xgboost\\data.py:250: FutureWarning: pandas.Int64Index is deprecated and will be removed from pandas in a future version. Use pandas.Index with the appropriate dtype instead.\n",
      "  elif isinstance(data.columns, (pd.Int64Index, pd.RangeIndex)):\n",
      "C:\\Users\\jackl\\anaconda3\\lib\\site-packages\\xgboost\\data.py:250: FutureWarning: pandas.Int64Index is deprecated and will be removed from pandas in a future version. Use pandas.Index with the appropriate dtype instead.\n",
      "  elif isinstance(data.columns, (pd.Int64Index, pd.RangeIndex)):\n",
      "C:\\Users\\jackl\\anaconda3\\lib\\site-packages\\xgboost\\data.py:250: FutureWarning: pandas.Int64Index is deprecated and will be removed from pandas in a future version. Use pandas.Index with the appropriate dtype instead.\n",
      "  elif isinstance(data.columns, (pd.Int64Index, pd.RangeIndex)):\n",
      "C:\\Users\\jackl\\anaconda3\\lib\\site-packages\\xgboost\\data.py:250: FutureWarning: pandas.Int64Index is deprecated and will be removed from pandas in a future version. Use pandas.Index with the appropriate dtype instead.\n",
      "  elif isinstance(data.columns, (pd.Int64Index, pd.RangeIndex)):\n",
      "C:\\Users\\jackl\\anaconda3\\lib\\site-packages\\xgboost\\data.py:250: FutureWarning: pandas.Int64Index is deprecated and will be removed from pandas in a future version. Use pandas.Index with the appropriate dtype instead.\n",
      "  elif isinstance(data.columns, (pd.Int64Index, pd.RangeIndex)):\n",
      "C:\\Users\\jackl\\anaconda3\\lib\\site-packages\\xgboost\\data.py:250: FutureWarning: pandas.Int64Index is deprecated and will be removed from pandas in a future version. Use pandas.Index with the appropriate dtype instead.\n",
      "  elif isinstance(data.columns, (pd.Int64Index, pd.RangeIndex)):\n",
      "C:\\Users\\jackl\\anaconda3\\lib\\site-packages\\xgboost\\data.py:250: FutureWarning: pandas.Int64Index is deprecated and will be removed from pandas in a future version. Use pandas.Index with the appropriate dtype instead.\n",
      "  elif isinstance(data.columns, (pd.Int64Index, pd.RangeIndex)):\n",
      "C:\\Users\\jackl\\anaconda3\\lib\\site-packages\\xgboost\\data.py:250: FutureWarning: pandas.Int64Index is deprecated and will be removed from pandas in a future version. Use pandas.Index with the appropriate dtype instead.\n",
      "  elif isinstance(data.columns, (pd.Int64Index, pd.RangeIndex)):\n",
      "C:\\Users\\jackl\\anaconda3\\lib\\site-packages\\xgboost\\data.py:250: FutureWarning: pandas.Int64Index is deprecated and will be removed from pandas in a future version. Use pandas.Index with the appropriate dtype instead.\n",
      "  elif isinstance(data.columns, (pd.Int64Index, pd.RangeIndex)):\n",
      "C:\\Users\\jackl\\anaconda3\\lib\\site-packages\\xgboost\\data.py:250: FutureWarning: pandas.Int64Index is deprecated and will be removed from pandas in a future version. Use pandas.Index with the appropriate dtype instead.\n",
      "  elif isinstance(data.columns, (pd.Int64Index, pd.RangeIndex)):\n",
      "C:\\Users\\jackl\\anaconda3\\lib\\site-packages\\xgboost\\data.py:250: FutureWarning: pandas.Int64Index is deprecated and will be removed from pandas in a future version. Use pandas.Index with the appropriate dtype instead.\n",
      "  elif isinstance(data.columns, (pd.Int64Index, pd.RangeIndex)):\n",
      "C:\\Users\\jackl\\anaconda3\\lib\\site-packages\\xgboost\\data.py:250: FutureWarning: pandas.Int64Index is deprecated and will be removed from pandas in a future version. Use pandas.Index with the appropriate dtype instead.\n",
      "  elif isinstance(data.columns, (pd.Int64Index, pd.RangeIndex)):\n",
      "C:\\Users\\jackl\\anaconda3\\lib\\site-packages\\xgboost\\data.py:250: FutureWarning: pandas.Int64Index is deprecated and will be removed from pandas in a future version. Use pandas.Index with the appropriate dtype instead.\n",
      "  elif isinstance(data.columns, (pd.Int64Index, pd.RangeIndex)):\n",
      "C:\\Users\\jackl\\anaconda3\\lib\\site-packages\\xgboost\\data.py:250: FutureWarning: pandas.Int64Index is deprecated and will be removed from pandas in a future version. Use pandas.Index with the appropriate dtype instead.\n",
      "  elif isinstance(data.columns, (pd.Int64Index, pd.RangeIndex)):\n",
      "C:\\Users\\jackl\\anaconda3\\lib\\site-packages\\xgboost\\data.py:250: FutureWarning: pandas.Int64Index is deprecated and will be removed from pandas in a future version. Use pandas.Index with the appropriate dtype instead.\n",
      "  elif isinstance(data.columns, (pd.Int64Index, pd.RangeIndex)):\n",
      "C:\\Users\\jackl\\anaconda3\\lib\\site-packages\\xgboost\\data.py:250: FutureWarning: pandas.Int64Index is deprecated and will be removed from pandas in a future version. Use pandas.Index with the appropriate dtype instead.\n",
      "  elif isinstance(data.columns, (pd.Int64Index, pd.RangeIndex)):\n",
      "C:\\Users\\jackl\\anaconda3\\lib\\site-packages\\xgboost\\data.py:250: FutureWarning: pandas.Int64Index is deprecated and will be removed from pandas in a future version. Use pandas.Index with the appropriate dtype instead.\n",
      "  elif isinstance(data.columns, (pd.Int64Index, pd.RangeIndex)):\n",
      "C:\\Users\\jackl\\anaconda3\\lib\\site-packages\\xgboost\\data.py:250: FutureWarning: pandas.Int64Index is deprecated and will be removed from pandas in a future version. Use pandas.Index with the appropriate dtype instead.\n",
      "  elif isinstance(data.columns, (pd.Int64Index, pd.RangeIndex)):\n",
      "C:\\Users\\jackl\\anaconda3\\lib\\site-packages\\xgboost\\data.py:250: FutureWarning: pandas.Int64Index is deprecated and will be removed from pandas in a future version. Use pandas.Index with the appropriate dtype instead.\n",
      "  elif isinstance(data.columns, (pd.Int64Index, pd.RangeIndex)):\n",
      "C:\\Users\\jackl\\anaconda3\\lib\\site-packages\\xgboost\\data.py:250: FutureWarning: pandas.Int64Index is deprecated and will be removed from pandas in a future version. Use pandas.Index with the appropriate dtype instead.\n",
      "  elif isinstance(data.columns, (pd.Int64Index, pd.RangeIndex)):\n",
      "C:\\Users\\jackl\\anaconda3\\lib\\site-packages\\xgboost\\data.py:250: FutureWarning: pandas.Int64Index is deprecated and will be removed from pandas in a future version. Use pandas.Index with the appropriate dtype instead.\n",
      "  elif isinstance(data.columns, (pd.Int64Index, pd.RangeIndex)):\n",
      "C:\\Users\\jackl\\anaconda3\\lib\\site-packages\\xgboost\\data.py:250: FutureWarning: pandas.Int64Index is deprecated and will be removed from pandas in a future version. Use pandas.Index with the appropriate dtype instead.\n",
      "  elif isinstance(data.columns, (pd.Int64Index, pd.RangeIndex)):\n",
      "C:\\Users\\jackl\\anaconda3\\lib\\site-packages\\xgboost\\data.py:250: FutureWarning: pandas.Int64Index is deprecated and will be removed from pandas in a future version. Use pandas.Index with the appropriate dtype instead.\n",
      "  elif isinstance(data.columns, (pd.Int64Index, pd.RangeIndex)):\n",
      "C:\\Users\\jackl\\anaconda3\\lib\\site-packages\\xgboost\\data.py:250: FutureWarning: pandas.Int64Index is deprecated and will be removed from pandas in a future version. Use pandas.Index with the appropriate dtype instead.\n",
      "  elif isinstance(data.columns, (pd.Int64Index, pd.RangeIndex)):\n",
      "C:\\Users\\jackl\\anaconda3\\lib\\site-packages\\xgboost\\data.py:250: FutureWarning: pandas.Int64Index is deprecated and will be removed from pandas in a future version. Use pandas.Index with the appropriate dtype instead.\n",
      "  elif isinstance(data.columns, (pd.Int64Index, pd.RangeIndex)):\n",
      "C:\\Users\\jackl\\anaconda3\\lib\\site-packages\\xgboost\\data.py:250: FutureWarning: pandas.Int64Index is deprecated and will be removed from pandas in a future version. Use pandas.Index with the appropriate dtype instead.\n",
      "  elif isinstance(data.columns, (pd.Int64Index, pd.RangeIndex)):\n"
     ]
    },
    {
     "name": "stderr",
     "output_type": "stream",
     "text": [
      "C:\\Users\\jackl\\anaconda3\\lib\\site-packages\\xgboost\\data.py:250: FutureWarning: pandas.Int64Index is deprecated and will be removed from pandas in a future version. Use pandas.Index with the appropriate dtype instead.\n",
      "  elif isinstance(data.columns, (pd.Int64Index, pd.RangeIndex)):\n",
      "C:\\Users\\jackl\\anaconda3\\lib\\site-packages\\xgboost\\data.py:250: FutureWarning: pandas.Int64Index is deprecated and will be removed from pandas in a future version. Use pandas.Index with the appropriate dtype instead.\n",
      "  elif isinstance(data.columns, (pd.Int64Index, pd.RangeIndex)):\n",
      "C:\\Users\\jackl\\anaconda3\\lib\\site-packages\\xgboost\\data.py:250: FutureWarning: pandas.Int64Index is deprecated and will be removed from pandas in a future version. Use pandas.Index with the appropriate dtype instead.\n",
      "  elif isinstance(data.columns, (pd.Int64Index, pd.RangeIndex)):\n",
      "C:\\Users\\jackl\\anaconda3\\lib\\site-packages\\xgboost\\data.py:250: FutureWarning: pandas.Int64Index is deprecated and will be removed from pandas in a future version. Use pandas.Index with the appropriate dtype instead.\n",
      "  elif isinstance(data.columns, (pd.Int64Index, pd.RangeIndex)):\n",
      "C:\\Users\\jackl\\anaconda3\\lib\\site-packages\\xgboost\\data.py:250: FutureWarning: pandas.Int64Index is deprecated and will be removed from pandas in a future version. Use pandas.Index with the appropriate dtype instead.\n",
      "  elif isinstance(data.columns, (pd.Int64Index, pd.RangeIndex)):\n",
      "C:\\Users\\jackl\\anaconda3\\lib\\site-packages\\xgboost\\data.py:250: FutureWarning: pandas.Int64Index is deprecated and will be removed from pandas in a future version. Use pandas.Index with the appropriate dtype instead.\n",
      "  elif isinstance(data.columns, (pd.Int64Index, pd.RangeIndex)):\n",
      "C:\\Users\\jackl\\anaconda3\\lib\\site-packages\\xgboost\\data.py:250: FutureWarning: pandas.Int64Index is deprecated and will be removed from pandas in a future version. Use pandas.Index with the appropriate dtype instead.\n",
      "  elif isinstance(data.columns, (pd.Int64Index, pd.RangeIndex)):\n",
      "C:\\Users\\jackl\\anaconda3\\lib\\site-packages\\xgboost\\data.py:250: FutureWarning: pandas.Int64Index is deprecated and will be removed from pandas in a future version. Use pandas.Index with the appropriate dtype instead.\n",
      "  elif isinstance(data.columns, (pd.Int64Index, pd.RangeIndex)):\n",
      "C:\\Users\\jackl\\anaconda3\\lib\\site-packages\\xgboost\\data.py:250: FutureWarning: pandas.Int64Index is deprecated and will be removed from pandas in a future version. Use pandas.Index with the appropriate dtype instead.\n",
      "  elif isinstance(data.columns, (pd.Int64Index, pd.RangeIndex)):\n",
      "C:\\Users\\jackl\\anaconda3\\lib\\site-packages\\xgboost\\data.py:250: FutureWarning: pandas.Int64Index is deprecated and will be removed from pandas in a future version. Use pandas.Index with the appropriate dtype instead.\n",
      "  elif isinstance(data.columns, (pd.Int64Index, pd.RangeIndex)):\n",
      "C:\\Users\\jackl\\anaconda3\\lib\\site-packages\\xgboost\\data.py:250: FutureWarning: pandas.Int64Index is deprecated and will be removed from pandas in a future version. Use pandas.Index with the appropriate dtype instead.\n",
      "  elif isinstance(data.columns, (pd.Int64Index, pd.RangeIndex)):\n",
      "C:\\Users\\jackl\\anaconda3\\lib\\site-packages\\xgboost\\data.py:250: FutureWarning: pandas.Int64Index is deprecated and will be removed from pandas in a future version. Use pandas.Index with the appropriate dtype instead.\n",
      "  elif isinstance(data.columns, (pd.Int64Index, pd.RangeIndex)):\n",
      "C:\\Users\\jackl\\anaconda3\\lib\\site-packages\\xgboost\\data.py:250: FutureWarning: pandas.Int64Index is deprecated and will be removed from pandas in a future version. Use pandas.Index with the appropriate dtype instead.\n",
      "  elif isinstance(data.columns, (pd.Int64Index, pd.RangeIndex)):\n",
      "C:\\Users\\jackl\\anaconda3\\lib\\site-packages\\xgboost\\data.py:250: FutureWarning: pandas.Int64Index is deprecated and will be removed from pandas in a future version. Use pandas.Index with the appropriate dtype instead.\n",
      "  elif isinstance(data.columns, (pd.Int64Index, pd.RangeIndex)):\n",
      "C:\\Users\\jackl\\anaconda3\\lib\\site-packages\\xgboost\\data.py:250: FutureWarning: pandas.Int64Index is deprecated and will be removed from pandas in a future version. Use pandas.Index with the appropriate dtype instead.\n",
      "  elif isinstance(data.columns, (pd.Int64Index, pd.RangeIndex)):\n",
      "C:\\Users\\jackl\\anaconda3\\lib\\site-packages\\xgboost\\data.py:250: FutureWarning: pandas.Int64Index is deprecated and will be removed from pandas in a future version. Use pandas.Index with the appropriate dtype instead.\n",
      "  elif isinstance(data.columns, (pd.Int64Index, pd.RangeIndex)):\n",
      "C:\\Users\\jackl\\anaconda3\\lib\\site-packages\\xgboost\\data.py:250: FutureWarning: pandas.Int64Index is deprecated and will be removed from pandas in a future version. Use pandas.Index with the appropriate dtype instead.\n",
      "  elif isinstance(data.columns, (pd.Int64Index, pd.RangeIndex)):\n",
      "C:\\Users\\jackl\\anaconda3\\lib\\site-packages\\xgboost\\data.py:250: FutureWarning: pandas.Int64Index is deprecated and will be removed from pandas in a future version. Use pandas.Index with the appropriate dtype instead.\n",
      "  elif isinstance(data.columns, (pd.Int64Index, pd.RangeIndex)):\n",
      "C:\\Users\\jackl\\anaconda3\\lib\\site-packages\\xgboost\\data.py:250: FutureWarning: pandas.Int64Index is deprecated and will be removed from pandas in a future version. Use pandas.Index with the appropriate dtype instead.\n",
      "  elif isinstance(data.columns, (pd.Int64Index, pd.RangeIndex)):\n",
      "C:\\Users\\jackl\\anaconda3\\lib\\site-packages\\xgboost\\data.py:250: FutureWarning: pandas.Int64Index is deprecated and will be removed from pandas in a future version. Use pandas.Index with the appropriate dtype instead.\n",
      "  elif isinstance(data.columns, (pd.Int64Index, pd.RangeIndex)):\n",
      "C:\\Users\\jackl\\anaconda3\\lib\\site-packages\\xgboost\\data.py:250: FutureWarning: pandas.Int64Index is deprecated and will be removed from pandas in a future version. Use pandas.Index with the appropriate dtype instead.\n",
      "  elif isinstance(data.columns, (pd.Int64Index, pd.RangeIndex)):\n",
      "C:\\Users\\jackl\\anaconda3\\lib\\site-packages\\xgboost\\data.py:250: FutureWarning: pandas.Int64Index is deprecated and will be removed from pandas in a future version. Use pandas.Index with the appropriate dtype instead.\n",
      "  elif isinstance(data.columns, (pd.Int64Index, pd.RangeIndex)):\n",
      "C:\\Users\\jackl\\anaconda3\\lib\\site-packages\\xgboost\\data.py:250: FutureWarning: pandas.Int64Index is deprecated and will be removed from pandas in a future version. Use pandas.Index with the appropriate dtype instead.\n",
      "  elif isinstance(data.columns, (pd.Int64Index, pd.RangeIndex)):\n",
      "C:\\Users\\jackl\\anaconda3\\lib\\site-packages\\xgboost\\data.py:250: FutureWarning: pandas.Int64Index is deprecated and will be removed from pandas in a future version. Use pandas.Index with the appropriate dtype instead.\n",
      "  elif isinstance(data.columns, (pd.Int64Index, pd.RangeIndex)):\n",
      "C:\\Users\\jackl\\anaconda3\\lib\\site-packages\\xgboost\\data.py:250: FutureWarning: pandas.Int64Index is deprecated and will be removed from pandas in a future version. Use pandas.Index with the appropriate dtype instead.\n",
      "  elif isinstance(data.columns, (pd.Int64Index, pd.RangeIndex)):\n",
      "C:\\Users\\jackl\\anaconda3\\lib\\site-packages\\xgboost\\data.py:250: FutureWarning: pandas.Int64Index is deprecated and will be removed from pandas in a future version. Use pandas.Index with the appropriate dtype instead.\n",
      "  elif isinstance(data.columns, (pd.Int64Index, pd.RangeIndex)):\n",
      "C:\\Users\\jackl\\anaconda3\\lib\\site-packages\\xgboost\\data.py:250: FutureWarning: pandas.Int64Index is deprecated and will be removed from pandas in a future version. Use pandas.Index with the appropriate dtype instead.\n",
      "  elif isinstance(data.columns, (pd.Int64Index, pd.RangeIndex)):\n",
      "C:\\Users\\jackl\\anaconda3\\lib\\site-packages\\xgboost\\data.py:250: FutureWarning: pandas.Int64Index is deprecated and will be removed from pandas in a future version. Use pandas.Index with the appropriate dtype instead.\n",
      "  elif isinstance(data.columns, (pd.Int64Index, pd.RangeIndex)):\n",
      "C:\\Users\\jackl\\anaconda3\\lib\\site-packages\\xgboost\\data.py:250: FutureWarning: pandas.Int64Index is deprecated and will be removed from pandas in a future version. Use pandas.Index with the appropriate dtype instead.\n",
      "  elif isinstance(data.columns, (pd.Int64Index, pd.RangeIndex)):\n",
      "C:\\Users\\jackl\\anaconda3\\lib\\site-packages\\xgboost\\data.py:250: FutureWarning: pandas.Int64Index is deprecated and will be removed from pandas in a future version. Use pandas.Index with the appropriate dtype instead.\n",
      "  elif isinstance(data.columns, (pd.Int64Index, pd.RangeIndex)):\n",
      "C:\\Users\\jackl\\anaconda3\\lib\\site-packages\\xgboost\\data.py:250: FutureWarning: pandas.Int64Index is deprecated and will be removed from pandas in a future version. Use pandas.Index with the appropriate dtype instead.\n",
      "  elif isinstance(data.columns, (pd.Int64Index, pd.RangeIndex)):\n",
      "C:\\Users\\jackl\\anaconda3\\lib\\site-packages\\xgboost\\data.py:250: FutureWarning: pandas.Int64Index is deprecated and will be removed from pandas in a future version. Use pandas.Index with the appropriate dtype instead.\n",
      "  elif isinstance(data.columns, (pd.Int64Index, pd.RangeIndex)):\n"
     ]
    },
    {
     "name": "stderr",
     "output_type": "stream",
     "text": [
      "C:\\Users\\jackl\\anaconda3\\lib\\site-packages\\xgboost\\data.py:250: FutureWarning: pandas.Int64Index is deprecated and will be removed from pandas in a future version. Use pandas.Index with the appropriate dtype instead.\n",
      "  elif isinstance(data.columns, (pd.Int64Index, pd.RangeIndex)):\n",
      "C:\\Users\\jackl\\anaconda3\\lib\\site-packages\\xgboost\\data.py:250: FutureWarning: pandas.Int64Index is deprecated and will be removed from pandas in a future version. Use pandas.Index with the appropriate dtype instead.\n",
      "  elif isinstance(data.columns, (pd.Int64Index, pd.RangeIndex)):\n",
      "C:\\Users\\jackl\\anaconda3\\lib\\site-packages\\xgboost\\data.py:250: FutureWarning: pandas.Int64Index is deprecated and will be removed from pandas in a future version. Use pandas.Index with the appropriate dtype instead.\n",
      "  elif isinstance(data.columns, (pd.Int64Index, pd.RangeIndex)):\n",
      "C:\\Users\\jackl\\anaconda3\\lib\\site-packages\\xgboost\\data.py:250: FutureWarning: pandas.Int64Index is deprecated and will be removed from pandas in a future version. Use pandas.Index with the appropriate dtype instead.\n",
      "  elif isinstance(data.columns, (pd.Int64Index, pd.RangeIndex)):\n",
      "C:\\Users\\jackl\\anaconda3\\lib\\site-packages\\xgboost\\data.py:250: FutureWarning: pandas.Int64Index is deprecated and will be removed from pandas in a future version. Use pandas.Index with the appropriate dtype instead.\n",
      "  elif isinstance(data.columns, (pd.Int64Index, pd.RangeIndex)):\n",
      "C:\\Users\\jackl\\anaconda3\\lib\\site-packages\\xgboost\\data.py:250: FutureWarning: pandas.Int64Index is deprecated and will be removed from pandas in a future version. Use pandas.Index with the appropriate dtype instead.\n",
      "  elif isinstance(data.columns, (pd.Int64Index, pd.RangeIndex)):\n",
      "C:\\Users\\jackl\\anaconda3\\lib\\site-packages\\xgboost\\data.py:250: FutureWarning: pandas.Int64Index is deprecated and will be removed from pandas in a future version. Use pandas.Index with the appropriate dtype instead.\n",
      "  elif isinstance(data.columns, (pd.Int64Index, pd.RangeIndex)):\n",
      "C:\\Users\\jackl\\anaconda3\\lib\\site-packages\\xgboost\\data.py:250: FutureWarning: pandas.Int64Index is deprecated and will be removed from pandas in a future version. Use pandas.Index with the appropriate dtype instead.\n",
      "  elif isinstance(data.columns, (pd.Int64Index, pd.RangeIndex)):\n",
      "C:\\Users\\jackl\\anaconda3\\lib\\site-packages\\xgboost\\data.py:250: FutureWarning: pandas.Int64Index is deprecated and will be removed from pandas in a future version. Use pandas.Index with the appropriate dtype instead.\n",
      "  elif isinstance(data.columns, (pd.Int64Index, pd.RangeIndex)):\n",
      "C:\\Users\\jackl\\anaconda3\\lib\\site-packages\\xgboost\\data.py:250: FutureWarning: pandas.Int64Index is deprecated and will be removed from pandas in a future version. Use pandas.Index with the appropriate dtype instead.\n",
      "  elif isinstance(data.columns, (pd.Int64Index, pd.RangeIndex)):\n",
      "C:\\Users\\jackl\\anaconda3\\lib\\site-packages\\xgboost\\data.py:250: FutureWarning: pandas.Int64Index is deprecated and will be removed from pandas in a future version. Use pandas.Index with the appropriate dtype instead.\n",
      "  elif isinstance(data.columns, (pd.Int64Index, pd.RangeIndex)):\n",
      "C:\\Users\\jackl\\anaconda3\\lib\\site-packages\\xgboost\\data.py:250: FutureWarning: pandas.Int64Index is deprecated and will be removed from pandas in a future version. Use pandas.Index with the appropriate dtype instead.\n",
      "  elif isinstance(data.columns, (pd.Int64Index, pd.RangeIndex)):\n",
      "C:\\Users\\jackl\\anaconda3\\lib\\site-packages\\xgboost\\data.py:250: FutureWarning: pandas.Int64Index is deprecated and will be removed from pandas in a future version. Use pandas.Index with the appropriate dtype instead.\n",
      "  elif isinstance(data.columns, (pd.Int64Index, pd.RangeIndex)):\n",
      "C:\\Users\\jackl\\anaconda3\\lib\\site-packages\\xgboost\\data.py:250: FutureWarning: pandas.Int64Index is deprecated and will be removed from pandas in a future version. Use pandas.Index with the appropriate dtype instead.\n",
      "  elif isinstance(data.columns, (pd.Int64Index, pd.RangeIndex)):\n",
      "C:\\Users\\jackl\\anaconda3\\lib\\site-packages\\xgboost\\data.py:250: FutureWarning: pandas.Int64Index is deprecated and will be removed from pandas in a future version. Use pandas.Index with the appropriate dtype instead.\n",
      "  elif isinstance(data.columns, (pd.Int64Index, pd.RangeIndex)):\n",
      "C:\\Users\\jackl\\anaconda3\\lib\\site-packages\\xgboost\\data.py:250: FutureWarning: pandas.Int64Index is deprecated and will be removed from pandas in a future version. Use pandas.Index with the appropriate dtype instead.\n",
      "  elif isinstance(data.columns, (pd.Int64Index, pd.RangeIndex)):\n",
      "C:\\Users\\jackl\\anaconda3\\lib\\site-packages\\xgboost\\data.py:250: FutureWarning: pandas.Int64Index is deprecated and will be removed from pandas in a future version. Use pandas.Index with the appropriate dtype instead.\n",
      "  elif isinstance(data.columns, (pd.Int64Index, pd.RangeIndex)):\n",
      "C:\\Users\\jackl\\anaconda3\\lib\\site-packages\\xgboost\\data.py:250: FutureWarning: pandas.Int64Index is deprecated and will be removed from pandas in a future version. Use pandas.Index with the appropriate dtype instead.\n",
      "  elif isinstance(data.columns, (pd.Int64Index, pd.RangeIndex)):\n",
      "C:\\Users\\jackl\\anaconda3\\lib\\site-packages\\xgboost\\data.py:250: FutureWarning: pandas.Int64Index is deprecated and will be removed from pandas in a future version. Use pandas.Index with the appropriate dtype instead.\n",
      "  elif isinstance(data.columns, (pd.Int64Index, pd.RangeIndex)):\n",
      "C:\\Users\\jackl\\anaconda3\\lib\\site-packages\\xgboost\\data.py:250: FutureWarning: pandas.Int64Index is deprecated and will be removed from pandas in a future version. Use pandas.Index with the appropriate dtype instead.\n",
      "  elif isinstance(data.columns, (pd.Int64Index, pd.RangeIndex)):\n",
      "C:\\Users\\jackl\\anaconda3\\lib\\site-packages\\xgboost\\data.py:250: FutureWarning: pandas.Int64Index is deprecated and will be removed from pandas in a future version. Use pandas.Index with the appropriate dtype instead.\n",
      "  elif isinstance(data.columns, (pd.Int64Index, pd.RangeIndex)):\n",
      "C:\\Users\\jackl\\anaconda3\\lib\\site-packages\\xgboost\\data.py:250: FutureWarning: pandas.Int64Index is deprecated and will be removed from pandas in a future version. Use pandas.Index with the appropriate dtype instead.\n",
      "  elif isinstance(data.columns, (pd.Int64Index, pd.RangeIndex)):\n",
      "C:\\Users\\jackl\\anaconda3\\lib\\site-packages\\xgboost\\data.py:250: FutureWarning: pandas.Int64Index is deprecated and will be removed from pandas in a future version. Use pandas.Index with the appropriate dtype instead.\n",
      "  elif isinstance(data.columns, (pd.Int64Index, pd.RangeIndex)):\n",
      "C:\\Users\\jackl\\anaconda3\\lib\\site-packages\\xgboost\\data.py:250: FutureWarning: pandas.Int64Index is deprecated and will be removed from pandas in a future version. Use pandas.Index with the appropriate dtype instead.\n",
      "  elif isinstance(data.columns, (pd.Int64Index, pd.RangeIndex)):\n",
      "C:\\Users\\jackl\\anaconda3\\lib\\site-packages\\xgboost\\data.py:250: FutureWarning: pandas.Int64Index is deprecated and will be removed from pandas in a future version. Use pandas.Index with the appropriate dtype instead.\n",
      "  elif isinstance(data.columns, (pd.Int64Index, pd.RangeIndex)):\n",
      "C:\\Users\\jackl\\anaconda3\\lib\\site-packages\\xgboost\\data.py:250: FutureWarning: pandas.Int64Index is deprecated and will be removed from pandas in a future version. Use pandas.Index with the appropriate dtype instead.\n",
      "  elif isinstance(data.columns, (pd.Int64Index, pd.RangeIndex)):\n",
      "C:\\Users\\jackl\\anaconda3\\lib\\site-packages\\xgboost\\data.py:250: FutureWarning: pandas.Int64Index is deprecated and will be removed from pandas in a future version. Use pandas.Index with the appropriate dtype instead.\n",
      "  elif isinstance(data.columns, (pd.Int64Index, pd.RangeIndex)):\n",
      "C:\\Users\\jackl\\anaconda3\\lib\\site-packages\\xgboost\\data.py:250: FutureWarning: pandas.Int64Index is deprecated and will be removed from pandas in a future version. Use pandas.Index with the appropriate dtype instead.\n",
      "  elif isinstance(data.columns, (pd.Int64Index, pd.RangeIndex)):\n",
      "C:\\Users\\jackl\\anaconda3\\lib\\site-packages\\xgboost\\data.py:250: FutureWarning: pandas.Int64Index is deprecated and will be removed from pandas in a future version. Use pandas.Index with the appropriate dtype instead.\n",
      "  elif isinstance(data.columns, (pd.Int64Index, pd.RangeIndex)):\n",
      "C:\\Users\\jackl\\anaconda3\\lib\\site-packages\\xgboost\\data.py:250: FutureWarning: pandas.Int64Index is deprecated and will be removed from pandas in a future version. Use pandas.Index with the appropriate dtype instead.\n",
      "  elif isinstance(data.columns, (pd.Int64Index, pd.RangeIndex)):\n",
      "C:\\Users\\jackl\\anaconda3\\lib\\site-packages\\xgboost\\data.py:250: FutureWarning: pandas.Int64Index is deprecated and will be removed from pandas in a future version. Use pandas.Index with the appropriate dtype instead.\n",
      "  elif isinstance(data.columns, (pd.Int64Index, pd.RangeIndex)):\n"
     ]
    },
    {
     "name": "stderr",
     "output_type": "stream",
     "text": [
      "C:\\Users\\jackl\\anaconda3\\lib\\site-packages\\xgboost\\data.py:250: FutureWarning: pandas.Int64Index is deprecated and will be removed from pandas in a future version. Use pandas.Index with the appropriate dtype instead.\n",
      "  elif isinstance(data.columns, (pd.Int64Index, pd.RangeIndex)):\n",
      "C:\\Users\\jackl\\anaconda3\\lib\\site-packages\\xgboost\\data.py:250: FutureWarning: pandas.Int64Index is deprecated and will be removed from pandas in a future version. Use pandas.Index with the appropriate dtype instead.\n",
      "  elif isinstance(data.columns, (pd.Int64Index, pd.RangeIndex)):\n",
      "C:\\Users\\jackl\\anaconda3\\lib\\site-packages\\xgboost\\data.py:250: FutureWarning: pandas.Int64Index is deprecated and will be removed from pandas in a future version. Use pandas.Index with the appropriate dtype instead.\n",
      "  elif isinstance(data.columns, (pd.Int64Index, pd.RangeIndex)):\n",
      "C:\\Users\\jackl\\anaconda3\\lib\\site-packages\\xgboost\\data.py:250: FutureWarning: pandas.Int64Index is deprecated and will be removed from pandas in a future version. Use pandas.Index with the appropriate dtype instead.\n",
      "  elif isinstance(data.columns, (pd.Int64Index, pd.RangeIndex)):\n",
      "C:\\Users\\jackl\\anaconda3\\lib\\site-packages\\xgboost\\data.py:250: FutureWarning: pandas.Int64Index is deprecated and will be removed from pandas in a future version. Use pandas.Index with the appropriate dtype instead.\n",
      "  elif isinstance(data.columns, (pd.Int64Index, pd.RangeIndex)):\n",
      "C:\\Users\\jackl\\anaconda3\\lib\\site-packages\\xgboost\\data.py:250: FutureWarning: pandas.Int64Index is deprecated and will be removed from pandas in a future version. Use pandas.Index with the appropriate dtype instead.\n",
      "  elif isinstance(data.columns, (pd.Int64Index, pd.RangeIndex)):\n",
      "C:\\Users\\jackl\\anaconda3\\lib\\site-packages\\xgboost\\data.py:250: FutureWarning: pandas.Int64Index is deprecated and will be removed from pandas in a future version. Use pandas.Index with the appropriate dtype instead.\n",
      "  elif isinstance(data.columns, (pd.Int64Index, pd.RangeIndex)):\n",
      "C:\\Users\\jackl\\anaconda3\\lib\\site-packages\\xgboost\\data.py:250: FutureWarning: pandas.Int64Index is deprecated and will be removed from pandas in a future version. Use pandas.Index with the appropriate dtype instead.\n",
      "  elif isinstance(data.columns, (pd.Int64Index, pd.RangeIndex)):\n",
      "C:\\Users\\jackl\\anaconda3\\lib\\site-packages\\xgboost\\data.py:250: FutureWarning: pandas.Int64Index is deprecated and will be removed from pandas in a future version. Use pandas.Index with the appropriate dtype instead.\n",
      "  elif isinstance(data.columns, (pd.Int64Index, pd.RangeIndex)):\n",
      "C:\\Users\\jackl\\anaconda3\\lib\\site-packages\\xgboost\\data.py:250: FutureWarning: pandas.Int64Index is deprecated and will be removed from pandas in a future version. Use pandas.Index with the appropriate dtype instead.\n",
      "  elif isinstance(data.columns, (pd.Int64Index, pd.RangeIndex)):\n",
      "C:\\Users\\jackl\\anaconda3\\lib\\site-packages\\xgboost\\data.py:250: FutureWarning: pandas.Int64Index is deprecated and will be removed from pandas in a future version. Use pandas.Index with the appropriate dtype instead.\n",
      "  elif isinstance(data.columns, (pd.Int64Index, pd.RangeIndex)):\n",
      "C:\\Users\\jackl\\anaconda3\\lib\\site-packages\\xgboost\\data.py:250: FutureWarning: pandas.Int64Index is deprecated and will be removed from pandas in a future version. Use pandas.Index with the appropriate dtype instead.\n",
      "  elif isinstance(data.columns, (pd.Int64Index, pd.RangeIndex)):\n",
      "C:\\Users\\jackl\\anaconda3\\lib\\site-packages\\xgboost\\data.py:250: FutureWarning: pandas.Int64Index is deprecated and will be removed from pandas in a future version. Use pandas.Index with the appropriate dtype instead.\n",
      "  elif isinstance(data.columns, (pd.Int64Index, pd.RangeIndex)):\n",
      "C:\\Users\\jackl\\anaconda3\\lib\\site-packages\\xgboost\\data.py:250: FutureWarning: pandas.Int64Index is deprecated and will be removed from pandas in a future version. Use pandas.Index with the appropriate dtype instead.\n",
      "  elif isinstance(data.columns, (pd.Int64Index, pd.RangeIndex)):\n",
      "C:\\Users\\jackl\\anaconda3\\lib\\site-packages\\xgboost\\data.py:250: FutureWarning: pandas.Int64Index is deprecated and will be removed from pandas in a future version. Use pandas.Index with the appropriate dtype instead.\n",
      "  elif isinstance(data.columns, (pd.Int64Index, pd.RangeIndex)):\n",
      "C:\\Users\\jackl\\anaconda3\\lib\\site-packages\\xgboost\\data.py:250: FutureWarning: pandas.Int64Index is deprecated and will be removed from pandas in a future version. Use pandas.Index with the appropriate dtype instead.\n",
      "  elif isinstance(data.columns, (pd.Int64Index, pd.RangeIndex)):\n",
      "C:\\Users\\jackl\\anaconda3\\lib\\site-packages\\xgboost\\data.py:250: FutureWarning: pandas.Int64Index is deprecated and will be removed from pandas in a future version. Use pandas.Index with the appropriate dtype instead.\n",
      "  elif isinstance(data.columns, (pd.Int64Index, pd.RangeIndex)):\n",
      "C:\\Users\\jackl\\anaconda3\\lib\\site-packages\\xgboost\\data.py:250: FutureWarning: pandas.Int64Index is deprecated and will be removed from pandas in a future version. Use pandas.Index with the appropriate dtype instead.\n",
      "  elif isinstance(data.columns, (pd.Int64Index, pd.RangeIndex)):\n",
      "C:\\Users\\jackl\\anaconda3\\lib\\site-packages\\xgboost\\data.py:250: FutureWarning: pandas.Int64Index is deprecated and will be removed from pandas in a future version. Use pandas.Index with the appropriate dtype instead.\n",
      "  elif isinstance(data.columns, (pd.Int64Index, pd.RangeIndex)):\n",
      "C:\\Users\\jackl\\anaconda3\\lib\\site-packages\\xgboost\\data.py:250: FutureWarning: pandas.Int64Index is deprecated and will be removed from pandas in a future version. Use pandas.Index with the appropriate dtype instead.\n",
      "  elif isinstance(data.columns, (pd.Int64Index, pd.RangeIndex)):\n",
      "C:\\Users\\jackl\\anaconda3\\lib\\site-packages\\xgboost\\data.py:250: FutureWarning: pandas.Int64Index is deprecated and will be removed from pandas in a future version. Use pandas.Index with the appropriate dtype instead.\n",
      "  elif isinstance(data.columns, (pd.Int64Index, pd.RangeIndex)):\n",
      "C:\\Users\\jackl\\anaconda3\\lib\\site-packages\\xgboost\\data.py:250: FutureWarning: pandas.Int64Index is deprecated and will be removed from pandas in a future version. Use pandas.Index with the appropriate dtype instead.\n",
      "  elif isinstance(data.columns, (pd.Int64Index, pd.RangeIndex)):\n",
      "C:\\Users\\jackl\\anaconda3\\lib\\site-packages\\xgboost\\data.py:250: FutureWarning: pandas.Int64Index is deprecated and will be removed from pandas in a future version. Use pandas.Index with the appropriate dtype instead.\n",
      "  elif isinstance(data.columns, (pd.Int64Index, pd.RangeIndex)):\n",
      "C:\\Users\\jackl\\anaconda3\\lib\\site-packages\\xgboost\\data.py:250: FutureWarning: pandas.Int64Index is deprecated and will be removed from pandas in a future version. Use pandas.Index with the appropriate dtype instead.\n",
      "  elif isinstance(data.columns, (pd.Int64Index, pd.RangeIndex)):\n",
      "C:\\Users\\jackl\\anaconda3\\lib\\site-packages\\xgboost\\data.py:250: FutureWarning: pandas.Int64Index is deprecated and will be removed from pandas in a future version. Use pandas.Index with the appropriate dtype instead.\n",
      "  elif isinstance(data.columns, (pd.Int64Index, pd.RangeIndex)):\n",
      "C:\\Users\\jackl\\anaconda3\\lib\\site-packages\\xgboost\\data.py:250: FutureWarning: pandas.Int64Index is deprecated and will be removed from pandas in a future version. Use pandas.Index with the appropriate dtype instead.\n",
      "  elif isinstance(data.columns, (pd.Int64Index, pd.RangeIndex)):\n",
      "C:\\Users\\jackl\\anaconda3\\lib\\site-packages\\xgboost\\data.py:250: FutureWarning: pandas.Int64Index is deprecated and will be removed from pandas in a future version. Use pandas.Index with the appropriate dtype instead.\n",
      "  elif isinstance(data.columns, (pd.Int64Index, pd.RangeIndex)):\n",
      "C:\\Users\\jackl\\anaconda3\\lib\\site-packages\\xgboost\\data.py:250: FutureWarning: pandas.Int64Index is deprecated and will be removed from pandas in a future version. Use pandas.Index with the appropriate dtype instead.\n",
      "  elif isinstance(data.columns, (pd.Int64Index, pd.RangeIndex)):\n",
      "C:\\Users\\jackl\\anaconda3\\lib\\site-packages\\xgboost\\data.py:250: FutureWarning: pandas.Int64Index is deprecated and will be removed from pandas in a future version. Use pandas.Index with the appropriate dtype instead.\n",
      "  elif isinstance(data.columns, (pd.Int64Index, pd.RangeIndex)):\n",
      "C:\\Users\\jackl\\anaconda3\\lib\\site-packages\\xgboost\\data.py:250: FutureWarning: pandas.Int64Index is deprecated and will be removed from pandas in a future version. Use pandas.Index with the appropriate dtype instead.\n",
      "  elif isinstance(data.columns, (pd.Int64Index, pd.RangeIndex)):\n",
      "C:\\Users\\jackl\\anaconda3\\lib\\site-packages\\xgboost\\data.py:250: FutureWarning: pandas.Int64Index is deprecated and will be removed from pandas in a future version. Use pandas.Index with the appropriate dtype instead.\n",
      "  elif isinstance(data.columns, (pd.Int64Index, pd.RangeIndex)):\n",
      "C:\\Users\\jackl\\anaconda3\\lib\\site-packages\\xgboost\\data.py:250: FutureWarning: pandas.Int64Index is deprecated and will be removed from pandas in a future version. Use pandas.Index with the appropriate dtype instead.\n",
      "  elif isinstance(data.columns, (pd.Int64Index, pd.RangeIndex)):\n"
     ]
    },
    {
     "name": "stderr",
     "output_type": "stream",
     "text": [
      "C:\\Users\\jackl\\anaconda3\\lib\\site-packages\\xgboost\\data.py:250: FutureWarning: pandas.Int64Index is deprecated and will be removed from pandas in a future version. Use pandas.Index with the appropriate dtype instead.\n",
      "  elif isinstance(data.columns, (pd.Int64Index, pd.RangeIndex)):\n",
      "C:\\Users\\jackl\\anaconda3\\lib\\site-packages\\xgboost\\data.py:250: FutureWarning: pandas.Int64Index is deprecated and will be removed from pandas in a future version. Use pandas.Index with the appropriate dtype instead.\n",
      "  elif isinstance(data.columns, (pd.Int64Index, pd.RangeIndex)):\n",
      "C:\\Users\\jackl\\anaconda3\\lib\\site-packages\\xgboost\\data.py:250: FutureWarning: pandas.Int64Index is deprecated and will be removed from pandas in a future version. Use pandas.Index with the appropriate dtype instead.\n",
      "  elif isinstance(data.columns, (pd.Int64Index, pd.RangeIndex)):\n",
      "C:\\Users\\jackl\\anaconda3\\lib\\site-packages\\xgboost\\data.py:250: FutureWarning: pandas.Int64Index is deprecated and will be removed from pandas in a future version. Use pandas.Index with the appropriate dtype instead.\n",
      "  elif isinstance(data.columns, (pd.Int64Index, pd.RangeIndex)):\n",
      "C:\\Users\\jackl\\anaconda3\\lib\\site-packages\\xgboost\\data.py:250: FutureWarning: pandas.Int64Index is deprecated and will be removed from pandas in a future version. Use pandas.Index with the appropriate dtype instead.\n",
      "  elif isinstance(data.columns, (pd.Int64Index, pd.RangeIndex)):\n",
      "C:\\Users\\jackl\\anaconda3\\lib\\site-packages\\xgboost\\data.py:250: FutureWarning: pandas.Int64Index is deprecated and will be removed from pandas in a future version. Use pandas.Index with the appropriate dtype instead.\n",
      "  elif isinstance(data.columns, (pd.Int64Index, pd.RangeIndex)):\n",
      "C:\\Users\\jackl\\anaconda3\\lib\\site-packages\\xgboost\\data.py:250: FutureWarning: pandas.Int64Index is deprecated and will be removed from pandas in a future version. Use pandas.Index with the appropriate dtype instead.\n",
      "  elif isinstance(data.columns, (pd.Int64Index, pd.RangeIndex)):\n",
      "C:\\Users\\jackl\\anaconda3\\lib\\site-packages\\xgboost\\data.py:250: FutureWarning: pandas.Int64Index is deprecated and will be removed from pandas in a future version. Use pandas.Index with the appropriate dtype instead.\n",
      "  elif isinstance(data.columns, (pd.Int64Index, pd.RangeIndex)):\n",
      "C:\\Users\\jackl\\anaconda3\\lib\\site-packages\\xgboost\\data.py:250: FutureWarning: pandas.Int64Index is deprecated and will be removed from pandas in a future version. Use pandas.Index with the appropriate dtype instead.\n",
      "  elif isinstance(data.columns, (pd.Int64Index, pd.RangeIndex)):\n",
      "C:\\Users\\jackl\\anaconda3\\lib\\site-packages\\xgboost\\data.py:250: FutureWarning: pandas.Int64Index is deprecated and will be removed from pandas in a future version. Use pandas.Index with the appropriate dtype instead.\n",
      "  elif isinstance(data.columns, (pd.Int64Index, pd.RangeIndex)):\n",
      "C:\\Users\\jackl\\anaconda3\\lib\\site-packages\\xgboost\\data.py:250: FutureWarning: pandas.Int64Index is deprecated and will be removed from pandas in a future version. Use pandas.Index with the appropriate dtype instead.\n",
      "  elif isinstance(data.columns, (pd.Int64Index, pd.RangeIndex)):\n",
      "C:\\Users\\jackl\\anaconda3\\lib\\site-packages\\xgboost\\data.py:250: FutureWarning: pandas.Int64Index is deprecated and will be removed from pandas in a future version. Use pandas.Index with the appropriate dtype instead.\n",
      "  elif isinstance(data.columns, (pd.Int64Index, pd.RangeIndex)):\n",
      "C:\\Users\\jackl\\anaconda3\\lib\\site-packages\\xgboost\\data.py:250: FutureWarning: pandas.Int64Index is deprecated and will be removed from pandas in a future version. Use pandas.Index with the appropriate dtype instead.\n",
      "  elif isinstance(data.columns, (pd.Int64Index, pd.RangeIndex)):\n",
      "C:\\Users\\jackl\\anaconda3\\lib\\site-packages\\xgboost\\data.py:250: FutureWarning: pandas.Int64Index is deprecated and will be removed from pandas in a future version. Use pandas.Index with the appropriate dtype instead.\n",
      "  elif isinstance(data.columns, (pd.Int64Index, pd.RangeIndex)):\n",
      "C:\\Users\\jackl\\anaconda3\\lib\\site-packages\\xgboost\\data.py:250: FutureWarning: pandas.Int64Index is deprecated and will be removed from pandas in a future version. Use pandas.Index with the appropriate dtype instead.\n",
      "  elif isinstance(data.columns, (pd.Int64Index, pd.RangeIndex)):\n",
      "C:\\Users\\jackl\\anaconda3\\lib\\site-packages\\xgboost\\data.py:250: FutureWarning: pandas.Int64Index is deprecated and will be removed from pandas in a future version. Use pandas.Index with the appropriate dtype instead.\n",
      "  elif isinstance(data.columns, (pd.Int64Index, pd.RangeIndex)):\n",
      "C:\\Users\\jackl\\anaconda3\\lib\\site-packages\\xgboost\\data.py:250: FutureWarning: pandas.Int64Index is deprecated and will be removed from pandas in a future version. Use pandas.Index with the appropriate dtype instead.\n",
      "  elif isinstance(data.columns, (pd.Int64Index, pd.RangeIndex)):\n",
      "C:\\Users\\jackl\\anaconda3\\lib\\site-packages\\xgboost\\data.py:250: FutureWarning: pandas.Int64Index is deprecated and will be removed from pandas in a future version. Use pandas.Index with the appropriate dtype instead.\n",
      "  elif isinstance(data.columns, (pd.Int64Index, pd.RangeIndex)):\n",
      "C:\\Users\\jackl\\anaconda3\\lib\\site-packages\\xgboost\\data.py:250: FutureWarning: pandas.Int64Index is deprecated and will be removed from pandas in a future version. Use pandas.Index with the appropriate dtype instead.\n",
      "  elif isinstance(data.columns, (pd.Int64Index, pd.RangeIndex)):\n",
      "C:\\Users\\jackl\\anaconda3\\lib\\site-packages\\xgboost\\data.py:250: FutureWarning: pandas.Int64Index is deprecated and will be removed from pandas in a future version. Use pandas.Index with the appropriate dtype instead.\n",
      "  elif isinstance(data.columns, (pd.Int64Index, pd.RangeIndex)):\n",
      "C:\\Users\\jackl\\anaconda3\\lib\\site-packages\\xgboost\\data.py:250: FutureWarning: pandas.Int64Index is deprecated and will be removed from pandas in a future version. Use pandas.Index with the appropriate dtype instead.\n",
      "  elif isinstance(data.columns, (pd.Int64Index, pd.RangeIndex)):\n",
      "C:\\Users\\jackl\\anaconda3\\lib\\site-packages\\xgboost\\data.py:250: FutureWarning: pandas.Int64Index is deprecated and will be removed from pandas in a future version. Use pandas.Index with the appropriate dtype instead.\n",
      "  elif isinstance(data.columns, (pd.Int64Index, pd.RangeIndex)):\n",
      "C:\\Users\\jackl\\anaconda3\\lib\\site-packages\\xgboost\\data.py:250: FutureWarning: pandas.Int64Index is deprecated and will be removed from pandas in a future version. Use pandas.Index with the appropriate dtype instead.\n",
      "  elif isinstance(data.columns, (pd.Int64Index, pd.RangeIndex)):\n",
      "C:\\Users\\jackl\\anaconda3\\lib\\site-packages\\xgboost\\data.py:250: FutureWarning: pandas.Int64Index is deprecated and will be removed from pandas in a future version. Use pandas.Index with the appropriate dtype instead.\n",
      "  elif isinstance(data.columns, (pd.Int64Index, pd.RangeIndex)):\n",
      "C:\\Users\\jackl\\anaconda3\\lib\\site-packages\\xgboost\\data.py:250: FutureWarning: pandas.Int64Index is deprecated and will be removed from pandas in a future version. Use pandas.Index with the appropriate dtype instead.\n",
      "  elif isinstance(data.columns, (pd.Int64Index, pd.RangeIndex)):\n",
      "C:\\Users\\jackl\\anaconda3\\lib\\site-packages\\xgboost\\data.py:250: FutureWarning: pandas.Int64Index is deprecated and will be removed from pandas in a future version. Use pandas.Index with the appropriate dtype instead.\n",
      "  elif isinstance(data.columns, (pd.Int64Index, pd.RangeIndex)):\n",
      "C:\\Users\\jackl\\anaconda3\\lib\\site-packages\\xgboost\\data.py:250: FutureWarning: pandas.Int64Index is deprecated and will be removed from pandas in a future version. Use pandas.Index with the appropriate dtype instead.\n",
      "  elif isinstance(data.columns, (pd.Int64Index, pd.RangeIndex)):\n",
      "C:\\Users\\jackl\\anaconda3\\lib\\site-packages\\xgboost\\data.py:250: FutureWarning: pandas.Int64Index is deprecated and will be removed from pandas in a future version. Use pandas.Index with the appropriate dtype instead.\n",
      "  elif isinstance(data.columns, (pd.Int64Index, pd.RangeIndex)):\n",
      "C:\\Users\\jackl\\anaconda3\\lib\\site-packages\\xgboost\\data.py:250: FutureWarning: pandas.Int64Index is deprecated and will be removed from pandas in a future version. Use pandas.Index with the appropriate dtype instead.\n",
      "  elif isinstance(data.columns, (pd.Int64Index, pd.RangeIndex)):\n",
      "C:\\Users\\jackl\\anaconda3\\lib\\site-packages\\xgboost\\data.py:250: FutureWarning: pandas.Int64Index is deprecated and will be removed from pandas in a future version. Use pandas.Index with the appropriate dtype instead.\n",
      "  elif isinstance(data.columns, (pd.Int64Index, pd.RangeIndex)):\n",
      "C:\\Users\\jackl\\anaconda3\\lib\\site-packages\\xgboost\\data.py:250: FutureWarning: pandas.Int64Index is deprecated and will be removed from pandas in a future version. Use pandas.Index with the appropriate dtype instead.\n",
      "  elif isinstance(data.columns, (pd.Int64Index, pd.RangeIndex)):\n",
      "C:\\Users\\jackl\\anaconda3\\lib\\site-packages\\xgboost\\data.py:250: FutureWarning: pandas.Int64Index is deprecated and will be removed from pandas in a future version. Use pandas.Index with the appropriate dtype instead.\n",
      "  elif isinstance(data.columns, (pd.Int64Index, pd.RangeIndex)):\n",
      "C:\\Users\\jackl\\anaconda3\\lib\\site-packages\\xgboost\\data.py:250: FutureWarning: pandas.Int64Index is deprecated and will be removed from pandas in a future version. Use pandas.Index with the appropriate dtype instead.\n",
      "  elif isinstance(data.columns, (pd.Int64Index, pd.RangeIndex)):\n"
     ]
    },
    {
     "name": "stderr",
     "output_type": "stream",
     "text": [
      "C:\\Users\\jackl\\anaconda3\\lib\\site-packages\\xgboost\\data.py:250: FutureWarning: pandas.Int64Index is deprecated and will be removed from pandas in a future version. Use pandas.Index with the appropriate dtype instead.\n",
      "  elif isinstance(data.columns, (pd.Int64Index, pd.RangeIndex)):\n",
      "C:\\Users\\jackl\\anaconda3\\lib\\site-packages\\xgboost\\data.py:250: FutureWarning: pandas.Int64Index is deprecated and will be removed from pandas in a future version. Use pandas.Index with the appropriate dtype instead.\n",
      "  elif isinstance(data.columns, (pd.Int64Index, pd.RangeIndex)):\n",
      "C:\\Users\\jackl\\anaconda3\\lib\\site-packages\\xgboost\\data.py:250: FutureWarning: pandas.Int64Index is deprecated and will be removed from pandas in a future version. Use pandas.Index with the appropriate dtype instead.\n",
      "  elif isinstance(data.columns, (pd.Int64Index, pd.RangeIndex)):\n",
      "C:\\Users\\jackl\\anaconda3\\lib\\site-packages\\xgboost\\data.py:250: FutureWarning: pandas.Int64Index is deprecated and will be removed from pandas in a future version. Use pandas.Index with the appropriate dtype instead.\n",
      "  elif isinstance(data.columns, (pd.Int64Index, pd.RangeIndex)):\n",
      "C:\\Users\\jackl\\anaconda3\\lib\\site-packages\\xgboost\\data.py:250: FutureWarning: pandas.Int64Index is deprecated and will be removed from pandas in a future version. Use pandas.Index with the appropriate dtype instead.\n",
      "  elif isinstance(data.columns, (pd.Int64Index, pd.RangeIndex)):\n",
      "C:\\Users\\jackl\\anaconda3\\lib\\site-packages\\xgboost\\data.py:250: FutureWarning: pandas.Int64Index is deprecated and will be removed from pandas in a future version. Use pandas.Index with the appropriate dtype instead.\n",
      "  elif isinstance(data.columns, (pd.Int64Index, pd.RangeIndex)):\n",
      "C:\\Users\\jackl\\anaconda3\\lib\\site-packages\\xgboost\\data.py:250: FutureWarning: pandas.Int64Index is deprecated and will be removed from pandas in a future version. Use pandas.Index with the appropriate dtype instead.\n",
      "  elif isinstance(data.columns, (pd.Int64Index, pd.RangeIndex)):\n",
      "C:\\Users\\jackl\\anaconda3\\lib\\site-packages\\xgboost\\data.py:250: FutureWarning: pandas.Int64Index is deprecated and will be removed from pandas in a future version. Use pandas.Index with the appropriate dtype instead.\n",
      "  elif isinstance(data.columns, (pd.Int64Index, pd.RangeIndex)):\n",
      "C:\\Users\\jackl\\anaconda3\\lib\\site-packages\\xgboost\\data.py:250: FutureWarning: pandas.Int64Index is deprecated and will be removed from pandas in a future version. Use pandas.Index with the appropriate dtype instead.\n",
      "  elif isinstance(data.columns, (pd.Int64Index, pd.RangeIndex)):\n",
      "C:\\Users\\jackl\\anaconda3\\lib\\site-packages\\xgboost\\data.py:250: FutureWarning: pandas.Int64Index is deprecated and will be removed from pandas in a future version. Use pandas.Index with the appropriate dtype instead.\n",
      "  elif isinstance(data.columns, (pd.Int64Index, pd.RangeIndex)):\n",
      "C:\\Users\\jackl\\anaconda3\\lib\\site-packages\\xgboost\\data.py:250: FutureWarning: pandas.Int64Index is deprecated and will be removed from pandas in a future version. Use pandas.Index with the appropriate dtype instead.\n",
      "  elif isinstance(data.columns, (pd.Int64Index, pd.RangeIndex)):\n",
      "C:\\Users\\jackl\\anaconda3\\lib\\site-packages\\xgboost\\data.py:250: FutureWarning: pandas.Int64Index is deprecated and will be removed from pandas in a future version. Use pandas.Index with the appropriate dtype instead.\n",
      "  elif isinstance(data.columns, (pd.Int64Index, pd.RangeIndex)):\n",
      "C:\\Users\\jackl\\anaconda3\\lib\\site-packages\\xgboost\\data.py:250: FutureWarning: pandas.Int64Index is deprecated and will be removed from pandas in a future version. Use pandas.Index with the appropriate dtype instead.\n",
      "  elif isinstance(data.columns, (pd.Int64Index, pd.RangeIndex)):\n",
      "C:\\Users\\jackl\\anaconda3\\lib\\site-packages\\xgboost\\data.py:250: FutureWarning: pandas.Int64Index is deprecated and will be removed from pandas in a future version. Use pandas.Index with the appropriate dtype instead.\n",
      "  elif isinstance(data.columns, (pd.Int64Index, pd.RangeIndex)):\n",
      "C:\\Users\\jackl\\anaconda3\\lib\\site-packages\\xgboost\\data.py:250: FutureWarning: pandas.Int64Index is deprecated and will be removed from pandas in a future version. Use pandas.Index with the appropriate dtype instead.\n",
      "  elif isinstance(data.columns, (pd.Int64Index, pd.RangeIndex)):\n",
      "C:\\Users\\jackl\\anaconda3\\lib\\site-packages\\xgboost\\data.py:250: FutureWarning: pandas.Int64Index is deprecated and will be removed from pandas in a future version. Use pandas.Index with the appropriate dtype instead.\n",
      "  elif isinstance(data.columns, (pd.Int64Index, pd.RangeIndex)):\n",
      "C:\\Users\\jackl\\anaconda3\\lib\\site-packages\\xgboost\\data.py:250: FutureWarning: pandas.Int64Index is deprecated and will be removed from pandas in a future version. Use pandas.Index with the appropriate dtype instead.\n",
      "  elif isinstance(data.columns, (pd.Int64Index, pd.RangeIndex)):\n",
      "C:\\Users\\jackl\\anaconda3\\lib\\site-packages\\xgboost\\data.py:250: FutureWarning: pandas.Int64Index is deprecated and will be removed from pandas in a future version. Use pandas.Index with the appropriate dtype instead.\n",
      "  elif isinstance(data.columns, (pd.Int64Index, pd.RangeIndex)):\n",
      "C:\\Users\\jackl\\anaconda3\\lib\\site-packages\\xgboost\\data.py:250: FutureWarning: pandas.Int64Index is deprecated and will be removed from pandas in a future version. Use pandas.Index with the appropriate dtype instead.\n",
      "  elif isinstance(data.columns, (pd.Int64Index, pd.RangeIndex)):\n",
      "C:\\Users\\jackl\\anaconda3\\lib\\site-packages\\xgboost\\data.py:250: FutureWarning: pandas.Int64Index is deprecated and will be removed from pandas in a future version. Use pandas.Index with the appropriate dtype instead.\n",
      "  elif isinstance(data.columns, (pd.Int64Index, pd.RangeIndex)):\n",
      "C:\\Users\\jackl\\anaconda3\\lib\\site-packages\\xgboost\\data.py:250: FutureWarning: pandas.Int64Index is deprecated and will be removed from pandas in a future version. Use pandas.Index with the appropriate dtype instead.\n",
      "  elif isinstance(data.columns, (pd.Int64Index, pd.RangeIndex)):\n",
      "C:\\Users\\jackl\\anaconda3\\lib\\site-packages\\xgboost\\data.py:250: FutureWarning: pandas.Int64Index is deprecated and will be removed from pandas in a future version. Use pandas.Index with the appropriate dtype instead.\n",
      "  elif isinstance(data.columns, (pd.Int64Index, pd.RangeIndex)):\n",
      "C:\\Users\\jackl\\anaconda3\\lib\\site-packages\\xgboost\\data.py:250: FutureWarning: pandas.Int64Index is deprecated and will be removed from pandas in a future version. Use pandas.Index with the appropriate dtype instead.\n",
      "  elif isinstance(data.columns, (pd.Int64Index, pd.RangeIndex)):\n",
      "C:\\Users\\jackl\\anaconda3\\lib\\site-packages\\xgboost\\data.py:250: FutureWarning: pandas.Int64Index is deprecated and will be removed from pandas in a future version. Use pandas.Index with the appropriate dtype instead.\n",
      "  elif isinstance(data.columns, (pd.Int64Index, pd.RangeIndex)):\n",
      "C:\\Users\\jackl\\anaconda3\\lib\\site-packages\\xgboost\\data.py:250: FutureWarning: pandas.Int64Index is deprecated and will be removed from pandas in a future version. Use pandas.Index with the appropriate dtype instead.\n",
      "  elif isinstance(data.columns, (pd.Int64Index, pd.RangeIndex)):\n",
      "C:\\Users\\jackl\\anaconda3\\lib\\site-packages\\xgboost\\data.py:250: FutureWarning: pandas.Int64Index is deprecated and will be removed from pandas in a future version. Use pandas.Index with the appropriate dtype instead.\n",
      "  elif isinstance(data.columns, (pd.Int64Index, pd.RangeIndex)):\n",
      "C:\\Users\\jackl\\anaconda3\\lib\\site-packages\\xgboost\\data.py:250: FutureWarning: pandas.Int64Index is deprecated and will be removed from pandas in a future version. Use pandas.Index with the appropriate dtype instead.\n",
      "  elif isinstance(data.columns, (pd.Int64Index, pd.RangeIndex)):\n",
      "C:\\Users\\jackl\\anaconda3\\lib\\site-packages\\xgboost\\data.py:250: FutureWarning: pandas.Int64Index is deprecated and will be removed from pandas in a future version. Use pandas.Index with the appropriate dtype instead.\n",
      "  elif isinstance(data.columns, (pd.Int64Index, pd.RangeIndex)):\n",
      "C:\\Users\\jackl\\anaconda3\\lib\\site-packages\\xgboost\\data.py:250: FutureWarning: pandas.Int64Index is deprecated and will be removed from pandas in a future version. Use pandas.Index with the appropriate dtype instead.\n",
      "  elif isinstance(data.columns, (pd.Int64Index, pd.RangeIndex)):\n",
      "C:\\Users\\jackl\\anaconda3\\lib\\site-packages\\xgboost\\data.py:250: FutureWarning: pandas.Int64Index is deprecated and will be removed from pandas in a future version. Use pandas.Index with the appropriate dtype instead.\n",
      "  elif isinstance(data.columns, (pd.Int64Index, pd.RangeIndex)):\n"
     ]
    },
    {
     "name": "stderr",
     "output_type": "stream",
     "text": [
      "C:\\Users\\jackl\\anaconda3\\lib\\site-packages\\xgboost\\data.py:250: FutureWarning: pandas.Int64Index is deprecated and will be removed from pandas in a future version. Use pandas.Index with the appropriate dtype instead.\n",
      "  elif isinstance(data.columns, (pd.Int64Index, pd.RangeIndex)):\n",
      "C:\\Users\\jackl\\anaconda3\\lib\\site-packages\\xgboost\\data.py:250: FutureWarning: pandas.Int64Index is deprecated and will be removed from pandas in a future version. Use pandas.Index with the appropriate dtype instead.\n",
      "  elif isinstance(data.columns, (pd.Int64Index, pd.RangeIndex)):\n",
      "C:\\Users\\jackl\\anaconda3\\lib\\site-packages\\xgboost\\data.py:250: FutureWarning: pandas.Int64Index is deprecated and will be removed from pandas in a future version. Use pandas.Index with the appropriate dtype instead.\n",
      "  elif isinstance(data.columns, (pd.Int64Index, pd.RangeIndex)):\n",
      "C:\\Users\\jackl\\anaconda3\\lib\\site-packages\\xgboost\\data.py:250: FutureWarning: pandas.Int64Index is deprecated and will be removed from pandas in a future version. Use pandas.Index with the appropriate dtype instead.\n",
      "  elif isinstance(data.columns, (pd.Int64Index, pd.RangeIndex)):\n",
      "C:\\Users\\jackl\\anaconda3\\lib\\site-packages\\xgboost\\data.py:250: FutureWarning: pandas.Int64Index is deprecated and will be removed from pandas in a future version. Use pandas.Index with the appropriate dtype instead.\n",
      "  elif isinstance(data.columns, (pd.Int64Index, pd.RangeIndex)):\n",
      "C:\\Users\\jackl\\anaconda3\\lib\\site-packages\\xgboost\\data.py:250: FutureWarning: pandas.Int64Index is deprecated and will be removed from pandas in a future version. Use pandas.Index with the appropriate dtype instead.\n",
      "  elif isinstance(data.columns, (pd.Int64Index, pd.RangeIndex)):\n",
      "C:\\Users\\jackl\\anaconda3\\lib\\site-packages\\xgboost\\data.py:250: FutureWarning: pandas.Int64Index is deprecated and will be removed from pandas in a future version. Use pandas.Index with the appropriate dtype instead.\n",
      "  elif isinstance(data.columns, (pd.Int64Index, pd.RangeIndex)):\n",
      "C:\\Users\\jackl\\anaconda3\\lib\\site-packages\\xgboost\\data.py:250: FutureWarning: pandas.Int64Index is deprecated and will be removed from pandas in a future version. Use pandas.Index with the appropriate dtype instead.\n",
      "  elif isinstance(data.columns, (pd.Int64Index, pd.RangeIndex)):\n",
      "C:\\Users\\jackl\\anaconda3\\lib\\site-packages\\xgboost\\data.py:250: FutureWarning: pandas.Int64Index is deprecated and will be removed from pandas in a future version. Use pandas.Index with the appropriate dtype instead.\n",
      "  elif isinstance(data.columns, (pd.Int64Index, pd.RangeIndex)):\n",
      "C:\\Users\\jackl\\anaconda3\\lib\\site-packages\\xgboost\\data.py:250: FutureWarning: pandas.Int64Index is deprecated and will be removed from pandas in a future version. Use pandas.Index with the appropriate dtype instead.\n",
      "  elif isinstance(data.columns, (pd.Int64Index, pd.RangeIndex)):\n",
      "C:\\Users\\jackl\\anaconda3\\lib\\site-packages\\xgboost\\data.py:250: FutureWarning: pandas.Int64Index is deprecated and will be removed from pandas in a future version. Use pandas.Index with the appropriate dtype instead.\n",
      "  elif isinstance(data.columns, (pd.Int64Index, pd.RangeIndex)):\n",
      "C:\\Users\\jackl\\anaconda3\\lib\\site-packages\\xgboost\\data.py:250: FutureWarning: pandas.Int64Index is deprecated and will be removed from pandas in a future version. Use pandas.Index with the appropriate dtype instead.\n",
      "  elif isinstance(data.columns, (pd.Int64Index, pd.RangeIndex)):\n",
      "C:\\Users\\jackl\\anaconda3\\lib\\site-packages\\xgboost\\data.py:250: FutureWarning: pandas.Int64Index is deprecated and will be removed from pandas in a future version. Use pandas.Index with the appropriate dtype instead.\n",
      "  elif isinstance(data.columns, (pd.Int64Index, pd.RangeIndex)):\n",
      "C:\\Users\\jackl\\anaconda3\\lib\\site-packages\\xgboost\\data.py:250: FutureWarning: pandas.Int64Index is deprecated and will be removed from pandas in a future version. Use pandas.Index with the appropriate dtype instead.\n",
      "  elif isinstance(data.columns, (pd.Int64Index, pd.RangeIndex)):\n",
      "C:\\Users\\jackl\\anaconda3\\lib\\site-packages\\xgboost\\data.py:250: FutureWarning: pandas.Int64Index is deprecated and will be removed from pandas in a future version. Use pandas.Index with the appropriate dtype instead.\n",
      "  elif isinstance(data.columns, (pd.Int64Index, pd.RangeIndex)):\n",
      "C:\\Users\\jackl\\anaconda3\\lib\\site-packages\\xgboost\\data.py:250: FutureWarning: pandas.Int64Index is deprecated and will be removed from pandas in a future version. Use pandas.Index with the appropriate dtype instead.\n",
      "  elif isinstance(data.columns, (pd.Int64Index, pd.RangeIndex)):\n",
      "C:\\Users\\jackl\\anaconda3\\lib\\site-packages\\xgboost\\data.py:250: FutureWarning: pandas.Int64Index is deprecated and will be removed from pandas in a future version. Use pandas.Index with the appropriate dtype instead.\n",
      "  elif isinstance(data.columns, (pd.Int64Index, pd.RangeIndex)):\n",
      "C:\\Users\\jackl\\anaconda3\\lib\\site-packages\\xgboost\\data.py:250: FutureWarning: pandas.Int64Index is deprecated and will be removed from pandas in a future version. Use pandas.Index with the appropriate dtype instead.\n",
      "  elif isinstance(data.columns, (pd.Int64Index, pd.RangeIndex)):\n",
      "C:\\Users\\jackl\\anaconda3\\lib\\site-packages\\xgboost\\data.py:250: FutureWarning: pandas.Int64Index is deprecated and will be removed from pandas in a future version. Use pandas.Index with the appropriate dtype instead.\n",
      "  elif isinstance(data.columns, (pd.Int64Index, pd.RangeIndex)):\n",
      "C:\\Users\\jackl\\anaconda3\\lib\\site-packages\\xgboost\\data.py:250: FutureWarning: pandas.Int64Index is deprecated and will be removed from pandas in a future version. Use pandas.Index with the appropriate dtype instead.\n",
      "  elif isinstance(data.columns, (pd.Int64Index, pd.RangeIndex)):\n",
      "C:\\Users\\jackl\\anaconda3\\lib\\site-packages\\xgboost\\data.py:250: FutureWarning: pandas.Int64Index is deprecated and will be removed from pandas in a future version. Use pandas.Index with the appropriate dtype instead.\n",
      "  elif isinstance(data.columns, (pd.Int64Index, pd.RangeIndex)):\n",
      "C:\\Users\\jackl\\anaconda3\\lib\\site-packages\\xgboost\\data.py:250: FutureWarning: pandas.Int64Index is deprecated and will be removed from pandas in a future version. Use pandas.Index with the appropriate dtype instead.\n",
      "  elif isinstance(data.columns, (pd.Int64Index, pd.RangeIndex)):\n",
      "C:\\Users\\jackl\\anaconda3\\lib\\site-packages\\xgboost\\data.py:250: FutureWarning: pandas.Int64Index is deprecated and will be removed from pandas in a future version. Use pandas.Index with the appropriate dtype instead.\n",
      "  elif isinstance(data.columns, (pd.Int64Index, pd.RangeIndex)):\n",
      "C:\\Users\\jackl\\anaconda3\\lib\\site-packages\\xgboost\\data.py:250: FutureWarning: pandas.Int64Index is deprecated and will be removed from pandas in a future version. Use pandas.Index with the appropriate dtype instead.\n",
      "  elif isinstance(data.columns, (pd.Int64Index, pd.RangeIndex)):\n",
      "C:\\Users\\jackl\\anaconda3\\lib\\site-packages\\xgboost\\data.py:250: FutureWarning: pandas.Int64Index is deprecated and will be removed from pandas in a future version. Use pandas.Index with the appropriate dtype instead.\n",
      "  elif isinstance(data.columns, (pd.Int64Index, pd.RangeIndex)):\n",
      "C:\\Users\\jackl\\anaconda3\\lib\\site-packages\\xgboost\\data.py:250: FutureWarning: pandas.Int64Index is deprecated and will be removed from pandas in a future version. Use pandas.Index with the appropriate dtype instead.\n",
      "  elif isinstance(data.columns, (pd.Int64Index, pd.RangeIndex)):\n",
      "C:\\Users\\jackl\\anaconda3\\lib\\site-packages\\xgboost\\data.py:250: FutureWarning: pandas.Int64Index is deprecated and will be removed from pandas in a future version. Use pandas.Index with the appropriate dtype instead.\n",
      "  elif isinstance(data.columns, (pd.Int64Index, pd.RangeIndex)):\n",
      "C:\\Users\\jackl\\anaconda3\\lib\\site-packages\\xgboost\\data.py:250: FutureWarning: pandas.Int64Index is deprecated and will be removed from pandas in a future version. Use pandas.Index with the appropriate dtype instead.\n",
      "  elif isinstance(data.columns, (pd.Int64Index, pd.RangeIndex)):\n",
      "C:\\Users\\jackl\\anaconda3\\lib\\site-packages\\xgboost\\data.py:250: FutureWarning: pandas.Int64Index is deprecated and will be removed from pandas in a future version. Use pandas.Index with the appropriate dtype instead.\n",
      "  elif isinstance(data.columns, (pd.Int64Index, pd.RangeIndex)):\n",
      "C:\\Users\\jackl\\anaconda3\\lib\\site-packages\\xgboost\\data.py:250: FutureWarning: pandas.Int64Index is deprecated and will be removed from pandas in a future version. Use pandas.Index with the appropriate dtype instead.\n",
      "  elif isinstance(data.columns, (pd.Int64Index, pd.RangeIndex)):\n",
      "C:\\Users\\jackl\\anaconda3\\lib\\site-packages\\xgboost\\data.py:250: FutureWarning: pandas.Int64Index is deprecated and will be removed from pandas in a future version. Use pandas.Index with the appropriate dtype instead.\n",
      "  elif isinstance(data.columns, (pd.Int64Index, pd.RangeIndex)):\n"
     ]
    },
    {
     "name": "stderr",
     "output_type": "stream",
     "text": [
      "C:\\Users\\jackl\\anaconda3\\lib\\site-packages\\xgboost\\data.py:250: FutureWarning: pandas.Int64Index is deprecated and will be removed from pandas in a future version. Use pandas.Index with the appropriate dtype instead.\n",
      "  elif isinstance(data.columns, (pd.Int64Index, pd.RangeIndex)):\n",
      "C:\\Users\\jackl\\anaconda3\\lib\\site-packages\\xgboost\\data.py:250: FutureWarning: pandas.Int64Index is deprecated and will be removed from pandas in a future version. Use pandas.Index with the appropriate dtype instead.\n",
      "  elif isinstance(data.columns, (pd.Int64Index, pd.RangeIndex)):\n",
      "C:\\Users\\jackl\\anaconda3\\lib\\site-packages\\xgboost\\data.py:250: FutureWarning: pandas.Int64Index is deprecated and will be removed from pandas in a future version. Use pandas.Index with the appropriate dtype instead.\n",
      "  elif isinstance(data.columns, (pd.Int64Index, pd.RangeIndex)):\n",
      "C:\\Users\\jackl\\anaconda3\\lib\\site-packages\\xgboost\\data.py:250: FutureWarning: pandas.Int64Index is deprecated and will be removed from pandas in a future version. Use pandas.Index with the appropriate dtype instead.\n",
      "  elif isinstance(data.columns, (pd.Int64Index, pd.RangeIndex)):\n",
      "C:\\Users\\jackl\\anaconda3\\lib\\site-packages\\xgboost\\data.py:250: FutureWarning: pandas.Int64Index is deprecated and will be removed from pandas in a future version. Use pandas.Index with the appropriate dtype instead.\n",
      "  elif isinstance(data.columns, (pd.Int64Index, pd.RangeIndex)):\n",
      "C:\\Users\\jackl\\anaconda3\\lib\\site-packages\\xgboost\\data.py:250: FutureWarning: pandas.Int64Index is deprecated and will be removed from pandas in a future version. Use pandas.Index with the appropriate dtype instead.\n",
      "  elif isinstance(data.columns, (pd.Int64Index, pd.RangeIndex)):\n",
      "C:\\Users\\jackl\\anaconda3\\lib\\site-packages\\xgboost\\data.py:250: FutureWarning: pandas.Int64Index is deprecated and will be removed from pandas in a future version. Use pandas.Index with the appropriate dtype instead.\n",
      "  elif isinstance(data.columns, (pd.Int64Index, pd.RangeIndex)):\n",
      "C:\\Users\\jackl\\anaconda3\\lib\\site-packages\\xgboost\\data.py:250: FutureWarning: pandas.Int64Index is deprecated and will be removed from pandas in a future version. Use pandas.Index with the appropriate dtype instead.\n",
      "  elif isinstance(data.columns, (pd.Int64Index, pd.RangeIndex)):\n",
      "C:\\Users\\jackl\\anaconda3\\lib\\site-packages\\xgboost\\data.py:250: FutureWarning: pandas.Int64Index is deprecated and will be removed from pandas in a future version. Use pandas.Index with the appropriate dtype instead.\n",
      "  elif isinstance(data.columns, (pd.Int64Index, pd.RangeIndex)):\n",
      "C:\\Users\\jackl\\anaconda3\\lib\\site-packages\\xgboost\\data.py:250: FutureWarning: pandas.Int64Index is deprecated and will be removed from pandas in a future version. Use pandas.Index with the appropriate dtype instead.\n",
      "  elif isinstance(data.columns, (pd.Int64Index, pd.RangeIndex)):\n",
      "C:\\Users\\jackl\\anaconda3\\lib\\site-packages\\xgboost\\data.py:250: FutureWarning: pandas.Int64Index is deprecated and will be removed from pandas in a future version. Use pandas.Index with the appropriate dtype instead.\n",
      "  elif isinstance(data.columns, (pd.Int64Index, pd.RangeIndex)):\n",
      "C:\\Users\\jackl\\anaconda3\\lib\\site-packages\\xgboost\\data.py:250: FutureWarning: pandas.Int64Index is deprecated and will be removed from pandas in a future version. Use pandas.Index with the appropriate dtype instead.\n",
      "  elif isinstance(data.columns, (pd.Int64Index, pd.RangeIndex)):\n",
      "C:\\Users\\jackl\\anaconda3\\lib\\site-packages\\xgboost\\data.py:250: FutureWarning: pandas.Int64Index is deprecated and will be removed from pandas in a future version. Use pandas.Index with the appropriate dtype instead.\n",
      "  elif isinstance(data.columns, (pd.Int64Index, pd.RangeIndex)):\n",
      "C:\\Users\\jackl\\anaconda3\\lib\\site-packages\\xgboost\\data.py:250: FutureWarning: pandas.Int64Index is deprecated and will be removed from pandas in a future version. Use pandas.Index with the appropriate dtype instead.\n",
      "  elif isinstance(data.columns, (pd.Int64Index, pd.RangeIndex)):\n",
      "C:\\Users\\jackl\\anaconda3\\lib\\site-packages\\xgboost\\data.py:250: FutureWarning: pandas.Int64Index is deprecated and will be removed from pandas in a future version. Use pandas.Index with the appropriate dtype instead.\n",
      "  elif isinstance(data.columns, (pd.Int64Index, pd.RangeIndex)):\n",
      "C:\\Users\\jackl\\anaconda3\\lib\\site-packages\\xgboost\\data.py:250: FutureWarning: pandas.Int64Index is deprecated and will be removed from pandas in a future version. Use pandas.Index with the appropriate dtype instead.\n",
      "  elif isinstance(data.columns, (pd.Int64Index, pd.RangeIndex)):\n",
      "C:\\Users\\jackl\\anaconda3\\lib\\site-packages\\xgboost\\data.py:250: FutureWarning: pandas.Int64Index is deprecated and will be removed from pandas in a future version. Use pandas.Index with the appropriate dtype instead.\n",
      "  elif isinstance(data.columns, (pd.Int64Index, pd.RangeIndex)):\n",
      "C:\\Users\\jackl\\anaconda3\\lib\\site-packages\\xgboost\\data.py:250: FutureWarning: pandas.Int64Index is deprecated and will be removed from pandas in a future version. Use pandas.Index with the appropriate dtype instead.\n",
      "  elif isinstance(data.columns, (pd.Int64Index, pd.RangeIndex)):\n",
      "C:\\Users\\jackl\\anaconda3\\lib\\site-packages\\xgboost\\data.py:250: FutureWarning: pandas.Int64Index is deprecated and will be removed from pandas in a future version. Use pandas.Index with the appropriate dtype instead.\n",
      "  elif isinstance(data.columns, (pd.Int64Index, pd.RangeIndex)):\n",
      "C:\\Users\\jackl\\anaconda3\\lib\\site-packages\\xgboost\\data.py:250: FutureWarning: pandas.Int64Index is deprecated and will be removed from pandas in a future version. Use pandas.Index with the appropriate dtype instead.\n",
      "  elif isinstance(data.columns, (pd.Int64Index, pd.RangeIndex)):\n",
      "C:\\Users\\jackl\\anaconda3\\lib\\site-packages\\xgboost\\data.py:250: FutureWarning: pandas.Int64Index is deprecated and will be removed from pandas in a future version. Use pandas.Index with the appropriate dtype instead.\n",
      "  elif isinstance(data.columns, (pd.Int64Index, pd.RangeIndex)):\n",
      "C:\\Users\\jackl\\anaconda3\\lib\\site-packages\\xgboost\\data.py:250: FutureWarning: pandas.Int64Index is deprecated and will be removed from pandas in a future version. Use pandas.Index with the appropriate dtype instead.\n",
      "  elif isinstance(data.columns, (pd.Int64Index, pd.RangeIndex)):\n",
      "C:\\Users\\jackl\\anaconda3\\lib\\site-packages\\xgboost\\data.py:250: FutureWarning: pandas.Int64Index is deprecated and will be removed from pandas in a future version. Use pandas.Index with the appropriate dtype instead.\n",
      "  elif isinstance(data.columns, (pd.Int64Index, pd.RangeIndex)):\n",
      "C:\\Users\\jackl\\anaconda3\\lib\\site-packages\\xgboost\\data.py:250: FutureWarning: pandas.Int64Index is deprecated and will be removed from pandas in a future version. Use pandas.Index with the appropriate dtype instead.\n",
      "  elif isinstance(data.columns, (pd.Int64Index, pd.RangeIndex)):\n",
      "C:\\Users\\jackl\\anaconda3\\lib\\site-packages\\xgboost\\data.py:250: FutureWarning: pandas.Int64Index is deprecated and will be removed from pandas in a future version. Use pandas.Index with the appropriate dtype instead.\n",
      "  elif isinstance(data.columns, (pd.Int64Index, pd.RangeIndex)):\n",
      "C:\\Users\\jackl\\anaconda3\\lib\\site-packages\\xgboost\\data.py:250: FutureWarning: pandas.Int64Index is deprecated and will be removed from pandas in a future version. Use pandas.Index with the appropriate dtype instead.\n",
      "  elif isinstance(data.columns, (pd.Int64Index, pd.RangeIndex)):\n",
      "C:\\Users\\jackl\\anaconda3\\lib\\site-packages\\xgboost\\data.py:250: FutureWarning: pandas.Int64Index is deprecated and will be removed from pandas in a future version. Use pandas.Index with the appropriate dtype instead.\n",
      "  elif isinstance(data.columns, (pd.Int64Index, pd.RangeIndex)):\n",
      "C:\\Users\\jackl\\anaconda3\\lib\\site-packages\\xgboost\\data.py:250: FutureWarning: pandas.Int64Index is deprecated and will be removed from pandas in a future version. Use pandas.Index with the appropriate dtype instead.\n",
      "  elif isinstance(data.columns, (pd.Int64Index, pd.RangeIndex)):\n",
      "C:\\Users\\jackl\\anaconda3\\lib\\site-packages\\xgboost\\data.py:250: FutureWarning: pandas.Int64Index is deprecated and will be removed from pandas in a future version. Use pandas.Index with the appropriate dtype instead.\n",
      "  elif isinstance(data.columns, (pd.Int64Index, pd.RangeIndex)):\n",
      "C:\\Users\\jackl\\anaconda3\\lib\\site-packages\\xgboost\\data.py:250: FutureWarning: pandas.Int64Index is deprecated and will be removed from pandas in a future version. Use pandas.Index with the appropriate dtype instead.\n",
      "  elif isinstance(data.columns, (pd.Int64Index, pd.RangeIndex)):\n",
      "C:\\Users\\jackl\\anaconda3\\lib\\site-packages\\xgboost\\data.py:250: FutureWarning: pandas.Int64Index is deprecated and will be removed from pandas in a future version. Use pandas.Index with the appropriate dtype instead.\n",
      "  elif isinstance(data.columns, (pd.Int64Index, pd.RangeIndex)):\n"
     ]
    },
    {
     "name": "stderr",
     "output_type": "stream",
     "text": [
      "C:\\Users\\jackl\\anaconda3\\lib\\site-packages\\xgboost\\data.py:250: FutureWarning: pandas.Int64Index is deprecated and will be removed from pandas in a future version. Use pandas.Index with the appropriate dtype instead.\n",
      "  elif isinstance(data.columns, (pd.Int64Index, pd.RangeIndex)):\n",
      "C:\\Users\\jackl\\anaconda3\\lib\\site-packages\\xgboost\\data.py:250: FutureWarning: pandas.Int64Index is deprecated and will be removed from pandas in a future version. Use pandas.Index with the appropriate dtype instead.\n",
      "  elif isinstance(data.columns, (pd.Int64Index, pd.RangeIndex)):\n",
      "C:\\Users\\jackl\\anaconda3\\lib\\site-packages\\xgboost\\data.py:250: FutureWarning: pandas.Int64Index is deprecated and will be removed from pandas in a future version. Use pandas.Index with the appropriate dtype instead.\n",
      "  elif isinstance(data.columns, (pd.Int64Index, pd.RangeIndex)):\n",
      "C:\\Users\\jackl\\anaconda3\\lib\\site-packages\\xgboost\\data.py:250: FutureWarning: pandas.Int64Index is deprecated and will be removed from pandas in a future version. Use pandas.Index with the appropriate dtype instead.\n",
      "  elif isinstance(data.columns, (pd.Int64Index, pd.RangeIndex)):\n",
      "C:\\Users\\jackl\\anaconda3\\lib\\site-packages\\xgboost\\data.py:250: FutureWarning: pandas.Int64Index is deprecated and will be removed from pandas in a future version. Use pandas.Index with the appropriate dtype instead.\n",
      "  elif isinstance(data.columns, (pd.Int64Index, pd.RangeIndex)):\n",
      "C:\\Users\\jackl\\anaconda3\\lib\\site-packages\\xgboost\\data.py:250: FutureWarning: pandas.Int64Index is deprecated and will be removed from pandas in a future version. Use pandas.Index with the appropriate dtype instead.\n",
      "  elif isinstance(data.columns, (pd.Int64Index, pd.RangeIndex)):\n",
      "C:\\Users\\jackl\\anaconda3\\lib\\site-packages\\xgboost\\data.py:250: FutureWarning: pandas.Int64Index is deprecated and will be removed from pandas in a future version. Use pandas.Index with the appropriate dtype instead.\n",
      "  elif isinstance(data.columns, (pd.Int64Index, pd.RangeIndex)):\n",
      "C:\\Users\\jackl\\anaconda3\\lib\\site-packages\\xgboost\\data.py:250: FutureWarning: pandas.Int64Index is deprecated and will be removed from pandas in a future version. Use pandas.Index with the appropriate dtype instead.\n",
      "  elif isinstance(data.columns, (pd.Int64Index, pd.RangeIndex)):\n",
      "C:\\Users\\jackl\\anaconda3\\lib\\site-packages\\xgboost\\data.py:250: FutureWarning: pandas.Int64Index is deprecated and will be removed from pandas in a future version. Use pandas.Index with the appropriate dtype instead.\n",
      "  elif isinstance(data.columns, (pd.Int64Index, pd.RangeIndex)):\n",
      "C:\\Users\\jackl\\anaconda3\\lib\\site-packages\\xgboost\\data.py:250: FutureWarning: pandas.Int64Index is deprecated and will be removed from pandas in a future version. Use pandas.Index with the appropriate dtype instead.\n",
      "  elif isinstance(data.columns, (pd.Int64Index, pd.RangeIndex)):\n",
      "C:\\Users\\jackl\\anaconda3\\lib\\site-packages\\xgboost\\data.py:250: FutureWarning: pandas.Int64Index is deprecated and will be removed from pandas in a future version. Use pandas.Index with the appropriate dtype instead.\n",
      "  elif isinstance(data.columns, (pd.Int64Index, pd.RangeIndex)):\n",
      "C:\\Users\\jackl\\anaconda3\\lib\\site-packages\\xgboost\\data.py:250: FutureWarning: pandas.Int64Index is deprecated and will be removed from pandas in a future version. Use pandas.Index with the appropriate dtype instead.\n",
      "  elif isinstance(data.columns, (pd.Int64Index, pd.RangeIndex)):\n",
      "C:\\Users\\jackl\\anaconda3\\lib\\site-packages\\xgboost\\data.py:250: FutureWarning: pandas.Int64Index is deprecated and will be removed from pandas in a future version. Use pandas.Index with the appropriate dtype instead.\n",
      "  elif isinstance(data.columns, (pd.Int64Index, pd.RangeIndex)):\n",
      "C:\\Users\\jackl\\anaconda3\\lib\\site-packages\\xgboost\\data.py:250: FutureWarning: pandas.Int64Index is deprecated and will be removed from pandas in a future version. Use pandas.Index with the appropriate dtype instead.\n",
      "  elif isinstance(data.columns, (pd.Int64Index, pd.RangeIndex)):\n",
      "C:\\Users\\jackl\\anaconda3\\lib\\site-packages\\xgboost\\data.py:250: FutureWarning: pandas.Int64Index is deprecated and will be removed from pandas in a future version. Use pandas.Index with the appropriate dtype instead.\n",
      "  elif isinstance(data.columns, (pd.Int64Index, pd.RangeIndex)):\n",
      "C:\\Users\\jackl\\anaconda3\\lib\\site-packages\\xgboost\\data.py:250: FutureWarning: pandas.Int64Index is deprecated and will be removed from pandas in a future version. Use pandas.Index with the appropriate dtype instead.\n",
      "  elif isinstance(data.columns, (pd.Int64Index, pd.RangeIndex)):\n",
      "C:\\Users\\jackl\\anaconda3\\lib\\site-packages\\xgboost\\data.py:250: FutureWarning: pandas.Int64Index is deprecated and will be removed from pandas in a future version. Use pandas.Index with the appropriate dtype instead.\n",
      "  elif isinstance(data.columns, (pd.Int64Index, pd.RangeIndex)):\n",
      "C:\\Users\\jackl\\anaconda3\\lib\\site-packages\\xgboost\\data.py:250: FutureWarning: pandas.Int64Index is deprecated and will be removed from pandas in a future version. Use pandas.Index with the appropriate dtype instead.\n",
      "  elif isinstance(data.columns, (pd.Int64Index, pd.RangeIndex)):\n",
      "C:\\Users\\jackl\\anaconda3\\lib\\site-packages\\xgboost\\data.py:250: FutureWarning: pandas.Int64Index is deprecated and will be removed from pandas in a future version. Use pandas.Index with the appropriate dtype instead.\n",
      "  elif isinstance(data.columns, (pd.Int64Index, pd.RangeIndex)):\n",
      "C:\\Users\\jackl\\anaconda3\\lib\\site-packages\\xgboost\\data.py:250: FutureWarning: pandas.Int64Index is deprecated and will be removed from pandas in a future version. Use pandas.Index with the appropriate dtype instead.\n",
      "  elif isinstance(data.columns, (pd.Int64Index, pd.RangeIndex)):\n",
      "C:\\Users\\jackl\\anaconda3\\lib\\site-packages\\xgboost\\data.py:250: FutureWarning: pandas.Int64Index is deprecated and will be removed from pandas in a future version. Use pandas.Index with the appropriate dtype instead.\n",
      "  elif isinstance(data.columns, (pd.Int64Index, pd.RangeIndex)):\n",
      "C:\\Users\\jackl\\anaconda3\\lib\\site-packages\\xgboost\\data.py:250: FutureWarning: pandas.Int64Index is deprecated and will be removed from pandas in a future version. Use pandas.Index with the appropriate dtype instead.\n",
      "  elif isinstance(data.columns, (pd.Int64Index, pd.RangeIndex)):\n",
      "C:\\Users\\jackl\\anaconda3\\lib\\site-packages\\xgboost\\data.py:250: FutureWarning: pandas.Int64Index is deprecated and will be removed from pandas in a future version. Use pandas.Index with the appropriate dtype instead.\n",
      "  elif isinstance(data.columns, (pd.Int64Index, pd.RangeIndex)):\n",
      "C:\\Users\\jackl\\anaconda3\\lib\\site-packages\\xgboost\\data.py:250: FutureWarning: pandas.Int64Index is deprecated and will be removed from pandas in a future version. Use pandas.Index with the appropriate dtype instead.\n",
      "  elif isinstance(data.columns, (pd.Int64Index, pd.RangeIndex)):\n",
      "C:\\Users\\jackl\\anaconda3\\lib\\site-packages\\xgboost\\data.py:250: FutureWarning: pandas.Int64Index is deprecated and will be removed from pandas in a future version. Use pandas.Index with the appropriate dtype instead.\n",
      "  elif isinstance(data.columns, (pd.Int64Index, pd.RangeIndex)):\n",
      "C:\\Users\\jackl\\anaconda3\\lib\\site-packages\\xgboost\\data.py:250: FutureWarning: pandas.Int64Index is deprecated and will be removed from pandas in a future version. Use pandas.Index with the appropriate dtype instead.\n",
      "  elif isinstance(data.columns, (pd.Int64Index, pd.RangeIndex)):\n",
      "C:\\Users\\jackl\\anaconda3\\lib\\site-packages\\xgboost\\data.py:250: FutureWarning: pandas.Int64Index is deprecated and will be removed from pandas in a future version. Use pandas.Index with the appropriate dtype instead.\n",
      "  elif isinstance(data.columns, (pd.Int64Index, pd.RangeIndex)):\n",
      "C:\\Users\\jackl\\anaconda3\\lib\\site-packages\\xgboost\\data.py:250: FutureWarning: pandas.Int64Index is deprecated and will be removed from pandas in a future version. Use pandas.Index with the appropriate dtype instead.\n",
      "  elif isinstance(data.columns, (pd.Int64Index, pd.RangeIndex)):\n",
      "C:\\Users\\jackl\\anaconda3\\lib\\site-packages\\xgboost\\data.py:250: FutureWarning: pandas.Int64Index is deprecated and will be removed from pandas in a future version. Use pandas.Index with the appropriate dtype instead.\n",
      "  elif isinstance(data.columns, (pd.Int64Index, pd.RangeIndex)):\n",
      "C:\\Users\\jackl\\anaconda3\\lib\\site-packages\\xgboost\\data.py:250: FutureWarning: pandas.Int64Index is deprecated and will be removed from pandas in a future version. Use pandas.Index with the appropriate dtype instead.\n",
      "  elif isinstance(data.columns, (pd.Int64Index, pd.RangeIndex)):\n",
      "C:\\Users\\jackl\\anaconda3\\lib\\site-packages\\xgboost\\data.py:250: FutureWarning: pandas.Int64Index is deprecated and will be removed from pandas in a future version. Use pandas.Index with the appropriate dtype instead.\n",
      "  elif isinstance(data.columns, (pd.Int64Index, pd.RangeIndex)):\n"
     ]
    },
    {
     "name": "stderr",
     "output_type": "stream",
     "text": [
      "C:\\Users\\jackl\\anaconda3\\lib\\site-packages\\xgboost\\data.py:250: FutureWarning: pandas.Int64Index is deprecated and will be removed from pandas in a future version. Use pandas.Index with the appropriate dtype instead.\n",
      "  elif isinstance(data.columns, (pd.Int64Index, pd.RangeIndex)):\n",
      "C:\\Users\\jackl\\anaconda3\\lib\\site-packages\\xgboost\\data.py:250: FutureWarning: pandas.Int64Index is deprecated and will be removed from pandas in a future version. Use pandas.Index with the appropriate dtype instead.\n",
      "  elif isinstance(data.columns, (pd.Int64Index, pd.RangeIndex)):\n",
      "C:\\Users\\jackl\\anaconda3\\lib\\site-packages\\xgboost\\data.py:250: FutureWarning: pandas.Int64Index is deprecated and will be removed from pandas in a future version. Use pandas.Index with the appropriate dtype instead.\n",
      "  elif isinstance(data.columns, (pd.Int64Index, pd.RangeIndex)):\n",
      "C:\\Users\\jackl\\anaconda3\\lib\\site-packages\\xgboost\\data.py:250: FutureWarning: pandas.Int64Index is deprecated and will be removed from pandas in a future version. Use pandas.Index with the appropriate dtype instead.\n",
      "  elif isinstance(data.columns, (pd.Int64Index, pd.RangeIndex)):\n",
      "C:\\Users\\jackl\\anaconda3\\lib\\site-packages\\xgboost\\data.py:250: FutureWarning: pandas.Int64Index is deprecated and will be removed from pandas in a future version. Use pandas.Index with the appropriate dtype instead.\n",
      "  elif isinstance(data.columns, (pd.Int64Index, pd.RangeIndex)):\n",
      "C:\\Users\\jackl\\anaconda3\\lib\\site-packages\\xgboost\\data.py:250: FutureWarning: pandas.Int64Index is deprecated and will be removed from pandas in a future version. Use pandas.Index with the appropriate dtype instead.\n",
      "  elif isinstance(data.columns, (pd.Int64Index, pd.RangeIndex)):\n",
      "C:\\Users\\jackl\\anaconda3\\lib\\site-packages\\xgboost\\data.py:250: FutureWarning: pandas.Int64Index is deprecated and will be removed from pandas in a future version. Use pandas.Index with the appropriate dtype instead.\n",
      "  elif isinstance(data.columns, (pd.Int64Index, pd.RangeIndex)):\n",
      "C:\\Users\\jackl\\anaconda3\\lib\\site-packages\\xgboost\\data.py:250: FutureWarning: pandas.Int64Index is deprecated and will be removed from pandas in a future version. Use pandas.Index with the appropriate dtype instead.\n",
      "  elif isinstance(data.columns, (pd.Int64Index, pd.RangeIndex)):\n",
      "C:\\Users\\jackl\\anaconda3\\lib\\site-packages\\xgboost\\data.py:250: FutureWarning: pandas.Int64Index is deprecated and will be removed from pandas in a future version. Use pandas.Index with the appropriate dtype instead.\n",
      "  elif isinstance(data.columns, (pd.Int64Index, pd.RangeIndex)):\n",
      "C:\\Users\\jackl\\anaconda3\\lib\\site-packages\\xgboost\\data.py:250: FutureWarning: pandas.Int64Index is deprecated and will be removed from pandas in a future version. Use pandas.Index with the appropriate dtype instead.\n",
      "  elif isinstance(data.columns, (pd.Int64Index, pd.RangeIndex)):\n",
      "C:\\Users\\jackl\\anaconda3\\lib\\site-packages\\xgboost\\data.py:250: FutureWarning: pandas.Int64Index is deprecated and will be removed from pandas in a future version. Use pandas.Index with the appropriate dtype instead.\n",
      "  elif isinstance(data.columns, (pd.Int64Index, pd.RangeIndex)):\n",
      "C:\\Users\\jackl\\anaconda3\\lib\\site-packages\\xgboost\\data.py:250: FutureWarning: pandas.Int64Index is deprecated and will be removed from pandas in a future version. Use pandas.Index with the appropriate dtype instead.\n",
      "  elif isinstance(data.columns, (pd.Int64Index, pd.RangeIndex)):\n",
      "C:\\Users\\jackl\\anaconda3\\lib\\site-packages\\xgboost\\data.py:250: FutureWarning: pandas.Int64Index is deprecated and will be removed from pandas in a future version. Use pandas.Index with the appropriate dtype instead.\n",
      "  elif isinstance(data.columns, (pd.Int64Index, pd.RangeIndex)):\n",
      "C:\\Users\\jackl\\anaconda3\\lib\\site-packages\\xgboost\\data.py:250: FutureWarning: pandas.Int64Index is deprecated and will be removed from pandas in a future version. Use pandas.Index with the appropriate dtype instead.\n",
      "  elif isinstance(data.columns, (pd.Int64Index, pd.RangeIndex)):\n",
      "C:\\Users\\jackl\\anaconda3\\lib\\site-packages\\xgboost\\data.py:250: FutureWarning: pandas.Int64Index is deprecated and will be removed from pandas in a future version. Use pandas.Index with the appropriate dtype instead.\n",
      "  elif isinstance(data.columns, (pd.Int64Index, pd.RangeIndex)):\n",
      "C:\\Users\\jackl\\anaconda3\\lib\\site-packages\\xgboost\\data.py:250: FutureWarning: pandas.Int64Index is deprecated and will be removed from pandas in a future version. Use pandas.Index with the appropriate dtype instead.\n",
      "  elif isinstance(data.columns, (pd.Int64Index, pd.RangeIndex)):\n",
      "C:\\Users\\jackl\\anaconda3\\lib\\site-packages\\xgboost\\data.py:250: FutureWarning: pandas.Int64Index is deprecated and will be removed from pandas in a future version. Use pandas.Index with the appropriate dtype instead.\n",
      "  elif isinstance(data.columns, (pd.Int64Index, pd.RangeIndex)):\n",
      "C:\\Users\\jackl\\anaconda3\\lib\\site-packages\\xgboost\\data.py:250: FutureWarning: pandas.Int64Index is deprecated and will be removed from pandas in a future version. Use pandas.Index with the appropriate dtype instead.\n",
      "  elif isinstance(data.columns, (pd.Int64Index, pd.RangeIndex)):\n",
      "C:\\Users\\jackl\\anaconda3\\lib\\site-packages\\xgboost\\data.py:250: FutureWarning: pandas.Int64Index is deprecated and will be removed from pandas in a future version. Use pandas.Index with the appropriate dtype instead.\n",
      "  elif isinstance(data.columns, (pd.Int64Index, pd.RangeIndex)):\n",
      "C:\\Users\\jackl\\anaconda3\\lib\\site-packages\\xgboost\\data.py:250: FutureWarning: pandas.Int64Index is deprecated and will be removed from pandas in a future version. Use pandas.Index with the appropriate dtype instead.\n",
      "  elif isinstance(data.columns, (pd.Int64Index, pd.RangeIndex)):\n",
      "C:\\Users\\jackl\\anaconda3\\lib\\site-packages\\xgboost\\data.py:250: FutureWarning: pandas.Int64Index is deprecated and will be removed from pandas in a future version. Use pandas.Index with the appropriate dtype instead.\n",
      "  elif isinstance(data.columns, (pd.Int64Index, pd.RangeIndex)):\n",
      "C:\\Users\\jackl\\anaconda3\\lib\\site-packages\\xgboost\\data.py:250: FutureWarning: pandas.Int64Index is deprecated and will be removed from pandas in a future version. Use pandas.Index with the appropriate dtype instead.\n",
      "  elif isinstance(data.columns, (pd.Int64Index, pd.RangeIndex)):\n",
      "C:\\Users\\jackl\\anaconda3\\lib\\site-packages\\xgboost\\data.py:250: FutureWarning: pandas.Int64Index is deprecated and will be removed from pandas in a future version. Use pandas.Index with the appropriate dtype instead.\n",
      "  elif isinstance(data.columns, (pd.Int64Index, pd.RangeIndex)):\n",
      "C:\\Users\\jackl\\anaconda3\\lib\\site-packages\\xgboost\\data.py:250: FutureWarning: pandas.Int64Index is deprecated and will be removed from pandas in a future version. Use pandas.Index with the appropriate dtype instead.\n",
      "  elif isinstance(data.columns, (pd.Int64Index, pd.RangeIndex)):\n",
      "C:\\Users\\jackl\\anaconda3\\lib\\site-packages\\xgboost\\data.py:250: FutureWarning: pandas.Int64Index is deprecated and will be removed from pandas in a future version. Use pandas.Index with the appropriate dtype instead.\n",
      "  elif isinstance(data.columns, (pd.Int64Index, pd.RangeIndex)):\n",
      "C:\\Users\\jackl\\anaconda3\\lib\\site-packages\\xgboost\\data.py:250: FutureWarning: pandas.Int64Index is deprecated and will be removed from pandas in a future version. Use pandas.Index with the appropriate dtype instead.\n",
      "  elif isinstance(data.columns, (pd.Int64Index, pd.RangeIndex)):\n",
      "C:\\Users\\jackl\\anaconda3\\lib\\site-packages\\xgboost\\data.py:250: FutureWarning: pandas.Int64Index is deprecated and will be removed from pandas in a future version. Use pandas.Index with the appropriate dtype instead.\n",
      "  elif isinstance(data.columns, (pd.Int64Index, pd.RangeIndex)):\n",
      "C:\\Users\\jackl\\anaconda3\\lib\\site-packages\\xgboost\\data.py:250: FutureWarning: pandas.Int64Index is deprecated and will be removed from pandas in a future version. Use pandas.Index with the appropriate dtype instead.\n",
      "  elif isinstance(data.columns, (pd.Int64Index, pd.RangeIndex)):\n",
      "C:\\Users\\jackl\\anaconda3\\lib\\site-packages\\xgboost\\data.py:250: FutureWarning: pandas.Int64Index is deprecated and will be removed from pandas in a future version. Use pandas.Index with the appropriate dtype instead.\n",
      "  elif isinstance(data.columns, (pd.Int64Index, pd.RangeIndex)):\n",
      "C:\\Users\\jackl\\anaconda3\\lib\\site-packages\\xgboost\\data.py:250: FutureWarning: pandas.Int64Index is deprecated and will be removed from pandas in a future version. Use pandas.Index with the appropriate dtype instead.\n",
      "  elif isinstance(data.columns, (pd.Int64Index, pd.RangeIndex)):\n",
      "C:\\Users\\jackl\\anaconda3\\lib\\site-packages\\xgboost\\data.py:250: FutureWarning: pandas.Int64Index is deprecated and will be removed from pandas in a future version. Use pandas.Index with the appropriate dtype instead.\n",
      "  elif isinstance(data.columns, (pd.Int64Index, pd.RangeIndex)):\n"
     ]
    },
    {
     "name": "stderr",
     "output_type": "stream",
     "text": [
      "C:\\Users\\jackl\\anaconda3\\lib\\site-packages\\xgboost\\data.py:250: FutureWarning: pandas.Int64Index is deprecated and will be removed from pandas in a future version. Use pandas.Index with the appropriate dtype instead.\n",
      "  elif isinstance(data.columns, (pd.Int64Index, pd.RangeIndex)):\n",
      "C:\\Users\\jackl\\anaconda3\\lib\\site-packages\\xgboost\\data.py:250: FutureWarning: pandas.Int64Index is deprecated and will be removed from pandas in a future version. Use pandas.Index with the appropriate dtype instead.\n",
      "  elif isinstance(data.columns, (pd.Int64Index, pd.RangeIndex)):\n",
      "C:\\Users\\jackl\\anaconda3\\lib\\site-packages\\xgboost\\data.py:250: FutureWarning: pandas.Int64Index is deprecated and will be removed from pandas in a future version. Use pandas.Index with the appropriate dtype instead.\n",
      "  elif isinstance(data.columns, (pd.Int64Index, pd.RangeIndex)):\n",
      "C:\\Users\\jackl\\anaconda3\\lib\\site-packages\\xgboost\\data.py:250: FutureWarning: pandas.Int64Index is deprecated and will be removed from pandas in a future version. Use pandas.Index with the appropriate dtype instead.\n",
      "  elif isinstance(data.columns, (pd.Int64Index, pd.RangeIndex)):\n",
      "C:\\Users\\jackl\\anaconda3\\lib\\site-packages\\xgboost\\data.py:250: FutureWarning: pandas.Int64Index is deprecated and will be removed from pandas in a future version. Use pandas.Index with the appropriate dtype instead.\n",
      "  elif isinstance(data.columns, (pd.Int64Index, pd.RangeIndex)):\n",
      "C:\\Users\\jackl\\anaconda3\\lib\\site-packages\\xgboost\\data.py:250: FutureWarning: pandas.Int64Index is deprecated and will be removed from pandas in a future version. Use pandas.Index with the appropriate dtype instead.\n",
      "  elif isinstance(data.columns, (pd.Int64Index, pd.RangeIndex)):\n",
      "C:\\Users\\jackl\\anaconda3\\lib\\site-packages\\xgboost\\data.py:250: FutureWarning: pandas.Int64Index is deprecated and will be removed from pandas in a future version. Use pandas.Index with the appropriate dtype instead.\n",
      "  elif isinstance(data.columns, (pd.Int64Index, pd.RangeIndex)):\n",
      "C:\\Users\\jackl\\anaconda3\\lib\\site-packages\\xgboost\\data.py:250: FutureWarning: pandas.Int64Index is deprecated and will be removed from pandas in a future version. Use pandas.Index with the appropriate dtype instead.\n",
      "  elif isinstance(data.columns, (pd.Int64Index, pd.RangeIndex)):\n",
      "C:\\Users\\jackl\\anaconda3\\lib\\site-packages\\xgboost\\data.py:250: FutureWarning: pandas.Int64Index is deprecated and will be removed from pandas in a future version. Use pandas.Index with the appropriate dtype instead.\n",
      "  elif isinstance(data.columns, (pd.Int64Index, pd.RangeIndex)):\n",
      "C:\\Users\\jackl\\anaconda3\\lib\\site-packages\\xgboost\\data.py:250: FutureWarning: pandas.Int64Index is deprecated and will be removed from pandas in a future version. Use pandas.Index with the appropriate dtype instead.\n",
      "  elif isinstance(data.columns, (pd.Int64Index, pd.RangeIndex)):\n",
      "C:\\Users\\jackl\\anaconda3\\lib\\site-packages\\xgboost\\data.py:250: FutureWarning: pandas.Int64Index is deprecated and will be removed from pandas in a future version. Use pandas.Index with the appropriate dtype instead.\n",
      "  elif isinstance(data.columns, (pd.Int64Index, pd.RangeIndex)):\n",
      "C:\\Users\\jackl\\anaconda3\\lib\\site-packages\\xgboost\\data.py:250: FutureWarning: pandas.Int64Index is deprecated and will be removed from pandas in a future version. Use pandas.Index with the appropriate dtype instead.\n",
      "  elif isinstance(data.columns, (pd.Int64Index, pd.RangeIndex)):\n",
      "C:\\Users\\jackl\\anaconda3\\lib\\site-packages\\xgboost\\data.py:250: FutureWarning: pandas.Int64Index is deprecated and will be removed from pandas in a future version. Use pandas.Index with the appropriate dtype instead.\n",
      "  elif isinstance(data.columns, (pd.Int64Index, pd.RangeIndex)):\n",
      "C:\\Users\\jackl\\anaconda3\\lib\\site-packages\\xgboost\\data.py:250: FutureWarning: pandas.Int64Index is deprecated and will be removed from pandas in a future version. Use pandas.Index with the appropriate dtype instead.\n",
      "  elif isinstance(data.columns, (pd.Int64Index, pd.RangeIndex)):\n",
      "C:\\Users\\jackl\\anaconda3\\lib\\site-packages\\xgboost\\data.py:250: FutureWarning: pandas.Int64Index is deprecated and will be removed from pandas in a future version. Use pandas.Index with the appropriate dtype instead.\n",
      "  elif isinstance(data.columns, (pd.Int64Index, pd.RangeIndex)):\n",
      "C:\\Users\\jackl\\anaconda3\\lib\\site-packages\\xgboost\\data.py:250: FutureWarning: pandas.Int64Index is deprecated and will be removed from pandas in a future version. Use pandas.Index with the appropriate dtype instead.\n",
      "  elif isinstance(data.columns, (pd.Int64Index, pd.RangeIndex)):\n",
      "C:\\Users\\jackl\\anaconda3\\lib\\site-packages\\xgboost\\data.py:250: FutureWarning: pandas.Int64Index is deprecated and will be removed from pandas in a future version. Use pandas.Index with the appropriate dtype instead.\n",
      "  elif isinstance(data.columns, (pd.Int64Index, pd.RangeIndex)):\n",
      "C:\\Users\\jackl\\anaconda3\\lib\\site-packages\\xgboost\\data.py:250: FutureWarning: pandas.Int64Index is deprecated and will be removed from pandas in a future version. Use pandas.Index with the appropriate dtype instead.\n",
      "  elif isinstance(data.columns, (pd.Int64Index, pd.RangeIndex)):\n",
      "C:\\Users\\jackl\\anaconda3\\lib\\site-packages\\xgboost\\data.py:250: FutureWarning: pandas.Int64Index is deprecated and will be removed from pandas in a future version. Use pandas.Index with the appropriate dtype instead.\n",
      "  elif isinstance(data.columns, (pd.Int64Index, pd.RangeIndex)):\n",
      "C:\\Users\\jackl\\anaconda3\\lib\\site-packages\\xgboost\\data.py:250: FutureWarning: pandas.Int64Index is deprecated and will be removed from pandas in a future version. Use pandas.Index with the appropriate dtype instead.\n",
      "  elif isinstance(data.columns, (pd.Int64Index, pd.RangeIndex)):\n",
      "C:\\Users\\jackl\\anaconda3\\lib\\site-packages\\xgboost\\data.py:250: FutureWarning: pandas.Int64Index is deprecated and will be removed from pandas in a future version. Use pandas.Index with the appropriate dtype instead.\n",
      "  elif isinstance(data.columns, (pd.Int64Index, pd.RangeIndex)):\n",
      "C:\\Users\\jackl\\anaconda3\\lib\\site-packages\\xgboost\\data.py:250: FutureWarning: pandas.Int64Index is deprecated and will be removed from pandas in a future version. Use pandas.Index with the appropriate dtype instead.\n",
      "  elif isinstance(data.columns, (pd.Int64Index, pd.RangeIndex)):\n",
      "C:\\Users\\jackl\\anaconda3\\lib\\site-packages\\xgboost\\data.py:250: FutureWarning: pandas.Int64Index is deprecated and will be removed from pandas in a future version. Use pandas.Index with the appropriate dtype instead.\n",
      "  elif isinstance(data.columns, (pd.Int64Index, pd.RangeIndex)):\n",
      "C:\\Users\\jackl\\anaconda3\\lib\\site-packages\\xgboost\\data.py:250: FutureWarning: pandas.Int64Index is deprecated and will be removed from pandas in a future version. Use pandas.Index with the appropriate dtype instead.\n",
      "  elif isinstance(data.columns, (pd.Int64Index, pd.RangeIndex)):\n",
      "C:\\Users\\jackl\\anaconda3\\lib\\site-packages\\xgboost\\data.py:250: FutureWarning: pandas.Int64Index is deprecated and will be removed from pandas in a future version. Use pandas.Index with the appropriate dtype instead.\n",
      "  elif isinstance(data.columns, (pd.Int64Index, pd.RangeIndex)):\n",
      "C:\\Users\\jackl\\anaconda3\\lib\\site-packages\\xgboost\\data.py:250: FutureWarning: pandas.Int64Index is deprecated and will be removed from pandas in a future version. Use pandas.Index with the appropriate dtype instead.\n",
      "  elif isinstance(data.columns, (pd.Int64Index, pd.RangeIndex)):\n",
      "C:\\Users\\jackl\\anaconda3\\lib\\site-packages\\xgboost\\data.py:250: FutureWarning: pandas.Int64Index is deprecated and will be removed from pandas in a future version. Use pandas.Index with the appropriate dtype instead.\n",
      "  elif isinstance(data.columns, (pd.Int64Index, pd.RangeIndex)):\n",
      "C:\\Users\\jackl\\anaconda3\\lib\\site-packages\\xgboost\\data.py:250: FutureWarning: pandas.Int64Index is deprecated and will be removed from pandas in a future version. Use pandas.Index with the appropriate dtype instead.\n",
      "  elif isinstance(data.columns, (pd.Int64Index, pd.RangeIndex)):\n",
      "C:\\Users\\jackl\\anaconda3\\lib\\site-packages\\xgboost\\data.py:250: FutureWarning: pandas.Int64Index is deprecated and will be removed from pandas in a future version. Use pandas.Index with the appropriate dtype instead.\n",
      "  elif isinstance(data.columns, (pd.Int64Index, pd.RangeIndex)):\n",
      "C:\\Users\\jackl\\anaconda3\\lib\\site-packages\\xgboost\\data.py:250: FutureWarning: pandas.Int64Index is deprecated and will be removed from pandas in a future version. Use pandas.Index with the appropriate dtype instead.\n",
      "  elif isinstance(data.columns, (pd.Int64Index, pd.RangeIndex)):\n",
      "C:\\Users\\jackl\\anaconda3\\lib\\site-packages\\xgboost\\data.py:250: FutureWarning: pandas.Int64Index is deprecated and will be removed from pandas in a future version. Use pandas.Index with the appropriate dtype instead.\n",
      "  elif isinstance(data.columns, (pd.Int64Index, pd.RangeIndex)):\n"
     ]
    },
    {
     "name": "stderr",
     "output_type": "stream",
     "text": [
      "C:\\Users\\jackl\\anaconda3\\lib\\site-packages\\xgboost\\data.py:250: FutureWarning: pandas.Int64Index is deprecated and will be removed from pandas in a future version. Use pandas.Index with the appropriate dtype instead.\n",
      "  elif isinstance(data.columns, (pd.Int64Index, pd.RangeIndex)):\n",
      "C:\\Users\\jackl\\anaconda3\\lib\\site-packages\\xgboost\\data.py:250: FutureWarning: pandas.Int64Index is deprecated and will be removed from pandas in a future version. Use pandas.Index with the appropriate dtype instead.\n",
      "  elif isinstance(data.columns, (pd.Int64Index, pd.RangeIndex)):\n",
      "C:\\Users\\jackl\\anaconda3\\lib\\site-packages\\xgboost\\data.py:250: FutureWarning: pandas.Int64Index is deprecated and will be removed from pandas in a future version. Use pandas.Index with the appropriate dtype instead.\n",
      "  elif isinstance(data.columns, (pd.Int64Index, pd.RangeIndex)):\n",
      "C:\\Users\\jackl\\anaconda3\\lib\\site-packages\\xgboost\\data.py:250: FutureWarning: pandas.Int64Index is deprecated and will be removed from pandas in a future version. Use pandas.Index with the appropriate dtype instead.\n",
      "  elif isinstance(data.columns, (pd.Int64Index, pd.RangeIndex)):\n",
      "C:\\Users\\jackl\\anaconda3\\lib\\site-packages\\xgboost\\data.py:250: FutureWarning: pandas.Int64Index is deprecated and will be removed from pandas in a future version. Use pandas.Index with the appropriate dtype instead.\n",
      "  elif isinstance(data.columns, (pd.Int64Index, pd.RangeIndex)):\n",
      "C:\\Users\\jackl\\anaconda3\\lib\\site-packages\\xgboost\\data.py:250: FutureWarning: pandas.Int64Index is deprecated and will be removed from pandas in a future version. Use pandas.Index with the appropriate dtype instead.\n",
      "  elif isinstance(data.columns, (pd.Int64Index, pd.RangeIndex)):\n",
      "C:\\Users\\jackl\\anaconda3\\lib\\site-packages\\xgboost\\data.py:250: FutureWarning: pandas.Int64Index is deprecated and will be removed from pandas in a future version. Use pandas.Index with the appropriate dtype instead.\n",
      "  elif isinstance(data.columns, (pd.Int64Index, pd.RangeIndex)):\n",
      "C:\\Users\\jackl\\anaconda3\\lib\\site-packages\\xgboost\\data.py:250: FutureWarning: pandas.Int64Index is deprecated and will be removed from pandas in a future version. Use pandas.Index with the appropriate dtype instead.\n",
      "  elif isinstance(data.columns, (pd.Int64Index, pd.RangeIndex)):\n",
      "C:\\Users\\jackl\\anaconda3\\lib\\site-packages\\xgboost\\data.py:250: FutureWarning: pandas.Int64Index is deprecated and will be removed from pandas in a future version. Use pandas.Index with the appropriate dtype instead.\n",
      "  elif isinstance(data.columns, (pd.Int64Index, pd.RangeIndex)):\n",
      "C:\\Users\\jackl\\anaconda3\\lib\\site-packages\\xgboost\\data.py:250: FutureWarning: pandas.Int64Index is deprecated and will be removed from pandas in a future version. Use pandas.Index with the appropriate dtype instead.\n",
      "  elif isinstance(data.columns, (pd.Int64Index, pd.RangeIndex)):\n",
      "C:\\Users\\jackl\\anaconda3\\lib\\site-packages\\xgboost\\data.py:250: FutureWarning: pandas.Int64Index is deprecated and will be removed from pandas in a future version. Use pandas.Index with the appropriate dtype instead.\n",
      "  elif isinstance(data.columns, (pd.Int64Index, pd.RangeIndex)):\n",
      "C:\\Users\\jackl\\anaconda3\\lib\\site-packages\\xgboost\\data.py:250: FutureWarning: pandas.Int64Index is deprecated and will be removed from pandas in a future version. Use pandas.Index with the appropriate dtype instead.\n",
      "  elif isinstance(data.columns, (pd.Int64Index, pd.RangeIndex)):\n",
      "C:\\Users\\jackl\\anaconda3\\lib\\site-packages\\xgboost\\data.py:250: FutureWarning: pandas.Int64Index is deprecated and will be removed from pandas in a future version. Use pandas.Index with the appropriate dtype instead.\n",
      "  elif isinstance(data.columns, (pd.Int64Index, pd.RangeIndex)):\n",
      "C:\\Users\\jackl\\anaconda3\\lib\\site-packages\\xgboost\\data.py:250: FutureWarning: pandas.Int64Index is deprecated and will be removed from pandas in a future version. Use pandas.Index with the appropriate dtype instead.\n",
      "  elif isinstance(data.columns, (pd.Int64Index, pd.RangeIndex)):\n",
      "C:\\Users\\jackl\\anaconda3\\lib\\site-packages\\xgboost\\data.py:250: FutureWarning: pandas.Int64Index is deprecated and will be removed from pandas in a future version. Use pandas.Index with the appropriate dtype instead.\n",
      "  elif isinstance(data.columns, (pd.Int64Index, pd.RangeIndex)):\n",
      "C:\\Users\\jackl\\anaconda3\\lib\\site-packages\\xgboost\\data.py:250: FutureWarning: pandas.Int64Index is deprecated and will be removed from pandas in a future version. Use pandas.Index with the appropriate dtype instead.\n",
      "  elif isinstance(data.columns, (pd.Int64Index, pd.RangeIndex)):\n",
      "C:\\Users\\jackl\\anaconda3\\lib\\site-packages\\xgboost\\data.py:250: FutureWarning: pandas.Int64Index is deprecated and will be removed from pandas in a future version. Use pandas.Index with the appropriate dtype instead.\n",
      "  elif isinstance(data.columns, (pd.Int64Index, pd.RangeIndex)):\n",
      "C:\\Users\\jackl\\anaconda3\\lib\\site-packages\\xgboost\\data.py:250: FutureWarning: pandas.Int64Index is deprecated and will be removed from pandas in a future version. Use pandas.Index with the appropriate dtype instead.\n",
      "  elif isinstance(data.columns, (pd.Int64Index, pd.RangeIndex)):\n",
      "C:\\Users\\jackl\\anaconda3\\lib\\site-packages\\xgboost\\data.py:250: FutureWarning: pandas.Int64Index is deprecated and will be removed from pandas in a future version. Use pandas.Index with the appropriate dtype instead.\n",
      "  elif isinstance(data.columns, (pd.Int64Index, pd.RangeIndex)):\n",
      "C:\\Users\\jackl\\anaconda3\\lib\\site-packages\\xgboost\\data.py:250: FutureWarning: pandas.Int64Index is deprecated and will be removed from pandas in a future version. Use pandas.Index with the appropriate dtype instead.\n",
      "  elif isinstance(data.columns, (pd.Int64Index, pd.RangeIndex)):\n",
      "C:\\Users\\jackl\\anaconda3\\lib\\site-packages\\xgboost\\data.py:250: FutureWarning: pandas.Int64Index is deprecated and will be removed from pandas in a future version. Use pandas.Index with the appropriate dtype instead.\n",
      "  elif isinstance(data.columns, (pd.Int64Index, pd.RangeIndex)):\n",
      "C:\\Users\\jackl\\anaconda3\\lib\\site-packages\\xgboost\\data.py:250: FutureWarning: pandas.Int64Index is deprecated and will be removed from pandas in a future version. Use pandas.Index with the appropriate dtype instead.\n",
      "  elif isinstance(data.columns, (pd.Int64Index, pd.RangeIndex)):\n",
      "C:\\Users\\jackl\\anaconda3\\lib\\site-packages\\xgboost\\data.py:250: FutureWarning: pandas.Int64Index is deprecated and will be removed from pandas in a future version. Use pandas.Index with the appropriate dtype instead.\n",
      "  elif isinstance(data.columns, (pd.Int64Index, pd.RangeIndex)):\n",
      "C:\\Users\\jackl\\anaconda3\\lib\\site-packages\\xgboost\\data.py:250: FutureWarning: pandas.Int64Index is deprecated and will be removed from pandas in a future version. Use pandas.Index with the appropriate dtype instead.\n",
      "  elif isinstance(data.columns, (pd.Int64Index, pd.RangeIndex)):\n",
      "C:\\Users\\jackl\\anaconda3\\lib\\site-packages\\xgboost\\data.py:250: FutureWarning: pandas.Int64Index is deprecated and will be removed from pandas in a future version. Use pandas.Index with the appropriate dtype instead.\n",
      "  elif isinstance(data.columns, (pd.Int64Index, pd.RangeIndex)):\n",
      "C:\\Users\\jackl\\anaconda3\\lib\\site-packages\\xgboost\\data.py:250: FutureWarning: pandas.Int64Index is deprecated and will be removed from pandas in a future version. Use pandas.Index with the appropriate dtype instead.\n",
      "  elif isinstance(data.columns, (pd.Int64Index, pd.RangeIndex)):\n",
      "C:\\Users\\jackl\\anaconda3\\lib\\site-packages\\xgboost\\data.py:250: FutureWarning: pandas.Int64Index is deprecated and will be removed from pandas in a future version. Use pandas.Index with the appropriate dtype instead.\n",
      "  elif isinstance(data.columns, (pd.Int64Index, pd.RangeIndex)):\n",
      "C:\\Users\\jackl\\anaconda3\\lib\\site-packages\\xgboost\\data.py:250: FutureWarning: pandas.Int64Index is deprecated and will be removed from pandas in a future version. Use pandas.Index with the appropriate dtype instead.\n",
      "  elif isinstance(data.columns, (pd.Int64Index, pd.RangeIndex)):\n",
      "C:\\Users\\jackl\\anaconda3\\lib\\site-packages\\xgboost\\data.py:250: FutureWarning: pandas.Int64Index is deprecated and will be removed from pandas in a future version. Use pandas.Index with the appropriate dtype instead.\n",
      "  elif isinstance(data.columns, (pd.Int64Index, pd.RangeIndex)):\n",
      "C:\\Users\\jackl\\anaconda3\\lib\\site-packages\\xgboost\\data.py:250: FutureWarning: pandas.Int64Index is deprecated and will be removed from pandas in a future version. Use pandas.Index with the appropriate dtype instead.\n",
      "  elif isinstance(data.columns, (pd.Int64Index, pd.RangeIndex)):\n",
      "C:\\Users\\jackl\\anaconda3\\lib\\site-packages\\xgboost\\data.py:250: FutureWarning: pandas.Int64Index is deprecated and will be removed from pandas in a future version. Use pandas.Index with the appropriate dtype instead.\n",
      "  elif isinstance(data.columns, (pd.Int64Index, pd.RangeIndex)):\n"
     ]
    },
    {
     "name": "stderr",
     "output_type": "stream",
     "text": [
      "C:\\Users\\jackl\\anaconda3\\lib\\site-packages\\xgboost\\data.py:250: FutureWarning: pandas.Int64Index is deprecated and will be removed from pandas in a future version. Use pandas.Index with the appropriate dtype instead.\n",
      "  elif isinstance(data.columns, (pd.Int64Index, pd.RangeIndex)):\n",
      "C:\\Users\\jackl\\anaconda3\\lib\\site-packages\\xgboost\\data.py:250: FutureWarning: pandas.Int64Index is deprecated and will be removed from pandas in a future version. Use pandas.Index with the appropriate dtype instead.\n",
      "  elif isinstance(data.columns, (pd.Int64Index, pd.RangeIndex)):\n",
      "C:\\Users\\jackl\\anaconda3\\lib\\site-packages\\xgboost\\data.py:250: FutureWarning: pandas.Int64Index is deprecated and will be removed from pandas in a future version. Use pandas.Index with the appropriate dtype instead.\n",
      "  elif isinstance(data.columns, (pd.Int64Index, pd.RangeIndex)):\n",
      "C:\\Users\\jackl\\anaconda3\\lib\\site-packages\\xgboost\\data.py:250: FutureWarning: pandas.Int64Index is deprecated and will be removed from pandas in a future version. Use pandas.Index with the appropriate dtype instead.\n",
      "  elif isinstance(data.columns, (pd.Int64Index, pd.RangeIndex)):\n",
      "C:\\Users\\jackl\\anaconda3\\lib\\site-packages\\xgboost\\data.py:250: FutureWarning: pandas.Int64Index is deprecated and will be removed from pandas in a future version. Use pandas.Index with the appropriate dtype instead.\n",
      "  elif isinstance(data.columns, (pd.Int64Index, pd.RangeIndex)):\n",
      "C:\\Users\\jackl\\anaconda3\\lib\\site-packages\\xgboost\\data.py:250: FutureWarning: pandas.Int64Index is deprecated and will be removed from pandas in a future version. Use pandas.Index with the appropriate dtype instead.\n",
      "  elif isinstance(data.columns, (pd.Int64Index, pd.RangeIndex)):\n",
      "C:\\Users\\jackl\\anaconda3\\lib\\site-packages\\xgboost\\data.py:250: FutureWarning: pandas.Int64Index is deprecated and will be removed from pandas in a future version. Use pandas.Index with the appropriate dtype instead.\n",
      "  elif isinstance(data.columns, (pd.Int64Index, pd.RangeIndex)):\n",
      "C:\\Users\\jackl\\anaconda3\\lib\\site-packages\\xgboost\\data.py:250: FutureWarning: pandas.Int64Index is deprecated and will be removed from pandas in a future version. Use pandas.Index with the appropriate dtype instead.\n",
      "  elif isinstance(data.columns, (pd.Int64Index, pd.RangeIndex)):\n",
      "C:\\Users\\jackl\\anaconda3\\lib\\site-packages\\xgboost\\data.py:250: FutureWarning: pandas.Int64Index is deprecated and will be removed from pandas in a future version. Use pandas.Index with the appropriate dtype instead.\n",
      "  elif isinstance(data.columns, (pd.Int64Index, pd.RangeIndex)):\n",
      "C:\\Users\\jackl\\anaconda3\\lib\\site-packages\\xgboost\\data.py:250: FutureWarning: pandas.Int64Index is deprecated and will be removed from pandas in a future version. Use pandas.Index with the appropriate dtype instead.\n",
      "  elif isinstance(data.columns, (pd.Int64Index, pd.RangeIndex)):\n",
      "C:\\Users\\jackl\\anaconda3\\lib\\site-packages\\xgboost\\data.py:250: FutureWarning: pandas.Int64Index is deprecated and will be removed from pandas in a future version. Use pandas.Index with the appropriate dtype instead.\n",
      "  elif isinstance(data.columns, (pd.Int64Index, pd.RangeIndex)):\n",
      "C:\\Users\\jackl\\anaconda3\\lib\\site-packages\\xgboost\\data.py:250: FutureWarning: pandas.Int64Index is deprecated and will be removed from pandas in a future version. Use pandas.Index with the appropriate dtype instead.\n",
      "  elif isinstance(data.columns, (pd.Int64Index, pd.RangeIndex)):\n",
      "C:\\Users\\jackl\\anaconda3\\lib\\site-packages\\xgboost\\data.py:250: FutureWarning: pandas.Int64Index is deprecated and will be removed from pandas in a future version. Use pandas.Index with the appropriate dtype instead.\n",
      "  elif isinstance(data.columns, (pd.Int64Index, pd.RangeIndex)):\n",
      "C:\\Users\\jackl\\anaconda3\\lib\\site-packages\\xgboost\\data.py:250: FutureWarning: pandas.Int64Index is deprecated and will be removed from pandas in a future version. Use pandas.Index with the appropriate dtype instead.\n",
      "  elif isinstance(data.columns, (pd.Int64Index, pd.RangeIndex)):\n",
      "C:\\Users\\jackl\\anaconda3\\lib\\site-packages\\xgboost\\data.py:250: FutureWarning: pandas.Int64Index is deprecated and will be removed from pandas in a future version. Use pandas.Index with the appropriate dtype instead.\n",
      "  elif isinstance(data.columns, (pd.Int64Index, pd.RangeIndex)):\n",
      "C:\\Users\\jackl\\anaconda3\\lib\\site-packages\\xgboost\\data.py:250: FutureWarning: pandas.Int64Index is deprecated and will be removed from pandas in a future version. Use pandas.Index with the appropriate dtype instead.\n",
      "  elif isinstance(data.columns, (pd.Int64Index, pd.RangeIndex)):\n",
      "C:\\Users\\jackl\\anaconda3\\lib\\site-packages\\xgboost\\data.py:250: FutureWarning: pandas.Int64Index is deprecated and will be removed from pandas in a future version. Use pandas.Index with the appropriate dtype instead.\n",
      "  elif isinstance(data.columns, (pd.Int64Index, pd.RangeIndex)):\n",
      "C:\\Users\\jackl\\anaconda3\\lib\\site-packages\\xgboost\\data.py:250: FutureWarning: pandas.Int64Index is deprecated and will be removed from pandas in a future version. Use pandas.Index with the appropriate dtype instead.\n",
      "  elif isinstance(data.columns, (pd.Int64Index, pd.RangeIndex)):\n",
      "C:\\Users\\jackl\\anaconda3\\lib\\site-packages\\xgboost\\data.py:250: FutureWarning: pandas.Int64Index is deprecated and will be removed from pandas in a future version. Use pandas.Index with the appropriate dtype instead.\n",
      "  elif isinstance(data.columns, (pd.Int64Index, pd.RangeIndex)):\n",
      "C:\\Users\\jackl\\anaconda3\\lib\\site-packages\\xgboost\\data.py:250: FutureWarning: pandas.Int64Index is deprecated and will be removed from pandas in a future version. Use pandas.Index with the appropriate dtype instead.\n",
      "  elif isinstance(data.columns, (pd.Int64Index, pd.RangeIndex)):\n",
      "C:\\Users\\jackl\\anaconda3\\lib\\site-packages\\xgboost\\data.py:250: FutureWarning: pandas.Int64Index is deprecated and will be removed from pandas in a future version. Use pandas.Index with the appropriate dtype instead.\n",
      "  elif isinstance(data.columns, (pd.Int64Index, pd.RangeIndex)):\n",
      "C:\\Users\\jackl\\anaconda3\\lib\\site-packages\\xgboost\\data.py:250: FutureWarning: pandas.Int64Index is deprecated and will be removed from pandas in a future version. Use pandas.Index with the appropriate dtype instead.\n",
      "  elif isinstance(data.columns, (pd.Int64Index, pd.RangeIndex)):\n",
      "C:\\Users\\jackl\\anaconda3\\lib\\site-packages\\xgboost\\data.py:250: FutureWarning: pandas.Int64Index is deprecated and will be removed from pandas in a future version. Use pandas.Index with the appropriate dtype instead.\n",
      "  elif isinstance(data.columns, (pd.Int64Index, pd.RangeIndex)):\n",
      "C:\\Users\\jackl\\anaconda3\\lib\\site-packages\\xgboost\\data.py:250: FutureWarning: pandas.Int64Index is deprecated and will be removed from pandas in a future version. Use pandas.Index with the appropriate dtype instead.\n",
      "  elif isinstance(data.columns, (pd.Int64Index, pd.RangeIndex)):\n",
      "C:\\Users\\jackl\\anaconda3\\lib\\site-packages\\xgboost\\data.py:250: FutureWarning: pandas.Int64Index is deprecated and will be removed from pandas in a future version. Use pandas.Index with the appropriate dtype instead.\n",
      "  elif isinstance(data.columns, (pd.Int64Index, pd.RangeIndex)):\n",
      "C:\\Users\\jackl\\anaconda3\\lib\\site-packages\\xgboost\\data.py:250: FutureWarning: pandas.Int64Index is deprecated and will be removed from pandas in a future version. Use pandas.Index with the appropriate dtype instead.\n",
      "  elif isinstance(data.columns, (pd.Int64Index, pd.RangeIndex)):\n",
      "C:\\Users\\jackl\\anaconda3\\lib\\site-packages\\xgboost\\data.py:250: FutureWarning: pandas.Int64Index is deprecated and will be removed from pandas in a future version. Use pandas.Index with the appropriate dtype instead.\n",
      "  elif isinstance(data.columns, (pd.Int64Index, pd.RangeIndex)):\n",
      "C:\\Users\\jackl\\anaconda3\\lib\\site-packages\\xgboost\\data.py:250: FutureWarning: pandas.Int64Index is deprecated and will be removed from pandas in a future version. Use pandas.Index with the appropriate dtype instead.\n",
      "  elif isinstance(data.columns, (pd.Int64Index, pd.RangeIndex)):\n",
      "C:\\Users\\jackl\\anaconda3\\lib\\site-packages\\xgboost\\data.py:250: FutureWarning: pandas.Int64Index is deprecated and will be removed from pandas in a future version. Use pandas.Index with the appropriate dtype instead.\n",
      "  elif isinstance(data.columns, (pd.Int64Index, pd.RangeIndex)):\n",
      "C:\\Users\\jackl\\anaconda3\\lib\\site-packages\\xgboost\\data.py:250: FutureWarning: pandas.Int64Index is deprecated and will be removed from pandas in a future version. Use pandas.Index with the appropriate dtype instead.\n",
      "  elif isinstance(data.columns, (pd.Int64Index, pd.RangeIndex)):\n",
      "C:\\Users\\jackl\\anaconda3\\lib\\site-packages\\xgboost\\data.py:250: FutureWarning: pandas.Int64Index is deprecated and will be removed from pandas in a future version. Use pandas.Index with the appropriate dtype instead.\n",
      "  elif isinstance(data.columns, (pd.Int64Index, pd.RangeIndex)):\n"
     ]
    },
    {
     "name": "stderr",
     "output_type": "stream",
     "text": [
      "C:\\Users\\jackl\\anaconda3\\lib\\site-packages\\xgboost\\data.py:250: FutureWarning: pandas.Int64Index is deprecated and will be removed from pandas in a future version. Use pandas.Index with the appropriate dtype instead.\n",
      "  elif isinstance(data.columns, (pd.Int64Index, pd.RangeIndex)):\n",
      "C:\\Users\\jackl\\anaconda3\\lib\\site-packages\\xgboost\\data.py:250: FutureWarning: pandas.Int64Index is deprecated and will be removed from pandas in a future version. Use pandas.Index with the appropriate dtype instead.\n",
      "  elif isinstance(data.columns, (pd.Int64Index, pd.RangeIndex)):\n",
      "C:\\Users\\jackl\\anaconda3\\lib\\site-packages\\xgboost\\data.py:250: FutureWarning: pandas.Int64Index is deprecated and will be removed from pandas in a future version. Use pandas.Index with the appropriate dtype instead.\n",
      "  elif isinstance(data.columns, (pd.Int64Index, pd.RangeIndex)):\n",
      "C:\\Users\\jackl\\anaconda3\\lib\\site-packages\\xgboost\\data.py:250: FutureWarning: pandas.Int64Index is deprecated and will be removed from pandas in a future version. Use pandas.Index with the appropriate dtype instead.\n",
      "  elif isinstance(data.columns, (pd.Int64Index, pd.RangeIndex)):\n",
      "C:\\Users\\jackl\\anaconda3\\lib\\site-packages\\xgboost\\data.py:250: FutureWarning: pandas.Int64Index is deprecated and will be removed from pandas in a future version. Use pandas.Index with the appropriate dtype instead.\n",
      "  elif isinstance(data.columns, (pd.Int64Index, pd.RangeIndex)):\n",
      "C:\\Users\\jackl\\anaconda3\\lib\\site-packages\\xgboost\\data.py:250: FutureWarning: pandas.Int64Index is deprecated and will be removed from pandas in a future version. Use pandas.Index with the appropriate dtype instead.\n",
      "  elif isinstance(data.columns, (pd.Int64Index, pd.RangeIndex)):\n",
      "C:\\Users\\jackl\\anaconda3\\lib\\site-packages\\xgboost\\data.py:250: FutureWarning: pandas.Int64Index is deprecated and will be removed from pandas in a future version. Use pandas.Index with the appropriate dtype instead.\n",
      "  elif isinstance(data.columns, (pd.Int64Index, pd.RangeIndex)):\n",
      "C:\\Users\\jackl\\anaconda3\\lib\\site-packages\\xgboost\\data.py:250: FutureWarning: pandas.Int64Index is deprecated and will be removed from pandas in a future version. Use pandas.Index with the appropriate dtype instead.\n",
      "  elif isinstance(data.columns, (pd.Int64Index, pd.RangeIndex)):\n",
      "C:\\Users\\jackl\\anaconda3\\lib\\site-packages\\xgboost\\data.py:250: FutureWarning: pandas.Int64Index is deprecated and will be removed from pandas in a future version. Use pandas.Index with the appropriate dtype instead.\n",
      "  elif isinstance(data.columns, (pd.Int64Index, pd.RangeIndex)):\n",
      "C:\\Users\\jackl\\anaconda3\\lib\\site-packages\\xgboost\\data.py:250: FutureWarning: pandas.Int64Index is deprecated and will be removed from pandas in a future version. Use pandas.Index with the appropriate dtype instead.\n",
      "  elif isinstance(data.columns, (pd.Int64Index, pd.RangeIndex)):\n",
      "C:\\Users\\jackl\\anaconda3\\lib\\site-packages\\xgboost\\data.py:250: FutureWarning: pandas.Int64Index is deprecated and will be removed from pandas in a future version. Use pandas.Index with the appropriate dtype instead.\n",
      "  elif isinstance(data.columns, (pd.Int64Index, pd.RangeIndex)):\n",
      "C:\\Users\\jackl\\anaconda3\\lib\\site-packages\\xgboost\\data.py:250: FutureWarning: pandas.Int64Index is deprecated and will be removed from pandas in a future version. Use pandas.Index with the appropriate dtype instead.\n",
      "  elif isinstance(data.columns, (pd.Int64Index, pd.RangeIndex)):\n",
      "C:\\Users\\jackl\\anaconda3\\lib\\site-packages\\xgboost\\data.py:250: FutureWarning: pandas.Int64Index is deprecated and will be removed from pandas in a future version. Use pandas.Index with the appropriate dtype instead.\n",
      "  elif isinstance(data.columns, (pd.Int64Index, pd.RangeIndex)):\n",
      "C:\\Users\\jackl\\anaconda3\\lib\\site-packages\\xgboost\\data.py:250: FutureWarning: pandas.Int64Index is deprecated and will be removed from pandas in a future version. Use pandas.Index with the appropriate dtype instead.\n",
      "  elif isinstance(data.columns, (pd.Int64Index, pd.RangeIndex)):\n",
      "C:\\Users\\jackl\\anaconda3\\lib\\site-packages\\xgboost\\data.py:250: FutureWarning: pandas.Int64Index is deprecated and will be removed from pandas in a future version. Use pandas.Index with the appropriate dtype instead.\n",
      "  elif isinstance(data.columns, (pd.Int64Index, pd.RangeIndex)):\n",
      "C:\\Users\\jackl\\anaconda3\\lib\\site-packages\\xgboost\\data.py:250: FutureWarning: pandas.Int64Index is deprecated and will be removed from pandas in a future version. Use pandas.Index with the appropriate dtype instead.\n",
      "  elif isinstance(data.columns, (pd.Int64Index, pd.RangeIndex)):\n",
      "C:\\Users\\jackl\\anaconda3\\lib\\site-packages\\xgboost\\data.py:250: FutureWarning: pandas.Int64Index is deprecated and will be removed from pandas in a future version. Use pandas.Index with the appropriate dtype instead.\n",
      "  elif isinstance(data.columns, (pd.Int64Index, pd.RangeIndex)):\n",
      "C:\\Users\\jackl\\anaconda3\\lib\\site-packages\\xgboost\\data.py:250: FutureWarning: pandas.Int64Index is deprecated and will be removed from pandas in a future version. Use pandas.Index with the appropriate dtype instead.\n",
      "  elif isinstance(data.columns, (pd.Int64Index, pd.RangeIndex)):\n",
      "C:\\Users\\jackl\\anaconda3\\lib\\site-packages\\xgboost\\data.py:250: FutureWarning: pandas.Int64Index is deprecated and will be removed from pandas in a future version. Use pandas.Index with the appropriate dtype instead.\n",
      "  elif isinstance(data.columns, (pd.Int64Index, pd.RangeIndex)):\n",
      "C:\\Users\\jackl\\anaconda3\\lib\\site-packages\\xgboost\\data.py:250: FutureWarning: pandas.Int64Index is deprecated and will be removed from pandas in a future version. Use pandas.Index with the appropriate dtype instead.\n",
      "  elif isinstance(data.columns, (pd.Int64Index, pd.RangeIndex)):\n",
      "C:\\Users\\jackl\\anaconda3\\lib\\site-packages\\xgboost\\data.py:250: FutureWarning: pandas.Int64Index is deprecated and will be removed from pandas in a future version. Use pandas.Index with the appropriate dtype instead.\n",
      "  elif isinstance(data.columns, (pd.Int64Index, pd.RangeIndex)):\n",
      "C:\\Users\\jackl\\anaconda3\\lib\\site-packages\\xgboost\\data.py:250: FutureWarning: pandas.Int64Index is deprecated and will be removed from pandas in a future version. Use pandas.Index with the appropriate dtype instead.\n",
      "  elif isinstance(data.columns, (pd.Int64Index, pd.RangeIndex)):\n",
      "C:\\Users\\jackl\\anaconda3\\lib\\site-packages\\xgboost\\data.py:250: FutureWarning: pandas.Int64Index is deprecated and will be removed from pandas in a future version. Use pandas.Index with the appropriate dtype instead.\n",
      "  elif isinstance(data.columns, (pd.Int64Index, pd.RangeIndex)):\n",
      "C:\\Users\\jackl\\anaconda3\\lib\\site-packages\\xgboost\\data.py:250: FutureWarning: pandas.Int64Index is deprecated and will be removed from pandas in a future version. Use pandas.Index with the appropriate dtype instead.\n",
      "  elif isinstance(data.columns, (pd.Int64Index, pd.RangeIndex)):\n",
      "C:\\Users\\jackl\\anaconda3\\lib\\site-packages\\xgboost\\data.py:250: FutureWarning: pandas.Int64Index is deprecated and will be removed from pandas in a future version. Use pandas.Index with the appropriate dtype instead.\n",
      "  elif isinstance(data.columns, (pd.Int64Index, pd.RangeIndex)):\n",
      "C:\\Users\\jackl\\anaconda3\\lib\\site-packages\\xgboost\\data.py:250: FutureWarning: pandas.Int64Index is deprecated and will be removed from pandas in a future version. Use pandas.Index with the appropriate dtype instead.\n",
      "  elif isinstance(data.columns, (pd.Int64Index, pd.RangeIndex)):\n",
      "C:\\Users\\jackl\\anaconda3\\lib\\site-packages\\xgboost\\data.py:250: FutureWarning: pandas.Int64Index is deprecated and will be removed from pandas in a future version. Use pandas.Index with the appropriate dtype instead.\n",
      "  elif isinstance(data.columns, (pd.Int64Index, pd.RangeIndex)):\n",
      "C:\\Users\\jackl\\anaconda3\\lib\\site-packages\\xgboost\\data.py:250: FutureWarning: pandas.Int64Index is deprecated and will be removed from pandas in a future version. Use pandas.Index with the appropriate dtype instead.\n",
      "  elif isinstance(data.columns, (pd.Int64Index, pd.RangeIndex)):\n",
      "C:\\Users\\jackl\\anaconda3\\lib\\site-packages\\xgboost\\data.py:250: FutureWarning: pandas.Int64Index is deprecated and will be removed from pandas in a future version. Use pandas.Index with the appropriate dtype instead.\n",
      "  elif isinstance(data.columns, (pd.Int64Index, pd.RangeIndex)):\n",
      "C:\\Users\\jackl\\anaconda3\\lib\\site-packages\\xgboost\\data.py:250: FutureWarning: pandas.Int64Index is deprecated and will be removed from pandas in a future version. Use pandas.Index with the appropriate dtype instead.\n",
      "  elif isinstance(data.columns, (pd.Int64Index, pd.RangeIndex)):\n",
      "C:\\Users\\jackl\\anaconda3\\lib\\site-packages\\xgboost\\data.py:250: FutureWarning: pandas.Int64Index is deprecated and will be removed from pandas in a future version. Use pandas.Index with the appropriate dtype instead.\n",
      "  elif isinstance(data.columns, (pd.Int64Index, pd.RangeIndex)):\n"
     ]
    },
    {
     "name": "stderr",
     "output_type": "stream",
     "text": [
      "C:\\Users\\jackl\\anaconda3\\lib\\site-packages\\xgboost\\data.py:250: FutureWarning: pandas.Int64Index is deprecated and will be removed from pandas in a future version. Use pandas.Index with the appropriate dtype instead.\n",
      "  elif isinstance(data.columns, (pd.Int64Index, pd.RangeIndex)):\n",
      "C:\\Users\\jackl\\anaconda3\\lib\\site-packages\\xgboost\\data.py:250: FutureWarning: pandas.Int64Index is deprecated and will be removed from pandas in a future version. Use pandas.Index with the appropriate dtype instead.\n",
      "  elif isinstance(data.columns, (pd.Int64Index, pd.RangeIndex)):\n",
      "C:\\Users\\jackl\\anaconda3\\lib\\site-packages\\xgboost\\data.py:250: FutureWarning: pandas.Int64Index is deprecated and will be removed from pandas in a future version. Use pandas.Index with the appropriate dtype instead.\n",
      "  elif isinstance(data.columns, (pd.Int64Index, pd.RangeIndex)):\n",
      "C:\\Users\\jackl\\anaconda3\\lib\\site-packages\\xgboost\\data.py:250: FutureWarning: pandas.Int64Index is deprecated and will be removed from pandas in a future version. Use pandas.Index with the appropriate dtype instead.\n",
      "  elif isinstance(data.columns, (pd.Int64Index, pd.RangeIndex)):\n",
      "C:\\Users\\jackl\\anaconda3\\lib\\site-packages\\xgboost\\data.py:250: FutureWarning: pandas.Int64Index is deprecated and will be removed from pandas in a future version. Use pandas.Index with the appropriate dtype instead.\n",
      "  elif isinstance(data.columns, (pd.Int64Index, pd.RangeIndex)):\n",
      "C:\\Users\\jackl\\anaconda3\\lib\\site-packages\\xgboost\\data.py:250: FutureWarning: pandas.Int64Index is deprecated and will be removed from pandas in a future version. Use pandas.Index with the appropriate dtype instead.\n",
      "  elif isinstance(data.columns, (pd.Int64Index, pd.RangeIndex)):\n",
      "C:\\Users\\jackl\\anaconda3\\lib\\site-packages\\xgboost\\data.py:250: FutureWarning: pandas.Int64Index is deprecated and will be removed from pandas in a future version. Use pandas.Index with the appropriate dtype instead.\n",
      "  elif isinstance(data.columns, (pd.Int64Index, pd.RangeIndex)):\n",
      "C:\\Users\\jackl\\anaconda3\\lib\\site-packages\\xgboost\\data.py:250: FutureWarning: pandas.Int64Index is deprecated and will be removed from pandas in a future version. Use pandas.Index with the appropriate dtype instead.\n",
      "  elif isinstance(data.columns, (pd.Int64Index, pd.RangeIndex)):\n",
      "C:\\Users\\jackl\\anaconda3\\lib\\site-packages\\xgboost\\data.py:250: FutureWarning: pandas.Int64Index is deprecated and will be removed from pandas in a future version. Use pandas.Index with the appropriate dtype instead.\n",
      "  elif isinstance(data.columns, (pd.Int64Index, pd.RangeIndex)):\n",
      "C:\\Users\\jackl\\anaconda3\\lib\\site-packages\\xgboost\\data.py:250: FutureWarning: pandas.Int64Index is deprecated and will be removed from pandas in a future version. Use pandas.Index with the appropriate dtype instead.\n",
      "  elif isinstance(data.columns, (pd.Int64Index, pd.RangeIndex)):\n",
      "C:\\Users\\jackl\\anaconda3\\lib\\site-packages\\xgboost\\data.py:250: FutureWarning: pandas.Int64Index is deprecated and will be removed from pandas in a future version. Use pandas.Index with the appropriate dtype instead.\n",
      "  elif isinstance(data.columns, (pd.Int64Index, pd.RangeIndex)):\n",
      "C:\\Users\\jackl\\anaconda3\\lib\\site-packages\\xgboost\\data.py:250: FutureWarning: pandas.Int64Index is deprecated and will be removed from pandas in a future version. Use pandas.Index with the appropriate dtype instead.\n",
      "  elif isinstance(data.columns, (pd.Int64Index, pd.RangeIndex)):\n",
      "C:\\Users\\jackl\\anaconda3\\lib\\site-packages\\xgboost\\data.py:250: FutureWarning: pandas.Int64Index is deprecated and will be removed from pandas in a future version. Use pandas.Index with the appropriate dtype instead.\n",
      "  elif isinstance(data.columns, (pd.Int64Index, pd.RangeIndex)):\n",
      "C:\\Users\\jackl\\anaconda3\\lib\\site-packages\\xgboost\\data.py:250: FutureWarning: pandas.Int64Index is deprecated and will be removed from pandas in a future version. Use pandas.Index with the appropriate dtype instead.\n",
      "  elif isinstance(data.columns, (pd.Int64Index, pd.RangeIndex)):\n",
      "C:\\Users\\jackl\\anaconda3\\lib\\site-packages\\xgboost\\data.py:250: FutureWarning: pandas.Int64Index is deprecated and will be removed from pandas in a future version. Use pandas.Index with the appropriate dtype instead.\n",
      "  elif isinstance(data.columns, (pd.Int64Index, pd.RangeIndex)):\n",
      "C:\\Users\\jackl\\anaconda3\\lib\\site-packages\\xgboost\\data.py:250: FutureWarning: pandas.Int64Index is deprecated and will be removed from pandas in a future version. Use pandas.Index with the appropriate dtype instead.\n",
      "  elif isinstance(data.columns, (pd.Int64Index, pd.RangeIndex)):\n",
      "C:\\Users\\jackl\\anaconda3\\lib\\site-packages\\xgboost\\data.py:250: FutureWarning: pandas.Int64Index is deprecated and will be removed from pandas in a future version. Use pandas.Index with the appropriate dtype instead.\n",
      "  elif isinstance(data.columns, (pd.Int64Index, pd.RangeIndex)):\n",
      "C:\\Users\\jackl\\anaconda3\\lib\\site-packages\\xgboost\\data.py:250: FutureWarning: pandas.Int64Index is deprecated and will be removed from pandas in a future version. Use pandas.Index with the appropriate dtype instead.\n",
      "  elif isinstance(data.columns, (pd.Int64Index, pd.RangeIndex)):\n",
      "C:\\Users\\jackl\\anaconda3\\lib\\site-packages\\xgboost\\data.py:250: FutureWarning: pandas.Int64Index is deprecated and will be removed from pandas in a future version. Use pandas.Index with the appropriate dtype instead.\n",
      "  elif isinstance(data.columns, (pd.Int64Index, pd.RangeIndex)):\n",
      "C:\\Users\\jackl\\anaconda3\\lib\\site-packages\\xgboost\\data.py:250: FutureWarning: pandas.Int64Index is deprecated and will be removed from pandas in a future version. Use pandas.Index with the appropriate dtype instead.\n",
      "  elif isinstance(data.columns, (pd.Int64Index, pd.RangeIndex)):\n",
      "C:\\Users\\jackl\\anaconda3\\lib\\site-packages\\xgboost\\data.py:250: FutureWarning: pandas.Int64Index is deprecated and will be removed from pandas in a future version. Use pandas.Index with the appropriate dtype instead.\n",
      "  elif isinstance(data.columns, (pd.Int64Index, pd.RangeIndex)):\n",
      "C:\\Users\\jackl\\anaconda3\\lib\\site-packages\\xgboost\\data.py:250: FutureWarning: pandas.Int64Index is deprecated and will be removed from pandas in a future version. Use pandas.Index with the appropriate dtype instead.\n",
      "  elif isinstance(data.columns, (pd.Int64Index, pd.RangeIndex)):\n",
      "C:\\Users\\jackl\\anaconda3\\lib\\site-packages\\xgboost\\data.py:250: FutureWarning: pandas.Int64Index is deprecated and will be removed from pandas in a future version. Use pandas.Index with the appropriate dtype instead.\n",
      "  elif isinstance(data.columns, (pd.Int64Index, pd.RangeIndex)):\n",
      "C:\\Users\\jackl\\anaconda3\\lib\\site-packages\\xgboost\\data.py:250: FutureWarning: pandas.Int64Index is deprecated and will be removed from pandas in a future version. Use pandas.Index with the appropriate dtype instead.\n",
      "  elif isinstance(data.columns, (pd.Int64Index, pd.RangeIndex)):\n",
      "C:\\Users\\jackl\\anaconda3\\lib\\site-packages\\xgboost\\data.py:250: FutureWarning: pandas.Int64Index is deprecated and will be removed from pandas in a future version. Use pandas.Index with the appropriate dtype instead.\n",
      "  elif isinstance(data.columns, (pd.Int64Index, pd.RangeIndex)):\n",
      "C:\\Users\\jackl\\anaconda3\\lib\\site-packages\\xgboost\\data.py:250: FutureWarning: pandas.Int64Index is deprecated and will be removed from pandas in a future version. Use pandas.Index with the appropriate dtype instead.\n",
      "  elif isinstance(data.columns, (pd.Int64Index, pd.RangeIndex)):\n",
      "C:\\Users\\jackl\\anaconda3\\lib\\site-packages\\xgboost\\data.py:250: FutureWarning: pandas.Int64Index is deprecated and will be removed from pandas in a future version. Use pandas.Index with the appropriate dtype instead.\n",
      "  elif isinstance(data.columns, (pd.Int64Index, pd.RangeIndex)):\n",
      "C:\\Users\\jackl\\anaconda3\\lib\\site-packages\\xgboost\\data.py:250: FutureWarning: pandas.Int64Index is deprecated and will be removed from pandas in a future version. Use pandas.Index with the appropriate dtype instead.\n",
      "  elif isinstance(data.columns, (pd.Int64Index, pd.RangeIndex)):\n",
      "C:\\Users\\jackl\\anaconda3\\lib\\site-packages\\xgboost\\data.py:250: FutureWarning: pandas.Int64Index is deprecated and will be removed from pandas in a future version. Use pandas.Index with the appropriate dtype instead.\n",
      "  elif isinstance(data.columns, (pd.Int64Index, pd.RangeIndex)):\n",
      "C:\\Users\\jackl\\anaconda3\\lib\\site-packages\\xgboost\\data.py:250: FutureWarning: pandas.Int64Index is deprecated and will be removed from pandas in a future version. Use pandas.Index with the appropriate dtype instead.\n",
      "  elif isinstance(data.columns, (pd.Int64Index, pd.RangeIndex)):\n"
     ]
    }
   ],
   "source": [
    "params = {'max_depth': [3,4, 5], 'learning_rate': [.1, .3, .5],\n",
    "          'gamma': [0,5,10], 'colsample_bynode': [.5, .75, 1], 'n_estimators': [50,100, 150] }\n",
    "cv = GridSearchCV(estimator = XGBRegressor(objective='reg:squarederror'), scoring='neg_mean_absolute_error',\n",
    "                  param_grid = params, cv = 5)\n",
    "cv.fit(X_who_train, y_who_train);"
   ]
  },
  {
   "cell_type": "code",
   "execution_count": 91,
   "metadata": {
    "cell_style": "center",
    "slideshow": {
     "slide_type": "slide"
    }
   },
   "outputs": [
    {
     "data": {
      "text/plain": [
<<<<<<< HEAD
       "-1.7754434943318524"
=======
       "-1.6829698581304249"
>>>>>>> upstream/main
      ]
     },
     "execution_count": 91,
     "metadata": {},
     "output_type": "execute_result"
    }
   ],
   "source": [
    "cv.best_score_"
   ]
  },
  {
   "cell_type": "code",
   "execution_count": 92,
   "metadata": {
    "cell_style": "center",
    "slideshow": {
     "slide_type": "fragment"
    }
   },
   "outputs": [
    {
     "data": {
      "text/html": [
       "<style>#sk-container-id-2 {color: black;background-color: white;}#sk-container-id-2 pre{padding: 0;}#sk-container-id-2 div.sk-toggleable {background-color: white;}#sk-container-id-2 label.sk-toggleable__label {cursor: pointer;display: block;width: 100%;margin-bottom: 0;padding: 0.3em;box-sizing: border-box;text-align: center;}#sk-container-id-2 label.sk-toggleable__label-arrow:before {content: \"▸\";float: left;margin-right: 0.25em;color: #696969;}#sk-container-id-2 label.sk-toggleable__label-arrow:hover:before {color: black;}#sk-container-id-2 div.sk-estimator:hover label.sk-toggleable__label-arrow:before {color: black;}#sk-container-id-2 div.sk-toggleable__content {max-height: 0;max-width: 0;overflow: hidden;text-align: left;background-color: #f0f8ff;}#sk-container-id-2 div.sk-toggleable__content pre {margin: 0.2em;color: black;border-radius: 0.25em;background-color: #f0f8ff;}#sk-container-id-2 input.sk-toggleable__control:checked~div.sk-toggleable__content {max-height: 200px;max-width: 100%;overflow: auto;}#sk-container-id-2 input.sk-toggleable__control:checked~label.sk-toggleable__label-arrow:before {content: \"▾\";}#sk-container-id-2 div.sk-estimator input.sk-toggleable__control:checked~label.sk-toggleable__label {background-color: #d4ebff;}#sk-container-id-2 div.sk-label input.sk-toggleable__control:checked~label.sk-toggleable__label {background-color: #d4ebff;}#sk-container-id-2 input.sk-hidden--visually {border: 0;clip: rect(1px 1px 1px 1px);clip: rect(1px, 1px, 1px, 1px);height: 1px;margin: -1px;overflow: hidden;padding: 0;position: absolute;width: 1px;}#sk-container-id-2 div.sk-estimator {font-family: monospace;background-color: #f0f8ff;border: 1px dotted black;border-radius: 0.25em;box-sizing: border-box;margin-bottom: 0.5em;}#sk-container-id-2 div.sk-estimator:hover {background-color: #d4ebff;}#sk-container-id-2 div.sk-parallel-item::after {content: \"\";width: 100%;border-bottom: 1px solid gray;flex-grow: 1;}#sk-container-id-2 div.sk-label:hover label.sk-toggleable__label {background-color: #d4ebff;}#sk-container-id-2 div.sk-serial::before {content: \"\";position: absolute;border-left: 1px solid gray;box-sizing: border-box;top: 0;bottom: 0;left: 50%;z-index: 0;}#sk-container-id-2 div.sk-serial {display: flex;flex-direction: column;align-items: center;background-color: white;padding-right: 0.2em;padding-left: 0.2em;position: relative;}#sk-container-id-2 div.sk-item {position: relative;z-index: 1;}#sk-container-id-2 div.sk-parallel {display: flex;align-items: stretch;justify-content: center;background-color: white;position: relative;}#sk-container-id-2 div.sk-item::before, #sk-container-id-2 div.sk-parallel-item::before {content: \"\";position: absolute;border-left: 1px solid gray;box-sizing: border-box;top: 0;bottom: 0;left: 50%;z-index: -1;}#sk-container-id-2 div.sk-parallel-item {display: flex;flex-direction: column;z-index: 1;position: relative;background-color: white;}#sk-container-id-2 div.sk-parallel-item:first-child::after {align-self: flex-end;width: 50%;}#sk-container-id-2 div.sk-parallel-item:last-child::after {align-self: flex-start;width: 50%;}#sk-container-id-2 div.sk-parallel-item:only-child::after {width: 0;}#sk-container-id-2 div.sk-dashed-wrapped {border: 1px dashed gray;margin: 0 0.4em 0.5em 0.4em;box-sizing: border-box;padding-bottom: 0.4em;background-color: white;}#sk-container-id-2 div.sk-label label {font-family: monospace;font-weight: bold;display: inline-block;line-height: 1.2em;}#sk-container-id-2 div.sk-label-container {text-align: center;}#sk-container-id-2 div.sk-container {/* jupyter's `normalize.less` sets `[hidden] { display: none; }` but bootstrap.min.css set `[hidden] { display: none !important; }` so we also need the `!important` here to be able to override the default hidden behavior on the sphinx rendered scikit-learn.org. See: https://github.com/scikit-learn/scikit-learn/issues/21755 */display: inline-block !important;position: relative;}#sk-container-id-2 div.sk-text-repr-fallback {display: none;}</style><div id=\"sk-container-id-2\" class=\"sk-top-container\"><div class=\"sk-text-repr-fallback\"><pre>XGBRegressor(base_score=0.5, booster=&#x27;gbtree&#x27;, colsample_bylevel=1,\n",
       "             colsample_bynode=1, colsample_bytree=1, enable_categorical=False,\n",
       "             gamma=0, gpu_id=-1, importance_type=None,\n",
       "             interaction_constraints=&#x27;&#x27;, learning_rate=0.1, max_delta_step=0,\n",
       "             max_depth=5, min_child_weight=1, missing=nan,\n",
       "             monotone_constraints=&#x27;()&#x27;, n_estimators=150, n_jobs=20,\n",
       "             num_parallel_tree=1, predictor=&#x27;auto&#x27;, random_state=0, reg_alpha=0,\n",
       "             reg_lambda=1, scale_pos_weight=1, subsample=1, tree_method=&#x27;exact&#x27;,\n",
       "             validate_parameters=1, verbosity=None)</pre><b>In a Jupyter environment, please rerun this cell to show the HTML representation or trust the notebook. <br />On GitHub, the HTML representation is unable to render, please try loading this page with nbviewer.org.</b></div><div class=\"sk-container\" hidden><div class=\"sk-item\"><div class=\"sk-estimator sk-toggleable\"><input class=\"sk-toggleable__control sk-hidden--visually\" id=\"sk-estimator-id-2\" type=\"checkbox\" checked><label for=\"sk-estimator-id-2\" class=\"sk-toggleable__label sk-toggleable__label-arrow\">XGBRegressor</label><div class=\"sk-toggleable__content\"><pre>XGBRegressor(base_score=0.5, booster=&#x27;gbtree&#x27;, colsample_bylevel=1,\n",
       "             colsample_bynode=1, colsample_bytree=1, enable_categorical=False,\n",
       "             gamma=0, gpu_id=-1, importance_type=None,\n",
       "             interaction_constraints=&#x27;&#x27;, learning_rate=0.1, max_delta_step=0,\n",
       "             max_depth=5, min_child_weight=1, missing=nan,\n",
       "             monotone_constraints=&#x27;()&#x27;, n_estimators=150, n_jobs=20,\n",
       "             num_parallel_tree=1, predictor=&#x27;auto&#x27;, random_state=0, reg_alpha=0,\n",
       "             reg_lambda=1, scale_pos_weight=1, subsample=1, tree_method=&#x27;exact&#x27;,\n",
       "             validate_parameters=1, verbosity=None)</pre></div></div></div></div></div>"
      ],
      "text/plain": [
       "XGBRegressor(base_score=0.5, booster='gbtree', colsample_bylevel=1,\n",
       "             colsample_bynode=0.5, colsample_bytree=1, enable_categorical=False,\n",
       "             gamma=0, gpu_id=-1, importance_type=None,\n",
       "             interaction_constraints='', learning_rate=0.1, max_delta_step=0,\n",
       "             max_depth=5, min_child_weight=1, missing=nan,\n",
       "             monotone_constraints='()', n_estimators=150, n_jobs=20,\n",
       "             num_parallel_tree=1, predictor='auto', random_state=0, reg_alpha=0,\n",
       "             reg_lambda=1, scale_pos_weight=1, subsample=1, tree_method='exact',\n",
       "             validate_parameters=1, verbosity=None)"
      ]
     },
     "execution_count": 92,
     "metadata": {},
     "output_type": "execute_result"
    }
   ],
   "source": [
    "best_regressor = cv.best_estimator_\n",
    "best_regressor"
   ]
  },
  {
   "cell_type": "code",
   "execution_count": 93,
   "metadata": {
    "cell_style": "split",
    "slideshow": {
     "slide_type": "slide"
    }
   },
   "outputs": [],
   "source": [
    "best_regressor.fit(X_who_train, y_who_train)\n",
    "y_pred_train = best_regressor.predict(\n",
    "    X_who_train)\n",
    "y_pred_test = best_regressor.predict(X_who_test)"
   ]
  },
  {
   "cell_type": "code",
   "execution_count": 94,
   "metadata": {
    "cell_style": "split",
    "slideshow": {
     "slide_type": "slide"
    }
   },
   "outputs": [],
   "source": [
    "from sklearn.metrics import mean_absolute_error\n",
    "from sklearn.metrics import mean_squared_error\n",
    "from sklearn.metrics import r2_score\n"
   ]
  },
  {
   "cell_type": "code",
   "execution_count": 95,
   "metadata": {
    "cell_style": "split",
    "slideshow": {
     "slide_type": "slide"
    }
   },
   "outputs": [
    {
     "name": "stdout",
     "output_type": "stream",
     "text": [
<<<<<<< HEAD
      "1.5078224613690616\n"
=======
      "1.711768367266414\n"
>>>>>>> upstream/main
     ]
    }
   ],
   "source": [
    "MAE = mean_absolute_error(y_who_test, \n",
    "                          y_pred_test)\n",
    "print(MAE)"
   ]
  },
  {
   "cell_type": "code",
   "execution_count": 96,
   "metadata": {
    "cell_style": "split",
    "slideshow": {
     "slide_type": "fragment"
    }
   },
   "outputs": [
    {
     "name": "stdout",
     "output_type": "stream",
     "text": [
<<<<<<< HEAD
      "2.046608989490272\n"
=======
      "2.3691056645296333\n"
>>>>>>> upstream/main
     ]
    }
   ],
   "source": [
    "RMSE = np.sqrt(mean_squared_error(y_who_test,\n",
    "                                  y_pred_test))\n",
    "print(RMSE)"
   ]
  },
  {
   "cell_type": "markdown",
   "metadata": {
    "slideshow": {
     "slide_type": "slide"
    }
   },
   "source": [
    "Train and test: $R^2$ score"
   ]
  },
  {
   "cell_type": "code",
   "execution_count": 97,
   "metadata": {
    "cell_style": "split",
    "slideshow": {
     "slide_type": "fragment"
    }
   },
   "outputs": [
    {
     "data": {
      "text/plain": [
<<<<<<< HEAD
       "0.9893036191829595"
=======
       "0.9896355610015164"
>>>>>>> upstream/main
      ]
     },
     "execution_count": 97,
     "metadata": {},
     "output_type": "execute_result"
    }
   ],
   "source": [
    "r2_score(y_who_train, y_pred_train)"
   ]
  },
  {
   "cell_type": "code",
   "execution_count": 98,
   "metadata": {
    "cell_style": "split",
    "slideshow": {
     "slide_type": "fragment"
    }
   },
   "outputs": [
    {
     "data": {
      "text/plain": [
<<<<<<< HEAD
       "0.9423222099699906"
=======
       "0.9249631924646295"
>>>>>>> upstream/main
      ]
     },
     "execution_count": 98,
     "metadata": {},
     "output_type": "execute_result"
    }
   ],
   "source": [
    "r2_score(y_who_test, y_pred_test)"
   ]
  },
  {
   "cell_type": "markdown",
   "metadata": {
    "slideshow": {
     "slide_type": "slide"
    }
   },
   "source": [
    "Comparing this to our simple multiple linear regression:\n",
    "- $R^2 = 0.76$ \n",
    "- MAE of ~3.5.\n",
    "- Had to carefully remove correlated features.\n",
    "- Standardize for feature weight importance or regularization.\n"
   ]
  },
  {
   "cell_type": "code",
   "execution_count": 99,
   "metadata": {
    "cell_style": "center",
    "scrolled": true,
    "slideshow": {
     "slide_type": "slide"
    }
   },
   "outputs": [
    {
     "data": {
<<<<<<< HEAD
      "image/png": "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\n",
=======
      "image/png": "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\n",
>>>>>>> upstream/main
      "text/plain": [
       "<Figure size 432x288 with 1 Axes>"
      ]
     },
     "metadata": {
      "needs_background": "light"
     },
     "output_type": "display_data"
    }
   ],
   "source": [
    "feat_imp = pd.Series(best_regressor.feature_importances_,\n",
    "             index = X_who.columns).sort_values(ascending = False)\n",
    "fig, ax = plt.subplots()\n",
    "feat_imp.plot(kind = 'barh', ax = ax)\n",
    "ax.set_xlabel('Feature Importance')\n",
    "ax.set_title('XGB Regressor: Feature Importances')\n",
    "plt.show()"
   ]
  },
  {
   "cell_type": "markdown",
   "metadata": {
    "cell_style": "center",
    "slideshow": {
     "slide_type": "slide"
    }
   },
   "source": [
    "Exact same with classification:\n",
    "- XGBClassifier()\n",
    "- basically same hyperparameters\n",
    "- just different objective function\n"
   ]
  },
  {
   "cell_type": "markdown",
   "metadata": {
    "cell_style": "center",
    "slideshow": {
     "slide_type": "slide"
    }
   },
   "source": [
    "#### Gradient boosting\n",
    "\n",
    "- Needs tuning\n",
    "- But extremely fast and effective (as has been seen)\n",
    "- Along with random forest: workhorse of classification/regression in many professional workflows."
   ]
  }
 ],
 "metadata": {
  "celltoolbar": "Slideshow",
  "kernelspec": {
   "display_name": "Python 3 (ipykernel)",
   "language": "python",
   "name": "python3"
  },
  "language_info": {
   "codemirror_mode": {
    "name": "ipython",
    "version": 3
   },
   "file_extension": ".py",
   "mimetype": "text/x-python",
   "name": "python",
   "nbconvert_exporter": "python",
   "pygments_lexer": "ipython3",
   "version": "3.9.12"
  }
 },
 "nbformat": 4,
 "nbformat_minor": 2
}
