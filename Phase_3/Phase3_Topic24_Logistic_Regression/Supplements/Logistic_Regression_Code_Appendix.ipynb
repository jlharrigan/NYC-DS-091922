{
 "cells": [
  {
   "cell_type": "markdown",
   "id": "ce1b38b8",
   "metadata": {},
   "source": [
    "# Logistic Regression Code Appendix\n",
    "\n",
    "Resources: https://scikit-learn.org/stable/modules/generated/sklearn.linear_model.LogisticRegression.html\n",
    "\n",
    "Python Code:\n",
    "\n",
    "``` Python\n",
    "# Import dependency\n",
    "from sklearn.linear_model import LogisticRegression\n",
    "\n",
    "# Create the logistic regression object\n",
    "log = LogisticRegression()\n",
    "\n",
    "# Train the logistic regression model\n",
    "clf = log.fit(X, y)\n",
    "\n",
    "# Predict the target class based on p > 0.5 criteria\n",
    "clf.predict(X)\n",
    "\n",
    "# Predict the probability with the training data set\n",
    "clf.predict_proba(X)\n",
    "\n",
    "# Calculate the model fit\n",
    "clf.score(X, y)\n",
    "```"
   ]
  },
  {
   "cell_type": "code",
<<<<<<< HEAD
   "execution_count": 40,
=======
   "execution_count": 2,
>>>>>>> upstream/main
   "id": "fcf99089",
   "metadata": {},
   "outputs": [],
   "source": [
    "import pandas as pd\n",
    "import numpy as numpy\n",
    "from sklearn.linear_model import LogisticRegression"
   ]
  },
  {
   "cell_type": "code",
<<<<<<< HEAD
   "execution_count": 41,
=======
   "execution_count": 3,
>>>>>>> upstream/main
   "id": "5b8776d9",
   "metadata": {},
   "outputs": [
    {
     "data": {
      "text/html": [
       "<div>\n",
       "<style scoped>\n",
       "    .dataframe tbody tr th:only-of-type {\n",
       "        vertical-align: middle;\n",
       "    }\n",
       "\n",
       "    .dataframe tbody tr th {\n",
       "        vertical-align: top;\n",
       "    }\n",
       "\n",
       "    .dataframe thead th {\n",
       "        text-align: right;\n",
       "    }\n",
       "</style>\n",
       "<table border=\"1\" class=\"dataframe\">\n",
       "  <thead>\n",
       "    <tr style=\"text-align: right;\">\n",
       "      <th></th>\n",
       "      <th>Rating</th>\n",
       "      <th>CostPerSlice</th>\n",
       "      <th>HeatSource</th>\n",
       "      <th>BrickOven</th>\n",
       "      <th>Neighborhood</th>\n",
       "    </tr>\n",
       "  </thead>\n",
       "  <tbody>\n",
       "    <tr>\n",
       "      <th>0</th>\n",
       "      <td>0.03</td>\n",
       "      <td>1.75</td>\n",
       "      <td>Gas</td>\n",
       "      <td>False</td>\n",
       "      <td>LittleItaly</td>\n",
       "    </tr>\n",
       "    <tr>\n",
       "      <th>1</th>\n",
       "      <td>4.89</td>\n",
       "      <td>2.75</td>\n",
       "      <td>Coal</td>\n",
       "      <td>True</td>\n",
       "      <td>SoHo</td>\n",
       "    </tr>\n",
       "    <tr>\n",
       "      <th>2</th>\n",
       "      <td>4.73</td>\n",
       "      <td>4.00</td>\n",
       "      <td>Wood</td>\n",
       "      <td>True</td>\n",
       "      <td>LittleItaly</td>\n",
       "    </tr>\n",
       "    <tr>\n",
       "      <th>3</th>\n",
       "      <td>0.13</td>\n",
       "      <td>1.75</td>\n",
       "      <td>Gas</td>\n",
       "      <td>False</td>\n",
       "      <td>LittleItaly</td>\n",
       "    </tr>\n",
       "    <tr>\n",
       "      <th>4</th>\n",
       "      <td>2.45</td>\n",
       "      <td>2.25</td>\n",
       "      <td>Wood</td>\n",
       "      <td>True</td>\n",
       "      <td>Chinatown</td>\n",
       "    </tr>\n",
       "  </tbody>\n",
       "</table>\n",
       "</div>"
      ],
      "text/plain": [
       "   Rating  CostPerSlice HeatSource BrickOven Neighborhood\n",
       "0    0.03          1.75        Gas     False  LittleItaly\n",
       "1    4.89          2.75       Coal      True         SoHo\n",
       "2    4.73          4.00       Wood      True  LittleItaly\n",
       "3    0.13          1.75        Gas     False  LittleItaly\n",
       "4    2.45          2.25       Wood      True    Chinatown"
      ]
     },
<<<<<<< HEAD
     "execution_count": 41,
=======
     "execution_count": 3,
>>>>>>> upstream/main
     "metadata": {},
     "output_type": "execute_result"
    }
   ],
   "source": [
    "# Loading the fake pizza dataset from the web\n",
    "pizza = pd.read_csv('https://jaredlander.com/data/Fake%20Pizza%20Data.csv')\n",
    "pizza.head()"
   ]
  },
  {
   "cell_type": "code",
<<<<<<< HEAD
   "execution_count": 46,
=======
   "execution_count": 6,
   "id": "0a2b71a5",
   "metadata": {},
   "outputs": [],
   "source": [
    "from sklearn.preprocessing import LabelEncoder"
   ]
  },
  {
   "cell_type": "code",
   "execution_count": 9,
   "id": "78bc8ad1",
   "metadata": {},
   "outputs": [],
   "source": [
    "enc = LabelEncoder()\n",
    "pizza[\"BrickOven\"] = enc.fit_transform(pizza[\"BrickOven\"])"
   ]
  },
  {
   "cell_type": "code",
   "execution_count": 10,
   "id": "13d5a1d8",
   "metadata": {},
   "outputs": [
    {
     "data": {
      "text/html": [
       "<div>\n",
       "<style scoped>\n",
       "    .dataframe tbody tr th:only-of-type {\n",
       "        vertical-align: middle;\n",
       "    }\n",
       "\n",
       "    .dataframe tbody tr th {\n",
       "        vertical-align: top;\n",
       "    }\n",
       "\n",
       "    .dataframe thead th {\n",
       "        text-align: right;\n",
       "    }\n",
       "</style>\n",
       "<table border=\"1\" class=\"dataframe\">\n",
       "  <thead>\n",
       "    <tr style=\"text-align: right;\">\n",
       "      <th></th>\n",
       "      <th>Rating</th>\n",
       "      <th>CostPerSlice</th>\n",
       "      <th>HeatSource</th>\n",
       "      <th>BrickOven</th>\n",
       "      <th>Neighborhood</th>\n",
       "    </tr>\n",
       "  </thead>\n",
       "  <tbody>\n",
       "    <tr>\n",
       "      <th>0</th>\n",
       "      <td>0.03</td>\n",
       "      <td>1.75</td>\n",
       "      <td>Gas</td>\n",
       "      <td>0</td>\n",
       "      <td>LittleItaly</td>\n",
       "    </tr>\n",
       "    <tr>\n",
       "      <th>1</th>\n",
       "      <td>4.89</td>\n",
       "      <td>2.75</td>\n",
       "      <td>Coal</td>\n",
       "      <td>1</td>\n",
       "      <td>SoHo</td>\n",
       "    </tr>\n",
       "    <tr>\n",
       "      <th>2</th>\n",
       "      <td>4.73</td>\n",
       "      <td>4.00</td>\n",
       "      <td>Wood</td>\n",
       "      <td>1</td>\n",
       "      <td>LittleItaly</td>\n",
       "    </tr>\n",
       "    <tr>\n",
       "      <th>3</th>\n",
       "      <td>0.13</td>\n",
       "      <td>1.75</td>\n",
       "      <td>Gas</td>\n",
       "      <td>0</td>\n",
       "      <td>LittleItaly</td>\n",
       "    </tr>\n",
       "    <tr>\n",
       "      <th>4</th>\n",
       "      <td>2.45</td>\n",
       "      <td>2.25</td>\n",
       "      <td>Wood</td>\n",
       "      <td>1</td>\n",
       "      <td>Chinatown</td>\n",
       "    </tr>\n",
       "  </tbody>\n",
       "</table>\n",
       "</div>"
      ],
      "text/plain": [
       "   Rating  CostPerSlice HeatSource  BrickOven Neighborhood\n",
       "0    0.03          1.75        Gas          0  LittleItaly\n",
       "1    4.89          2.75       Coal          1         SoHo\n",
       "2    4.73          4.00       Wood          1  LittleItaly\n",
       "3    0.13          1.75        Gas          0  LittleItaly\n",
       "4    2.45          2.25       Wood          1    Chinatown"
      ]
     },
     "execution_count": 10,
     "metadata": {},
     "output_type": "execute_result"
    }
   ],
   "source": [
    "pizza.head()"
   ]
  },
  {
   "cell_type": "code",
   "execution_count": 14,
   "id": "f1c0460b",
   "metadata": {},
   "outputs": [],
   "source": [
    "pizza.dropna(inplace = True)"
   ]
  },
  {
   "cell_type": "code",
   "execution_count": 22,
>>>>>>> upstream/main
   "id": "0ab3a037",
   "metadata": {},
   "outputs": [
    {
     "name": "stderr",
     "output_type": "stream",
     "text": [
      "C:\\Users\\jackl\\AppData\\Local\\Temp\\ipykernel_21568\\688975101.py:4: SettingWithCopyWarning: \n",
      "A value is trying to be set on a copy of a slice from a DataFrame\n",
      "\n",
      "See the caveats in the documentation: https://pandas.pydata.org/pandas-docs/stable/user_guide/indexing.html#returning-a-view-versus-a-copy\n",
      "  X.dropna(inplace=True)\n"
     ]
    }
   ],
   "source": [
    "# Prepare data for model\n",
<<<<<<< HEAD
    "y = pizza['BrickOven'].map({False:0, True:1})\n",
    "X = pizza[['Rating']]\n",
    "X.dropna(inplace=True)\n",
    "y.dropna(inplace=True)"
=======
    "y = pizza['BrickOven']\n",
    "X = pizza[['Rating']]"
>>>>>>> upstream/main
   ]
  },
  {
   "cell_type": "code",
<<<<<<< HEAD
   "execution_count": 71,
=======
   "execution_count": 23,
   "id": "a5776d7d",
   "metadata": {},
   "outputs": [
    {
     "data": {
      "text/plain": [
       "(200, 1)"
      ]
     },
     "execution_count": 23,
     "metadata": {},
     "output_type": "execute_result"
    }
   ],
   "source": [
    "X.shape"
   ]
  },
  {
   "cell_type": "code",
   "execution_count": 24,
   "id": "73e00292",
   "metadata": {},
   "outputs": [],
   "source": [
    "from sklearn.model_selection import train_test_split, cross_validate"
   ]
  },
  {
   "cell_type": "code",
   "execution_count": 25,
   "id": "a7647c60",
   "metadata": {},
   "outputs": [],
   "source": [
    "X_train, X_test, y_train, y_test = train_test_split(X, y, test_size=0.2, random_state=27)"
   ]
  },
  {
   "cell_type": "code",
   "execution_count": 27,
   "id": "7c0edb5c",
   "metadata": {},
   "outputs": [],
   "source": [
    "from sklearn.preprocessing import StandardScaler\n",
    "\n",
    "ss= StandardScaler()\n",
    "X_train = ss.fit_transform(X_train)\n",
    "X_test = ss.transform(X_test)"
   ]
  },
  {
   "cell_type": "code",
   "execution_count": 18,
   "id": "acfa71a3",
   "metadata": {},
   "outputs": [],
   "source": [
    "from sklearn.linear_model import LogisticRegression"
   ]
  },
  {
   "cell_type": "code",
   "execution_count": 34,
>>>>>>> upstream/main
   "id": "664e03b7",
   "metadata": {},
   "outputs": [
    {
     "data": {
      "text/plain": [
       "LogisticRegression(penalty='l1', solver='liblinear')"
      ]
     },
     "execution_count": 34,
     "metadata": {},
     "output_type": "execute_result"
    }
   ],
   "source": [
<<<<<<< HEAD
    "# Create the logistic regression object\n",
    "# Import dependency\n",
    "from sklearn.linear_model import LogisticRegression\n",
    "from sklearn.preprocessing import StandardScaler\n",
    "\n",
    "ss = StandardScaler()\n",
    "ss.fit(X)\n",
    "x_stand = pd.DataFrame(ss.transform(X), columns = X.columns, index = X.index)\n",
    "\n",
    "# Create the logistic regression object\n",
    "log = LogisticRegression()"
=======
    "log = LogisticRegression(penalty ='l1', solver = 'liblinear')\n",
    "log.fit(X_train, y_train)\n"
>>>>>>> upstream/main
   ]
  },
  {
   "cell_type": "code",
<<<<<<< HEAD
   "execution_count": 48,
   "id": "86c752f6",
   "metadata": {},
   "outputs": [
    {
     "data": {
      "text/plain": [
       "0"
      ]
     },
     "execution_count": 48,
     "metadata": {},
     "output_type": "execute_result"
    }
   ],
   "source": [
    "y.isna().sum()"
   ]
  },
  {
   "cell_type": "code",
   "execution_count": 73,
=======
   "execution_count": 35,
>>>>>>> upstream/main
   "id": "4f79ab4a",
   "metadata": {},
   "outputs": [
    {
     "data": {
      "text/plain": [
       "array([0, 0, 0, 0, 0, 0, 0, 0, 0, 0, 0, 0, 0, 0, 0, 0, 0, 0, 0, 0, 0, 0,\n",
       "       0, 0, 0, 0, 0, 0, 0, 0, 0, 0, 0, 0, 0, 0, 0, 0, 0, 0])"
      ]
     },
     "execution_count": 35,
     "metadata": {},
     "output_type": "execute_result"
    }
   ],
   "source": [
    "# Train the model\n",
<<<<<<< HEAD
    "\n",
    "# Train the logistic regression model\n",
    "clf = log.fit(x_stand, y)"
=======
    "log.predict(X_test)"
>>>>>>> upstream/main
   ]
  },
  {
   "cell_type": "code",
   "execution_count": 74,
   "id": "f50193d6",
   "metadata": {},
   "outputs": [
    {
     "data": {
      "text/plain": [
       "array([0., 0., 0., 0., 0., 0., 0., 0., 0., 0., 0., 0., 0., 0., 0., 0., 0.,\n",
       "       0., 0., 0., 0., 0., 0., 0., 0., 0., 0., 0., 0., 0., 0., 0., 0., 0.,\n",
       "       0., 0., 0., 0., 0., 0., 0., 0., 0., 0., 0., 0., 0., 0., 0., 0., 0.,\n",
       "       0., 0., 0., 0., 0., 0., 0., 0., 0., 0., 0., 0., 0., 0., 0., 0., 0.,\n",
       "       0., 0., 0., 0., 0., 0., 0., 0., 0., 0., 0., 0., 0., 0., 0., 0., 0.,\n",
       "       0., 0., 0., 0., 0., 0., 0., 0., 0., 0., 0., 0., 0., 0., 0., 0., 0.,\n",
       "       0., 0., 0., 0., 0., 0., 0., 0., 0., 0., 0., 0., 0., 0., 0., 0., 0.,\n",
       "       0., 0., 0., 0., 0., 0., 0., 0., 0., 0., 0., 0., 0., 0., 0., 0., 0.,\n",
       "       0., 0., 0., 0., 0., 0., 0., 0., 0., 0., 0., 0., 0., 0., 0., 0., 0.,\n",
       "       0., 0., 0., 0., 0., 0., 0., 0., 0., 0., 0., 0., 0., 0., 0., 0., 0.,\n",
       "       0., 0., 0., 0., 0., 0., 0., 0., 0., 0., 0., 0., 0., 0., 0., 0., 0.,\n",
       "       0., 0., 0., 0., 0., 0., 0., 0., 0., 0., 0., 0., 0.])"
      ]
     },
     "execution_count": 74,
     "metadata": {},
     "output_type": "execute_result"
    }
   ],
   "source": [
<<<<<<< HEAD
    "# Predict the class of the target\n",
    "\n",
    "# Predict the target class based on p > 0.5 criteria\n",
    "#clf.predict(pizza['Rating'][0].reshape(1, -1))\n",
    "clf.predict(X)"
   ]
  },
  {
   "cell_type": "code",
   "execution_count": 75,
   "id": "c2484f3a",
   "metadata": {},
   "outputs": [
    {
     "data": {
      "text/plain": [
       "array([[0.65974908, 0.34025092],\n",
       "       [0.50721777, 0.49278223],\n",
       "       [0.51242808, 0.48757192],\n",
       "       [0.65681783, 0.34318217],\n",
       "       [0.58584811, 0.41415189],\n",
       "       [0.5036347 , 0.4963653 ],\n",
       "       [0.5804632 , 0.4195368 ],\n",
       "       [0.52381467, 0.47618533],\n",
       "       [0.5260894 , 0.4739106 ],\n",
       "       [0.6571115 , 0.3428885 ],\n",
       "       [0.53323107, 0.46676893],\n",
       "       [0.65180726, 0.34819274],\n",
       "       [0.50786917, 0.49213083],\n",
       "       [0.50428621, 0.49571379],\n",
       "       [0.50396046, 0.49603954],\n",
       "       [0.51307921, 0.48692079],\n",
       "       [0.50624063, 0.49375937],\n",
       "       [0.65623014, 0.34376986],\n",
       "       [0.50396046, 0.49603954],\n",
       "       [0.51210251, 0.48789749],\n",
       "       [0.6449746 , 0.3550254 ],\n",
       "       [0.50852054, 0.49147946],\n",
       "       [0.65446418, 0.34553582],\n",
       "       [0.50526344, 0.49473656],\n",
       "       [0.50396046, 0.49603954],\n",
       "       [0.54230043, 0.45769957],\n",
       "       [0.5049377 , 0.4950623 ],\n",
       "       [0.5036347 , 0.4963653 ],\n",
       "       [0.65151146, 0.34848854],\n",
       "       [0.50526344, 0.49473656],\n",
       "       [0.51145132, 0.48854868],\n",
       "       [0.51177692, 0.48822308],\n",
       "       [0.57505907, 0.42494093],\n",
       "       [0.51210251, 0.48789749],\n",
       "       [0.51047447, 0.48952553],\n",
       "       [0.65857803, 0.34142197],\n",
       "       [0.51307921, 0.48692079],\n",
       "       [0.5108001 , 0.4891999 ],\n",
       "       [0.56643954, 0.43356046],\n",
       "       [0.50721777, 0.49278223],\n",
       "       [0.50396046, 0.49603954],\n",
       "       [0.63295105, 0.36704895],\n",
       "       [0.50852054, 0.49147946],\n",
       "       [0.59467224, 0.40532776],\n",
       "       [0.5036347 , 0.4963653 ],\n",
       "       [0.6449746 , 0.3550254 ],\n",
       "       [0.6553477 , 0.3446523 ],\n",
       "       [0.51633411, 0.48366589],\n",
       "       [0.65799178, 0.34200822],\n",
       "       [0.52511465, 0.47488535],\n",
       "       [0.50558917, 0.49441083],\n",
       "       [0.50624063, 0.49375937],\n",
       "       [0.6338588 , 0.3661412 ],\n",
       "       [0.6571115 , 0.3428885 ],\n",
       "       [0.62839827, 0.37160173],\n",
       "       [0.50624063, 0.49375937],\n",
       "       [0.60031314, 0.39968686],\n",
       "       [0.55938612, 0.44061388],\n",
       "       [0.65828497, 0.34171503],\n",
       "       [0.51373028, 0.48626972],\n",
       "       [0.5260894 , 0.4739106 ],\n",
       "       [0.52348963, 0.47651037],\n",
       "       [0.5059149 , 0.4940851 ],\n",
       "       [0.62412832, 0.37587168],\n",
       "       [0.56739935, 0.43260065],\n",
       "       [0.53452818, 0.46547182],\n",
       "       [0.55777962, 0.44222038],\n",
       "       [0.58394982, 0.41605018],\n",
       "       [0.54456363, 0.45543637],\n",
       "       [0.55874367, 0.44125633],\n",
       "       [0.54424042, 0.45575958],\n",
       "       [0.5049377 , 0.4950623 ],\n",
       "       [0.5049377 , 0.4950623 ],\n",
       "       [0.5059149 , 0.4940851 ],\n",
       "       [0.5108001 , 0.4891999 ],\n",
       "       [0.50396046, 0.49603954],\n",
       "       [0.65974908, 0.34025092],\n",
       "       [0.50721777, 0.49278223],\n",
       "       [0.54132994, 0.45867006],\n",
       "       [0.61676364, 0.38323636],\n",
       "       [0.6170716 , 0.3829284 ],\n",
       "       [0.60031314, 0.39968686],\n",
       "       [0.6183025 , 0.3816975 ],\n",
       "       [0.51926234, 0.48073766],\n",
       "       [0.5108001 , 0.4891999 ],\n",
       "       [0.5108001 , 0.4891999 ],\n",
       "       [0.53096006, 0.46903994],\n",
       "       [0.51665953, 0.48334047],\n",
       "       [0.5864803 , 0.4135197 ],\n",
       "       [0.65887097, 0.34112903],\n",
       "       [0.51893705, 0.48106295],\n",
       "       [0.51893705, 0.48106295],\n",
       "       [0.64467615, 0.35532385],\n",
       "       [0.59843571, 0.40156429],\n",
       "       [0.50689206, 0.49310794],\n",
       "       [0.58014583, 0.41985417],\n",
       "       [0.63687773, 0.36312227],\n",
       "       [0.5036347 , 0.4963653 ],\n",
       "       [0.64795278, 0.35204722],\n",
       "       [0.62106646, 0.37893354],\n",
       "       [0.50786917, 0.49213083],\n",
       "       [0.59718249, 0.40281751],\n",
       "       [0.64884401, 0.35115599],\n",
       "       [0.53355539, 0.46644461],\n",
       "       [0.6380823 , 0.3619177 ],\n",
       "       [0.51014884, 0.48985116],\n",
       "       [0.59686898, 0.40313102],\n",
       "       [0.52316457, 0.47683543],\n",
       "       [0.5108001 , 0.4891999 ],\n",
       "       [0.5049377 , 0.4950623 ],\n",
       "       [0.52771355, 0.47228645],\n",
       "       [0.53517656, 0.46482344],\n",
       "       [0.55745817, 0.44254183],\n",
       "       [0.64407893, 0.35592107],\n",
       "       [0.52966176, 0.47033824],\n",
       "       [0.57728655, 0.42271345],\n",
       "       [0.54553301, 0.45446699],\n",
       "       [0.65151146, 0.34848854],\n",
       "       [0.50982319, 0.49017681],\n",
       "       [0.60405911, 0.39594089],\n",
       "       [0.50689206, 0.49310794],\n",
       "       [0.63506765, 0.36493235],\n",
       "       [0.63748023, 0.36251977],\n",
       "       [0.50917188, 0.49082812],\n",
       "       [0.52251438, 0.47748562],\n",
       "       [0.62839827, 0.37160173],\n",
       "       [0.51861173, 0.48138827],\n",
       "       [0.58900622, 0.41099378],\n",
       "       [0.54714789, 0.45285211],\n",
       "       [0.64646511, 0.35353489],\n",
       "       [0.60903474, 0.39096526],\n",
       "       [0.50884622, 0.49115378],\n",
       "       [0.64288315, 0.35711685],\n",
       "       [0.53582482, 0.46417518],\n",
       "       [0.51535777, 0.48464223],\n",
       "       [0.57091429, 0.42908571],\n",
       "       [0.63536959, 0.36463041],\n",
       "       [0.65593611, 0.34406389],\n",
       "       [0.50852054, 0.49147946],\n",
       "       [0.62504496, 0.37495504],\n",
       "       [0.65387458, 0.34612542],\n",
       "       [0.5763323 , 0.4236677 ],\n",
       "       [0.50428621, 0.49571379],\n",
       "       [0.50624063, 0.49375937],\n",
       "       [0.55970728, 0.44029272],\n",
       "       [0.51014884, 0.48985116],\n",
       "       [0.51112571, 0.48887429],\n",
       "       [0.50526344, 0.49473656],\n",
       "       [0.5049377 , 0.4950623 ],\n",
       "       [0.65180726, 0.34819274],\n",
       "       [0.63657632, 0.36342368],\n",
       "       [0.5049377 , 0.4950623 ],\n",
       "       [0.50624063, 0.49375937],\n",
       "       [0.50396046, 0.49603954],\n",
       "       [0.63838318, 0.36161682],\n",
       "       [0.54714789, 0.45285211],\n",
       "       [0.55488488, 0.44511512],\n",
       "       [0.50396046, 0.49603954],\n",
       "       [0.51177692, 0.48822308],\n",
       "       [0.5108001 , 0.4891999 ],\n",
       "       [0.56835866, 0.43164134],\n",
       "       [0.61768724, 0.38231276],\n",
       "       [0.5059149 , 0.4940851 ],\n",
       "       [0.65032708, 0.34967292],\n",
       "       [0.60779292, 0.39220708],\n",
       "       [0.53679699, 0.46320301],\n",
       "       [0.61151415, 0.38848585],\n",
       "       [0.50396046, 0.49603954],\n",
       "       [0.50819486, 0.49180514],\n",
       "       [0.55745817, 0.44254183],\n",
       "       [0.6497342 , 0.3502658 ],\n",
       "       [0.54811634, 0.45188366],\n",
       "       [0.54165347, 0.45834653],\n",
       "       [0.50396046, 0.49603954],\n",
       "       [0.55713668, 0.44286332],\n",
       "       [0.53323107, 0.46676893],\n",
       "       [0.50754347, 0.49245653],\n",
       "       [0.50949754, 0.49050246],\n",
       "       [0.50396046, 0.49603954],\n",
       "       [0.65564196, 0.34435804],\n",
       "       [0.50656635, 0.49343365],\n",
       "       [0.6571115 , 0.3428885 ],\n",
       "       [0.54003548, 0.45996452],\n",
       "       [0.6265707 , 0.3734293 ],\n",
       "       [0.60249975, 0.39750025],\n",
       "       [0.60779292, 0.39220708],\n",
       "       [0.53063552, 0.46936448],\n",
       "       [0.64138591, 0.35861409],\n",
       "       [0.5049377 , 0.4950623 ],\n",
       "       [0.5241397 , 0.4758603 ],\n",
       "       [0.53323107, 0.46676893],\n",
       "       [0.50558917, 0.49441083],\n",
       "       [0.53225794, 0.46774206],\n",
       "       [0.54617908, 0.45382092],\n",
       "       [0.56387762, 0.43612238],\n",
       "       [0.63446343, 0.36553657],\n",
       "       [0.52738877, 0.47261123],\n",
       "       [0.55037462, 0.44962538],\n",
       "       [0.64078624, 0.35921376],\n",
       "       [0.50526344, 0.49473656]])"
      ]
     },
     "execution_count": 75,
     "metadata": {},
     "output_type": "execute_result"
    }
   ],
   "source": [
    "# Predict the probability of the target\n",
    "clf.predict_proba(X)"
   ]
  },
  {
   "cell_type": "code",
   "execution_count": 80,
   "id": "1fafb6a5",
   "metadata": {},
   "outputs": [
    {
     "data": {
      "text/plain": [
       "0.6390842086196556"
      ]
     },
     "execution_count": 80,
     "metadata": {},
     "output_type": "execute_result"
    }
   ],
   "source": [
    "from sklearn.metrics import log_loss\n",
    "log_loss(y, clf.predict_proba(x_stand)[:,1])`"
   ]
  },
  {
   "cell_type": "code",
   "execution_count": 81,
   "id": "33a0f194",
   "metadata": {},
   "outputs": [
    {
     "data": {
      "text/plain": [
       "0.66"
      ]
     },
     "execution_count": 81,
     "metadata": {},
     "output_type": "execute_result"
    }
   ],
   "source": [
    "clf.score(x_stand, y)"
=======
    "# Predict the class of the targe"
>>>>>>> upstream/main
   ]
  },
  {
   "cell_type": "code",
   "execution_count": null,
   "id": "e99e63e4",
   "metadata": {},
   "outputs": [],
   "source": []
  }
 ],
 "metadata": {
  "hide_input": false,
  "kernelspec": {
   "display_name": "dplearn",
   "language": "python",
   "name": "dplearn"
  },
  "language_info": {
   "codemirror_mode": {
    "name": "ipython",
    "version": 3
   },
   "file_extension": ".py",
   "mimetype": "text/x-python",
   "name": "python",
   "nbconvert_exporter": "python",
   "pygments_lexer": "ipython3",
<<<<<<< HEAD
   "version": "3.9.12"
=======
   "version": "3.7.5"
>>>>>>> upstream/main
  },
  "latex_envs": {
   "LaTeX_envs_menu_present": true,
   "autoclose": false,
   "autocomplete": true,
   "bibliofile": "biblio.bib",
   "cite_by": "apalike",
   "current_citInitial": 1,
   "eqLabelWithNumbers": true,
   "eqNumInitial": 1,
   "hotkeys": {
    "equation": "Ctrl-E",
    "itemize": "Ctrl-I"
   },
   "labels_anchors": false,
   "latex_user_defs": false,
   "report_style_numbering": false,
   "user_envs_cfg": false
  },
  "nbTranslate": {
   "displayLangs": [
    "*"
   ],
   "hotkey": "alt-t",
   "langInMainMenu": true,
   "sourceLang": "en",
   "targetLang": "fr",
   "useGoogleTranslate": true
  },
  "toc": {
   "base_numbering": 1,
   "nav_menu": {},
   "number_sections": true,
   "sideBar": true,
   "skip_h1_title": false,
   "title_cell": "Table of Contents",
   "title_sidebar": "Contents",
   "toc_cell": false,
   "toc_position": {},
   "toc_section_display": true,
   "toc_window_display": false
  }
 },
 "nbformat": 4,
 "nbformat_minor": 5
}
