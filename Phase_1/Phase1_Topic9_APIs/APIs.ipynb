{
 "cells": [
  {
   "cell_type": "markdown",
   "metadata": {
    "cell_style": "center",
    "slideshow": {
     "slide_type": "slide"
    }
   },
   "source": [
    "<div style=\"color:white;\n",
    "           display:fill;\n",
    "           border-radius:5px;\n",
    "           background-color:#5642C5;\n",
    "           font-size:200%;\n",
    "           font-family:Arial;letter-spacing:0.5px\">\n",
    "\n",
    "<p width = 20%, style=\"padding: 10px;\n",
    "              color:white;\">\n",
    "APIs\n",
    "              \n",
    "</p>\n",
    "</div>\n",
    "\n",
    "Data Science Cohort Live NYC Sept 2022\n",
    "<p>Phase 1: Topic 9</p>\n",
    "<br>\n",
    "<br>\n",
    "\n",
    "<div align = \"right\">\n",
    "<img src=\"Images/flatiron-school-logo.png\" align = \"right\" width=\"200\"/>\n",
    "</div>\n",
    "    \n",
    "   "
   ]
  },
  {
   "cell_type": "markdown",
   "metadata": {
    "slideshow": {
     "slide_type": "slide"
    }
   },
   "source": [
    "API, in this context:\n",
    "\n",
    "<div>\n",
    "<center><img src=\"Images/api.png\" width=\"700\"/></center>\n",
    "</div>"
   ]
  },
  {
   "cell_type": "markdown",
   "metadata": {
    "slideshow": {
     "slide_type": "slide"
    }
   },
   "source": [
    "Send request/recieve response (HTTP)\n",
    "\n",
    "<div>\n",
    "<center><img src=\"Images/http_method.png\" width=\"600\"/></center>\n",
    "</div>\n",
    "\n",
    "Can get response back and interpret in various forms:\n",
    "- JSON\n",
    "- XML\n",
    "- Raw text\n",
    "- etc"
   ]
  },
  {
   "cell_type": "markdown",
   "metadata": {
    "slideshow": {
     "slide_type": "slide"
    }
   },
   "source": [
    "A fictitious database accessed via HTTP:\n",
    "\n",
    "https://www.mypetfun.com/db/api\n",
    "\n",
    "<div>\n",
    "<center><img src=\"Images/http_methods.png\" width=\"500\"/></center>\n",
    "</div>\n",
    "\n"
   ]
  },
  {
   "cell_type": "markdown",
   "metadata": {
    "slideshow": {
     "slide_type": "slide"
    }
   },
   "source": [
    "More technically:\n",
    "\n",
    "\n",
    "<div>\n",
    "<center><img src=\"Images/technical_HTTP_methods.jpeg\" width=\"500\"/></center>\n",
    "</div>\n"
   ]
  },
  {
   "cell_type": "markdown",
   "metadata": {
    "slideshow": {
     "slide_type": "slide"
    }
   },
   "source": [
    "Requested data via HTTP might look like this:\n",
    "\n",
    "<br>\n",
    "<br>\n",
    "<div>\n",
    "<center><img src=\"Images/html_request.png\" width=\"500\"/></center>\n",
    "</div>"
   ]
  },
  {
   "cell_type": "markdown",
   "metadata": {
    "slideshow": {
     "slide_type": "slide"
    }
   },
   "source": [
    "This is HTML + CSS. Will see how to parse this next lecture."
   ]
  },
  {
   "cell_type": "markdown",
   "metadata": {
    "slideshow": {
     "slide_type": "slide"
    }
   },
   "source": [
    "Requested data via HTTP might also look like this:\n",
    "\n",
    "<br>\n",
    "<br>\n",
    "<div>\n",
    "<center><img src=\"Images/request_json.png\" width=\"700\"/></center>\n",
    "</div>\n"
   ]
  },
  {
   "cell_type": "markdown",
   "metadata": {
    "slideshow": {
     "slide_type": "fragment"
    }
   },
   "source": [
    "Content looks like JSON!"
   ]
  },
  {
   "cell_type": "markdown",
   "metadata": {
    "slideshow": {
     "slide_type": "slide"
    }
   },
   "source": [
    "\n",
    "In general: \n",
    "- Want to submit HTTP commands.\n",
    "- Interact with API and HTTP server\n",
    "- Get request/data metadata\n",
    "- Fetch/parse data into Python data structures."
   ]
  },
  {
   "cell_type": "markdown",
   "metadata": {
    "slideshow": {
     "slide_type": "slide"
    }
   },
   "source": [
    "The requests library:\n",
    "\n",
    "\n",
    "<br>\n",
    "<br>\n",
    "<div>\n",
    "<center><img src=\"Images/requests.png\" width=\"250\"/></center>\n",
    "</div>\n"
   ]
  },
  {
   "cell_type": "code",
   "execution_count": 1,
   "metadata": {
    "slideshow": {
     "slide_type": "slide"
    }
   },
   "outputs": [],
   "source": [
    "import pandas as pd\n",
    "\n",
    "# the requests package\n",
    "import requests"
   ]
  },
  {
   "cell_type": "markdown",
   "metadata": {
    "slideshow": {
     "slide_type": "slide"
    }
   },
   "source": [
    "Let's use requests to access data from APIs with public access!\n",
    "<br>\n",
    "<br>\n",
    "<div>\n",
    "<center><img src=\"Images/public_api.png\" width=\"500\"/></center>\n",
    "</div>\n",
    "\n",
    "<center>https://github.com/public-apis/public-apis</center>"
   ]
  },
  {
   "cell_type": "markdown",
   "metadata": {
    "slideshow": {
     "slide_type": "slide"
    }
   },
   "source": [
    "The Chuck Norris joke dataset!\n",
    "\n",
    "<center><img src=\"Images/chnorris_kick.png\" width=\"450\"/></center>\n",
    "\n"
   ]
  },
  {
   "cell_type": "markdown",
   "metadata": {
    "slideshow": {
     "slide_type": "slide"
    }
   },
   "source": [
    "Or this:\n",
    "\n",
    "<center><img src=\"Images/chucknorris.jpg\" width=\"450\"/></center>"
   ]
  },
  {
   "cell_type": "markdown",
   "metadata": {
    "slideshow": {
     "slide_type": "slide"
    }
   },
   "source": [
    "<div>\n",
    "<center><img src=\"Images/chucknorris_recycling.jfif\" width=\"450\"/></center>\n",
    "</div>"
   ]
  },
  {
   "cell_type": "markdown",
   "metadata": {
    "slideshow": {
     "slide_type": "slide"
    }
   },
   "source": [
    "Using the requests get method:\n",
    "\n",
    "- requests.get(url, header = __ , params = __ ) makes a get request on given url\n",
    "- An API may take in additional arguments for returning data in specific form.\n",
    "- Some require a header for authentication.\n",
    "\n",
    "\n",
    "Take a look at the documentation for the Chuck Norris API:\n",
    "\n",
    "https://api.chucknorris.io/"
   ]
  },
  {
   "cell_type": "code",
   "execution_count": 2,
   "metadata": {
    "slideshow": {
     "slide_type": "slide"
    }
   },
   "outputs": [
    {
     "data": {
      "text/plain": [
       "<Response [200]>"
      ]
     },
     "execution_count": 2,
     "metadata": {},
     "output_type": "execute_result"
    }
   ],
   "source": [
    "# get a random joke\n",
    "random_chucknorris_url = \"https://api.chucknorris.io/jokes/random\"\n",
    "r = requests.get(random_chucknorris_url)\n",
    "r"
   ]
  },
  {
   "cell_type": "code",
   "execution_count": null,
   "metadata": {},
   "outputs": [],
   "source": []
  },
  {
   "cell_type": "markdown",
   "metadata": {
    "slideshow": {
     "slide_type": "fragment"
    }
   },
   "source": [
    "This is a response object:\n",
    "- Indicates the type of HTTP response.\n",
    "- 200 = OK.\n",
    "- 400 = Error.\n",
    "\n",
    "Many more types of codes. Look it up."
   ]
  },
  {
   "cell_type": "markdown",
   "metadata": {
    "slideshow": {
     "slide_type": "slide"
    }
   },
   "source": [
    "Response object attributes and methods:\n",
    "- .status_code\n",
    "- .headers\n",
    "- .text\n",
    "- .json()"
   ]
  },
  {
   "cell_type": "markdown",
   "metadata": {
    "slideshow": {
     "slide_type": "slide"
    }
   },
   "source": [
    "#### .status_code\n",
    "\n",
    "Status code of HTTP response."
   ]
  },
  {
   "cell_type": "code",
   "execution_count": 3,
   "metadata": {
    "slideshow": {
     "slide_type": "fragment"
    }
   },
   "outputs": [
    {
     "data": {
      "text/plain": [
       "200"
      ]
     },
     "execution_count": 3,
     "metadata": {},
     "output_type": "execute_result"
    }
   ],
   "source": [
    "r.status_code"
   ]
  },
  {
   "cell_type": "markdown",
   "metadata": {
    "slideshow": {
     "slide_type": "slide"
    }
   },
   "source": [
    "#### .headers\n",
    "\n",
    "- Information about the type of content\n",
    "- Metadata about the request"
   ]
  },
  {
   "cell_type": "code",
   "execution_count": 4,
   "metadata": {
    "slideshow": {
     "slide_type": "fragment"
    }
   },
   "outputs": [
    {
     "data": {
      "text/plain": [
       "{'Date': 'Wed, 28 Sep 2022 19:25:53 GMT', 'Content-Type': 'application/json;charset=UTF-8', 'Transfer-Encoding': 'chunked', 'Connection': 'keep-alive', 'Via': '1.1 vegur', 'CF-Cache-Status': 'DYNAMIC', 'Report-To': '{\"endpoints\":[{\"url\":\"https:\\\\/\\\\/a.nel.cloudflare.com\\\\/report\\\\/v3?s=F5YdMFXl0DAvXIn8eFOVM7yGvI2islfv7Dc4JKKSGd16bY0w4ZhB8aoImBYowl3Ph46WOqkSfWX164U0Eh4JZUm2WeZTQf5gf%2FmwSMTFYik0y8JpWW3Dt8kpxsrDbG6%2BVkZx6X8%3D\"}],\"group\":\"cf-nel\",\"max_age\":604800}', 'NEL': '{\"success_fraction\":0,\"report_to\":\"cf-nel\",\"max_age\":604800}', 'Server': 'cloudflare', 'CF-RAY': '751ede14dc3d183d-EWR', 'Content-Encoding': 'gzip', 'alt-svc': 'h3=\":443\"; ma=86400, h3-29=\":443\"; ma=86400'}"
      ]
     },
     "execution_count": 4,
     "metadata": {},
     "output_type": "execute_result"
    }
   ],
   "source": [
    "r.headers"
   ]
  },
  {
   "cell_type": "markdown",
   "metadata": {
    "slideshow": {
     "slide_type": "slide"
    }
   },
   "source": [
    "#### .text\n",
    "\n",
    "- Returns fetched information\n",
    "- In pure text format: Python string"
   ]
  },
  {
   "cell_type": "code",
   "execution_count": 5,
   "metadata": {
    "slideshow": {
     "slide_type": "fragment"
    }
   },
   "outputs": [
    {
     "data": {
      "text/plain": [
       "'{\"categories\":[],\"created_at\":\"2020-01-05 13:42:27.496799\",\"icon_url\":\"https://assets.chucknorris.host/img/avatar/chuck-norris.png\",\"id\":\"tlRJKIjKR9G1di_z-kpfUg\",\"updated_at\":\"2020-01-05 13:42:27.496799\",\"url\":\"https://api.chucknorris.io/jokes/tlRJKIjKR9G1di_z-kpfUg\",\"value\":\"Do you know why Chuck Norris doesn\\'t have hair on his balls.....?????......????? because hair doesn\\'t grow on steel!\"}'"
      ]
     },
     "execution_count": 5,
     "metadata": {},
     "output_type": "execute_result"
    }
   ],
   "source": [
    "r.text"
   ]
  },
  {
   "cell_type": "markdown",
   "metadata": {
    "slideshow": {
     "slide_type": "slide"
    }
   },
   "source": [
    "#### .json()\n",
    "\n",
    "- Parses fetched info as json\n",
    "- Returns python dictionary"
   ]
  },
  {
   "cell_type": "code",
   "execution_count": 7,
   "metadata": {
    "slideshow": {
     "slide_type": "fragment"
    }
   },
   "outputs": [
    {
     "data": {
      "text/plain": [
       "{'categories': [],\n",
       " 'created_at': '2020-01-05 13:42:27.496799',\n",
       " 'icon_url': 'https://assets.chucknorris.host/img/avatar/chuck-norris.png',\n",
       " 'id': 'tlRJKIjKR9G1di_z-kpfUg',\n",
       " 'updated_at': '2020-01-05 13:42:27.496799',\n",
       " 'url': 'https://api.chucknorris.io/jokes/tlRJKIjKR9G1di_z-kpfUg',\n",
       " 'value': \"Do you know why Chuck Norris doesn't have hair on his balls.....?????......????? because hair doesn't grow on steel!\"}"
      ]
     },
     "execution_count": 7,
     "metadata": {},
     "output_type": "execute_result"
    }
   ],
   "source": [
    "r.json()"
   ]
  },
  {
   "cell_type": "markdown",
   "metadata": {
    "slideshow": {
     "slide_type": "slide"
    }
   },
   "source": [
    "#### API parameters\n",
    "- API requests will often allow additional arguments.\n",
    "- I.e. get subset of data, search database by keyword, etc."
   ]
  },
  {
   "cell_type": "code",
   "execution_count": 13,
   "metadata": {
    "slideshow": {
     "slide_type": "fragment"
    }
   },
   "outputs": [],
   "source": [
    "new_req = \"https://api.chucknorris.io/jokes/search\"\n",
    "parameters = {'query': 'snake'}\n",
    "r2 = requests.get(new_req, params = parameters)\n",
    "\n",
    "# same as just passing in \"https://api.chucknorris.io/jokes/search?query=recycle\"\n",
    "# using params dictionary much better form."
   ]
  },
  {
   "cell_type": "code",
   "execution_count": 14,
   "metadata": {
    "scrolled": false,
    "slideshow": {
     "slide_type": "fragment"
    }
   },
   "outputs": [],
   "source": [
    "query_data = r2.json()"
   ]
  },
  {
   "cell_type": "code",
   "execution_count": 15,
   "metadata": {
    "cell_style": "split",
    "slideshow": {
     "slide_type": "fragment"
    }
   },
   "outputs": [
    {
     "data": {
      "text/plain": [
       "dict_keys(['total', 'result'])"
      ]
     },
     "execution_count": 15,
     "metadata": {},
     "output_type": "execute_result"
    }
   ],
   "source": [
    "query_data.keys()"
   ]
  },
  {
   "cell_type": "code",
   "execution_count": 16,
   "metadata": {
    "cell_style": "split",
    "slideshow": {
     "slide_type": "fragment"
    }
   },
   "outputs": [
    {
     "data": {
      "text/plain": [
       "31"
      ]
     },
     "execution_count": 16,
     "metadata": {},
     "output_type": "execute_result"
    }
   ],
   "source": [
    "query_data['total']"
   ]
  },
  {
   "cell_type": "code",
   "execution_count": 17,
   "metadata": {
    "slideshow": {
     "slide_type": "slide"
    }
   },
   "outputs": [
    {
     "data": {
      "text/plain": [
       "[{'categories': ['explicit'],\n",
       "  'created_at': '2020-01-05 13:42:18.823766',\n",
       "  'icon_url': 'https://assets.chucknorris.host/img/avatar/chuck-norris.png',\n",
       "  'id': 'gs8GGfRfRAiMvmdeP2Mg9A',\n",
       "  'updated_at': '2020-01-05 13:42:18.823766',\n",
       "  'url': 'https://api.chucknorris.io/jokes/gs8GGfRfRAiMvmdeP2Mg9A',\n",
       "  'value': \"The reason the slinky was invented is because there is no condom long enough for Chuck norris's dick. It failed miserablly now he has to were a live ratlle snake as one.\"},\n",
       " {'categories': ['food'],\n",
       "  'created_at': '2020-01-05 13:42:19.104863',\n",
       "  'icon_url': 'https://assets.chucknorris.host/img/avatar/chuck-norris.png',\n",
       "  'id': 'rmippwentlkoza8wlv_vjg',\n",
       "  'updated_at': '2020-01-05 13:42:19.104863',\n",
       "  'url': 'https://api.chucknorris.io/jokes/rmippwentlkoza8wlv_vjg',\n",
       "  'value': \"Some people like to eat frogs' legs. Chuck Norris likes to eat lizard legs. Hence, snakes.\"},\n",
       " {'categories': ['food'],\n",
       "  'created_at': '2020-01-05 13:42:19.576875',\n",
       "  'icon_url': 'https://assets.chucknorris.host/img/avatar/chuck-norris.png',\n",
       "  'id': '-ojrkppmrqmwrn9e5huydq',\n",
       "  'updated_at': '2020-01-05 13:42:19.576875',\n",
       "  'url': 'https://api.chucknorris.io/jokes/-ojrkppmrqmwrn9e5huydq',\n",
       "  'value': 'Chuck Norris starts everyday with a protein shake made from Carnation Instant Breakfast, one dozen eggs, pure Colombian cocaine, and rattlesnake venom. He injects it directly into his neck with a syringe.'},\n",
       " {'categories': ['explicit'],\n",
       "  'created_at': '2020-01-05 13:42:19.576875',\n",
       "  'icon_url': 'https://assets.chucknorris.host/img/avatar/chuck-norris.png',\n",
       "  'id': 'utsf-vqksjy7gww_xoppma',\n",
       "  'updated_at': '2020-01-05 13:42:19.576875',\n",
       "  'url': 'https://api.chucknorris.io/jokes/utsf-vqksjy7gww_xoppma',\n",
       "  'value': 'Chuck Norris wears a live rattlesnake as a condom.'},\n",
       " {'categories': [],\n",
       "  'created_at': '2020-01-05 13:42:19.897976',\n",
       "  'icon_url': 'https://assets.chucknorris.host/img/avatar/chuck-norris.png',\n",
       "  'id': 'RdhIXDiOSzCn5_rc6mF6yQ',\n",
       "  'updated_at': '2020-01-05 13:42:19.897976',\n",
       "  'url': 'https://api.chucknorris.io/jokes/RdhIXDiOSzCn5_rc6mF6yQ',\n",
       "  'value': 'Chuck Norris falls in a pit with hundreds of Rattlesnakes. The next day he emerges with Rattleskin boots,belt,hat,jacket and noticeable weight gain.'},\n",
       " {'categories': [],\n",
       "  'created_at': '2020-01-05 13:42:20.568859',\n",
       "  'icon_url': 'https://assets.chucknorris.host/img/avatar/chuck-norris.png',\n",
       "  'id': '-Yfa17sHSWO5FiA1uSs6wA',\n",
       "  'updated_at': '2020-01-05 13:42:20.568859',\n",
       "  'url': 'https://api.chucknorris.io/jokes/-Yfa17sHSWO5FiA1uSs6wA',\n",
       "  'value': \"If you dare to look at Chuck Norris' snakeskin boots, you will get a case of bleeding hemorrhoids before kicks them up your ass.\"},\n",
       " {'categories': [],\n",
       "  'created_at': '2020-01-05 13:42:20.841843',\n",
       "  'icon_url': 'https://assets.chucknorris.host/img/avatar/chuck-norris.png',\n",
       "  'id': '1Q_o4vHHQPqJibBO2OnhlQ',\n",
       "  'updated_at': '2020-01-05 13:42:20.841843',\n",
       "  'url': 'https://api.chucknorris.io/jokes/1Q_o4vHHQPqJibBO2OnhlQ',\n",
       "  'value': 'Sadly, Chuck Norris\\' famous last words were: \"Watch this\". \"Watch\" meaning, \"please kindly pay attention and observe\". \"This\" meaning, \"my snakeskin boot striking your skull thereby splattering your brains upon the ceiling, wall, hallway and finely fashioned Berber carpet\".'},\n",
       " {'categories': [],\n",
       "  'created_at': '2020-01-05 13:42:21.455187',\n",
       "  'icon_url': 'https://assets.chucknorris.host/img/avatar/chuck-norris.png',\n",
       "  'id': 'ZcUKo96zTjWlRxV6rlDmhg',\n",
       "  'updated_at': '2020-01-05 13:42:21.455187',\n",
       "  'url': 'https://api.chucknorris.io/jokes/ZcUKo96zTjWlRxV6rlDmhg',\n",
       "  'value': 'Chuck Norris once fell into a pit full of rattle snakes. He emerged 10 minutes later while smartly clad in his new vest, belt and boots.'},\n",
       " {'categories': [],\n",
       "  'created_at': '2020-01-05 13:42:22.089095',\n",
       "  'icon_url': 'https://assets.chucknorris.host/img/avatar/chuck-norris.png',\n",
       "  'id': 'a7nvYk5CRjq_J2nDJY8GKA',\n",
       "  'updated_at': '2020-01-05 13:42:22.089095',\n",
       "  'url': 'https://api.chucknorris.io/jokes/a7nvYk5CRjq_J2nDJY8GKA',\n",
       "  'value': \"Medusa's hair is made of snakes. Chuck Norris's beard is made of hair-colored barbed wire. Medusa can turn you into stone by staring at you. Chuck Norris doesn't have to look at you to turn you into pulp.\"},\n",
       " {'categories': [],\n",
       "  'created_at': '2020-01-05 13:42:22.089095',\n",
       "  'icon_url': 'https://assets.chucknorris.host/img/avatar/chuck-norris.png',\n",
       "  'id': 'ilIgcOtLTmyuZ--IgOV2hQ',\n",
       "  'updated_at': '2020-01-05 13:42:22.089095',\n",
       "  'url': 'https://api.chucknorris.io/jokes/ilIgcOtLTmyuZ--IgOV2hQ',\n",
       "  'value': \"Chuck Norris' favorite Texas Chinese restaurant always serves him Snake Egg Drop Soup, Armadillo Fried Rice, Scorpion Rangoon, Moo Goo Gai Moose & Hunan Jack Rabbit.\"},\n",
       " {'categories': [],\n",
       "  'created_at': '2020-01-05 13:42:22.089095',\n",
       "  'icon_url': 'https://assets.chucknorris.host/img/avatar/chuck-norris.png',\n",
       "  'id': '7TwVjwMZSXyCkMvV0IVmXg',\n",
       "  'updated_at': '2020-01-05 13:42:22.089095',\n",
       "  'url': 'https://api.chucknorris.io/jokes/7TwVjwMZSXyCkMvV0IVmXg',\n",
       "  'value': 'Some people like to eat frog legs. Chuck Norris likes to eat lizards; hence snakes.'},\n",
       " {'categories': [],\n",
       "  'created_at': '2020-01-05 13:42:22.980058',\n",
       "  'icon_url': 'https://assets.chucknorris.host/img/avatar/chuck-norris.png',\n",
       "  'id': 'ptg5ScMoQlW4kJaLDwd7vg',\n",
       "  'updated_at': '2020-01-05 13:42:22.980058',\n",
       "  'url': 'https://api.chucknorris.io/jokes/ptg5ScMoQlW4kJaLDwd7vg',\n",
       "  'value': 'Rattlesnakes FEAR a Chuck Norris bite.'},\n",
       " {'categories': [],\n",
       "  'created_at': '2020-01-05 13:42:23.240175',\n",
       "  'icon_url': 'https://assets.chucknorris.host/img/avatar/chuck-norris.png',\n",
       "  'id': 'pe-ynqCaRFWMfRvgNCjLeg',\n",
       "  'updated_at': '2020-01-05 13:42:23.240175',\n",
       "  'url': 'https://api.chucknorris.io/jokes/pe-ynqCaRFWMfRvgNCjLeg',\n",
       "  'value': 'Some people like to eat frog legs. Chuck Norris likes to eat lizard legs. Hence, snakes.'},\n",
       " {'categories': [],\n",
       "  'created_at': '2020-01-05 13:42:23.240175',\n",
       "  'icon_url': 'https://assets.chucknorris.host/img/avatar/chuck-norris.png',\n",
       "  'id': 'xgdcWgJHSN2qt33VAf6I3Q',\n",
       "  'updated_at': '2020-01-05 13:42:23.240175',\n",
       "  'url': 'https://api.chucknorris.io/jokes/xgdcWgJHSN2qt33VAf6I3Q',\n",
       "  'value': 'Chuck Norris once used a live rattlesnake as a condom.'},\n",
       " {'categories': [],\n",
       "  'created_at': '2020-01-05 13:42:23.484083',\n",
       "  'icon_url': 'https://assets.chucknorris.host/img/avatar/chuck-norris.png',\n",
       "  'id': 'Tu_TB_5TQjyU0EdAE2P0Nw',\n",
       "  'updated_at': '2020-01-05 13:42:23.484083',\n",
       "  'url': 'https://api.chucknorris.io/jokes/Tu_TB_5TQjyU0EdAE2P0Nw',\n",
       "  'value': 'Chuck Norris is personally responsible for global warming, but it seems no one can convince him to go on a diet who actually lived to tell us if he would consider lightening his daily intake of barbecued rattlesnakes and beans.'},\n",
       " {'categories': [],\n",
       "  'created_at': '2020-01-05 13:42:23.880601',\n",
       "  'icon_url': 'https://assets.chucknorris.host/img/avatar/chuck-norris.png',\n",
       "  'id': '4_F1TB2RTm2QLcFlEqppoA',\n",
       "  'updated_at': '2020-01-05 13:42:23.880601',\n",
       "  'url': 'https://api.chucknorris.io/jokes/4_F1TB2RTm2QLcFlEqppoA',\n",
       "  'value': \"Chuck Norris' pet snake has hair on its scrotum and ingrown toenail.\"},\n",
       " {'categories': [],\n",
       "  'created_at': '2020-01-05 13:42:25.099703',\n",
       "  'icon_url': 'https://assets.chucknorris.host/img/avatar/chuck-norris.png',\n",
       "  'id': 'O-M07w1JTTWLnWBHeRk9Kg',\n",
       "  'updated_at': '2020-01-05 13:42:25.099703',\n",
       "  'url': 'https://api.chucknorris.io/jokes/O-M07w1JTTWLnWBHeRk9Kg',\n",
       "  'value': 'SNAKE PLISSKIN MAKES CHUCK NORRIS LOOK LIKE A SCHOOL GIRL BABY BACK BITCH !!!!!!'},\n",
       " {'categories': [],\n",
       "  'created_at': '2020-01-05 13:42:25.352697',\n",
       "  'icon_url': 'https://assets.chucknorris.host/img/avatar/chuck-norris.png',\n",
       "  'id': '9_AEDHt1SNez1HYbkc3kvg',\n",
       "  'updated_at': '2020-01-05 13:42:25.352697',\n",
       "  'url': 'https://api.chucknorris.io/jokes/9_AEDHt1SNez1HYbkc3kvg',\n",
       "  'value': \"Chuck Norris attended last year's Nobel Prize ceremony wearing an all-white snakeskin pimp suit with matching widebrim hat and feather.\"},\n",
       " {'categories': [],\n",
       "  'created_at': '2020-01-05 13:42:27.496799',\n",
       "  'icon_url': 'https://assets.chucknorris.host/img/avatar/chuck-norris.png',\n",
       "  'id': 'pZJIGGU4QAGxunu9gMAP2w',\n",
       "  'updated_at': '2020-01-05 13:42:27.496799',\n",
       "  'url': 'https://api.chucknorris.io/jokes/pZJIGGU4QAGxunu9gMAP2w',\n",
       "  'value': 'Hercules strangled two snakes in his crib when he was a baby. Chuck Norris strangled two elephants just mere seconds after birth using his own umbilical cord.'},\n",
       " {'categories': [],\n",
       "  'created_at': '2020-01-05 13:42:28.143137',\n",
       "  'icon_url': 'https://assets.chucknorris.host/img/avatar/chuck-norris.png',\n",
       "  'id': 'yvnMFUABS327e0KErgMC4A',\n",
       "  'updated_at': '2020-01-05 13:42:28.143137',\n",
       "  'url': 'https://api.chucknorris.io/jokes/yvnMFUABS327e0KErgMC4A',\n",
       "  'value': 'Chuck Norris was once bitten by a Rattle Snake... After 3 Days of suffering the rattle snake died!'},\n",
       " {'categories': [],\n",
       "  'created_at': '2020-01-05 13:42:28.143137',\n",
       "  'icon_url': 'https://assets.chucknorris.host/img/avatar/chuck-norris.png',\n",
       "  'id': 'jTWgZ6kHR-2lbwIduVvDkg',\n",
       "  'updated_at': '2020-01-05 13:42:28.143137',\n",
       "  'url': 'https://api.chucknorris.io/jokes/jTWgZ6kHR-2lbwIduVvDkg',\n",
       "  'value': 'Chuck Norris loves to plant tubes of springing snakes in bodies to be autopsied.'},\n",
       " {'categories': [],\n",
       "  'created_at': '2020-01-05 13:42:28.143137',\n",
       "  'icon_url': 'https://assets.chucknorris.host/img/avatar/chuck-norris.png',\n",
       "  'id': 'paGy4nE4TF6YFbU4Q30HWg',\n",
       "  'updated_at': '2020-01-05 13:42:28.143137',\n",
       "  'url': 'https://api.chucknorris.io/jokes/paGy4nE4TF6YFbU4Q30HWg',\n",
       "  'value': 'Rattlesnakes have died from Chuck Norris bites.'},\n",
       " {'categories': [],\n",
       "  'created_at': '2020-01-05 13:42:28.143137',\n",
       "  'icon_url': 'https://assets.chucknorris.host/img/avatar/chuck-norris.png',\n",
       "  'id': '0WJVY4IXRiegWwCmieRnKg',\n",
       "  'updated_at': '2020-01-05 13:42:28.143137',\n",
       "  'url': 'https://api.chucknorris.io/jokes/0WJVY4IXRiegWwCmieRnKg',\n",
       "  'value': 'Other fictional characters based on Chuck Norris: Han Solo, Boba Fett, Robocop, the T-800, the T-1000, Snake Plisskin, Dirty Harry, Conan, Jeff Lebowski, Kayser Soze, Wolverine, The Punisher, Iron Man, Walker: Texas Ranger, the Predator and Morpheus.'},\n",
       " {'categories': [],\n",
       "  'created_at': '2020-01-05 13:42:28.420821',\n",
       "  'icon_url': 'https://assets.chucknorris.host/img/avatar/chuck-norris.png',\n",
       "  'id': 'tSBWWfj-QKi4XpOk4nrAew',\n",
       "  'updated_at': '2020-01-05 13:42:28.420821',\n",
       "  'url': 'https://api.chucknorris.io/jokes/tSBWWfj-QKi4XpOk4nrAew',\n",
       "  'value': 'Chuck Norris invented bifocals so people could get a good, clear close-up look of the fine detail of his snake skin boots a mere nanosecond prior to facial impact.'},\n",
       " {'categories': [],\n",
       "  'created_at': '2020-01-05 13:42:28.420821',\n",
       "  'icon_url': 'https://assets.chucknorris.host/img/avatar/chuck-norris.png',\n",
       "  'id': '19dSBhtrQnqn7azg_eF1fw',\n",
       "  'updated_at': '2020-01-05 13:42:28.420821',\n",
       "  'url': 'https://api.chucknorris.io/jokes/19dSBhtrQnqn7azg_eF1fw',\n",
       "  'value': 'Solid Snake has a beard because Chuck Norris bit his chin an it became a fist'},\n",
       " {'categories': [],\n",
       "  'created_at': '2020-01-05 13:42:28.984661',\n",
       "  'icon_url': 'https://assets.chucknorris.host/img/avatar/chuck-norris.png',\n",
       "  'id': 'uCqkhYBkToW3TUJYsINfwA',\n",
       "  'updated_at': '2020-01-05 13:42:28.984661',\n",
       "  'url': 'https://api.chucknorris.io/jokes/uCqkhYBkToW3TUJYsINfwA',\n",
       "  'value': 'Chuck Norris can make a snake hop.'},\n",
       " {'categories': [],\n",
       "  'created_at': '2020-01-05 13:42:29.569033',\n",
       "  'icon_url': 'https://assets.chucknorris.host/img/avatar/chuck-norris.png',\n",
       "  'id': 'fhW3jCFXQhyOEKbsTPUbGg',\n",
       "  'updated_at': '2020-01-05 13:42:29.569033',\n",
       "  'url': 'https://api.chucknorris.io/jokes/fhW3jCFXQhyOEKbsTPUbGg',\n",
       "  'value': 'Chuck Norris once kicked a giraffes face to a snake. Now to this day the snake was called: \"Brontosaurus.\"'},\n",
       " {'categories': [],\n",
       "  'created_at': '2020-01-05 13:42:29.569033',\n",
       "  'icon_url': 'https://assets.chucknorris.host/img/avatar/chuck-norris.png',\n",
       "  'id': 'QGabBMfNQBuDYwjGf_W1wQ',\n",
       "  'updated_at': '2020-01-05 13:42:29.569033',\n",
       "  'url': 'https://api.chucknorris.io/jokes/QGabBMfNQBuDYwjGf_W1wQ',\n",
       "  'value': 'Chuck Norris uses his tongue can sniff out snakes. His tongue can also strangle a snake. He uses his beard to fillet the snake into bite size pieces and mixes it in with bananas to top off his bowl of Post Toasties.'},\n",
       " {'categories': ['explicit'],\n",
       "  'created_at': '2020-01-05 13:42:29.855523',\n",
       "  'icon_url': 'https://assets.chucknorris.host/img/avatar/chuck-norris.png',\n",
       "  'id': 'OSlTqFsNTPaYcnF5HRUKlw',\n",
       "  'updated_at': '2020-01-05 13:42:29.855523',\n",
       "  'url': 'https://api.chucknorris.io/jokes/OSlTqFsNTPaYcnF5HRUKlw',\n",
       "  'value': 'When Chuck Norris goes into a bar, he likes to have his whiskey mixed with a little 72 oz. steak, five bullet fired fresh from an AK 47, piss from an agitated rattle snake and a slice of lemon. He squirts the lemon juice directly in his eyes before drinking the entire thing of whiskey, yelling, \"CHUCK NORRIS HORNY!!\" and then killing everyone in the bar with his overgrown mammoth of a penis.'},\n",
       " {'categories': [],\n",
       "  'created_at': '2020-01-05 13:42:30.177068',\n",
       "  'icon_url': 'https://assets.chucknorris.host/img/avatar/chuck-norris.png',\n",
       "  'id': 'Y6-Qs6rxR1CCd-XbZpX_3g',\n",
       "  'updated_at': '2020-01-05 13:42:30.177068',\n",
       "  'url': 'https://api.chucknorris.io/jokes/Y6-Qs6rxR1CCd-XbZpX_3g',\n",
       "  'value': 'Chuck Norris does not buy snake proof boots,he puts on boots than they are snake proof'},\n",
       " {'categories': [],\n",
       "  'created_at': '2020-01-05 13:42:30.177068',\n",
       "  'icon_url': 'https://assets.chucknorris.host/img/avatar/chuck-norris.png',\n",
       "  'id': 'GkHZOlPqR1qvgondfP8pOw',\n",
       "  'updated_at': '2020-01-05 13:42:30.177068',\n",
       "  'url': 'https://api.chucknorris.io/jokes/GkHZOlPqR1qvgondfP8pOw',\n",
       "  'value': 'a king cobra once bit Chuck Norris... after 5 days of terrible pain... the snake died'}]"
      ]
     },
     "execution_count": 17,
     "metadata": {},
     "output_type": "execute_result"
    }
   ],
   "source": [
    "query_data['result']"
   ]
  },
  {
   "cell_type": "code",
   "execution_count": null,
   "metadata": {
    "slideshow": {
     "slide_type": "slide"
    }
   },
   "outputs": [],
   "source": [
    "# get me a list containing all the Chuck Norris jokes concerning roundhouse kicks.\n",
    "roundhouse_url = \"https://api.chucknorris.io/jokes/search\"\n",
    "\n",
    "params = {'query' : 'roundhouse kick'}\n",
    "\n",
    "r3 = requests.get(roundhouse_url, params)\n",
    "\n",
    "r3.json()"
   ]
  },
  {
   "cell_type": "code",
   "execution_count": 19,
   "metadata": {
    "slideshow": {
     "slide_type": "slide"
    }
   },
   "outputs": [
    {
     "data": {
      "text/plain": [
       "{'total': 11,\n",
       " 'result': [{'categories': [],\n",
       "   'created_at': '2020-01-05 13:42:19.324003',\n",
       "   'icon_url': 'https://assets.chucknorris.host/img/avatar/chuck-norris.png',\n",
       "   'id': 'Kr5SIn6qQGqaU2xit06KcQ',\n",
       "   'updated_at': '2020-01-05 13:42:19.324003',\n",
       "   'url': 'https://api.chucknorris.io/jokes/Kr5SIn6qQGqaU2xit06KcQ',\n",
       "   'value': 'Chuck Norris got bit by a cobra after 7 days of intense suffering the cobra died.'},\n",
       "  {'categories': [],\n",
       "   'created_at': '2020-01-05 13:42:19.897976',\n",
       "   'icon_url': 'https://assets.chucknorris.host/img/avatar/chuck-norris.png',\n",
       "   'id': 'UEkG9WIHRWeB_I9AJfG-og',\n",
       "   'updated_at': '2020-01-05 13:42:19.897976',\n",
       "   'url': 'https://api.chucknorris.io/jokes/UEkG9WIHRWeB_I9AJfG-og',\n",
       "   'value': \"Once a cobra bit Chuck Norris' leg. After five days of excruciating pain, the cobra died.\"},\n",
       "  {'categories': [],\n",
       "   'created_at': '2020-01-05 13:42:21.455187',\n",
       "   'icon_url': 'https://assets.chucknorris.host/img/avatar/chuck-norris.png',\n",
       "   'id': 'yyc7bixlQXCbmZyugPpeag',\n",
       "   'updated_at': '2020-01-05 13:42:21.455187',\n",
       "   'url': 'https://api.chucknorris.io/jokes/yyc7bixlQXCbmZyugPpeag',\n",
       "   'value': 'once a cobra bit Chuck Norris, after 5 days of pain the cobra died.'},\n",
       "  {'categories': [],\n",
       "   'created_at': '2020-01-05 13:42:25.352697',\n",
       "   'icon_url': 'https://assets.chucknorris.host/img/avatar/chuck-norris.png',\n",
       "   'id': 'XiqYaw7YS7mIbDL6JG5Raw',\n",
       "   'updated_at': '2020-01-05 13:42:25.352697',\n",
       "   'url': 'https://api.chucknorris.io/jokes/XiqYaw7YS7mIbDL6JG5Raw',\n",
       "   'value': 'A cobra once bit Chuck Norris. After five days of excruciating pain, the cobra died'},\n",
       "  {'categories': [],\n",
       "   'created_at': '2020-01-05 13:42:25.628594',\n",
       "   'icon_url': 'https://assets.chucknorris.host/img/avatar/chuck-norris.png',\n",
       "   'id': 'POgbrE-DTxuJ8nmS_KRDdQ',\n",
       "   'updated_at': '2020-01-05 13:42:25.628594',\n",
       "   'url': 'https://api.chucknorris.io/jokes/POgbrE-DTxuJ8nmS_KRDdQ',\n",
       "   'value': 'The reason Cobra Commander wears a mask coz his face was disfigured by a roundhouse kick from Chuck Norris by simply mentioning his name.'},\n",
       "  {'categories': [],\n",
       "   'created_at': '2020-01-05 13:42:25.628594',\n",
       "   'icon_url': 'https://assets.chucknorris.host/img/avatar/chuck-norris.png',\n",
       "   'id': '0MQbfP3PTBC2TvsL_C0w4A',\n",
       "   'updated_at': '2020-01-05 13:42:25.628594',\n",
       "   'url': 'https://api.chucknorris.io/jokes/0MQbfP3PTBC2TvsL_C0w4A',\n",
       "   'value': 'Little known fact: Chuck Norris is rumored to have been the original choice to play evil Cobra Kai sensei John Kreese in The Karate Kid. Presumably he turned the role down because, realistically, no student trained by Chuck Norris could ever possibly lose a match.'},\n",
       "  {'categories': [],\n",
       "   'created_at': '2020-01-05 13:42:25.905626',\n",
       "   'icon_url': 'https://assets.chucknorris.host/img/avatar/chuck-norris.png',\n",
       "   'id': 'I1Q7rL5SS22w0gTka69eYQ',\n",
       "   'updated_at': '2020-01-05 13:42:25.905626',\n",
       "   'url': 'https://api.chucknorris.io/jokes/I1Q7rL5SS22w0gTka69eYQ',\n",
       "   'value': \"Mike Tyson was overheard saying he would bite a live cobra before he would bite Chuck Norris' ear.\"},\n",
       "  {'categories': [],\n",
       "   'created_at': '2020-01-05 13:42:28.143137',\n",
       "   'icon_url': 'https://assets.chucknorris.host/img/avatar/chuck-norris.png',\n",
       "   'id': 'rGC7QHXOTA2azbglekeVgQ',\n",
       "   'updated_at': '2020-01-05 13:42:28.143137',\n",
       "   'url': 'https://api.chucknorris.io/jokes/rGC7QHXOTA2azbglekeVgQ',\n",
       "   'value': \"Chuck Norris uses a live Cobra for a hatband. It stays in place because it's frozen in fear.\"},\n",
       "  {'categories': [],\n",
       "   'created_at': '2020-01-05 13:42:29.569033',\n",
       "   'icon_url': 'https://assets.chucknorris.host/img/avatar/chuck-norris.png',\n",
       "   'id': 'N6HXbrSBT0-fkAvDFjsESw',\n",
       "   'updated_at': '2020-01-05 13:42:29.569033',\n",
       "   'url': 'https://api.chucknorris.io/jokes/N6HXbrSBT0-fkAvDFjsESw',\n",
       "   'value': 'What Chuck Norris calls a \"chaser\" is what you and I call \"cobra venom\".'},\n",
       "  {'categories': [],\n",
       "   'created_at': '2020-01-05 13:42:30.177068',\n",
       "   'icon_url': 'https://assets.chucknorris.host/img/avatar/chuck-norris.png',\n",
       "   'id': 'GkHZOlPqR1qvgondfP8pOw',\n",
       "   'updated_at': '2020-01-05 13:42:30.177068',\n",
       "   'url': 'https://api.chucknorris.io/jokes/GkHZOlPqR1qvgondfP8pOw',\n",
       "   'value': 'a king cobra once bit Chuck Norris... after 5 days of terrible pain... the snake died'},\n",
       "  {'categories': [],\n",
       "   'created_at': '2020-01-05 13:42:30.177068',\n",
       "   'icon_url': 'https://assets.chucknorris.host/img/avatar/chuck-norris.png',\n",
       "   'id': 'pSLFN3NISfeDaBZdewiinA',\n",
       "   'updated_at': '2020-01-05 13:42:30.177068',\n",
       "   'url': 'https://api.chucknorris.io/jokes/pSLFN3NISfeDaBZdewiinA',\n",
       "   'value': 'Chuck Norris doesnt get poisoned by a cobra, the cobra gets poisoned by Chuck Norris'}]}"
      ]
     },
     "execution_count": 19,
     "metadata": {},
     "output_type": "execute_result"
    }
   ],
   "source": [
    "# get me a Chuck Norris joke in the sports category.\n",
    "roundhouse_url = \"https://api.chucknorris.io/jokes/search\"\n",
    "\n",
    "params = {'query' : 'cobra'}\n",
    "\n",
    "r4 = requests.get(roundhouse_url, params)\n",
    "\n",
    "r4.json()"
   ]
  },
  {
   "cell_type": "markdown",
   "metadata": {
    "slideshow": {
     "slide_type": "slide"
    }
   },
   "source": [
    "#### Secure APIs: Generating Access Tokens\n",
    "- Need to generate an access token for secure APIs.\n",
    "- Uses OAuth protocol for providing API access.\n",
    "    - Verify identity.\n",
    "    - Give access to resource.\n"
   ]
  },
  {
   "cell_type": "markdown",
   "metadata": {
    "slideshow": {
     "slide_type": "slide"
    }
   },
   "source": [
    "#### Acessing data via Yelp API\n",
    "\n",
    "<div>\n",
    "<center><img src=\"Images/yelp.png\" width=\"450\"/></center>\n",
    "</div>\n",
    "<center>https://www.yelp.com/developers/v3/manage_app </center>\n",
    "\n",
    "- Point your browser over to this [yelp page](https://www.yelp.com/developers/v3/manage_app) \n",
    "- Fill out your app info/details. \n",
    "- Afterwards, should be presented with an API key for making requests.\n",
    "\n"
   ]
  },
  {
   "cell_type": "markdown",
   "metadata": {
    "slideshow": {
     "slide_type": "slide"
    }
   },
   "source": [
    "#### Storing API key securely\n",
    "- Store key for easy access\n",
    "- Protect from exposure to unwanted parties.\n"
   ]
  },
  {
   "cell_type": "markdown",
   "metadata": {
    "slideshow": {
     "slide_type": "slide"
    }
   },
   "source": [
    "#### Procedure outline:\n",
    "\n",
    "- Create a hidden .secrets folder in your repository\n",
    "- Put your credentials in a file in the .secrets folder\n",
    "- Add the .secrets/ folder to the .gitignore file\n",
    "    \n",
    "    \n",
    "    "
   ]
  },
  {
   "cell_type": "markdown",
   "metadata": {
    "slideshow": {
     "slide_type": "slide"
    }
   },
   "source": [
    "#### Make secrets directory"
   ]
  },
  {
   "cell_type": "code",
   "execution_count": 20,
   "metadata": {
    "slideshow": {
     "slide_type": "fragment"
    }
   },
   "outputs": [],
   "source": [
    "%%bash\n",
    "mkdir .secrets"
   ]
  },
  {
   "cell_type": "markdown",
   "metadata": {
    "slideshow": {
     "slide_type": "slide"
    }
   },
   "source": [
    "#### Put credentials in authentication file."
   ]
  },
  {
   "cell_type": "code",
   "execution_count": 21,
   "metadata": {
    "slideshow": {
     "slide_type": "fragment"
    }
   },
   "outputs": [],
   "source": [
    "%%bash \n",
    "echo '{ \"id\": \"PaDcoXlmil_1rvou0FkLag\", \"key\": \"kgFklLMPL8Ym78BOxmDVWbnSHlob1__5DGYCvSWgOYeyMSOs5Z4jHLzKB25xNeLNZyx2jGwokDlbM1-wgTSr7MB6n06j2GiRmNx7AVyh6Vylf4xBwV8ZGEyEFKI0Y3Yx\" }' > .secrets/creds.json"
   ]
  },
  {
   "cell_type": "markdown",
   "metadata": {
    "slideshow": {
     "slide_type": "slide"
    }
   },
   "source": [
    "####  Move to .secrets folder"
   ]
  },
  {
   "cell_type": "code",
   "execution_count": 22,
   "metadata": {
    "slideshow": {
     "slide_type": "fragment"
    }
   },
   "outputs": [],
   "source": [
    "%%bash \n",
    "#mv creds.json .secrets/"
   ]
  },
  {
   "cell_type": "markdown",
   "metadata": {
    "slideshow": {
     "slide_type": "slide"
    }
   },
   "source": [
    "#### Add the .secrets/ folder to the .gitignore file\n"
   ]
  },
  {
   "cell_type": "code",
   "execution_count": 23,
   "metadata": {
    "slideshow": {
     "slide_type": "fragment"
    }
   },
   "outputs": [
    {
     "name": "stdout",
     "output_type": "stream",
     "text": [
      ".\n",
      "..\n",
      ".gitignore\n",
      ".ipynb_checkpoints\n",
      ".secrets\n",
      "APIs.ipynb\n",
      "Images\n"
     ]
    }
   ],
   "source": [
    "%%bash \n",
    "echo \".secrets/\" >> .gitignore\n",
    "\n",
    "ls -a   # to check if you have a .gitignore\n",
    " touch .gitignore\n"
   ]
  },
  {
   "cell_type": "markdown",
   "metadata": {
    "slideshow": {
     "slide_type": "slide"
    }
   },
   "source": [
    "#### Load API id + key"
   ]
  },
  {
   "cell_type": "code",
   "execution_count": 24,
   "metadata": {
    "slideshow": {
     "slide_type": "fragment"
    }
   },
   "outputs": [],
   "source": [
    "import json\n",
    "with open('.secrets/creds.json') as f:\n",
    "    creds = json.load(f)"
   ]
  },
  {
   "cell_type": "markdown",
   "metadata": {
    "slideshow": {
     "slide_type": "slide"
    }
   },
   "source": [
    "#### Making our Request\n",
    "\n",
    "Yelp API Guide: https://www.yelp.com/developers/documentation/v3/get_started\n",
    "\n",
    "Get first 10 results of business search in Yelp:\n",
    "- Pertaining to 'Hamburgers'\n",
    "- In Seattle.\n",
    "\n",
    "Authenticate request with key."
   ]
  },
  {
   "cell_type": "code",
   "execution_count": 25,
   "metadata": {
    "slideshow": {
     "slide_type": "subslide"
    }
   },
   "outputs": [
    {
     "name": "stdout",
     "output_type": "stream",
     "text": [
      "200\n"
     ]
    }
   ],
   "source": [
    "url = 'https://api.yelp.com/v3/businesses/search'\n",
    "term = 'Hamburgers'\n",
    "SEARCH_LIMIT = 10\n",
    "headers = {\n",
    "    'Authorization': 'Bearer ' + creds['key']\n",
    "}\n",
    "\n",
    "url_params = {\n",
    "    'term': term,\n",
    "    'location': 'Seattle+WA',\n",
    "    'limit': SEARCH_LIMIT,\n",
    "    'offset': 0\n",
    "}\n",
    "response = requests.get(url, headers=headers, params=url_params)\n",
    "print(response.status_code)"
   ]
  },
  {
   "cell_type": "markdown",
   "metadata": {
    "slideshow": {
     "slide_type": "slide"
    }
   },
   "source": [
    "Get the JSON data as dict!"
   ]
  },
  {
   "cell_type": "code",
   "execution_count": 26,
   "metadata": {
    "scrolled": false,
    "slideshow": {
     "slide_type": "fragment"
    }
   },
   "outputs": [
    {
     "data": {
      "text/plain": [
       "{'businesses': [{'id': '9fC3l9DdmPx3hEydsQ0wQw',\n",
       "   'alias': 'burbs-burgers-ballard-seattle',\n",
       "   'name': \"Burb's Burgers Ballard\",\n",
       "   'image_url': 'https://s3-media3.fl.yelpcdn.com/bphoto/6IQsqrNVNut6pBHusrjZsw/o.jpg',\n",
       "   'is_closed': False,\n",
       "   'url': 'https://www.yelp.com/biz/burbs-burgers-ballard-seattle?adjust_creative=PaDcoXlmil_1rvou0FkLag&utm_campaign=yelp_api_v3&utm_medium=api_v3_business_search&utm_source=PaDcoXlmil_1rvou0FkLag',\n",
       "   'review_count': 14,\n",
       "   'categories': [{'alias': 'burgers', 'title': 'Burgers'}],\n",
       "   'rating': 5.0,\n",
       "   'coordinates': {'latitude': 47.66591, 'longitude': -122.37389},\n",
       "   'transactions': [],\n",
       "   'location': {'address1': '5101 14th Ave NW',\n",
       "    'address2': 'Ste 101',\n",
       "    'address3': '',\n",
       "    'city': 'Seattle',\n",
       "    'zip_code': '98107',\n",
       "    'country': 'US',\n",
       "    'state': 'WA',\n",
       "    'display_address': ['5101 14th Ave NW', 'Ste 101', 'Seattle, WA 98107']},\n",
       "   'phone': '+12064203015',\n",
       "   'display_phone': '(206) 420-3015',\n",
       "   'distance': 5351.246250185157},\n",
       "  {'id': 'smOVPL87Q0XHACrVMPa8qw',\n",
       "   'alias': '8oz-burger-and-co-seattle',\n",
       "   'name': '8oz Burger & Co',\n",
       "   'image_url': 'https://s3-media2.fl.yelpcdn.com/bphoto/7UsZhlZGyhG7OalId1MLtg/o.jpg',\n",
       "   'is_closed': False,\n",
       "   'url': 'https://www.yelp.com/biz/8oz-burger-and-co-seattle?adjust_creative=PaDcoXlmil_1rvou0FkLag&utm_campaign=yelp_api_v3&utm_medium=api_v3_business_search&utm_source=PaDcoXlmil_1rvou0FkLag',\n",
       "   'review_count': 1733,\n",
       "   'categories': [{'alias': 'burgers', 'title': 'Burgers'},\n",
       "    {'alias': 'bars', 'title': 'Bars'},\n",
       "    {'alias': 'icecream', 'title': 'Ice Cream & Frozen Yogurt'}],\n",
       "   'rating': 4.0,\n",
       "   'coordinates': {'latitude': 47.61320990365378,\n",
       "    'longitude': -122.32105000357508},\n",
       "   'transactions': ['delivery', 'pickup'],\n",
       "   'price': '$$',\n",
       "   'location': {'address1': '1401 Broadway',\n",
       "    'address2': None,\n",
       "    'address3': '',\n",
       "    'city': 'Seattle',\n",
       "    'zip_code': '98122',\n",
       "    'country': 'US',\n",
       "    'state': 'WA',\n",
       "    'display_address': ['1401 Broadway', 'Seattle, WA 98122']},\n",
       "   'phone': '+12064665989',\n",
       "   'display_phone': '(206) 466-5989',\n",
       "   'distance': 1737.1562200267515},\n",
       "  {'id': 'Lw7NmZ3j-WEye97ywEmkXQ',\n",
       "   'alias': 'vons-1000-spirits-seattle-4',\n",
       "   'name': \"Von's 1000 Spirits\",\n",
       "   'image_url': 'https://s3-media4.fl.yelpcdn.com/bphoto/Of2TsjfEA07_PQ4IG_XnhA/o.jpg',\n",
       "   'is_closed': False,\n",
       "   'url': 'https://www.yelp.com/biz/vons-1000-spirits-seattle-4?adjust_creative=PaDcoXlmil_1rvou0FkLag&utm_campaign=yelp_api_v3&utm_medium=api_v3_business_search&utm_source=PaDcoXlmil_1rvou0FkLag',\n",
       "   'review_count': 2361,\n",
       "   'categories': [{'alias': 'newamerican', 'title': 'American (New)'},\n",
       "    {'alias': 'burgers', 'title': 'Burgers'},\n",
       "    {'alias': 'pubs', 'title': 'Pubs'}],\n",
       "   'rating': 4.5,\n",
       "   'coordinates': {'latitude': 47.606565, 'longitude': -122.338337},\n",
       "   'transactions': ['delivery', 'pickup'],\n",
       "   'price': '$$',\n",
       "   'location': {'address1': '1225 1st Ave',\n",
       "    'address2': '',\n",
       "    'address3': '',\n",
       "    'city': 'Seattle',\n",
       "    'zip_code': '98101',\n",
       "    'country': 'US',\n",
       "    'state': 'WA',\n",
       "    'display_address': ['1225 1st Ave', 'Seattle, WA 98101']},\n",
       "   'phone': '+12066218667',\n",
       "   'display_phone': '(206) 621-8667',\n",
       "   'distance': 2107.1519004702554},\n",
       "  {'id': 'aSh2Nz2WoQn6m8g256OxcA',\n",
       "   'alias': 'red-mill-burgers-seattle',\n",
       "   'name': 'Red Mill Burgers',\n",
       "   'image_url': 'https://s3-media2.fl.yelpcdn.com/bphoto/kX9ZsnN8k0MNLsWwJqsAzA/o.jpg',\n",
       "   'is_closed': False,\n",
       "   'url': 'https://www.yelp.com/biz/red-mill-burgers-seattle?adjust_creative=PaDcoXlmil_1rvou0FkLag&utm_campaign=yelp_api_v3&utm_medium=api_v3_business_search&utm_source=PaDcoXlmil_1rvou0FkLag',\n",
       "   'review_count': 1376,\n",
       "   'categories': [{'alias': 'burgers', 'title': 'Burgers'}],\n",
       "   'rating': 4.0,\n",
       "   'coordinates': {'latitude': 47.677847002847, 'longitude': -122.35471520758},\n",
       "   'transactions': ['delivery'],\n",
       "   'price': '$$',\n",
       "   'location': {'address1': '312 N 67th St',\n",
       "    'address2': '',\n",
       "    'address3': '',\n",
       "    'city': 'Seattle',\n",
       "    'zip_code': '98103',\n",
       "    'country': 'US',\n",
       "    'state': 'WA',\n",
       "    'display_address': ['312 N 67th St', 'Seattle, WA 98103']},\n",
       "   'phone': '+12067836362',\n",
       "   'display_phone': '(206) 783-6362',\n",
       "   'distance': 6004.581728693526},\n",
       "  {'id': 'x8BFKHu7ajvXLOA0_33bbg',\n",
       "   'alias': 'old-stove-brewing-seattle-3',\n",
       "   'name': 'Old Stove Brewing',\n",
       "   'image_url': 'https://s3-media3.fl.yelpcdn.com/bphoto/d-IJL6kQYrptgcozpyEn4Q/o.jpg',\n",
       "   'is_closed': False,\n",
       "   'url': 'https://www.yelp.com/biz/old-stove-brewing-seattle-3?adjust_creative=PaDcoXlmil_1rvou0FkLag&utm_campaign=yelp_api_v3&utm_medium=api_v3_business_search&utm_source=PaDcoXlmil_1rvou0FkLag',\n",
       "   'review_count': 872,\n",
       "   'categories': [{'alias': 'brewpubs', 'title': 'Brewpubs'},\n",
       "    {'alias': 'seafood', 'title': 'Seafood'},\n",
       "    {'alias': 'burgers', 'title': 'Burgers'}],\n",
       "   'rating': 4.5,\n",
       "   'coordinates': {'latitude': 47.60947174117716,\n",
       "    'longitude': -122.34255894939054},\n",
       "   'transactions': ['delivery', 'pickup'],\n",
       "   'price': '$$',\n",
       "   'location': {'address1': '1901 Western Ave',\n",
       "    'address2': 'Ste A',\n",
       "    'address3': None,\n",
       "    'city': 'Seattle',\n",
       "    'zip_code': '98101',\n",
       "    'country': 'US',\n",
       "    'state': 'WA',\n",
       "    'display_address': ['1901 Western Ave', 'Ste A', 'Seattle, WA 98101']},\n",
       "   'phone': '+12066026120',\n",
       "   'display_phone': '(206) 602-6120',\n",
       "   'distance': 1850.2897834848359},\n",
       "  {'id': 'xcZZ0Gm81bl8xQfvws231A',\n",
       "   'alias': 'uneeda-burger-seattle',\n",
       "   'name': 'Uneeda Burger',\n",
       "   'image_url': 'https://s3-media3.fl.yelpcdn.com/bphoto/u0Cbd9ccI5TcZXDBhEVAwQ/o.jpg',\n",
       "   'is_closed': False,\n",
       "   'url': 'https://www.yelp.com/biz/uneeda-burger-seattle?adjust_creative=PaDcoXlmil_1rvou0FkLag&utm_campaign=yelp_api_v3&utm_medium=api_v3_business_search&utm_source=PaDcoXlmil_1rvou0FkLag',\n",
       "   'review_count': 1354,\n",
       "   'categories': [{'alias': 'burgers', 'title': 'Burgers'},\n",
       "    {'alias': 'sandwiches', 'title': 'Sandwiches'}],\n",
       "   'rating': 4.0,\n",
       "   'coordinates': {'latitude': 47.65952, 'longitude': -122.34976},\n",
       "   'transactions': ['delivery', 'pickup'],\n",
       "   'price': '$$',\n",
       "   'location': {'address1': '4302 Fremont Ave N',\n",
       "    'address2': '',\n",
       "    'address3': '',\n",
       "    'city': 'Seattle',\n",
       "    'zip_code': '98103',\n",
       "    'country': 'US',\n",
       "    'state': 'WA',\n",
       "    'display_address': ['4302 Fremont Ave N', 'Seattle, WA 98103']},\n",
       "   'phone': '+12065472600',\n",
       "   'display_phone': '(206) 547-2600',\n",
       "   'distance': 3930.4795829547925},\n",
       "  {'id': 'VSWKoV1zTtjyEXAFJwdeHA',\n",
       "   'alias': 'lil-woodys-seattle',\n",
       "   'name': \"Li'l Woody's\",\n",
       "   'image_url': 'https://s3-media4.fl.yelpcdn.com/bphoto/yOo7a3gEyshNkIiF7Z7znQ/o.jpg',\n",
       "   'is_closed': False,\n",
       "   'url': 'https://www.yelp.com/biz/lil-woodys-seattle?adjust_creative=PaDcoXlmil_1rvou0FkLag&utm_campaign=yelp_api_v3&utm_medium=api_v3_business_search&utm_source=PaDcoXlmil_1rvou0FkLag',\n",
       "   'review_count': 991,\n",
       "   'categories': [{'alias': 'burgers', 'title': 'Burgers'},\n",
       "    {'alias': 'juicebars', 'title': 'Juice Bars & Smoothies'},\n",
       "    {'alias': 'hotdogs', 'title': 'Fast Food'}],\n",
       "   'rating': 3.5,\n",
       "   'coordinates': {'latitude': 47.61495, 'longitude': -122.32818},\n",
       "   'transactions': ['delivery', 'pickup'],\n",
       "   'price': '$$',\n",
       "   'location': {'address1': '1211 Pine St',\n",
       "    'address2': None,\n",
       "    'address3': '',\n",
       "    'city': 'Seattle',\n",
       "    'zip_code': '98101',\n",
       "    'country': 'US',\n",
       "    'state': 'WA',\n",
       "    'display_address': ['1211 Pine St', 'Seattle, WA 98101']},\n",
       "   'phone': '+12064574148',\n",
       "   'display_phone': '(206) 457-4148',\n",
       "   'distance': 1285.9865204947105},\n",
       "  {'id': 'gtlxyyV8R87wjqZCvO1VWw',\n",
       "   'alias': 'burbs-burgers-seattle-4',\n",
       "   'name': 'Burbs Burgers',\n",
       "   'image_url': 'https://s3-media2.fl.yelpcdn.com/bphoto/I6Xwdtd5PGXZs5Gq9Fvfwg/o.jpg',\n",
       "   'is_closed': False,\n",
       "   'url': 'https://www.yelp.com/biz/burbs-burgers-seattle-4?adjust_creative=PaDcoXlmil_1rvou0FkLag&utm_campaign=yelp_api_v3&utm_medium=api_v3_business_search&utm_source=PaDcoXlmil_1rvou0FkLag',\n",
       "   'review_count': 8,\n",
       "   'categories': [{'alias': 'burgers', 'title': 'Burgers'}],\n",
       "   'rating': 4.5,\n",
       "   'coordinates': {'latitude': 47.55017286109232,\n",
       "    'longitude': -122.31802091002464},\n",
       "   'transactions': [],\n",
       "   'location': {'address1': '5825 Airport Way S',\n",
       "    'address2': '',\n",
       "    'address3': None,\n",
       "    'city': 'Seattle',\n",
       "    'zip_code': '98108',\n",
       "    'country': 'US',\n",
       "    'state': 'WA',\n",
       "    'display_address': ['5825 Airport Way S', 'Seattle, WA 98108']},\n",
       "   'phone': '',\n",
       "   'display_phone': '',\n",
       "   'distance': 8469.169355690387},\n",
       "  {'id': 'i5l44iAFeMC80o4vDLh3Gg',\n",
       "   'alias': 'west-seattle-swinery-seattle',\n",
       "   'name': 'West Seattle Swinery',\n",
       "   'image_url': 'https://s3-media2.fl.yelpcdn.com/bphoto/SvIGBtL00-pDwQlORFpm8A/o.jpg',\n",
       "   'is_closed': False,\n",
       "   'url': 'https://www.yelp.com/biz/west-seattle-swinery-seattle?adjust_creative=PaDcoXlmil_1rvou0FkLag&utm_campaign=yelp_api_v3&utm_medium=api_v3_business_search&utm_source=PaDcoXlmil_1rvou0FkLag',\n",
       "   'review_count': 394,\n",
       "   'categories': [{'alias': 'meats', 'title': 'Meat Shops'},\n",
       "    {'alias': 'burgers', 'title': 'Burgers'},\n",
       "    {'alias': 'tradamerican', 'title': 'American (Traditional)'}],\n",
       "   'rating': 4.5,\n",
       "   'coordinates': {'latitude': 47.575356, 'longitude': -122.387147},\n",
       "   'transactions': ['delivery'],\n",
       "   'price': '$$',\n",
       "   'location': {'address1': '3207 California Ave SW',\n",
       "    'address2': '',\n",
       "    'address3': '',\n",
       "    'city': 'Seattle',\n",
       "    'zip_code': '98116',\n",
       "    'country': 'US',\n",
       "    'state': 'WA',\n",
       "    'display_address': ['3207 California Ave SW', 'Seattle, WA 98116']},\n",
       "   'phone': '+12069324211',\n",
       "   'display_phone': '(206) 932-4211',\n",
       "   'distance': 6780.729764273978},\n",
       "  {'id': '3sJI8y8fr9gWpq8Uw_jJ2w',\n",
       "   'alias': '206-burger-company-seattle-6',\n",
       "   'name': '206 Burger Company',\n",
       "   'image_url': 'https://s3-media1.fl.yelpcdn.com/bphoto/CljTsOK_XSYCMpdAc-spGA/o.jpg',\n",
       "   'is_closed': False,\n",
       "   'url': 'https://www.yelp.com/biz/206-burger-company-seattle-6?adjust_creative=PaDcoXlmil_1rvou0FkLag&utm_campaign=yelp_api_v3&utm_medium=api_v3_business_search&utm_source=PaDcoXlmil_1rvou0FkLag',\n",
       "   'review_count': 43,\n",
       "   'categories': [{'alias': 'burgers', 'title': 'Burgers'}],\n",
       "   'rating': 4.5,\n",
       "   'coordinates': {'latitude': 47.64840314, 'longitude': -122.3554174},\n",
       "   'transactions': ['delivery', 'pickup'],\n",
       "   'location': {'address1': '101 Nickerson St',\n",
       "    'address2': 'Ste 100',\n",
       "    'address3': '',\n",
       "    'city': 'Seattle',\n",
       "    'zip_code': '98109',\n",
       "    'country': 'US',\n",
       "    'state': 'WA',\n",
       "    'display_address': ['101 Nickerson St', 'Ste 100', 'Seattle, WA 98109']},\n",
       "   'phone': '+12064202801',\n",
       "   'display_phone': '(206) 420-2801',\n",
       "   'distance': 2959.125193373209}],\n",
       " 'total': 1200,\n",
       " 'region': {'center': {'longitude': -122.33551025390625,\n",
       "   'latitude': 47.62541904760501}}}"
      ]
     },
     "execution_count": 26,
     "metadata": {},
     "output_type": "execute_result"
    }
   ],
   "source": [
    "data_json = response.json()\n",
    "data_json"
   ]
  },
  {
   "cell_type": "markdown",
   "metadata": {
    "slideshow": {
     "slide_type": "slide"
    }
   },
   "source": [
    "#### Now the fun commences\n",
    "Make a pandas DataFrame called yelp_df:\n",
    "- Explore the business data from the Yelp response \n",
    "- Use your pandas ninja skills. "
   ]
  }
 ],
 "metadata": {
  "kernelspec": {
   "display_name": "Python 3",
   "language": "python",
   "name": "python3"
  },
  "language_info": {
   "codemirror_mode": {
    "name": "ipython",
    "version": 3
   },
   "file_extension": ".py",
   "mimetype": "text/x-python",
   "name": "python",
   "nbconvert_exporter": "python",
   "pygments_lexer": "ipython3",
   "version": "3.8.5"
  }
 },
 "nbformat": 4,
 "nbformat_minor": 5
}
